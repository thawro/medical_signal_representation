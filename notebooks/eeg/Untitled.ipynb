{
 "cells": [
  {
   "cell_type": "code",
   "execution_count": 182,
   "id": "cf741d5c-8e13-449c-af33-a01021e96320",
   "metadata": {},
   "outputs": [],
   "source": [
    "import mne\n",
    "from pathlib import Path\n",
    "import pandas as pd\n",
    "import glob\n",
    "import numpy as np\n",
    "from tqdm.auto import tqdm\n",
    "\n",
    "SLEEP_EDF_PATH = Path(\"./../../data/sleepEDF\")\n",
    "RAW_DATASET_PATH = SLEEP_EDF_PATH / \"raw\"\n",
    "RAW_CSV_PATH = SLEEP_EDF_PATH / \"raw_csv\""
   ]
  },
  {
   "cell_type": "code",
   "execution_count": 304,
   "id": "a90e514a-4912-407f-b2da-36dbe938547e",
   "metadata": {},
   "outputs": [],
   "source": [
    "def get_raw_data_info(save=False):\n",
    "    all_files = glob.glob(f\"{RAW_DATASET_PATH}/*\")\n",
    "    all_files = [file.split(\"/\")[-1] for file in all_files]\n",
    "\n",
    "    hypnogram_files = [file for file in all_files if \"Hypnogram\" in file]\n",
    "    psg_files = [file for file in all_files if \"PSG\" in file]\n",
    "\n",
    "    info = []\n",
    "    for hypnogram, psg in zip(hypnogram_files, psg_files):\n",
    "        subject, night = hypnogram[3:5], hypnogram[5]\n",
    "        info.append({\n",
    "            'subject': subject,\n",
    "            'night': night,\n",
    "            'hypnogram': hypnogram,\n",
    "            'psg': psg,\n",
    "            'raw_csv_path': f\"{subject}/{night}.csv\"\n",
    "        })\n",
    "    info = pd.DataFrame(info)\n",
    "    \n",
    "    if save:\n",
    "        info.to_csv(SLEEP_EDF_PATH / \"raw_info.csv\", index=False)\n",
    "        \n",
    "    return info\n",
    "\n",
    "\n",
    "def parse_edf_to_epochs_dataframe(data_file, header_file, epoch_duration=30):\n",
    "    data_file, header_file = RAW_DATASET_PATH / data_file, RAW_DATASET_PATH / header_file\n",
    "\n",
    "    raw_data = mne.io.read_raw_edf(data_file, stim_channel='Event marker', misc=['Temp rectal'])\n",
    "    fs = raw_data.info['sfreq']\n",
    "    labels = mne.read_annotations(header_file)\n",
    "\n",
    "    event_id = {\n",
    "        'Sleep stage W': 0,\n",
    "        'Sleep stage 1': 1,\n",
    "        'Sleep stage 2': 2,\n",
    "        'Sleep stage 3': 3,\n",
    "        'Sleep stage 4': 4,\n",
    "        'Sleep stage R': 5,\n",
    "        'Sleep stage M': 6,\n",
    "    }\n",
    "\n",
    "    # keep last 30-min wake events before sleep and first 30-min wake events after\n",
    "    # sleep and redefine annotations on raw data\n",
    "    labels.crop(labels[1]['onset'] - 30 * 60, labels[-2]['onset'] + 30 * 60)\n",
    "    raw_data.set_annotations(labels, emit_warning=False)\n",
    "\n",
    "    events, _ = mne.events_from_annotations(raw_data, event_id=event_id, chunk_duration=epoch_duration)\n",
    "\n",
    "    tmax = epoch_duration - 1. / fs  # tmax in included\n",
    "\n",
    "    epochs = mne.Epochs(raw=raw_data, events=events, event_id=event_id, tmin=0., tmax=tmax, baseline=None, on_missing='warn')\n",
    "\n",
    "    df = epochs.to_data_frame(time_format=None).set_index('epoch')\n",
    "    \n",
    "    # make csv smaller \n",
    "    df.loc[:, ['condition']] = np.array([event_id[condition] for condition in df['condition'].values]) # encode labels\n",
    "    # drop time since we know fs and epoch length\n",
    "    # only EEG data is needed\n",
    "    df = df[['condition', 'EEG Fpz-Cz', 'EEG Pz-Oz']]    \n",
    "    return df\n",
    "\n",
    "\n",
    "def create_sleep_edf_raw_csv_dataset(epoch_duration=30):\n",
    "    info = get_files_info()\n",
    "    for row in tqdm(info.iterrows(), total=len(info)):\n",
    "        row = row[1]\n",
    "        data_file, header_file, subject, night = row[['psg', 'hypnogram', 'subject', 'night']]\n",
    "        epochs_df = parse_edf_to_epochs_dataframe(data_file, header_file, epoch_duration=epoch_duration)\n",
    "        epochs_df.to_csv(RAW_CSV_PATH / f\"{subject}_{night}.csv\")"
   ]
  },
  {
   "cell_type": "code",
   "execution_count": 315,
   "id": "db525600-3419-491c-b82d-98ee06f01a32",
   "metadata": {},
   "outputs": [],
   "source": [
    "all_files = glob.glob(f\"{RAW_DATASET_PATH}/*\")\n",
    "all_files = [file.split(\"/\")[-1] for file in all_files]\n",
    "\n",
    "hypnogram_files = [file for file in all_files if \"Hypnogram\" in file]\n",
    "psg_files = [file for file in all_files if \"PSG\" in file]\n"
   ]
  },
  {
   "cell_type": "markdown",
   "id": "ed596dd1-fef7-4139-8d64-c2d41a4ebb9f",
   "metadata": {},
   "source": [
    "---\n",
    "# **TODO: hypnogramy i psg sa zle posortowane -> zmienic get_info na gorze tak zeby bylo posortowane wzgledem recordsow**\n",
    "---"
   ]
  },
  {
   "cell_type": "code",
   "execution_count": 320,
   "id": "79531f9a-6c80-4d3f-8aed-2f4e3f46734c",
   "metadata": {},
   "outputs": [
    {
     "data": {
      "text/plain": [
       "(array(['SC4212EC-Hypnogram.edf', 'SC4591GY-Hypnogram.edf',\n",
       "        'SC4702EA-Hypnogram.edf', 'SC4021EH-Hypnogram.edf',\n",
       "        'SC4062EC-Hypnogram.edf', 'SC4761EP-Hypnogram.edf',\n",
       "        'SC4072EH-Hypnogram.edf', 'SC4371FA-Hypnogram.edf',\n",
       "        'SC4562FJ-Hypnogram.edf', 'SC4721EC-Hypnogram.edf'], dtype='<U22'),\n",
       " array(['SC4802G0-PSG.edf', 'SC4022E0-PSG.edf', 'SC4662E0-PSG.edf',\n",
       "        'SC4442E0-PSG.edf', 'SC4602E0-PSG.edf', 'SC4702E0-PSG.edf',\n",
       "        'SC4211E0-PSG.edf', 'SC4262F0-PSG.edf', 'SC4021E0-PSG.edf',\n",
       "        'SC4412E0-PSG.edf'], dtype='<U16'))"
      ]
     },
     "execution_count": 320,
     "metadata": {},
     "output_type": "execute_result"
    }
   ],
   "source": [
    "np.array(hypnogram_files)[:10], np.array(psg_files)[:10]"
   ]
  },
  {
   "cell_type": "code",
   "execution_count": 240,
   "id": "3bbae9eb-4319-439b-bb60-a9d2eaac746c",
   "metadata": {},
   "outputs": [
    {
     "name": "stdout",
     "output_type": "stream",
     "text": [
      "Extracting EDF parameters from /home/shate/Desktop/praca_magisterska/medical_signal_representation/data/sleepEDF/raw/SC4001E0-PSG.edf...\n",
      "EDF file detected\n",
      "Setting channel info structure...\n",
      "Creating raw.info structure...\n",
      "Used Annotations descriptions: ['Sleep stage 1', 'Sleep stage 2', 'Sleep stage 3', 'Sleep stage 4', 'Sleep stage R', 'Sleep stage W']\n",
      "Not setting metadata\n",
      "841 matching events found\n",
      "No baseline correction applied\n",
      "0 projection items activated\n",
      "Loading data for 841 events and 3000 original time points ...\n"
     ]
    },
    {
     "name": "stderr",
     "output_type": "stream",
     "text": [
      "/tmp/ipykernel_14361/442409635.py:50: RuntimeWarning: No matching events found for Sleep stage M (event id 6)\n",
      "  epochs = mne.Epochs(raw=raw_data, events=events, event_id=event_id, tmin=0., tmax=tmax, baseline=None, on_missing='warn')\n"
     ]
    },
    {
     "name": "stdout",
     "output_type": "stream",
     "text": [
      "0 bad epochs dropped\n"
     ]
    }
   ],
   "source": [
    "data_file, header_file = \"SC4001E0-PSG.edf\", \"SC4001EC-Hypnogram.edf\"\n",
    "df = parse_edf_to_epochs_dataframe(data_file, header_file)"
   ]
  },
  {
   "cell_type": "code",
   "execution_count": 242,
   "id": "ba957bdc-8c19-4180-93b9-4c799f253681",
   "metadata": {
    "collapsed": true,
    "jupyter": {
     "outputs_hidden": true
    },
    "tags": []
   },
   "outputs": [
    {
     "data": {
      "application/vnd.jupyter.widget-view+json": {
       "model_id": "4fc4d1c74d2d4c44b178f1d078ff1c6e",
       "version_major": 2,
       "version_minor": 0
      },
      "text/plain": [
       "  0%|          | 0/153 [00:00<?, ?it/s]"
      ]
     },
     "metadata": {},
     "output_type": "display_data"
    },
    {
     "name": "stdout",
     "output_type": "stream",
     "text": [
      "Extracting EDF parameters from /home/shate/Desktop/praca_magisterska/medical_signal_representation/data/sleepEDF/raw/SC4802G0-PSG.edf...\n",
      "EDF file detected\n",
      "Setting channel info structure...\n",
      "Creating raw.info structure...\n",
      "Used Annotations descriptions: ['Sleep stage 1', 'Sleep stage 2', 'Sleep stage 3', 'Sleep stage R', 'Sleep stage W']\n",
      "Not setting metadata\n",
      "808 matching events found\n",
      "No baseline correction applied\n",
      "0 projection items activated\n",
      "Loading data for 808 events and 3000 original time points ...\n"
     ]
    },
    {
     "name": "stderr",
     "output_type": "stream",
     "text": [
      "/tmp/ipykernel_14361/442409635.py:50: RuntimeWarning: No matching events found for Sleep stage 4 (event id 4)\n",
      "  epochs = mne.Epochs(raw=raw_data, events=events, event_id=event_id, tmin=0., tmax=tmax, baseline=None, on_missing='warn')\n",
      "/tmp/ipykernel_14361/442409635.py:50: RuntimeWarning: No matching events found for Sleep stage M (event id 6)\n",
      "  epochs = mne.Epochs(raw=raw_data, events=events, event_id=event_id, tmin=0., tmax=tmax, baseline=None, on_missing='warn')\n"
     ]
    },
    {
     "name": "stdout",
     "output_type": "stream",
     "text": [
      "0 bad epochs dropped\n",
      "Extracting EDF parameters from /home/shate/Desktop/praca_magisterska/medical_signal_representation/data/sleepEDF/raw/SC4022E0-PSG.edf...\n",
      "EDF file detected\n",
      "Setting channel info structure...\n",
      "Creating raw.info structure...\n",
      "Used Annotations descriptions: ['Sleep stage 1', 'Sleep stage 2', 'Sleep stage 3', 'Sleep stage R', 'Sleep stage W']\n",
      "Not setting metadata\n",
      "1840 matching events found\n",
      "No baseline correction applied\n",
      "0 projection items activated\n",
      "Loading data for 1840 events and 3000 original time points ...\n"
     ]
    },
    {
     "name": "stderr",
     "output_type": "stream",
     "text": [
      "/tmp/ipykernel_14361/442409635.py:50: RuntimeWarning: No matching events found for Sleep stage 4 (event id 4)\n",
      "  epochs = mne.Epochs(raw=raw_data, events=events, event_id=event_id, tmin=0., tmax=tmax, baseline=None, on_missing='warn')\n",
      "/tmp/ipykernel_14361/442409635.py:50: RuntimeWarning: No matching events found for Sleep stage M (event id 6)\n",
      "  epochs = mne.Epochs(raw=raw_data, events=events, event_id=event_id, tmin=0., tmax=tmax, baseline=None, on_missing='warn')\n"
     ]
    },
    {
     "name": "stdout",
     "output_type": "stream",
     "text": [
      "0 bad epochs dropped\n",
      "Extracting EDF parameters from /home/shate/Desktop/praca_magisterska/medical_signal_representation/data/sleepEDF/raw/SC4662E0-PSG.edf...\n",
      "EDF file detected\n",
      "Setting channel info structure...\n",
      "Creating raw.info structure...\n",
      "Used Annotations descriptions: ['Sleep stage 1', 'Sleep stage 2', 'Sleep stage 3', 'Sleep stage R', 'Sleep stage W']\n",
      "Not setting metadata\n",
      "1515 matching events found\n",
      "No baseline correction applied\n",
      "0 projection items activated\n",
      "Loading data for 1515 events and 3000 original time points ...\n"
     ]
    },
    {
     "name": "stderr",
     "output_type": "stream",
     "text": [
      "/tmp/ipykernel_14361/442409635.py:50: RuntimeWarning: No matching events found for Sleep stage 4 (event id 4)\n",
      "  epochs = mne.Epochs(raw=raw_data, events=events, event_id=event_id, tmin=0., tmax=tmax, baseline=None, on_missing='warn')\n",
      "/tmp/ipykernel_14361/442409635.py:50: RuntimeWarning: No matching events found for Sleep stage M (event id 6)\n",
      "  epochs = mne.Epochs(raw=raw_data, events=events, event_id=event_id, tmin=0., tmax=tmax, baseline=None, on_missing='warn')\n"
     ]
    },
    {
     "name": "stdout",
     "output_type": "stream",
     "text": [
      "0 bad epochs dropped\n",
      "Extracting EDF parameters from /home/shate/Desktop/praca_magisterska/medical_signal_representation/data/sleepEDF/raw/SC4442E0-PSG.edf...\n",
      "EDF file detected\n",
      "Setting channel info structure...\n",
      "Creating raw.info structure...\n",
      "Used Annotations descriptions: ['Sleep stage 1', 'Sleep stage 2', 'Sleep stage 3', 'Sleep stage 4', 'Sleep stage R', 'Sleep stage W']\n",
      "Not setting metadata\n",
      "1025 matching events found\n",
      "No baseline correction applied\n",
      "0 projection items activated\n",
      "Loading data for 1025 events and 3000 original time points ...\n"
     ]
    },
    {
     "name": "stderr",
     "output_type": "stream",
     "text": [
      "/tmp/ipykernel_14361/442409635.py:50: RuntimeWarning: No matching events found for Sleep stage M (event id 6)\n",
      "  epochs = mne.Epochs(raw=raw_data, events=events, event_id=event_id, tmin=0., tmax=tmax, baseline=None, on_missing='warn')\n"
     ]
    },
    {
     "name": "stdout",
     "output_type": "stream",
     "text": [
      "0 bad epochs dropped\n",
      "Extracting EDF parameters from /home/shate/Desktop/praca_magisterska/medical_signal_representation/data/sleepEDF/raw/SC4602E0-PSG.edf...\n",
      "EDF file detected\n",
      "Setting channel info structure...\n",
      "Creating raw.info structure...\n",
      "Used Annotations descriptions: ['Sleep stage 1', 'Sleep stage 2', 'Sleep stage 3', 'Sleep stage 4', 'Sleep stage R', 'Sleep stage W']\n",
      "Not setting metadata\n",
      "1016 matching events found\n",
      "No baseline correction applied\n",
      "0 projection items activated\n",
      "Loading data for 1016 events and 3000 original time points ...\n"
     ]
    },
    {
     "name": "stderr",
     "output_type": "stream",
     "text": [
      "/tmp/ipykernel_14361/442409635.py:50: RuntimeWarning: No matching events found for Sleep stage M (event id 6)\n",
      "  epochs = mne.Epochs(raw=raw_data, events=events, event_id=event_id, tmin=0., tmax=tmax, baseline=None, on_missing='warn')\n"
     ]
    },
    {
     "name": "stdout",
     "output_type": "stream",
     "text": [
      "0 bad epochs dropped\n",
      "Extracting EDF parameters from /home/shate/Desktop/praca_magisterska/medical_signal_representation/data/sleepEDF/raw/SC4702E0-PSG.edf...\n",
      "EDF file detected\n",
      "Setting channel info structure...\n",
      "Creating raw.info structure...\n",
      "Used Annotations descriptions: ['Sleep stage 1', 'Sleep stage 2', 'Sleep stage 3', 'Sleep stage R', 'Sleep stage W']\n",
      "Not setting metadata\n",
      "1683 matching events found\n",
      "No baseline correction applied\n",
      "0 projection items activated\n",
      "Loading data for 1683 events and 3000 original time points ...\n"
     ]
    },
    {
     "name": "stderr",
     "output_type": "stream",
     "text": [
      "/tmp/ipykernel_14361/442409635.py:50: RuntimeWarning: No matching events found for Sleep stage 4 (event id 4)\n",
      "  epochs = mne.Epochs(raw=raw_data, events=events, event_id=event_id, tmin=0., tmax=tmax, baseline=None, on_missing='warn')\n",
      "/tmp/ipykernel_14361/442409635.py:50: RuntimeWarning: No matching events found for Sleep stage M (event id 6)\n",
      "  epochs = mne.Epochs(raw=raw_data, events=events, event_id=event_id, tmin=0., tmax=tmax, baseline=None, on_missing='warn')\n"
     ]
    },
    {
     "name": "stdout",
     "output_type": "stream",
     "text": [
      "0 bad epochs dropped\n",
      "Extracting EDF parameters from /home/shate/Desktop/praca_magisterska/medical_signal_representation/data/sleepEDF/raw/SC4211E0-PSG.edf...\n",
      "EDF file detected\n",
      "Setting channel info structure...\n",
      "Creating raw.info structure...\n",
      "Used Annotations descriptions: ['Sleep stage 1', 'Sleep stage 2', 'Sleep stage 3', 'Sleep stage 4', 'Sleep stage R', 'Sleep stage W']\n",
      "Not setting metadata\n",
      "1273 matching events found\n",
      "No baseline correction applied\n",
      "0 projection items activated\n",
      "Loading data for 1273 events and 3000 original time points ...\n"
     ]
    },
    {
     "name": "stderr",
     "output_type": "stream",
     "text": [
      "/tmp/ipykernel_14361/442409635.py:50: RuntimeWarning: No matching events found for Sleep stage M (event id 6)\n",
      "  epochs = mne.Epochs(raw=raw_data, events=events, event_id=event_id, tmin=0., tmax=tmax, baseline=None, on_missing='warn')\n"
     ]
    },
    {
     "name": "stdout",
     "output_type": "stream",
     "text": [
      "0 bad epochs dropped\n",
      "Extracting EDF parameters from /home/shate/Desktop/praca_magisterska/medical_signal_representation/data/sleepEDF/raw/SC4262F0-PSG.edf...\n",
      "EDF file detected\n",
      "Setting channel info structure...\n",
      "Creating raw.info structure...\n",
      "Used Annotations descriptions: ['Sleep stage 1', 'Sleep stage 2', 'Sleep stage 3', 'Sleep stage R', 'Sleep stage W']\n",
      "Not setting metadata\n",
      "918 matching events found\n",
      "No baseline correction applied\n",
      "0 projection items activated\n",
      "Loading data for 918 events and 3000 original time points ...\n"
     ]
    },
    {
     "name": "stderr",
     "output_type": "stream",
     "text": [
      "/tmp/ipykernel_14361/442409635.py:50: RuntimeWarning: No matching events found for Sleep stage 4 (event id 4)\n",
      "  epochs = mne.Epochs(raw=raw_data, events=events, event_id=event_id, tmin=0., tmax=tmax, baseline=None, on_missing='warn')\n",
      "/tmp/ipykernel_14361/442409635.py:50: RuntimeWarning: No matching events found for Sleep stage M (event id 6)\n",
      "  epochs = mne.Epochs(raw=raw_data, events=events, event_id=event_id, tmin=0., tmax=tmax, baseline=None, on_missing='warn')\n"
     ]
    },
    {
     "name": "stdout",
     "output_type": "stream",
     "text": [
      "0 bad epochs dropped\n",
      "Extracting EDF parameters from /home/shate/Desktop/praca_magisterska/medical_signal_representation/data/sleepEDF/raw/SC4021E0-PSG.edf...\n",
      "EDF file detected\n",
      "Setting channel info structure...\n",
      "Creating raw.info structure...\n",
      "Used Annotations descriptions: ['Sleep stage 1', 'Sleep stage 2', 'Sleep stage 3', 'Sleep stage R', 'Sleep stage W']\n",
      "Not setting metadata\n",
      "1148 matching events found\n",
      "No baseline correction applied\n",
      "0 projection items activated\n",
      "Loading data for 1148 events and 3000 original time points ...\n"
     ]
    },
    {
     "name": "stderr",
     "output_type": "stream",
     "text": [
      "/tmp/ipykernel_14361/442409635.py:50: RuntimeWarning: No matching events found for Sleep stage 4 (event id 4)\n",
      "  epochs = mne.Epochs(raw=raw_data, events=events, event_id=event_id, tmin=0., tmax=tmax, baseline=None, on_missing='warn')\n",
      "/tmp/ipykernel_14361/442409635.py:50: RuntimeWarning: No matching events found for Sleep stage M (event id 6)\n",
      "  epochs = mne.Epochs(raw=raw_data, events=events, event_id=event_id, tmin=0., tmax=tmax, baseline=None, on_missing='warn')\n"
     ]
    },
    {
     "name": "stdout",
     "output_type": "stream",
     "text": [
      "0 bad epochs dropped\n",
      "Extracting EDF parameters from /home/shate/Desktop/praca_magisterska/medical_signal_representation/data/sleepEDF/raw/SC4412E0-PSG.edf...\n",
      "EDF file detected\n",
      "Setting channel info structure...\n",
      "Creating raw.info structure...\n",
      "Used Annotations descriptions: ['Sleep stage 1', 'Sleep stage 2', 'Sleep stage R', 'Sleep stage W']\n",
      "Not setting metadata\n",
      "1031 matching events found\n",
      "No baseline correction applied\n",
      "0 projection items activated\n",
      "Loading data for 1031 events and 3000 original time points ...\n"
     ]
    },
    {
     "name": "stderr",
     "output_type": "stream",
     "text": [
      "/tmp/ipykernel_14361/442409635.py:50: RuntimeWarning: No matching events found for Sleep stage 3 (event id 3)\n",
      "  epochs = mne.Epochs(raw=raw_data, events=events, event_id=event_id, tmin=0., tmax=tmax, baseline=None, on_missing='warn')\n",
      "/tmp/ipykernel_14361/442409635.py:50: RuntimeWarning: No matching events found for Sleep stage 4 (event id 4)\n",
      "  epochs = mne.Epochs(raw=raw_data, events=events, event_id=event_id, tmin=0., tmax=tmax, baseline=None, on_missing='warn')\n",
      "/tmp/ipykernel_14361/442409635.py:50: RuntimeWarning: No matching events found for Sleep stage M (event id 6)\n",
      "  epochs = mne.Epochs(raw=raw_data, events=events, event_id=event_id, tmin=0., tmax=tmax, baseline=None, on_missing='warn')\n"
     ]
    },
    {
     "name": "stdout",
     "output_type": "stream",
     "text": [
      "0 bad epochs dropped\n",
      "Extracting EDF parameters from /home/shate/Desktop/praca_magisterska/medical_signal_representation/data/sleepEDF/raw/SC4761E0-PSG.edf...\n",
      "EDF file detected\n",
      "Setting channel info structure...\n",
      "Creating raw.info structure...\n",
      "Used Annotations descriptions: ['Sleep stage 1', 'Sleep stage 2', 'Sleep stage 3', 'Sleep stage R', 'Sleep stage W']\n",
      "Not setting metadata\n",
      "983 matching events found\n",
      "No baseline correction applied\n",
      "0 projection items activated\n",
      "Loading data for 983 events and 3000 original time points ...\n"
     ]
    },
    {
     "name": "stderr",
     "output_type": "stream",
     "text": [
      "/tmp/ipykernel_14361/442409635.py:50: RuntimeWarning: No matching events found for Sleep stage 4 (event id 4)\n",
      "  epochs = mne.Epochs(raw=raw_data, events=events, event_id=event_id, tmin=0., tmax=tmax, baseline=None, on_missing='warn')\n",
      "/tmp/ipykernel_14361/442409635.py:50: RuntimeWarning: No matching events found for Sleep stage M (event id 6)\n",
      "  epochs = mne.Epochs(raw=raw_data, events=events, event_id=event_id, tmin=0., tmax=tmax, baseline=None, on_missing='warn')\n"
     ]
    },
    {
     "name": "stdout",
     "output_type": "stream",
     "text": [
      "0 bad epochs dropped\n",
      "Extracting EDF parameters from /home/shate/Desktop/praca_magisterska/medical_signal_representation/data/sleepEDF/raw/SC4532E0-PSG.edf...\n",
      "EDF file detected\n",
      "Setting channel info structure...\n",
      "Creating raw.info structure...\n",
      "Used Annotations descriptions: ['Sleep stage 1', 'Sleep stage 2', 'Sleep stage 3', 'Sleep stage R', 'Sleep stage W']\n",
      "Not setting metadata\n",
      "1413 matching events found\n",
      "No baseline correction applied\n",
      "0 projection items activated\n",
      "Loading data for 1413 events and 3000 original time points ...\n"
     ]
    },
    {
     "name": "stderr",
     "output_type": "stream",
     "text": [
      "/tmp/ipykernel_14361/442409635.py:50: RuntimeWarning: No matching events found for Sleep stage 4 (event id 4)\n",
      "  epochs = mne.Epochs(raw=raw_data, events=events, event_id=event_id, tmin=0., tmax=tmax, baseline=None, on_missing='warn')\n",
      "/tmp/ipykernel_14361/442409635.py:50: RuntimeWarning: No matching events found for Sleep stage M (event id 6)\n",
      "  epochs = mne.Epochs(raw=raw_data, events=events, event_id=event_id, tmin=0., tmax=tmax, baseline=None, on_missing='warn')\n"
     ]
    },
    {
     "name": "stdout",
     "output_type": "stream",
     "text": [
      "0 bad epochs dropped\n",
      "Extracting EDF parameters from /home/shate/Desktop/praca_magisterska/medical_signal_representation/data/sleepEDF/raw/SC4232E0-PSG.edf...\n",
      "EDF file detected\n",
      "Setting channel info structure...\n",
      "Creating raw.info structure...\n",
      "Used Annotations descriptions: ['Sleep stage 1', 'Sleep stage 2', 'Sleep stage 3', 'Sleep stage R', 'Sleep stage W']\n",
      "Not setting metadata\n",
      "1823 matching events found\n",
      "No baseline correction applied\n",
      "0 projection items activated\n",
      "Loading data for 1823 events and 3000 original time points ...\n"
     ]
    },
    {
     "name": "stderr",
     "output_type": "stream",
     "text": [
      "/tmp/ipykernel_14361/442409635.py:50: RuntimeWarning: No matching events found for Sleep stage 4 (event id 4)\n",
      "  epochs = mne.Epochs(raw=raw_data, events=events, event_id=event_id, tmin=0., tmax=tmax, baseline=None, on_missing='warn')\n",
      "/tmp/ipykernel_14361/442409635.py:50: RuntimeWarning: No matching events found for Sleep stage M (event id 6)\n",
      "  epochs = mne.Epochs(raw=raw_data, events=events, event_id=event_id, tmin=0., tmax=tmax, baseline=None, on_missing='warn')\n"
     ]
    },
    {
     "name": "stdout",
     "output_type": "stream",
     "text": [
      "0 bad epochs dropped\n",
      "Extracting EDF parameters from /home/shate/Desktop/praca_magisterska/medical_signal_representation/data/sleepEDF/raw/SC4181E0-PSG.edf...\n",
      "EDF file detected\n",
      "Setting channel info structure...\n",
      "Creating raw.info structure...\n",
      "Used Annotations descriptions: ['Sleep stage 1', 'Sleep stage 2', 'Sleep stage 3', 'Sleep stage R', 'Sleep stage W']\n",
      "Not setting metadata\n",
      "1578 matching events found\n",
      "No baseline correction applied\n",
      "0 projection items activated\n",
      "Loading data for 1578 events and 3000 original time points ...\n"
     ]
    },
    {
     "name": "stderr",
     "output_type": "stream",
     "text": [
      "/tmp/ipykernel_14361/442409635.py:50: RuntimeWarning: No matching events found for Sleep stage 4 (event id 4)\n",
      "  epochs = mne.Epochs(raw=raw_data, events=events, event_id=event_id, tmin=0., tmax=tmax, baseline=None, on_missing='warn')\n",
      "/tmp/ipykernel_14361/442409635.py:50: RuntimeWarning: No matching events found for Sleep stage M (event id 6)\n",
      "  epochs = mne.Epochs(raw=raw_data, events=events, event_id=event_id, tmin=0., tmax=tmax, baseline=None, on_missing='warn')\n"
     ]
    },
    {
     "name": "stdout",
     "output_type": "stream",
     "text": [
      "0 bad epochs dropped\n",
      "Extracting EDF parameters from /home/shate/Desktop/praca_magisterska/medical_signal_representation/data/sleepEDF/raw/SC4371F0-PSG.edf...\n",
      "EDF file detected\n",
      "Setting channel info structure...\n",
      "Creating raw.info structure...\n",
      "Used Annotations descriptions: ['Sleep stage 1', 'Sleep stage 2', 'Sleep stage 3', 'Sleep stage 4', 'Sleep stage R', 'Sleep stage W']\n",
      "Not setting metadata\n",
      "1366 matching events found\n",
      "No baseline correction applied\n",
      "0 projection items activated\n",
      "Loading data for 1366 events and 3000 original time points ...\n"
     ]
    },
    {
     "name": "stderr",
     "output_type": "stream",
     "text": [
      "/tmp/ipykernel_14361/442409635.py:50: RuntimeWarning: No matching events found for Sleep stage M (event id 6)\n",
      "  epochs = mne.Epochs(raw=raw_data, events=events, event_id=event_id, tmin=0., tmax=tmax, baseline=None, on_missing='warn')\n"
     ]
    },
    {
     "name": "stdout",
     "output_type": "stream",
     "text": [
      "0 bad epochs dropped\n",
      "Extracting EDF parameters from /home/shate/Desktop/praca_magisterska/medical_signal_representation/data/sleepEDF/raw/SC4591G0-PSG.edf...\n",
      "EDF file detected\n",
      "Setting channel info structure...\n",
      "Creating raw.info structure...\n",
      "Used Annotations descriptions: ['Sleep stage 1', 'Sleep stage 2', 'Sleep stage 3', 'Sleep stage 4', 'Sleep stage R', 'Sleep stage W']\n",
      "Not setting metadata\n",
      "1103 matching events found\n",
      "No baseline correction applied\n",
      "0 projection items activated\n",
      "Loading data for 1103 events and 3000 original time points ...\n"
     ]
    },
    {
     "name": "stderr",
     "output_type": "stream",
     "text": [
      "/tmp/ipykernel_14361/442409635.py:50: RuntimeWarning: No matching events found for Sleep stage M (event id 6)\n",
      "  epochs = mne.Epochs(raw=raw_data, events=events, event_id=event_id, tmin=0., tmax=tmax, baseline=None, on_missing='warn')\n"
     ]
    },
    {
     "name": "stdout",
     "output_type": "stream",
     "text": [
      "0 bad epochs dropped\n",
      "Extracting EDF parameters from /home/shate/Desktop/praca_magisterska/medical_signal_representation/data/sleepEDF/raw/SC4101E0-PSG.edf...\n",
      "EDF file detected\n",
      "Setting channel info structure...\n",
      "Creating raw.info structure...\n",
      "Used Annotations descriptions: ['Sleep stage 1', 'Sleep stage 2', 'Sleep stage 3', 'Sleep stage 4', 'Sleep stage R', 'Sleep stage W']\n",
      "Not setting metadata\n",
      "1783 matching events found\n",
      "No baseline correction applied\n",
      "0 projection items activated\n",
      "Loading data for 1783 events and 3000 original time points ...\n"
     ]
    },
    {
     "name": "stderr",
     "output_type": "stream",
     "text": [
      "/tmp/ipykernel_14361/442409635.py:50: RuntimeWarning: No matching events found for Sleep stage M (event id 6)\n",
      "  epochs = mne.Epochs(raw=raw_data, events=events, event_id=event_id, tmin=0., tmax=tmax, baseline=None, on_missing='warn')\n"
     ]
    },
    {
     "name": "stdout",
     "output_type": "stream",
     "text": [
      "0 bad epochs dropped\n",
      "Extracting EDF parameters from /home/shate/Desktop/praca_magisterska/medical_signal_representation/data/sleepEDF/raw/SC4201E0-PSG.edf...\n",
      "EDF file detected\n",
      "Setting channel info structure...\n",
      "Creating raw.info structure...\n",
      "Used Annotations descriptions: ['Sleep stage 1', 'Sleep stage 2', 'Sleep stage 3', 'Sleep stage 4', 'Sleep stage R', 'Sleep stage W']\n",
      "Not setting metadata\n",
      "924 matching events found\n",
      "No baseline correction applied\n",
      "0 projection items activated\n",
      "Loading data for 924 events and 3000 original time points ...\n"
     ]
    },
    {
     "name": "stderr",
     "output_type": "stream",
     "text": [
      "/tmp/ipykernel_14361/442409635.py:50: RuntimeWarning: No matching events found for Sleep stage M (event id 6)\n",
      "  epochs = mne.Epochs(raw=raw_data, events=events, event_id=event_id, tmin=0., tmax=tmax, baseline=None, on_missing='warn')\n"
     ]
    },
    {
     "name": "stdout",
     "output_type": "stream",
     "text": [
      "0 bad epochs dropped\n",
      "Extracting EDF parameters from /home/shate/Desktop/praca_magisterska/medical_signal_representation/data/sleepEDF/raw/SC4502E0-PSG.edf...\n",
      "EDF file detected\n",
      "Setting channel info structure...\n",
      "Creating raw.info structure...\n",
      "Used Annotations descriptions: ['Sleep stage 1', 'Sleep stage 2', 'Sleep stage R', 'Sleep stage W']\n",
      "Not setting metadata\n",
      "1021 matching events found\n",
      "No baseline correction applied\n",
      "0 projection items activated\n",
      "Loading data for 1021 events and 3000 original time points ...\n"
     ]
    },
    {
     "name": "stderr",
     "output_type": "stream",
     "text": [
      "/tmp/ipykernel_14361/442409635.py:50: RuntimeWarning: No matching events found for Sleep stage 3 (event id 3)\n",
      "  epochs = mne.Epochs(raw=raw_data, events=events, event_id=event_id, tmin=0., tmax=tmax, baseline=None, on_missing='warn')\n",
      "/tmp/ipykernel_14361/442409635.py:50: RuntimeWarning: No matching events found for Sleep stage 4 (event id 4)\n",
      "  epochs = mne.Epochs(raw=raw_data, events=events, event_id=event_id, tmin=0., tmax=tmax, baseline=None, on_missing='warn')\n",
      "/tmp/ipykernel_14361/442409635.py:50: RuntimeWarning: No matching events found for Sleep stage M (event id 6)\n",
      "  epochs = mne.Epochs(raw=raw_data, events=events, event_id=event_id, tmin=0., tmax=tmax, baseline=None, on_missing='warn')\n"
     ]
    },
    {
     "name": "stdout",
     "output_type": "stream",
     "text": [
      "0 bad epochs dropped\n",
      "Extracting EDF parameters from /home/shate/Desktop/praca_magisterska/medical_signal_representation/data/sleepEDF/raw/SC4002E0-PSG.edf...\n",
      "EDF file detected\n",
      "Setting channel info structure...\n",
      "Creating raw.info structure...\n",
      "Used Annotations descriptions: ['Sleep stage 1', 'Sleep stage 2', 'Sleep stage 3', 'Sleep stage R', 'Sleep stage W']\n",
      "Not setting metadata\n",
      "1064 matching events found\n",
      "No baseline correction applied\n",
      "0 projection items activated\n",
      "Loading data for 1064 events and 3000 original time points ...\n"
     ]
    },
    {
     "name": "stderr",
     "output_type": "stream",
     "text": [
      "/tmp/ipykernel_14361/442409635.py:50: RuntimeWarning: No matching events found for Sleep stage 4 (event id 4)\n",
      "  epochs = mne.Epochs(raw=raw_data, events=events, event_id=event_id, tmin=0., tmax=tmax, baseline=None, on_missing='warn')\n",
      "/tmp/ipykernel_14361/442409635.py:50: RuntimeWarning: No matching events found for Sleep stage M (event id 6)\n",
      "  epochs = mne.Epochs(raw=raw_data, events=events, event_id=event_id, tmin=0., tmax=tmax, baseline=None, on_missing='warn')\n"
     ]
    },
    {
     "name": "stdout",
     "output_type": "stream",
     "text": [
      "0 bad epochs dropped\n",
      "Extracting EDF parameters from /home/shate/Desktop/praca_magisterska/medical_signal_representation/data/sleepEDF/raw/SC4251E0-PSG.edf...\n",
      "EDF file detected\n",
      "Setting channel info structure...\n",
      "Creating raw.info structure...\n",
      "Used Annotations descriptions: ['Sleep stage 1', 'Sleep stage 2', 'Sleep stage 3', 'Sleep stage R', 'Sleep stage W']\n",
      "Not setting metadata\n",
      "1775 matching events found\n",
      "No baseline correction applied\n",
      "0 projection items activated\n",
      "Loading data for 1775 events and 3000 original time points ...\n"
     ]
    },
    {
     "name": "stderr",
     "output_type": "stream",
     "text": [
      "/tmp/ipykernel_14361/442409635.py:50: RuntimeWarning: No matching events found for Sleep stage 4 (event id 4)\n",
      "  epochs = mne.Epochs(raw=raw_data, events=events, event_id=event_id, tmin=0., tmax=tmax, baseline=None, on_missing='warn')\n",
      "/tmp/ipykernel_14361/442409635.py:50: RuntimeWarning: No matching events found for Sleep stage M (event id 6)\n",
      "  epochs = mne.Epochs(raw=raw_data, events=events, event_id=event_id, tmin=0., tmax=tmax, baseline=None, on_missing='warn')\n"
     ]
    },
    {
     "name": "stdout",
     "output_type": "stream",
     "text": [
      "0 bad epochs dropped\n",
      "Extracting EDF parameters from /home/shate/Desktop/praca_magisterska/medical_signal_representation/data/sleepEDF/raw/SC4141E0-PSG.edf...\n",
      "EDF file detected\n",
      "Setting channel info structure...\n",
      "Creating raw.info structure...\n",
      "Used Annotations descriptions: ['Sleep stage 1', 'Sleep stage 2', 'Sleep stage 3', 'Sleep stage R', 'Sleep stage W']\n",
      "Not setting metadata\n",
      "1325 matching events found\n",
      "No baseline correction applied\n",
      "0 projection items activated\n",
      "Loading data for 1325 events and 3000 original time points ...\n"
     ]
    },
    {
     "name": "stderr",
     "output_type": "stream",
     "text": [
      "/tmp/ipykernel_14361/442409635.py:50: RuntimeWarning: No matching events found for Sleep stage 4 (event id 4)\n",
      "  epochs = mne.Epochs(raw=raw_data, events=events, event_id=event_id, tmin=0., tmax=tmax, baseline=None, on_missing='warn')\n",
      "/tmp/ipykernel_14361/442409635.py:50: RuntimeWarning: No matching events found for Sleep stage M (event id 6)\n",
      "  epochs = mne.Epochs(raw=raw_data, events=events, event_id=event_id, tmin=0., tmax=tmax, baseline=None, on_missing='warn')\n"
     ]
    },
    {
     "name": "stdout",
     "output_type": "stream",
     "text": [
      "0 bad epochs dropped\n",
      "Extracting EDF parameters from /home/shate/Desktop/praca_magisterska/medical_signal_representation/data/sleepEDF/raw/SC4622E0-PSG.edf...\n",
      "EDF file detected\n",
      "Setting channel info structure...\n",
      "Creating raw.info structure...\n",
      "Used Annotations descriptions: ['Sleep stage 1', 'Sleep stage 2', 'Sleep stage 3', 'Sleep stage R', 'Sleep stage W']\n",
      "Not setting metadata\n",
      "997 matching events found\n",
      "No baseline correction applied\n",
      "0 projection items activated\n",
      "Loading data for 997 events and 3000 original time points ...\n"
     ]
    },
    {
     "name": "stderr",
     "output_type": "stream",
     "text": [
      "/tmp/ipykernel_14361/442409635.py:50: RuntimeWarning: No matching events found for Sleep stage 4 (event id 4)\n",
      "  epochs = mne.Epochs(raw=raw_data, events=events, event_id=event_id, tmin=0., tmax=tmax, baseline=None, on_missing='warn')\n",
      "/tmp/ipykernel_14361/442409635.py:50: RuntimeWarning: No matching events found for Sleep stage M (event id 6)\n",
      "  epochs = mne.Epochs(raw=raw_data, events=events, event_id=event_id, tmin=0., tmax=tmax, baseline=None, on_missing='warn')\n"
     ]
    },
    {
     "name": "stdout",
     "output_type": "stream",
     "text": [
      "0 bad epochs dropped\n",
      "Extracting EDF parameters from /home/shate/Desktop/praca_magisterska/medical_signal_representation/data/sleepEDF/raw/SC4522E0-PSG.edf...\n",
      "EDF file detected\n",
      "Setting channel info structure...\n",
      "Creating raw.info structure...\n",
      "Used Annotations descriptions: ['Sleep stage 1', 'Sleep stage 2', 'Sleep stage 3', 'Sleep stage 4', 'Sleep stage R', 'Sleep stage W']\n",
      "Not setting metadata\n",
      "1040 matching events found\n",
      "No baseline correction applied\n",
      "0 projection items activated\n",
      "Loading data for 1040 events and 3000 original time points ...\n"
     ]
    },
    {
     "name": "stderr",
     "output_type": "stream",
     "text": [
      "/tmp/ipykernel_14361/442409635.py:50: RuntimeWarning: No matching events found for Sleep stage M (event id 6)\n",
      "  epochs = mne.Epochs(raw=raw_data, events=events, event_id=event_id, tmin=0., tmax=tmax, baseline=None, on_missing='warn')\n"
     ]
    },
    {
     "name": "stdout",
     "output_type": "stream",
     "text": [
      "0 bad epochs dropped\n",
      "Extracting EDF parameters from /home/shate/Desktop/praca_magisterska/medical_signal_representation/data/sleepEDF/raw/SC4731E0-PSG.edf...\n",
      "EDF file detected\n",
      "Setting channel info structure...\n",
      "Creating raw.info structure...\n",
      "Used Annotations descriptions: ['Sleep stage 1', 'Sleep stage 2', 'Sleep stage 3', 'Sleep stage 4', 'Sleep stage R', 'Sleep stage W']\n",
      "Not setting metadata\n",
      "1004 matching events found\n",
      "No baseline correction applied\n",
      "0 projection items activated\n",
      "Loading data for 1004 events and 3000 original time points ...\n"
     ]
    },
    {
     "name": "stderr",
     "output_type": "stream",
     "text": [
      "/tmp/ipykernel_14361/442409635.py:50: RuntimeWarning: No matching events found for Sleep stage M (event id 6)\n",
      "  epochs = mne.Epochs(raw=raw_data, events=events, event_id=event_id, tmin=0., tmax=tmax, baseline=None, on_missing='warn')\n"
     ]
    },
    {
     "name": "stdout",
     "output_type": "stream",
     "text": [
      "0 bad epochs dropped\n",
      "Extracting EDF parameters from /home/shate/Desktop/praca_magisterska/medical_signal_representation/data/sleepEDF/raw/SC4411E0-PSG.edf...\n",
      "EDF file detected\n",
      "Setting channel info structure...\n",
      "Creating raw.info structure...\n",
      "Used Annotations descriptions: ['Sleep stage 1', 'Sleep stage 2', 'Sleep stage 3', 'Sleep stage 4', 'Sleep stage R', 'Sleep stage W']\n",
      "Not setting metadata\n",
      "1704 matching events found\n",
      "No baseline correction applied\n",
      "0 projection items activated\n",
      "Loading data for 1704 events and 3000 original time points ...\n"
     ]
    },
    {
     "name": "stderr",
     "output_type": "stream",
     "text": [
      "/tmp/ipykernel_14361/442409635.py:50: RuntimeWarning: No matching events found for Sleep stage M (event id 6)\n",
      "  epochs = mne.Epochs(raw=raw_data, events=events, event_id=event_id, tmin=0., tmax=tmax, baseline=None, on_missing='warn')\n"
     ]
    },
    {
     "name": "stdout",
     "output_type": "stream",
     "text": [
      "0 bad epochs dropped\n",
      "Extracting EDF parameters from /home/shate/Desktop/praca_magisterska/medical_signal_representation/data/sleepEDF/raw/SC4551F0-PSG.edf...\n",
      "EDF file detected\n",
      "Setting channel info structure...\n",
      "Creating raw.info structure...\n",
      "Used Annotations descriptions: ['Sleep stage 1', 'Sleep stage 2', 'Sleep stage 3', 'Sleep stage 4', 'Sleep stage R', 'Sleep stage W']\n",
      "Not setting metadata\n",
      "1099 matching events found\n",
      "No baseline correction applied\n",
      "0 projection items activated\n",
      "Loading data for 1099 events and 3000 original time points ...\n"
     ]
    },
    {
     "name": "stderr",
     "output_type": "stream",
     "text": [
      "/tmp/ipykernel_14361/442409635.py:50: RuntimeWarning: No matching events found for Sleep stage M (event id 6)\n",
      "  epochs = mne.Epochs(raw=raw_data, events=events, event_id=event_id, tmin=0., tmax=tmax, baseline=None, on_missing='warn')\n"
     ]
    },
    {
     "name": "stdout",
     "output_type": "stream",
     "text": [
      "0 bad epochs dropped\n",
      "Extracting EDF parameters from /home/shate/Desktop/praca_magisterska/medical_signal_representation/data/sleepEDF/raw/SC4171E0-PSG.edf...\n",
      "EDF file detected\n",
      "Setting channel info structure...\n",
      "Creating raw.info structure...\n",
      "Used Annotations descriptions: ['Sleep stage 1', 'Sleep stage 2', 'Sleep stage R', 'Sleep stage W']\n",
      "Not setting metadata\n",
      "1271 matching events found\n",
      "No baseline correction applied\n",
      "0 projection items activated\n",
      "Loading data for 1271 events and 3000 original time points ...\n"
     ]
    },
    {
     "name": "stderr",
     "output_type": "stream",
     "text": [
      "/tmp/ipykernel_14361/442409635.py:50: RuntimeWarning: No matching events found for Sleep stage 3 (event id 3)\n",
      "  epochs = mne.Epochs(raw=raw_data, events=events, event_id=event_id, tmin=0., tmax=tmax, baseline=None, on_missing='warn')\n",
      "/tmp/ipykernel_14361/442409635.py:50: RuntimeWarning: No matching events found for Sleep stage 4 (event id 4)\n",
      "  epochs = mne.Epochs(raw=raw_data, events=events, event_id=event_id, tmin=0., tmax=tmax, baseline=None, on_missing='warn')\n",
      "/tmp/ipykernel_14361/442409635.py:50: RuntimeWarning: No matching events found for Sleep stage M (event id 6)\n",
      "  epochs = mne.Epochs(raw=raw_data, events=events, event_id=event_id, tmin=0., tmax=tmax, baseline=None, on_missing='warn')\n"
     ]
    },
    {
     "name": "stdout",
     "output_type": "stream",
     "text": [
      "0 bad epochs dropped\n",
      "Extracting EDF parameters from /home/shate/Desktop/praca_magisterska/medical_signal_representation/data/sleepEDF/raw/SC4641E0-PSG.edf...\n",
      "EDF file detected\n",
      "Setting channel info structure...\n",
      "Creating raw.info structure...\n",
      "Used Annotations descriptions: ['Sleep stage 1', 'Sleep stage 2', 'Sleep stage 3', 'Sleep stage 4', 'Sleep stage R', 'Sleep stage W']\n",
      "Not setting metadata\n",
      "1827 matching events found\n",
      "No baseline correction applied\n",
      "0 projection items activated\n",
      "Loading data for 1827 events and 3000 original time points ...\n"
     ]
    },
    {
     "name": "stderr",
     "output_type": "stream",
     "text": [
      "/tmp/ipykernel_14361/442409635.py:50: RuntimeWarning: No matching events found for Sleep stage M (event id 6)\n",
      "  epochs = mne.Epochs(raw=raw_data, events=events, event_id=event_id, tmin=0., tmax=tmax, baseline=None, on_missing='warn')\n"
     ]
    },
    {
     "name": "stdout",
     "output_type": "stream",
     "text": [
      "0 bad epochs dropped\n",
      "Extracting EDF parameters from /home/shate/Desktop/praca_magisterska/medical_signal_representation/data/sleepEDF/raw/SC4332F0-PSG.edf...\n",
      "EDF file detected\n",
      "Setting channel info structure...\n",
      "Creating raw.info structure...\n",
      "Used Annotations descriptions: ['Sleep stage 1', 'Sleep stage 2', 'Sleep stage 3', 'Sleep stage 4', 'Sleep stage R', 'Sleep stage W']\n",
      "Not setting metadata\n",
      "1186 matching events found\n",
      "No baseline correction applied\n",
      "0 projection items activated\n",
      "Loading data for 1186 events and 3000 original time points ...\n"
     ]
    },
    {
     "name": "stderr",
     "output_type": "stream",
     "text": [
      "/tmp/ipykernel_14361/442409635.py:50: RuntimeWarning: No matching events found for Sleep stage M (event id 6)\n",
      "  epochs = mne.Epochs(raw=raw_data, events=events, event_id=event_id, tmin=0., tmax=tmax, baseline=None, on_missing='warn')\n"
     ]
    },
    {
     "name": "stdout",
     "output_type": "stream",
     "text": [
      "0 bad epochs dropped\n",
      "Extracting EDF parameters from /home/shate/Desktop/praca_magisterska/medical_signal_representation/data/sleepEDF/raw/SC4481F0-PSG.edf...\n",
      "EDF file detected\n",
      "Setting channel info structure...\n",
      "Creating raw.info structure...\n",
      "Used Annotations descriptions: ['Sleep stage 1', 'Sleep stage 2', 'Sleep stage 3', 'Sleep stage 4', 'Sleep stage R', 'Sleep stage W']\n",
      "Not setting metadata\n",
      "1127 matching events found\n",
      "No baseline correction applied\n",
      "0 projection items activated\n",
      "Loading data for 1127 events and 3000 original time points ...\n"
     ]
    },
    {
     "name": "stderr",
     "output_type": "stream",
     "text": [
      "/tmp/ipykernel_14361/442409635.py:50: RuntimeWarning: No matching events found for Sleep stage M (event id 6)\n",
      "  epochs = mne.Epochs(raw=raw_data, events=events, event_id=event_id, tmin=0., tmax=tmax, baseline=None, on_missing='warn')\n"
     ]
    },
    {
     "name": "stdout",
     "output_type": "stream",
     "text": [
      "0 bad epochs dropped\n",
      "Extracting EDF parameters from /home/shate/Desktop/praca_magisterska/medical_signal_representation/data/sleepEDF/raw/SC4341F0-PSG.edf...\n",
      "EDF file detected\n",
      "Setting channel info structure...\n",
      "Creating raw.info structure...\n",
      "Used Annotations descriptions: ['Sleep stage 1', 'Sleep stage 2', 'Sleep stage 3', 'Sleep stage R', 'Sleep stage W']\n",
      "Not setting metadata\n",
      "1945 matching events found\n",
      "No baseline correction applied\n",
      "0 projection items activated\n",
      "Loading data for 1945 events and 3000 original time points ...\n"
     ]
    },
    {
     "name": "stderr",
     "output_type": "stream",
     "text": [
      "/tmp/ipykernel_14361/442409635.py:50: RuntimeWarning: No matching events found for Sleep stage 4 (event id 4)\n",
      "  epochs = mne.Epochs(raw=raw_data, events=events, event_id=event_id, tmin=0., tmax=tmax, baseline=None, on_missing='warn')\n",
      "/tmp/ipykernel_14361/442409635.py:50: RuntimeWarning: No matching events found for Sleep stage M (event id 6)\n",
      "  epochs = mne.Epochs(raw=raw_data, events=events, event_id=event_id, tmin=0., tmax=tmax, baseline=None, on_missing='warn')\n"
     ]
    },
    {
     "name": "stdout",
     "output_type": "stream",
     "text": [
      "0 bad epochs dropped\n",
      "Extracting EDF parameters from /home/shate/Desktop/praca_magisterska/medical_signal_representation/data/sleepEDF/raw/SC4461F0-PSG.edf...\n",
      "EDF file detected\n",
      "Setting channel info structure...\n",
      "Creating raw.info structure...\n",
      "Used Annotations descriptions: ['Sleep stage 1', 'Sleep stage 2', 'Sleep stage 3', 'Sleep stage 4', 'Sleep stage R', 'Sleep stage W']\n",
      "Not setting metadata\n",
      "1605 matching events found\n",
      "No baseline correction applied\n",
      "0 projection items activated\n",
      "Loading data for 1605 events and 3000 original time points ...\n"
     ]
    },
    {
     "name": "stderr",
     "output_type": "stream",
     "text": [
      "/tmp/ipykernel_14361/442409635.py:50: RuntimeWarning: No matching events found for Sleep stage M (event id 6)\n",
      "  epochs = mne.Epochs(raw=raw_data, events=events, event_id=event_id, tmin=0., tmax=tmax, baseline=None, on_missing='warn')\n"
     ]
    },
    {
     "name": "stdout",
     "output_type": "stream",
     "text": [
      "0 bad epochs dropped\n",
      "Extracting EDF parameters from /home/shate/Desktop/praca_magisterska/medical_signal_representation/data/sleepEDF/raw/SC4031E0-PSG.edf...\n",
      "EDF file detected\n",
      "Setting channel info structure...\n",
      "Creating raw.info structure...\n",
      "Used Annotations descriptions: ['Sleep stage 1', 'Sleep stage 2', 'Sleep stage 3', 'Sleep stage R', 'Sleep stage W']\n",
      "Not setting metadata\n",
      "1021 matching events found\n",
      "No baseline correction applied\n",
      "0 projection items activated\n",
      "Loading data for 1021 events and 3000 original time points ...\n"
     ]
    },
    {
     "name": "stderr",
     "output_type": "stream",
     "text": [
      "/tmp/ipykernel_14361/442409635.py:50: RuntimeWarning: No matching events found for Sleep stage 4 (event id 4)\n",
      "  epochs = mne.Epochs(raw=raw_data, events=events, event_id=event_id, tmin=0., tmax=tmax, baseline=None, on_missing='warn')\n",
      "/tmp/ipykernel_14361/442409635.py:50: RuntimeWarning: No matching events found for Sleep stage M (event id 6)\n",
      "  epochs = mne.Epochs(raw=raw_data, events=events, event_id=event_id, tmin=0., tmax=tmax, baseline=None, on_missing='warn')\n"
     ]
    },
    {
     "name": "stdout",
     "output_type": "stream",
     "text": [
      "0 bad epochs dropped\n",
      "Extracting EDF parameters from /home/shate/Desktop/praca_magisterska/medical_signal_representation/data/sleepEDF/raw/SC4311E0-PSG.edf...\n",
      "EDF file detected\n",
      "Setting channel info structure...\n",
      "Creating raw.info structure...\n",
      "Used Annotations descriptions: ['Sleep stage 1', 'Sleep stage 2', 'Sleep stage 3', 'Sleep stage R', 'Sleep stage W']\n",
      "Not setting metadata\n",
      "854 matching events found\n",
      "No baseline correction applied\n",
      "0 projection items activated\n",
      "Loading data for 854 events and 3000 original time points ...\n"
     ]
    },
    {
     "name": "stderr",
     "output_type": "stream",
     "text": [
      "/tmp/ipykernel_14361/442409635.py:50: RuntimeWarning: No matching events found for Sleep stage 4 (event id 4)\n",
      "  epochs = mne.Epochs(raw=raw_data, events=events, event_id=event_id, tmin=0., tmax=tmax, baseline=None, on_missing='warn')\n",
      "/tmp/ipykernel_14361/442409635.py:50: RuntimeWarning: No matching events found for Sleep stage M (event id 6)\n",
      "  epochs = mne.Epochs(raw=raw_data, events=events, event_id=event_id, tmin=0., tmax=tmax, baseline=None, on_missing='warn')\n"
     ]
    },
    {
     "name": "stdout",
     "output_type": "stream",
     "text": [
      "0 bad epochs dropped\n",
      "Extracting EDF parameters from /home/shate/Desktop/praca_magisterska/medical_signal_representation/data/sleepEDF/raw/SC4771G0-PSG.edf...\n",
      "EDF file detected\n",
      "Setting channel info structure...\n",
      "Creating raw.info structure...\n",
      "Used Annotations descriptions: ['Sleep stage 1', 'Sleep stage 2', 'Sleep stage 3', 'Sleep stage 4', 'Sleep stage R', 'Sleep stage W']\n",
      "Not setting metadata\n",
      "1952 matching events found\n",
      "No baseline correction applied\n",
      "0 projection items activated\n",
      "Loading data for 1952 events and 3000 original time points ...\n"
     ]
    },
    {
     "name": "stderr",
     "output_type": "stream",
     "text": [
      "/tmp/ipykernel_14361/442409635.py:50: RuntimeWarning: No matching events found for Sleep stage M (event id 6)\n",
      "  epochs = mne.Epochs(raw=raw_data, events=events, event_id=event_id, tmin=0., tmax=tmax, baseline=None, on_missing='warn')\n"
     ]
    },
    {
     "name": "stdout",
     "output_type": "stream",
     "text": [
      "0 bad epochs dropped\n",
      "Extracting EDF parameters from /home/shate/Desktop/praca_magisterska/medical_signal_representation/data/sleepEDF/raw/SC4001E0-PSG.edf...\n",
      "EDF file detected\n",
      "Setting channel info structure...\n",
      "Creating raw.info structure...\n",
      "Used Annotations descriptions: ['Sleep stage 1', 'Sleep stage 2', 'Sleep stage 3', 'Sleep stage 4', 'Sleep stage R', 'Sleep stage W']\n",
      "Not setting metadata\n",
      "802 matching events found\n",
      "No baseline correction applied\n",
      "0 projection items activated\n",
      "Loading data for 802 events and 3000 original time points ...\n"
     ]
    },
    {
     "name": "stderr",
     "output_type": "stream",
     "text": [
      "/tmp/ipykernel_14361/442409635.py:50: RuntimeWarning: No matching events found for Sleep stage M (event id 6)\n",
      "  epochs = mne.Epochs(raw=raw_data, events=events, event_id=event_id, tmin=0., tmax=tmax, baseline=None, on_missing='warn')\n"
     ]
    },
    {
     "name": "stdout",
     "output_type": "stream",
     "text": [
      "0 bad epochs dropped\n",
      "Extracting EDF parameters from /home/shate/Desktop/praca_magisterska/medical_signal_representation/data/sleepEDF/raw/SC4471F0-PSG.edf...\n",
      "EDF file detected\n",
      "Setting channel info structure...\n",
      "Creating raw.info structure...\n",
      "Used Annotations descriptions: ['Sleep stage 1', 'Sleep stage 2', 'Sleep stage 3', 'Sleep stage R', 'Sleep stage W']\n",
      "Not setting metadata\n",
      "1175 matching events found\n",
      "No baseline correction applied\n",
      "0 projection items activated\n",
      "Loading data for 1175 events and 3000 original time points ...\n"
     ]
    },
    {
     "name": "stderr",
     "output_type": "stream",
     "text": [
      "/tmp/ipykernel_14361/442409635.py:50: RuntimeWarning: No matching events found for Sleep stage 4 (event id 4)\n",
      "  epochs = mne.Epochs(raw=raw_data, events=events, event_id=event_id, tmin=0., tmax=tmax, baseline=None, on_missing='warn')\n",
      "/tmp/ipykernel_14361/442409635.py:50: RuntimeWarning: No matching events found for Sleep stage M (event id 6)\n",
      "  epochs = mne.Epochs(raw=raw_data, events=events, event_id=event_id, tmin=0., tmax=tmax, baseline=None, on_missing='warn')\n"
     ]
    },
    {
     "name": "stdout",
     "output_type": "stream",
     "text": [
      "0 bad epochs dropped\n",
      "Extracting EDF parameters from /home/shate/Desktop/praca_magisterska/medical_signal_representation/data/sleepEDF/raw/SC4811G0-PSG.edf...\n",
      "EDF file detected\n",
      "Setting channel info structure...\n",
      "Creating raw.info structure...\n",
      "Used Annotations descriptions: ['Sleep stage 1', 'Sleep stage 2', 'Sleep stage 3', 'Sleep stage 4', 'Sleep stage R', 'Sleep stage W']\n",
      "Not setting metadata\n",
      "977 matching events found\n",
      "No baseline correction applied\n",
      "0 projection items activated\n",
      "Loading data for 977 events and 3000 original time points ...\n"
     ]
    },
    {
     "name": "stderr",
     "output_type": "stream",
     "text": [
      "/tmp/ipykernel_14361/442409635.py:50: RuntimeWarning: No matching events found for Sleep stage M (event id 6)\n",
      "  epochs = mne.Epochs(raw=raw_data, events=events, event_id=event_id, tmin=0., tmax=tmax, baseline=None, on_missing='warn')\n"
     ]
    },
    {
     "name": "stdout",
     "output_type": "stream",
     "text": [
      "0 bad epochs dropped\n",
      "Extracting EDF parameters from /home/shate/Desktop/praca_magisterska/medical_signal_representation/data/sleepEDF/raw/SC4282G0-PSG.edf...\n",
      "EDF file detected\n",
      "Setting channel info structure...\n",
      "Creating raw.info structure...\n",
      "Used Annotations descriptions: ['Sleep stage 1', 'Sleep stage 2', 'Sleep stage 3', 'Sleep stage R', 'Sleep stage W']\n",
      "Not setting metadata\n",
      "2026 matching events found\n",
      "No baseline correction applied\n",
      "0 projection items activated\n",
      "Loading data for 2026 events and 3000 original time points ...\n"
     ]
    },
    {
     "name": "stderr",
     "output_type": "stream",
     "text": [
      "/tmp/ipykernel_14361/442409635.py:50: RuntimeWarning: No matching events found for Sleep stage 4 (event id 4)\n",
      "  epochs = mne.Epochs(raw=raw_data, events=events, event_id=event_id, tmin=0., tmax=tmax, baseline=None, on_missing='warn')\n",
      "/tmp/ipykernel_14361/442409635.py:50: RuntimeWarning: No matching events found for Sleep stage M (event id 6)\n",
      "  epochs = mne.Epochs(raw=raw_data, events=events, event_id=event_id, tmin=0., tmax=tmax, baseline=None, on_missing='warn')\n"
     ]
    },
    {
     "name": "stdout",
     "output_type": "stream",
     "text": [
      "0 bad epochs dropped\n",
      "Extracting EDF parameters from /home/shate/Desktop/praca_magisterska/medical_signal_representation/data/sleepEDF/raw/SC4562F0-PSG.edf...\n",
      "EDF file detected\n",
      "Setting channel info structure...\n",
      "Creating raw.info structure...\n",
      "Used Annotations descriptions: ['Sleep stage 1', 'Sleep stage 2', 'Sleep stage 3', 'Sleep stage R', 'Sleep stage W']\n",
      "Not setting metadata\n",
      "972 matching events found\n",
      "No baseline correction applied\n",
      "0 projection items activated\n",
      "Loading data for 972 events and 3000 original time points ...\n"
     ]
    },
    {
     "name": "stderr",
     "output_type": "stream",
     "text": [
      "/tmp/ipykernel_14361/442409635.py:50: RuntimeWarning: No matching events found for Sleep stage 4 (event id 4)\n",
      "  epochs = mne.Epochs(raw=raw_data, events=events, event_id=event_id, tmin=0., tmax=tmax, baseline=None, on_missing='warn')\n",
      "/tmp/ipykernel_14361/442409635.py:50: RuntimeWarning: No matching events found for Sleep stage M (event id 6)\n",
      "  epochs = mne.Epochs(raw=raw_data, events=events, event_id=event_id, tmin=0., tmax=tmax, baseline=None, on_missing='warn')\n"
     ]
    },
    {
     "name": "stdout",
     "output_type": "stream",
     "text": [
      "0 bad epochs dropped\n",
      "Extracting EDF parameters from /home/shate/Desktop/praca_magisterska/medical_signal_representation/data/sleepEDF/raw/SC4221E0-PSG.edf...\n",
      "EDF file detected\n",
      "Setting channel info structure...\n",
      "Creating raw.info structure...\n",
      "Used Annotations descriptions: ['Sleep stage 1', 'Sleep stage 2', 'Sleep stage 3', 'Sleep stage 4', 'Sleep stage R', 'Sleep stage W']\n",
      "Not setting metadata\n",
      "1246 matching events found\n",
      "No baseline correction applied\n",
      "0 projection items activated\n",
      "Loading data for 1246 events and 3000 original time points ...\n"
     ]
    },
    {
     "name": "stderr",
     "output_type": "stream",
     "text": [
      "/tmp/ipykernel_14361/442409635.py:50: RuntimeWarning: No matching events found for Sleep stage M (event id 6)\n",
      "  epochs = mne.Epochs(raw=raw_data, events=events, event_id=event_id, tmin=0., tmax=tmax, baseline=None, on_missing='warn')\n"
     ]
    },
    {
     "name": "stdout",
     "output_type": "stream",
     "text": [
      "0 bad epochs dropped\n",
      "Extracting EDF parameters from /home/shate/Desktop/praca_magisterska/medical_signal_representation/data/sleepEDF/raw/SC4482F0-PSG.edf...\n",
      "EDF file detected\n",
      "Setting channel info structure...\n",
      "Creating raw.info structure...\n",
      "Used Annotations descriptions: ['Sleep stage 1', 'Sleep stage 2', 'Sleep stage 3', 'Sleep stage 4', 'Sleep stage R', 'Sleep stage W']\n",
      "Not setting metadata\n",
      "1187 matching events found\n",
      "No baseline correction applied\n",
      "0 projection items activated\n",
      "Loading data for 1187 events and 3000 original time points ...\n"
     ]
    },
    {
     "name": "stderr",
     "output_type": "stream",
     "text": [
      "/tmp/ipykernel_14361/442409635.py:50: RuntimeWarning: No matching events found for Sleep stage M (event id 6)\n",
      "  epochs = mne.Epochs(raw=raw_data, events=events, event_id=event_id, tmin=0., tmax=tmax, baseline=None, on_missing='warn')\n"
     ]
    },
    {
     "name": "stdout",
     "output_type": "stream",
     "text": [
      "0 bad epochs dropped\n",
      "Extracting EDF parameters from /home/shate/Desktop/praca_magisterska/medical_signal_representation/data/sleepEDF/raw/SC4111E0-PSG.edf...\n",
      "EDF file detected\n",
      "Setting channel info structure...\n",
      "Creating raw.info structure...\n",
      "Used Annotations descriptions: ['Sleep stage 1', 'Sleep stage 2', 'Sleep stage 3', 'Sleep stage 4', 'Sleep stage R', 'Sleep stage W']\n",
      "Not setting metadata\n",
      "1195 matching events found\n",
      "No baseline correction applied\n",
      "0 projection items activated\n",
      "Loading data for 1195 events and 3000 original time points ...\n"
     ]
    },
    {
     "name": "stderr",
     "output_type": "stream",
     "text": [
      "/tmp/ipykernel_14361/442409635.py:50: RuntimeWarning: No matching events found for Sleep stage M (event id 6)\n",
      "  epochs = mne.Epochs(raw=raw_data, events=events, event_id=event_id, tmin=0., tmax=tmax, baseline=None, on_missing='warn')\n"
     ]
    },
    {
     "name": "stdout",
     "output_type": "stream",
     "text": [
      "0 bad epochs dropped\n",
      "Extracting EDF parameters from /home/shate/Desktop/praca_magisterska/medical_signal_representation/data/sleepEDF/raw/SC4252E0-PSG.edf...\n",
      "EDF file detected\n",
      "Setting channel info structure...\n",
      "Creating raw.info structure...\n",
      "Used Annotations descriptions: ['Sleep stage 1', 'Sleep stage 2', 'Sleep stage 3', 'Sleep stage 4', 'Sleep stage R', 'Sleep stage W']\n",
      "Not setting metadata\n",
      "1148 matching events found\n",
      "No baseline correction applied\n",
      "0 projection items activated\n",
      "Loading data for 1148 events and 3000 original time points ...\n"
     ]
    },
    {
     "name": "stderr",
     "output_type": "stream",
     "text": [
      "/tmp/ipykernel_14361/442409635.py:50: RuntimeWarning: No matching events found for Sleep stage M (event id 6)\n",
      "  epochs = mne.Epochs(raw=raw_data, events=events, event_id=event_id, tmin=0., tmax=tmax, baseline=None, on_missing='warn')\n"
     ]
    },
    {
     "name": "stdout",
     "output_type": "stream",
     "text": [
      "0 bad epochs dropped\n",
      "Extracting EDF parameters from /home/shate/Desktop/praca_magisterska/medical_signal_representation/data/sleepEDF/raw/SC4801G0-PSG.edf...\n",
      "EDF file detected\n",
      "Setting channel info structure...\n",
      "Creating raw.info structure...\n",
      "Used Annotations descriptions: ['Sleep stage 1', 'Sleep stage 2', 'Sleep stage R', 'Sleep stage W']\n",
      "Not setting metadata\n",
      "1063 matching events found\n",
      "No baseline correction applied\n",
      "0 projection items activated\n",
      "Loading data for 1063 events and 3000 original time points ...\n"
     ]
    },
    {
     "name": "stderr",
     "output_type": "stream",
     "text": [
      "/tmp/ipykernel_14361/442409635.py:50: RuntimeWarning: No matching events found for Sleep stage 3 (event id 3)\n",
      "  epochs = mne.Epochs(raw=raw_data, events=events, event_id=event_id, tmin=0., tmax=tmax, baseline=None, on_missing='warn')\n",
      "/tmp/ipykernel_14361/442409635.py:50: RuntimeWarning: No matching events found for Sleep stage 4 (event id 4)\n",
      "  epochs = mne.Epochs(raw=raw_data, events=events, event_id=event_id, tmin=0., tmax=tmax, baseline=None, on_missing='warn')\n",
      "/tmp/ipykernel_14361/442409635.py:50: RuntimeWarning: No matching events found for Sleep stage M (event id 6)\n",
      "  epochs = mne.Epochs(raw=raw_data, events=events, event_id=event_id, tmin=0., tmax=tmax, baseline=None, on_missing='warn')\n"
     ]
    },
    {
     "name": "stdout",
     "output_type": "stream",
     "text": [
      "0 bad epochs dropped\n",
      "Extracting EDF parameters from /home/shate/Desktop/praca_magisterska/medical_signal_representation/data/sleepEDF/raw/SC4651E0-PSG.edf...\n",
      "EDF file detected\n",
      "Setting channel info structure...\n",
      "Creating raw.info structure...\n",
      "Used Annotations descriptions: ['Sleep stage 1', 'Sleep stage 2', 'Sleep stage 3', 'Sleep stage R', 'Sleep stage W']\n",
      "Not setting metadata\n",
      "1776 matching events found\n",
      "No baseline correction applied\n",
      "0 projection items activated\n",
      "Loading data for 1776 events and 3000 original time points ...\n"
     ]
    },
    {
     "name": "stderr",
     "output_type": "stream",
     "text": [
      "/tmp/ipykernel_14361/442409635.py:50: RuntimeWarning: No matching events found for Sleep stage 4 (event id 4)\n",
      "  epochs = mne.Epochs(raw=raw_data, events=events, event_id=event_id, tmin=0., tmax=tmax, baseline=None, on_missing='warn')\n",
      "/tmp/ipykernel_14361/442409635.py:50: RuntimeWarning: No matching events found for Sleep stage M (event id 6)\n",
      "  epochs = mne.Epochs(raw=raw_data, events=events, event_id=event_id, tmin=0., tmax=tmax, baseline=None, on_missing='warn')\n"
     ]
    },
    {
     "name": "stdout",
     "output_type": "stream",
     "text": [
      "0 bad epochs dropped\n",
      "Extracting EDF parameters from /home/shate/Desktop/praca_magisterska/medical_signal_representation/data/sleepEDF/raw/SC4491G0-PSG.edf...\n",
      "EDF file detected\n",
      "Setting channel info structure...\n",
      "Creating raw.info structure...\n",
      "Used Annotations descriptions: ['Sleep stage 1', 'Sleep stage 2', 'Sleep stage 3', 'Sleep stage 4', 'Sleep stage R', 'Sleep stage W']\n",
      "Not setting metadata\n",
      "1092 matching events found\n",
      "No baseline correction applied\n",
      "0 projection items activated\n",
      "Loading data for 1092 events and 3000 original time points ...\n"
     ]
    },
    {
     "name": "stderr",
     "output_type": "stream",
     "text": [
      "/tmp/ipykernel_14361/442409635.py:50: RuntimeWarning: No matching events found for Sleep stage M (event id 6)\n",
      "  epochs = mne.Epochs(raw=raw_data, events=events, event_id=event_id, tmin=0., tmax=tmax, baseline=None, on_missing='warn')\n"
     ]
    },
    {
     "name": "stdout",
     "output_type": "stream",
     "text": [
      "0 bad epochs dropped\n",
      "Extracting EDF parameters from /home/shate/Desktop/praca_magisterska/medical_signal_representation/data/sleepEDF/raw/SC4161E0-PSG.edf...\n",
      "EDF file detected\n",
      "Setting channel info structure...\n",
      "Creating raw.info structure...\n",
      "Used Annotations descriptions: ['Sleep stage 1', 'Sleep stage 2', 'Sleep stage 3', 'Sleep stage R', 'Sleep stage W']\n",
      "Not setting metadata\n",
      "1087 matching events found\n",
      "No baseline correction applied\n",
      "0 projection items activated\n",
      "Loading data for 1087 events and 3000 original time points ...\n"
     ]
    },
    {
     "name": "stderr",
     "output_type": "stream",
     "text": [
      "/tmp/ipykernel_14361/442409635.py:50: RuntimeWarning: No matching events found for Sleep stage 4 (event id 4)\n",
      "  epochs = mne.Epochs(raw=raw_data, events=events, event_id=event_id, tmin=0., tmax=tmax, baseline=None, on_missing='warn')\n",
      "/tmp/ipykernel_14361/442409635.py:50: RuntimeWarning: No matching events found for Sleep stage M (event id 6)\n",
      "  epochs = mne.Epochs(raw=raw_data, events=events, event_id=event_id, tmin=0., tmax=tmax, baseline=None, on_missing='warn')\n"
     ]
    },
    {
     "name": "stdout",
     "output_type": "stream",
     "text": [
      "0 bad epochs dropped\n",
      "Extracting EDF parameters from /home/shate/Desktop/praca_magisterska/medical_signal_representation/data/sleepEDF/raw/SC4222E0-PSG.edf...\n",
      "EDF file detected\n",
      "Setting channel info structure...\n",
      "Creating raw.info structure...\n",
      "Used Annotations descriptions: ['Sleep stage 1', 'Sleep stage 2', 'Sleep stage R', 'Sleep stage W']\n",
      "Not setting metadata\n",
      "2647 matching events found\n",
      "No baseline correction applied\n",
      "0 projection items activated\n",
      "Loading data for 2647 events and 3000 original time points ...\n"
     ]
    },
    {
     "name": "stderr",
     "output_type": "stream",
     "text": [
      "/tmp/ipykernel_14361/442409635.py:50: RuntimeWarning: No matching events found for Sleep stage 3 (event id 3)\n",
      "  epochs = mne.Epochs(raw=raw_data, events=events, event_id=event_id, tmin=0., tmax=tmax, baseline=None, on_missing='warn')\n",
      "/tmp/ipykernel_14361/442409635.py:50: RuntimeWarning: No matching events found for Sleep stage 4 (event id 4)\n",
      "  epochs = mne.Epochs(raw=raw_data, events=events, event_id=event_id, tmin=0., tmax=tmax, baseline=None, on_missing='warn')\n",
      "/tmp/ipykernel_14361/442409635.py:50: RuntimeWarning: No matching events found for Sleep stage M (event id 6)\n",
      "  epochs = mne.Epochs(raw=raw_data, events=events, event_id=event_id, tmin=0., tmax=tmax, baseline=None, on_missing='warn')\n"
     ]
    },
    {
     "name": "stdout",
     "output_type": "stream",
     "text": [
      "0 bad epochs dropped\n",
      "Extracting EDF parameters from /home/shate/Desktop/praca_magisterska/medical_signal_representation/data/sleepEDF/raw/SC4752E0-PSG.edf...\n",
      "EDF file detected\n",
      "Setting channel info structure...\n",
      "Creating raw.info structure...\n",
      "Used Annotations descriptions: ['Sleep stage 1', 'Sleep stage 2', 'Sleep stage 3', 'Sleep stage 4', 'Sleep stage R', 'Sleep stage W']\n",
      "Not setting metadata\n",
      "976 matching events found\n",
      "No baseline correction applied\n",
      "0 projection items activated\n",
      "Loading data for 976 events and 3000 original time points ...\n"
     ]
    },
    {
     "name": "stderr",
     "output_type": "stream",
     "text": [
      "/tmp/ipykernel_14361/442409635.py:50: RuntimeWarning: No matching events found for Sleep stage M (event id 6)\n",
      "  epochs = mne.Epochs(raw=raw_data, events=events, event_id=event_id, tmin=0., tmax=tmax, baseline=None, on_missing='warn')\n"
     ]
    },
    {
     "name": "stdout",
     "output_type": "stream",
     "text": [
      "0 bad epochs dropped\n",
      "Extracting EDF parameters from /home/shate/Desktop/praca_magisterska/medical_signal_representation/data/sleepEDF/raw/SC4582G0-PSG.edf...\n",
      "EDF file detected\n",
      "Setting channel info structure...\n",
      "Creating raw.info structure...\n",
      "Used Annotations descriptions: ['Sleep stage 1', 'Sleep stage 2', 'Sleep stage 3', 'Sleep stage 4', 'Sleep stage R', 'Sleep stage W']\n",
      "Not setting metadata\n",
      "785 matching events found\n",
      "No baseline correction applied\n",
      "0 projection items activated\n",
      "Loading data for 785 events and 3000 original time points ...\n"
     ]
    },
    {
     "name": "stderr",
     "output_type": "stream",
     "text": [
      "/tmp/ipykernel_14361/442409635.py:50: RuntimeWarning: No matching events found for Sleep stage M (event id 6)\n",
      "  epochs = mne.Epochs(raw=raw_data, events=events, event_id=event_id, tmin=0., tmax=tmax, baseline=None, on_missing='warn')\n"
     ]
    },
    {
     "name": "stdout",
     "output_type": "stream",
     "text": [
      "0 bad epochs dropped\n",
      "Extracting EDF parameters from /home/shate/Desktop/praca_magisterska/medical_signal_representation/data/sleepEDF/raw/SC4362F0-PSG.edf...\n",
      "EDF file detected\n",
      "Setting channel info structure...\n",
      "Creating raw.info structure...\n",
      "Used Annotations descriptions: ['Sleep stage 1', 'Sleep stage 2', 'Sleep stage R', 'Sleep stage W']\n",
      "Not setting metadata\n",
      "2049 matching events found\n",
      "No baseline correction applied\n",
      "0 projection items activated\n",
      "Loading data for 2049 events and 3000 original time points ...\n"
     ]
    },
    {
     "name": "stderr",
     "output_type": "stream",
     "text": [
      "/tmp/ipykernel_14361/442409635.py:50: RuntimeWarning: No matching events found for Sleep stage 3 (event id 3)\n",
      "  epochs = mne.Epochs(raw=raw_data, events=events, event_id=event_id, tmin=0., tmax=tmax, baseline=None, on_missing='warn')\n",
      "/tmp/ipykernel_14361/442409635.py:50: RuntimeWarning: No matching events found for Sleep stage 4 (event id 4)\n",
      "  epochs = mne.Epochs(raw=raw_data, events=events, event_id=event_id, tmin=0., tmax=tmax, baseline=None, on_missing='warn')\n",
      "/tmp/ipykernel_14361/442409635.py:50: RuntimeWarning: No matching events found for Sleep stage M (event id 6)\n",
      "  epochs = mne.Epochs(raw=raw_data, events=events, event_id=event_id, tmin=0., tmax=tmax, baseline=None, on_missing='warn')\n"
     ]
    },
    {
     "name": "stdout",
     "output_type": "stream",
     "text": [
      "0 bad epochs dropped\n",
      "Extracting EDF parameters from /home/shate/Desktop/praca_magisterska/medical_signal_representation/data/sleepEDF/raw/SC4372F0-PSG.edf...\n",
      "EDF file detected\n",
      "Setting channel info structure...\n",
      "Creating raw.info structure...\n",
      "Used Annotations descriptions: ['Sleep stage 1', 'Sleep stage 2', 'Sleep stage 3', 'Sleep stage 4', 'Sleep stage R', 'Sleep stage W']\n",
      "Not setting metadata\n",
      "1166 matching events found\n",
      "No baseline correction applied\n",
      "0 projection items activated\n",
      "Loading data for 1166 events and 3000 original time points ...\n"
     ]
    },
    {
     "name": "stderr",
     "output_type": "stream",
     "text": [
      "/tmp/ipykernel_14361/442409635.py:50: RuntimeWarning: No matching events found for Sleep stage M (event id 6)\n",
      "  epochs = mne.Epochs(raw=raw_data, events=events, event_id=event_id, tmin=0., tmax=tmax, baseline=None, on_missing='warn')\n"
     ]
    },
    {
     "name": "stdout",
     "output_type": "stream",
     "text": [
      "0 bad epochs dropped\n",
      "Extracting EDF parameters from /home/shate/Desktop/praca_magisterska/medical_signal_representation/data/sleepEDF/raw/SC4062E0-PSG.edf...\n",
      "EDF file detected\n",
      "Setting channel info structure...\n",
      "Creating raw.info structure...\n",
      "Used Annotations descriptions: ['Sleep stage 1', 'Sleep stage 2', 'Sleep stage R', 'Sleep stage W']\n",
      "Not setting metadata\n",
      "2044 matching events found\n",
      "No baseline correction applied\n",
      "0 projection items activated\n",
      "Loading data for 2044 events and 3000 original time points ...\n"
     ]
    },
    {
     "name": "stderr",
     "output_type": "stream",
     "text": [
      "/tmp/ipykernel_14361/442409635.py:50: RuntimeWarning: No matching events found for Sleep stage 3 (event id 3)\n",
      "  epochs = mne.Epochs(raw=raw_data, events=events, event_id=event_id, tmin=0., tmax=tmax, baseline=None, on_missing='warn')\n",
      "/tmp/ipykernel_14361/442409635.py:50: RuntimeWarning: No matching events found for Sleep stage 4 (event id 4)\n",
      "  epochs = mne.Epochs(raw=raw_data, events=events, event_id=event_id, tmin=0., tmax=tmax, baseline=None, on_missing='warn')\n",
      "/tmp/ipykernel_14361/442409635.py:50: RuntimeWarning: No matching events found for Sleep stage M (event id 6)\n",
      "  epochs = mne.Epochs(raw=raw_data, events=events, event_id=event_id, tmin=0., tmax=tmax, baseline=None, on_missing='warn')\n"
     ]
    },
    {
     "name": "stdout",
     "output_type": "stream",
     "text": [
      "0 bad epochs dropped\n",
      "Extracting EDF parameters from /home/shate/Desktop/praca_magisterska/medical_signal_representation/data/sleepEDF/raw/SC4531E0-PSG.edf...\n",
      "EDF file detected\n",
      "Setting channel info structure...\n",
      "Creating raw.info structure...\n",
      "Used Annotations descriptions: ['Sleep stage 1', 'Sleep stage 2', 'Sleep stage 3', 'Sleep stage R', 'Sleep stage W']\n",
      "Not setting metadata\n",
      "1085 matching events found\n",
      "No baseline correction applied\n",
      "0 projection items activated\n",
      "Loading data for 1085 events and 3000 original time points ...\n"
     ]
    },
    {
     "name": "stderr",
     "output_type": "stream",
     "text": [
      "/tmp/ipykernel_14361/442409635.py:50: RuntimeWarning: No matching events found for Sleep stage 4 (event id 4)\n",
      "  epochs = mne.Epochs(raw=raw_data, events=events, event_id=event_id, tmin=0., tmax=tmax, baseline=None, on_missing='warn')\n",
      "/tmp/ipykernel_14361/442409635.py:50: RuntimeWarning: No matching events found for Sleep stage M (event id 6)\n",
      "  epochs = mne.Epochs(raw=raw_data, events=events, event_id=event_id, tmin=0., tmax=tmax, baseline=None, on_missing='warn')\n"
     ]
    },
    {
     "name": "stdout",
     "output_type": "stream",
     "text": [
      "0 bad epochs dropped\n",
      "Extracting EDF parameters from /home/shate/Desktop/praca_magisterska/medical_signal_representation/data/sleepEDF/raw/SC4072E0-PSG.edf...\n",
      "EDF file detected\n",
      "Setting channel info structure...\n",
      "Creating raw.info structure...\n",
      "Used Annotations descriptions: ['Sleep stage 1', 'Sleep stage 2', 'Sleep stage 3', 'Sleep stage 4', 'Sleep stage R', 'Sleep stage W']\n",
      "Not setting metadata\n",
      "1181 matching events found\n",
      "No baseline correction applied\n",
      "0 projection items activated\n",
      "Loading data for 1181 events and 3000 original time points ...\n"
     ]
    },
    {
     "name": "stderr",
     "output_type": "stream",
     "text": [
      "/tmp/ipykernel_14361/442409635.py:50: RuntimeWarning: No matching events found for Sleep stage M (event id 6)\n",
      "  epochs = mne.Epochs(raw=raw_data, events=events, event_id=event_id, tmin=0., tmax=tmax, baseline=None, on_missing='warn')\n"
     ]
    },
    {
     "name": "stdout",
     "output_type": "stream",
     "text": [
      "0 bad epochs dropped\n",
      "Extracting EDF parameters from /home/shate/Desktop/praca_magisterska/medical_signal_representation/data/sleepEDF/raw/SC4671G0-PSG.edf...\n",
      "EDF file detected\n",
      "Setting channel info structure...\n",
      "Creating raw.info structure...\n",
      "Used Annotations descriptions: ['Sleep stage 1', 'Sleep stage 2', 'Sleep stage 3', 'Sleep stage 4', 'Sleep stage R', 'Sleep stage W']\n",
      "Not setting metadata\n",
      "1009 matching events found\n",
      "No baseline correction applied\n",
      "0 projection items activated\n",
      "Loading data for 1009 events and 3000 original time points ...\n"
     ]
    },
    {
     "name": "stderr",
     "output_type": "stream",
     "text": [
      "/tmp/ipykernel_14361/442409635.py:50: RuntimeWarning: No matching events found for Sleep stage M (event id 6)\n",
      "  epochs = mne.Epochs(raw=raw_data, events=events, event_id=event_id, tmin=0., tmax=tmax, baseline=None, on_missing='warn')\n"
     ]
    },
    {
     "name": "stdout",
     "output_type": "stream",
     "text": [
      "0 bad epochs dropped\n",
      "Extracting EDF parameters from /home/shate/Desktop/praca_magisterska/medical_signal_representation/data/sleepEDF/raw/SC4621E0-PSG.edf...\n",
      "EDF file detected\n",
      "Setting channel info structure...\n",
      "Creating raw.info structure...\n",
      "Used Annotations descriptions: ['Sleep stage 1', 'Sleep stage 2', 'Sleep stage 3', 'Sleep stage 4', 'Sleep stage R', 'Sleep stage W']\n",
      "Not setting metadata\n",
      "928 matching events found\n",
      "No baseline correction applied\n",
      "0 projection items activated\n",
      "Loading data for 928 events and 3000 original time points ...\n"
     ]
    },
    {
     "name": "stderr",
     "output_type": "stream",
     "text": [
      "/tmp/ipykernel_14361/442409635.py:50: RuntimeWarning: No matching events found for Sleep stage M (event id 6)\n",
      "  epochs = mne.Epochs(raw=raw_data, events=events, event_id=event_id, tmin=0., tmax=tmax, baseline=None, on_missing='warn')\n"
     ]
    },
    {
     "name": "stdout",
     "output_type": "stream",
     "text": [
      "0 bad epochs dropped\n",
      "Extracting EDF parameters from /home/shate/Desktop/praca_magisterska/medical_signal_representation/data/sleepEDF/raw/SC4762E0-PSG.edf...\n",
      "EDF file detected\n",
      "Setting channel info structure...\n",
      "Creating raw.info structure...\n",
      "Used Annotations descriptions: ['Sleep stage 1', 'Sleep stage 2', 'Sleep stage 3', 'Sleep stage R', 'Sleep stage W']\n",
      "Not setting metadata\n",
      "1063 matching events found\n",
      "No baseline correction applied\n",
      "0 projection items activated\n",
      "Loading data for 1063 events and 3000 original time points ...\n"
     ]
    },
    {
     "name": "stderr",
     "output_type": "stream",
     "text": [
      "/tmp/ipykernel_14361/442409635.py:50: RuntimeWarning: No matching events found for Sleep stage 4 (event id 4)\n",
      "  epochs = mne.Epochs(raw=raw_data, events=events, event_id=event_id, tmin=0., tmax=tmax, baseline=None, on_missing='warn')\n",
      "/tmp/ipykernel_14361/442409635.py:50: RuntimeWarning: No matching events found for Sleep stage M (event id 6)\n",
      "  epochs = mne.Epochs(raw=raw_data, events=events, event_id=event_id, tmin=0., tmax=tmax, baseline=None, on_missing='warn')\n"
     ]
    },
    {
     "name": "stdout",
     "output_type": "stream",
     "text": [
      "0 bad epochs dropped\n",
      "Extracting EDF parameters from /home/shate/Desktop/praca_magisterska/medical_signal_representation/data/sleepEDF/raw/SC4672G0-PSG.edf...\n",
      "EDF file detected\n",
      "Setting channel info structure...\n",
      "Creating raw.info structure...\n",
      "Used Annotations descriptions: ['Sleep stage 1', 'Sleep stage 2', 'Sleep stage 3', 'Sleep stage 4', 'Sleep stage R', 'Sleep stage W']\n",
      "Not setting metadata\n",
      "1002 matching events found\n",
      "No baseline correction applied\n",
      "0 projection items activated\n",
      "Loading data for 1002 events and 3000 original time points ...\n"
     ]
    },
    {
     "name": "stderr",
     "output_type": "stream",
     "text": [
      "/tmp/ipykernel_14361/442409635.py:50: RuntimeWarning: No matching events found for Sleep stage M (event id 6)\n",
      "  epochs = mne.Epochs(raw=raw_data, events=events, event_id=event_id, tmin=0., tmax=tmax, baseline=None, on_missing='warn')\n"
     ]
    },
    {
     "name": "stdout",
     "output_type": "stream",
     "text": [
      "0 bad epochs dropped\n",
      "Extracting EDF parameters from /home/shate/Desktop/praca_magisterska/medical_signal_representation/data/sleepEDF/raw/SC4431E0-PSG.edf...\n",
      "EDF file detected\n",
      "Setting channel info structure...\n",
      "Creating raw.info structure...\n",
      "Used Annotations descriptions: ['Sleep stage 1', 'Sleep stage 2', 'Sleep stage 3', 'Sleep stage 4', 'Sleep stage R', 'Sleep stage W']\n",
      "Not setting metadata\n",
      "1535 matching events found\n",
      "No baseline correction applied\n",
      "0 projection items activated\n",
      "Loading data for 1535 events and 3000 original time points ...\n"
     ]
    },
    {
     "name": "stderr",
     "output_type": "stream",
     "text": [
      "/tmp/ipykernel_14361/442409635.py:50: RuntimeWarning: No matching events found for Sleep stage M (event id 6)\n",
      "  epochs = mne.Epochs(raw=raw_data, events=events, event_id=event_id, tmin=0., tmax=tmax, baseline=None, on_missing='warn')\n"
     ]
    },
    {
     "name": "stdout",
     "output_type": "stream",
     "text": [
      "0 bad epochs dropped\n",
      "Extracting EDF parameters from /home/shate/Desktop/praca_magisterska/medical_signal_representation/data/sleepEDF/raw/SC4312E0-PSG.edf...\n",
      "EDF file detected\n",
      "Setting channel info structure...\n",
      "Creating raw.info structure...\n",
      "Used Annotations descriptions: ['Sleep stage 1', 'Sleep stage 2', 'Sleep stage R', 'Sleep stage W']\n",
      "Not setting metadata\n",
      "2318 matching events found\n",
      "No baseline correction applied\n",
      "0 projection items activated\n",
      "Loading data for 2318 events and 3000 original time points ...\n"
     ]
    },
    {
     "name": "stderr",
     "output_type": "stream",
     "text": [
      "/tmp/ipykernel_14361/442409635.py:50: RuntimeWarning: No matching events found for Sleep stage 3 (event id 3)\n",
      "  epochs = mne.Epochs(raw=raw_data, events=events, event_id=event_id, tmin=0., tmax=tmax, baseline=None, on_missing='warn')\n",
      "/tmp/ipykernel_14361/442409635.py:50: RuntimeWarning: No matching events found for Sleep stage 4 (event id 4)\n",
      "  epochs = mne.Epochs(raw=raw_data, events=events, event_id=event_id, tmin=0., tmax=tmax, baseline=None, on_missing='warn')\n",
      "/tmp/ipykernel_14361/442409635.py:50: RuntimeWarning: No matching events found for Sleep stage M (event id 6)\n",
      "  epochs = mne.Epochs(raw=raw_data, events=events, event_id=event_id, tmin=0., tmax=tmax, baseline=None, on_missing='warn')\n"
     ]
    },
    {
     "name": "stdout",
     "output_type": "stream",
     "text": [
      "0 bad epochs dropped\n",
      "Extracting EDF parameters from /home/shate/Desktop/praca_magisterska/medical_signal_representation/data/sleepEDF/raw/SC4472F0-PSG.edf...\n",
      "EDF file detected\n",
      "Setting channel info structure...\n",
      "Creating raw.info structure...\n",
      "Used Annotations descriptions: ['Sleep stage 1', 'Sleep stage 2', 'Sleep stage R', 'Sleep stage W']\n",
      "Not setting metadata\n",
      "2642 matching events found\n",
      "No baseline correction applied\n",
      "0 projection items activated\n",
      "Loading data for 2642 events and 3000 original time points ...\n"
     ]
    },
    {
     "name": "stderr",
     "output_type": "stream",
     "text": [
      "/tmp/ipykernel_14361/442409635.py:50: RuntimeWarning: No matching events found for Sleep stage 3 (event id 3)\n",
      "  epochs = mne.Epochs(raw=raw_data, events=events, event_id=event_id, tmin=0., tmax=tmax, baseline=None, on_missing='warn')\n",
      "/tmp/ipykernel_14361/442409635.py:50: RuntimeWarning: No matching events found for Sleep stage 4 (event id 4)\n",
      "  epochs = mne.Epochs(raw=raw_data, events=events, event_id=event_id, tmin=0., tmax=tmax, baseline=None, on_missing='warn')\n",
      "/tmp/ipykernel_14361/442409635.py:50: RuntimeWarning: No matching events found for Sleep stage M (event id 6)\n",
      "  epochs = mne.Epochs(raw=raw_data, events=events, event_id=event_id, tmin=0., tmax=tmax, baseline=None, on_missing='warn')\n"
     ]
    },
    {
     "name": "stdout",
     "output_type": "stream",
     "text": [
      "0 bad epochs dropped\n",
      "Extracting EDF parameters from /home/shate/Desktop/praca_magisterska/medical_signal_representation/data/sleepEDF/raw/SC4032E0-PSG.edf...\n",
      "EDF file detected\n",
      "Setting channel info structure...\n",
      "Creating raw.info structure...\n",
      "Used Annotations descriptions: ['Sleep stage 1', 'Sleep stage 2', 'Sleep stage 3', 'Sleep stage R', 'Sleep stage W']\n",
      "Not setting metadata\n",
      "1229 matching events found\n",
      "No baseline correction applied\n",
      "0 projection items activated\n",
      "Loading data for 1229 events and 3000 original time points ...\n"
     ]
    },
    {
     "name": "stderr",
     "output_type": "stream",
     "text": [
      "/tmp/ipykernel_14361/442409635.py:50: RuntimeWarning: No matching events found for Sleep stage 4 (event id 4)\n",
      "  epochs = mne.Epochs(raw=raw_data, events=events, event_id=event_id, tmin=0., tmax=tmax, baseline=None, on_missing='warn')\n",
      "/tmp/ipykernel_14361/442409635.py:50: RuntimeWarning: No matching events found for Sleep stage M (event id 6)\n",
      "  epochs = mne.Epochs(raw=raw_data, events=events, event_id=event_id, tmin=0., tmax=tmax, baseline=None, on_missing='warn')\n"
     ]
    },
    {
     "name": "stdout",
     "output_type": "stream",
     "text": [
      "0 bad epochs dropped\n",
      "Extracting EDF parameters from /home/shate/Desktop/praca_magisterska/medical_signal_representation/data/sleepEDF/raw/SC4611E0-PSG.edf...\n",
      "EDF file detected\n",
      "Setting channel info structure...\n",
      "Creating raw.info structure...\n",
      "Used Annotations descriptions: ['Sleep stage 1', 'Sleep stage 2', 'Sleep stage 3', 'Sleep stage R', 'Sleep stage W']\n",
      "Not setting metadata\n",
      "1235 matching events found\n",
      "No baseline correction applied\n",
      "0 projection items activated\n",
      "Loading data for 1235 events and 3000 original time points ...\n"
     ]
    },
    {
     "name": "stderr",
     "output_type": "stream",
     "text": [
      "/tmp/ipykernel_14361/442409635.py:50: RuntimeWarning: No matching events found for Sleep stage 4 (event id 4)\n",
      "  epochs = mne.Epochs(raw=raw_data, events=events, event_id=event_id, tmin=0., tmax=tmax, baseline=None, on_missing='warn')\n",
      "/tmp/ipykernel_14361/442409635.py:50: RuntimeWarning: No matching events found for Sleep stage M (event id 6)\n",
      "  epochs = mne.Epochs(raw=raw_data, events=events, event_id=event_id, tmin=0., tmax=tmax, baseline=None, on_missing='warn')\n"
     ]
    },
    {
     "name": "stdout",
     "output_type": "stream",
     "text": [
      "0 bad epochs dropped\n",
      "Extracting EDF parameters from /home/shate/Desktop/praca_magisterska/medical_signal_representation/data/sleepEDF/raw/SC4561F0-PSG.edf...\n",
      "EDF file detected\n",
      "Setting channel info structure...\n",
      "Creating raw.info structure...\n",
      "Used Annotations descriptions: ['Sleep stage 1', 'Sleep stage 2', 'Sleep stage 3', 'Sleep stage R', 'Sleep stage W']\n",
      "Not setting metadata\n",
      "1103 matching events found\n",
      "No baseline correction applied\n",
      "0 projection items activated\n",
      "Loading data for 1103 events and 3000 original time points ...\n"
     ]
    },
    {
     "name": "stderr",
     "output_type": "stream",
     "text": [
      "/tmp/ipykernel_14361/442409635.py:50: RuntimeWarning: No matching events found for Sleep stage 4 (event id 4)\n",
      "  epochs = mne.Epochs(raw=raw_data, events=events, event_id=event_id, tmin=0., tmax=tmax, baseline=None, on_missing='warn')\n",
      "/tmp/ipykernel_14361/442409635.py:50: RuntimeWarning: No matching events found for Sleep stage M (event id 6)\n",
      "  epochs = mne.Epochs(raw=raw_data, events=events, event_id=event_id, tmin=0., tmax=tmax, baseline=None, on_missing='warn')\n"
     ]
    },
    {
     "name": "stdout",
     "output_type": "stream",
     "text": [
      "0 bad epochs dropped\n",
      "Extracting EDF parameters from /home/shate/Desktop/praca_magisterska/medical_signal_representation/data/sleepEDF/raw/SC4701E0-PSG.edf...\n",
      "EDF file detected\n",
      "Setting channel info structure...\n",
      "Creating raw.info structure...\n",
      "Used Annotations descriptions: ['Sleep stage 1', 'Sleep stage 2', 'Sleep stage 3', 'Sleep stage 4', 'Sleep stage R', 'Sleep stage W']\n",
      "Not setting metadata\n",
      "1773 matching events found\n",
      "No baseline correction applied\n",
      "0 projection items activated\n",
      "Loading data for 1773 events and 3000 original time points ...\n"
     ]
    },
    {
     "name": "stderr",
     "output_type": "stream",
     "text": [
      "/tmp/ipykernel_14361/442409635.py:50: RuntimeWarning: No matching events found for Sleep stage M (event id 6)\n",
      "  epochs = mne.Epochs(raw=raw_data, events=events, event_id=event_id, tmin=0., tmax=tmax, baseline=None, on_missing='warn')\n"
     ]
    },
    {
     "name": "stdout",
     "output_type": "stream",
     "text": [
      "0 bad epochs dropped\n",
      "Extracting EDF parameters from /home/shate/Desktop/praca_magisterska/medical_signal_representation/data/sleepEDF/raw/SC4082E0-PSG.edf...\n",
      "EDF file detected\n",
      "Setting channel info structure...\n",
      "Creating raw.info structure...\n",
      "Used Annotations descriptions: ['Sleep stage 1', 'Sleep stage 2', 'Sleep stage R', 'Sleep stage W']\n",
      "Not setting metadata\n",
      "1501 matching events found\n",
      "No baseline correction applied\n",
      "0 projection items activated\n",
      "Loading data for 1501 events and 3000 original time points ...\n"
     ]
    },
    {
     "name": "stderr",
     "output_type": "stream",
     "text": [
      "/tmp/ipykernel_14361/442409635.py:50: RuntimeWarning: No matching events found for Sleep stage 3 (event id 3)\n",
      "  epochs = mne.Epochs(raw=raw_data, events=events, event_id=event_id, tmin=0., tmax=tmax, baseline=None, on_missing='warn')\n",
      "/tmp/ipykernel_14361/442409635.py:50: RuntimeWarning: No matching events found for Sleep stage 4 (event id 4)\n",
      "  epochs = mne.Epochs(raw=raw_data, events=events, event_id=event_id, tmin=0., tmax=tmax, baseline=None, on_missing='warn')\n",
      "/tmp/ipykernel_14361/442409635.py:50: RuntimeWarning: No matching events found for Sleep stage M (event id 6)\n",
      "  epochs = mne.Epochs(raw=raw_data, events=events, event_id=event_id, tmin=0., tmax=tmax, baseline=None, on_missing='warn')\n"
     ]
    },
    {
     "name": "stdout",
     "output_type": "stream",
     "text": [
      "0 bad epochs dropped\n",
      "Extracting EDF parameters from /home/shate/Desktop/praca_magisterska/medical_signal_representation/data/sleepEDF/raw/SC4632E0-PSG.edf...\n",
      "EDF file detected\n",
      "Setting channel info structure...\n",
      "Creating raw.info structure...\n",
      "Used Annotations descriptions: ['Sleep stage 1', 'Sleep stage 2', 'Sleep stage 3', 'Sleep stage 4', 'Sleep stage R', 'Sleep stage W']\n",
      "Not setting metadata\n",
      "1762 matching events found\n",
      "No baseline correction applied\n",
      "0 projection items activated\n",
      "Loading data for 1762 events and 3000 original time points ...\n"
     ]
    },
    {
     "name": "stderr",
     "output_type": "stream",
     "text": [
      "/tmp/ipykernel_14361/442409635.py:50: RuntimeWarning: No matching events found for Sleep stage M (event id 6)\n",
      "  epochs = mne.Epochs(raw=raw_data, events=events, event_id=event_id, tmin=0., tmax=tmax, baseline=None, on_missing='warn')\n"
     ]
    },
    {
     "name": "stdout",
     "output_type": "stream",
     "text": [
      "0 bad epochs dropped\n",
      "Extracting EDF parameters from /home/shate/Desktop/praca_magisterska/medical_signal_representation/data/sleepEDF/raw/SC4631E0-PSG.edf...\n",
      "EDF file detected\n",
      "Setting channel info structure...\n",
      "Creating raw.info structure...\n",
      "Used Annotations descriptions: ['Sleep stage 1', 'Sleep stage 2', 'Sleep stage 3', 'Sleep stage R', 'Sleep stage W']\n",
      "Not setting metadata\n",
      "1729 matching events found\n",
      "No baseline correction applied\n",
      "0 projection items activated\n",
      "Loading data for 1729 events and 3000 original time points ...\n"
     ]
    },
    {
     "name": "stderr",
     "output_type": "stream",
     "text": [
      "/tmp/ipykernel_14361/442409635.py:50: RuntimeWarning: No matching events found for Sleep stage 4 (event id 4)\n",
      "  epochs = mne.Epochs(raw=raw_data, events=events, event_id=event_id, tmin=0., tmax=tmax, baseline=None, on_missing='warn')\n",
      "/tmp/ipykernel_14361/442409635.py:50: RuntimeWarning: No matching events found for Sleep stage M (event id 6)\n",
      "  epochs = mne.Epochs(raw=raw_data, events=events, event_id=event_id, tmin=0., tmax=tmax, baseline=None, on_missing='warn')\n"
     ]
    },
    {
     "name": "stdout",
     "output_type": "stream",
     "text": [
      "0 bad epochs dropped\n",
      "Extracting EDF parameters from /home/shate/Desktop/praca_magisterska/medical_signal_representation/data/sleepEDF/raw/SC4162E0-PSG.edf...\n",
      "EDF file detected\n",
      "Setting channel info structure...\n",
      "Creating raw.info structure...\n",
      "Used Annotations descriptions: ['Sleep stage 1', 'Sleep stage 2', 'Sleep stage 3', 'Sleep stage R', 'Sleep stage W']\n",
      "Not setting metadata\n",
      "1092 matching events found\n",
      "No baseline correction applied\n",
      "0 projection items activated\n",
      "Loading data for 1092 events and 3000 original time points ...\n"
     ]
    },
    {
     "name": "stderr",
     "output_type": "stream",
     "text": [
      "/tmp/ipykernel_14361/442409635.py:50: RuntimeWarning: No matching events found for Sleep stage 4 (event id 4)\n",
      "  epochs = mne.Epochs(raw=raw_data, events=events, event_id=event_id, tmin=0., tmax=tmax, baseline=None, on_missing='warn')\n",
      "/tmp/ipykernel_14361/442409635.py:50: RuntimeWarning: No matching events found for Sleep stage M (event id 6)\n",
      "  epochs = mne.Epochs(raw=raw_data, events=events, event_id=event_id, tmin=0., tmax=tmax, baseline=None, on_missing='warn')\n"
     ]
    },
    {
     "name": "stdout",
     "output_type": "stream",
     "text": [
      "0 bad epochs dropped\n",
      "Extracting EDF parameters from /home/shate/Desktop/praca_magisterska/medical_signal_representation/data/sleepEDF/raw/SC4462F0-PSG.edf...\n",
      "EDF file detected\n",
      "Setting channel info structure...\n",
      "Creating raw.info structure...\n",
      "Used Annotations descriptions: ['Sleep stage 1', 'Sleep stage 2', 'Sleep stage 3', 'Sleep stage 4', 'Sleep stage R', 'Sleep stage W']\n",
      "Not setting metadata\n",
      "1131 matching events found\n",
      "No baseline correction applied\n",
      "0 projection items activated\n",
      "Loading data for 1131 events and 3000 original time points ...\n"
     ]
    },
    {
     "name": "stderr",
     "output_type": "stream",
     "text": [
      "/tmp/ipykernel_14361/442409635.py:50: RuntimeWarning: No matching events found for Sleep stage M (event id 6)\n",
      "  epochs = mne.Epochs(raw=raw_data, events=events, event_id=event_id, tmin=0., tmax=tmax, baseline=None, on_missing='warn')\n"
     ]
    },
    {
     "name": "stdout",
     "output_type": "stream",
     "text": [
      "0 bad epochs dropped\n",
      "Extracting EDF parameters from /home/shate/Desktop/praca_magisterska/medical_signal_representation/data/sleepEDF/raw/SC4541F0-PSG.edf...\n",
      "EDF file detected\n",
      "Setting channel info structure...\n",
      "Creating raw.info structure...\n",
      "Used Annotations descriptions: ['Sleep stage 1', 'Sleep stage 2', 'Sleep stage 3', 'Sleep stage R', 'Sleep stage W']\n",
      "Not setting metadata\n",
      "1107 matching events found\n",
      "No baseline correction applied\n",
      "0 projection items activated\n",
      "Loading data for 1107 events and 3000 original time points ...\n"
     ]
    },
    {
     "name": "stderr",
     "output_type": "stream",
     "text": [
      "/tmp/ipykernel_14361/442409635.py:50: RuntimeWarning: No matching events found for Sleep stage 4 (event id 4)\n",
      "  epochs = mne.Epochs(raw=raw_data, events=events, event_id=event_id, tmin=0., tmax=tmax, baseline=None, on_missing='warn')\n",
      "/tmp/ipykernel_14361/442409635.py:50: RuntimeWarning: No matching events found for Sleep stage M (event id 6)\n",
      "  epochs = mne.Epochs(raw=raw_data, events=events, event_id=event_id, tmin=0., tmax=tmax, baseline=None, on_missing='warn')\n"
     ]
    },
    {
     "name": "stdout",
     "output_type": "stream",
     "text": [
      "0 bad epochs dropped\n",
      "Extracting EDF parameters from /home/shate/Desktop/praca_magisterska/medical_signal_representation/data/sleepEDF/raw/SC4292G0-PSG.edf...\n",
      "EDF file detected\n",
      "Setting channel info structure...\n",
      "Creating raw.info structure...\n",
      "Used Annotations descriptions: ['Sleep stage 1', 'Sleep stage 2', 'Sleep stage 3', 'Sleep stage 4', 'Sleep stage R', 'Sleep stage W']\n",
      "Not setting metadata\n",
      "1929 matching events found\n",
      "No baseline correction applied\n",
      "0 projection items activated\n",
      "Loading data for 1929 events and 3000 original time points ...\n"
     ]
    },
    {
     "name": "stderr",
     "output_type": "stream",
     "text": [
      "/tmp/ipykernel_14361/442409635.py:50: RuntimeWarning: No matching events found for Sleep stage M (event id 6)\n",
      "  epochs = mne.Epochs(raw=raw_data, events=events, event_id=event_id, tmin=0., tmax=tmax, baseline=None, on_missing='warn')\n"
     ]
    },
    {
     "name": "stdout",
     "output_type": "stream",
     "text": [
      "0 bad epochs dropped\n",
      "Extracting EDF parameters from /home/shate/Desktop/praca_magisterska/medical_signal_representation/data/sleepEDF/raw/SC4642E0-PSG.edf...\n",
      "EDF file detected\n",
      "Setting channel info structure...\n",
      "Creating raw.info structure...\n",
      "Used Annotations descriptions: ['Sleep stage 1', 'Sleep stage 2', 'Sleep stage 3', 'Sleep stage 4', 'Sleep stage R', 'Sleep stage W']\n",
      "Not setting metadata\n",
      "2161 matching events found\n",
      "No baseline correction applied\n",
      "0 projection items activated\n",
      "Loading data for 2161 events and 3000 original time points ...\n"
     ]
    },
    {
     "name": "stderr",
     "output_type": "stream",
     "text": [
      "/tmp/ipykernel_14361/442409635.py:50: RuntimeWarning: No matching events found for Sleep stage M (event id 6)\n",
      "  epochs = mne.Epochs(raw=raw_data, events=events, event_id=event_id, tmin=0., tmax=tmax, baseline=None, on_missing='warn')\n"
     ]
    },
    {
     "name": "stdout",
     "output_type": "stream",
     "text": [
      "0 bad epochs dropped\n",
      "Extracting EDF parameters from /home/shate/Desktop/praca_magisterska/medical_signal_representation/data/sleepEDF/raw/SC4571F0-PSG.edf...\n",
      "EDF file detected\n",
      "Setting channel info structure...\n",
      "Creating raw.info structure...\n",
      "Used Annotations descriptions: ['Sleep stage 1', 'Sleep stage 2', 'Sleep stage R', 'Sleep stage W']\n",
      "Not setting metadata\n",
      "1287 matching events found\n",
      "No baseline correction applied\n",
      "0 projection items activated\n",
      "Loading data for 1287 events and 3000 original time points ...\n"
     ]
    },
    {
     "name": "stderr",
     "output_type": "stream",
     "text": [
      "/tmp/ipykernel_14361/442409635.py:50: RuntimeWarning: No matching events found for Sleep stage 3 (event id 3)\n",
      "  epochs = mne.Epochs(raw=raw_data, events=events, event_id=event_id, tmin=0., tmax=tmax, baseline=None, on_missing='warn')\n",
      "/tmp/ipykernel_14361/442409635.py:50: RuntimeWarning: No matching events found for Sleep stage 4 (event id 4)\n",
      "  epochs = mne.Epochs(raw=raw_data, events=events, event_id=event_id, tmin=0., tmax=tmax, baseline=None, on_missing='warn')\n",
      "/tmp/ipykernel_14361/442409635.py:50: RuntimeWarning: No matching events found for Sleep stage M (event id 6)\n",
      "  epochs = mne.Epochs(raw=raw_data, events=events, event_id=event_id, tmin=0., tmax=tmax, baseline=None, on_missing='warn')\n"
     ]
    },
    {
     "name": "stdout",
     "output_type": "stream",
     "text": [
      "0 bad epochs dropped\n",
      "Extracting EDF parameters from /home/shate/Desktop/praca_magisterska/medical_signal_representation/data/sleepEDF/raw/SC4152E0-PSG.edf...\n",
      "EDF file detected\n",
      "Setting channel info structure...\n",
      "Creating raw.info structure...\n",
      "Used Annotations descriptions: ['Sleep stage 1', 'Sleep stage 2', 'Sleep stage 3', 'Sleep stage R', 'Sleep stage W']\n",
      "Not setting metadata\n",
      "1090 matching events found\n",
      "No baseline correction applied\n",
      "0 projection items activated\n",
      "Loading data for 1090 events and 3000 original time points ...\n"
     ]
    },
    {
     "name": "stderr",
     "output_type": "stream",
     "text": [
      "/tmp/ipykernel_14361/442409635.py:50: RuntimeWarning: No matching events found for Sleep stage 4 (event id 4)\n",
      "  epochs = mne.Epochs(raw=raw_data, events=events, event_id=event_id, tmin=0., tmax=tmax, baseline=None, on_missing='warn')\n",
      "/tmp/ipykernel_14361/442409635.py:50: RuntimeWarning: No matching events found for Sleep stage M (event id 6)\n",
      "  epochs = mne.Epochs(raw=raw_data, events=events, event_id=event_id, tmin=0., tmax=tmax, baseline=None, on_missing='warn')\n"
     ]
    },
    {
     "name": "stdout",
     "output_type": "stream",
     "text": [
      "0 bad epochs dropped\n",
      "Extracting EDF parameters from /home/shate/Desktop/praca_magisterska/medical_signal_representation/data/sleepEDF/raw/SC4652E0-PSG.edf...\n",
      "EDF file detected\n",
      "Setting channel info structure...\n",
      "Creating raw.info structure...\n",
      "Used Annotations descriptions: ['Sleep stage 1', 'Sleep stage 2', 'Sleep stage 3', 'Sleep stage 4', 'Sleep stage R', 'Sleep stage W']\n",
      "Not setting metadata\n",
      "1078 matching events found\n",
      "No baseline correction applied\n",
      "0 projection items activated\n",
      "Loading data for 1078 events and 3000 original time points ...\n"
     ]
    },
    {
     "name": "stderr",
     "output_type": "stream",
     "text": [
      "/tmp/ipykernel_14361/442409635.py:50: RuntimeWarning: No matching events found for Sleep stage M (event id 6)\n",
      "  epochs = mne.Epochs(raw=raw_data, events=events, event_id=event_id, tmin=0., tmax=tmax, baseline=None, on_missing='warn')\n"
     ]
    },
    {
     "name": "stdout",
     "output_type": "stream",
     "text": [
      "0 bad epochs dropped\n",
      "Extracting EDF parameters from /home/shate/Desktop/praca_magisterska/medical_signal_representation/data/sleepEDF/raw/SC4382F0-PSG.edf...\n",
      "EDF file detected\n",
      "Setting channel info structure...\n",
      "Creating raw.info structure...\n",
      "Used Annotations descriptions: ['Sleep stage 1', 'Sleep stage 2', 'Sleep stage 3', 'Sleep stage 4', 'Sleep stage R', 'Sleep stage W']\n",
      "Not setting metadata\n",
      "699 matching events found\n",
      "No baseline correction applied\n",
      "0 projection items activated\n",
      "Loading data for 699 events and 3000 original time points ...\n"
     ]
    },
    {
     "name": "stderr",
     "output_type": "stream",
     "text": [
      "/tmp/ipykernel_14361/442409635.py:50: RuntimeWarning: No matching events found for Sleep stage M (event id 6)\n",
      "  epochs = mne.Epochs(raw=raw_data, events=events, event_id=event_id, tmin=0., tmax=tmax, baseline=None, on_missing='warn')\n"
     ]
    },
    {
     "name": "stdout",
     "output_type": "stream",
     "text": [
      "0 bad epochs dropped\n",
      "Extracting EDF parameters from /home/shate/Desktop/praca_magisterska/medical_signal_representation/data/sleepEDF/raw/SC4741E0-PSG.edf...\n",
      "EDF file detected\n",
      "Setting channel info structure...\n",
      "Creating raw.info structure...\n",
      "Used Annotations descriptions: ['Sleep stage 1', 'Sleep stage 2', 'Sleep stage 3', 'Sleep stage R', 'Sleep stage W']\n",
      "Not setting metadata\n",
      "1047 matching events found\n",
      "No baseline correction applied\n",
      "0 projection items activated\n",
      "Loading data for 1047 events and 3000 original time points ...\n"
     ]
    },
    {
     "name": "stderr",
     "output_type": "stream",
     "text": [
      "/tmp/ipykernel_14361/442409635.py:50: RuntimeWarning: No matching events found for Sleep stage 4 (event id 4)\n",
      "  epochs = mne.Epochs(raw=raw_data, events=events, event_id=event_id, tmin=0., tmax=tmax, baseline=None, on_missing='warn')\n",
      "/tmp/ipykernel_14361/442409635.py:50: RuntimeWarning: No matching events found for Sleep stage M (event id 6)\n",
      "  epochs = mne.Epochs(raw=raw_data, events=events, event_id=event_id, tmin=0., tmax=tmax, baseline=None, on_missing='warn')\n"
     ]
    },
    {
     "name": "stdout",
     "output_type": "stream",
     "text": [
      "0 bad epochs dropped\n",
      "Extracting EDF parameters from /home/shate/Desktop/praca_magisterska/medical_signal_representation/data/sleepEDF/raw/SC4191E0-PSG.edf...\n",
      "EDF file detected\n",
      "Setting channel info structure...\n",
      "Creating raw.info structure...\n",
      "Used Annotations descriptions: ['Sleep stage 1', 'Sleep stage 2', 'Sleep stage 3', 'Sleep stage R', 'Sleep stage W']\n",
      "Not setting metadata\n",
      "824 matching events found\n",
      "No baseline correction applied\n",
      "0 projection items activated\n",
      "Loading data for 824 events and 3000 original time points ...\n"
     ]
    },
    {
     "name": "stderr",
     "output_type": "stream",
     "text": [
      "/tmp/ipykernel_14361/442409635.py:50: RuntimeWarning: No matching events found for Sleep stage 4 (event id 4)\n",
      "  epochs = mne.Epochs(raw=raw_data, events=events, event_id=event_id, tmin=0., tmax=tmax, baseline=None, on_missing='warn')\n",
      "/tmp/ipykernel_14361/442409635.py:50: RuntimeWarning: No matching events found for Sleep stage M (event id 6)\n",
      "  epochs = mne.Epochs(raw=raw_data, events=events, event_id=event_id, tmin=0., tmax=tmax, baseline=None, on_missing='warn')\n"
     ]
    },
    {
     "name": "stdout",
     "output_type": "stream",
     "text": [
      "0 bad epochs dropped\n",
      "Extracting EDF parameters from /home/shate/Desktop/praca_magisterska/medical_signal_representation/data/sleepEDF/raw/SC4452F0-PSG.edf...\n",
      "EDF file detected\n",
      "Setting channel info structure...\n",
      "Creating raw.info structure...\n",
      "Used Annotations descriptions: ['Sleep stage 1', 'Sleep stage 2', 'Sleep stage 3', 'Sleep stage 4', 'Sleep stage R', 'Sleep stage W']\n",
      "Not setting metadata\n",
      "1237 matching events found\n",
      "No baseline correction applied\n",
      "0 projection items activated\n",
      "Loading data for 1237 events and 3000 original time points ...\n"
     ]
    },
    {
     "name": "stderr",
     "output_type": "stream",
     "text": [
      "/tmp/ipykernel_14361/442409635.py:50: RuntimeWarning: No matching events found for Sleep stage M (event id 6)\n",
      "  epochs = mne.Epochs(raw=raw_data, events=events, event_id=event_id, tmin=0., tmax=tmax, baseline=None, on_missing='warn')\n"
     ]
    },
    {
     "name": "stdout",
     "output_type": "stream",
     "text": [
      "0 bad epochs dropped\n",
      "Extracting EDF parameters from /home/shate/Desktop/praca_magisterska/medical_signal_representation/data/sleepEDF/raw/SC4122E0-PSG.edf...\n",
      "EDF file detected\n",
      "Setting channel info structure...\n",
      "Creating raw.info structure...\n",
      "Used Annotations descriptions: ['Sleep stage 1', 'Sleep stage 2', 'Sleep stage R', 'Sleep stage W']\n",
      "Not setting metadata\n",
      "1719 matching events found\n",
      "No baseline correction applied\n",
      "0 projection items activated\n",
      "Loading data for 1719 events and 3000 original time points ...\n"
     ]
    },
    {
     "name": "stderr",
     "output_type": "stream",
     "text": [
      "/tmp/ipykernel_14361/442409635.py:50: RuntimeWarning: No matching events found for Sleep stage 3 (event id 3)\n",
      "  epochs = mne.Epochs(raw=raw_data, events=events, event_id=event_id, tmin=0., tmax=tmax, baseline=None, on_missing='warn')\n",
      "/tmp/ipykernel_14361/442409635.py:50: RuntimeWarning: No matching events found for Sleep stage 4 (event id 4)\n",
      "  epochs = mne.Epochs(raw=raw_data, events=events, event_id=event_id, tmin=0., tmax=tmax, baseline=None, on_missing='warn')\n",
      "/tmp/ipykernel_14361/442409635.py:50: RuntimeWarning: No matching events found for Sleep stage M (event id 6)\n",
      "  epochs = mne.Epochs(raw=raw_data, events=events, event_id=event_id, tmin=0., tmax=tmax, baseline=None, on_missing='warn')\n"
     ]
    },
    {
     "name": "stdout",
     "output_type": "stream",
     "text": [
      "0 bad epochs dropped\n",
      "Extracting EDF parameters from /home/shate/Desktop/praca_magisterska/medical_signal_representation/data/sleepEDF/raw/SC4381F0-PSG.edf...\n",
      "EDF file detected\n",
      "Setting channel info structure...\n",
      "Creating raw.info structure...\n",
      "Used Annotations descriptions: ['Sleep stage 1', 'Sleep stage 2', 'Sleep stage 3', 'Sleep stage 4', 'Sleep stage R', 'Sleep stage W']\n",
      "Not setting metadata\n",
      "1349 matching events found\n",
      "No baseline correction applied\n",
      "0 projection items activated\n",
      "Loading data for 1349 events and 3000 original time points ...\n"
     ]
    },
    {
     "name": "stderr",
     "output_type": "stream",
     "text": [
      "/tmp/ipykernel_14361/442409635.py:50: RuntimeWarning: No matching events found for Sleep stage M (event id 6)\n",
      "  epochs = mne.Epochs(raw=raw_data, events=events, event_id=event_id, tmin=0., tmax=tmax, baseline=None, on_missing='warn')\n"
     ]
    },
    {
     "name": "stdout",
     "output_type": "stream",
     "text": [
      "0 bad epochs dropped\n",
      "Extracting EDF parameters from /home/shate/Desktop/praca_magisterska/medical_signal_representation/data/sleepEDF/raw/SC4661E0-PSG.edf...\n",
      "EDF file detected\n",
      "Setting channel info structure...\n",
      "Creating raw.info structure...\n",
      "Used Annotations descriptions: ['Sleep stage 1', 'Sleep stage 2', 'Sleep stage 3', 'Sleep stage 4', 'Sleep stage R', 'Sleep stage W']\n",
      "Not setting metadata\n",
      "1274 matching events found\n",
      "No baseline correction applied\n",
      "0 projection items activated\n",
      "Loading data for 1274 events and 3000 original time points ...\n"
     ]
    },
    {
     "name": "stderr",
     "output_type": "stream",
     "text": [
      "/tmp/ipykernel_14361/442409635.py:50: RuntimeWarning: No matching events found for Sleep stage M (event id 6)\n",
      "  epochs = mne.Epochs(raw=raw_data, events=events, event_id=event_id, tmin=0., tmax=tmax, baseline=None, on_missing='warn')\n"
     ]
    },
    {
     "name": "stdout",
     "output_type": "stream",
     "text": [
      "0 bad epochs dropped\n",
      "Extracting EDF parameters from /home/shate/Desktop/praca_magisterska/medical_signal_representation/data/sleepEDF/raw/SC4732E0-PSG.edf...\n",
      "EDF file detected\n",
      "Setting channel info structure...\n",
      "Creating raw.info structure...\n",
      "Used Annotations descriptions: ['Sleep stage 1', 'Sleep stage 2', 'Sleep stage 3', 'Sleep stage 4', 'Sleep stage R', 'Sleep stage W']\n",
      "Not setting metadata\n",
      "1293 matching events found\n",
      "No baseline correction applied\n",
      "0 projection items activated\n",
      "Loading data for 1293 events and 3000 original time points ...\n"
     ]
    },
    {
     "name": "stderr",
     "output_type": "stream",
     "text": [
      "/tmp/ipykernel_14361/442409635.py:50: RuntimeWarning: No matching events found for Sleep stage M (event id 6)\n",
      "  epochs = mne.Epochs(raw=raw_data, events=events, event_id=event_id, tmin=0., tmax=tmax, baseline=None, on_missing='warn')\n"
     ]
    },
    {
     "name": "stdout",
     "output_type": "stream",
     "text": [
      "0 bad epochs dropped\n",
      "Extracting EDF parameters from /home/shate/Desktop/praca_magisterska/medical_signal_representation/data/sleepEDF/raw/SC4512E0-PSG.edf...\n",
      "EDF file detected\n",
      "Setting channel info structure...\n",
      "Creating raw.info structure...\n",
      "Used Annotations descriptions: ['Sleep stage 1', 'Sleep stage 2', 'Sleep stage 3', 'Sleep stage 4', 'Sleep stage R', 'Sleep stage W']\n",
      "Not setting metadata\n",
      "884 matching events found\n",
      "No baseline correction applied\n",
      "0 projection items activated\n",
      "Loading data for 884 events and 3000 original time points ...\n"
     ]
    },
    {
     "name": "stderr",
     "output_type": "stream",
     "text": [
      "/tmp/ipykernel_14361/442409635.py:50: RuntimeWarning: No matching events found for Sleep stage M (event id 6)\n",
      "  epochs = mne.Epochs(raw=raw_data, events=events, event_id=event_id, tmin=0., tmax=tmax, baseline=None, on_missing='warn')\n"
     ]
    },
    {
     "name": "stdout",
     "output_type": "stream",
     "text": [
      "0 bad epochs dropped\n",
      "Extracting EDF parameters from /home/shate/Desktop/praca_magisterska/medical_signal_representation/data/sleepEDF/raw/SC4432E0-PSG.edf...\n",
      "EDF file detected\n",
      "Setting channel info structure...\n",
      "Creating raw.info structure...\n",
      "Used Annotations descriptions: ['Sleep stage 1', 'Sleep stage 2', 'Sleep stage 3', 'Sleep stage 4', 'Sleep stage R', 'Sleep stage W']\n",
      "Not setting metadata\n",
      "911 matching events found\n",
      "No baseline correction applied\n",
      "0 projection items activated\n",
      "Loading data for 911 events and 3000 original time points ...\n"
     ]
    },
    {
     "name": "stderr",
     "output_type": "stream",
     "text": [
      "/tmp/ipykernel_14361/442409635.py:50: RuntimeWarning: No matching events found for Sleep stage M (event id 6)\n",
      "  epochs = mne.Epochs(raw=raw_data, events=events, event_id=event_id, tmin=0., tmax=tmax, baseline=None, on_missing='warn')\n"
     ]
    },
    {
     "name": "stdout",
     "output_type": "stream",
     "text": [
      "0 bad epochs dropped\n",
      "Extracting EDF parameters from /home/shate/Desktop/praca_magisterska/medical_signal_representation/data/sleepEDF/raw/SC4451F0-PSG.edf...\n",
      "EDF file detected\n",
      "Setting channel info structure...\n",
      "Creating raw.info structure...\n",
      "Used Annotations descriptions: ['Sleep stage 1', 'Sleep stage 2', 'Sleep stage 3', 'Sleep stage 4', 'Sleep stage R', 'Sleep stage W']\n",
      "Not setting metadata\n",
      "1231 matching events found\n",
      "No baseline correction applied\n",
      "0 projection items activated\n",
      "Loading data for 1231 events and 3000 original time points ...\n"
     ]
    },
    {
     "name": "stderr",
     "output_type": "stream",
     "text": [
      "/tmp/ipykernel_14361/442409635.py:50: RuntimeWarning: No matching events found for Sleep stage M (event id 6)\n",
      "  epochs = mne.Epochs(raw=raw_data, events=events, event_id=event_id, tmin=0., tmax=tmax, baseline=None, on_missing='warn')\n"
     ]
    },
    {
     "name": "stdout",
     "output_type": "stream",
     "text": [
      "0 bad epochs dropped\n",
      "Extracting EDF parameters from /home/shate/Desktop/praca_magisterska/medical_signal_representation/data/sleepEDF/raw/SC4061E0-PSG.edf...\n",
      "EDF file detected\n",
      "Setting channel info structure...\n",
      "Creating raw.info structure...\n",
      "Used Annotations descriptions: ['Sleep stage 1', 'Sleep stage 2', 'Sleep stage 3', 'Sleep stage R', 'Sleep stage W']\n",
      "Not setting metadata\n",
      "954 matching events found\n",
      "No baseline correction applied\n",
      "0 projection items activated\n",
      "Loading data for 954 events and 3000 original time points ...\n"
     ]
    },
    {
     "name": "stderr",
     "output_type": "stream",
     "text": [
      "/tmp/ipykernel_14361/442409635.py:50: RuntimeWarning: No matching events found for Sleep stage 4 (event id 4)\n",
      "  epochs = mne.Epochs(raw=raw_data, events=events, event_id=event_id, tmin=0., tmax=tmax, baseline=None, on_missing='warn')\n",
      "/tmp/ipykernel_14361/442409635.py:50: RuntimeWarning: No matching events found for Sleep stage M (event id 6)\n",
      "  epochs = mne.Epochs(raw=raw_data, events=events, event_id=event_id, tmin=0., tmax=tmax, baseline=None, on_missing='warn')\n"
     ]
    },
    {
     "name": "stdout",
     "output_type": "stream",
     "text": [
      "0 bad epochs dropped\n",
      "Extracting EDF parameters from /home/shate/Desktop/praca_magisterska/medical_signal_representation/data/sleepEDF/raw/SC4441E0-PSG.edf...\n",
      "EDF file detected\n",
      "Setting channel info structure...\n",
      "Creating raw.info structure...\n",
      "Used Annotations descriptions: ['Sleep stage 1', 'Sleep stage 2', 'Sleep stage 3', 'Sleep stage 4', 'Sleep stage R', 'Sleep stage W']\n",
      "Not setting metadata\n",
      "1020 matching events found\n",
      "No baseline correction applied\n",
      "0 projection items activated\n",
      "Loading data for 1020 events and 3000 original time points ...\n"
     ]
    },
    {
     "name": "stderr",
     "output_type": "stream",
     "text": [
      "/tmp/ipykernel_14361/442409635.py:50: RuntimeWarning: No matching events found for Sleep stage M (event id 6)\n",
      "  epochs = mne.Epochs(raw=raw_data, events=events, event_id=event_id, tmin=0., tmax=tmax, baseline=None, on_missing='warn')\n"
     ]
    },
    {
     "name": "stdout",
     "output_type": "stream",
     "text": [
      "0 bad epochs dropped\n",
      "Extracting EDF parameters from /home/shate/Desktop/praca_magisterska/medical_signal_representation/data/sleepEDF/raw/SC4401E0-PSG.edf...\n",
      "EDF file detected\n",
      "Setting channel info structure...\n",
      "Creating raw.info structure...\n",
      "Used Annotations descriptions: ['Sleep stage 1', 'Sleep stage 2', 'Sleep stage 3', 'Sleep stage 4', 'Sleep stage R', 'Sleep stage W']\n",
      "Not setting metadata\n",
      "1134 matching events found\n",
      "No baseline correction applied\n",
      "0 projection items activated\n",
      "Loading data for 1134 events and 3000 original time points ...\n"
     ]
    },
    {
     "name": "stderr",
     "output_type": "stream",
     "text": [
      "/tmp/ipykernel_14361/442409635.py:50: RuntimeWarning: No matching events found for Sleep stage M (event id 6)\n",
      "  epochs = mne.Epochs(raw=raw_data, events=events, event_id=event_id, tmin=0., tmax=tmax, baseline=None, on_missing='warn')\n"
     ]
    },
    {
     "name": "stdout",
     "output_type": "stream",
     "text": [
      "0 bad epochs dropped\n",
      "Extracting EDF parameters from /home/shate/Desktop/praca_magisterska/medical_signal_representation/data/sleepEDF/raw/SC4552F0-PSG.edf...\n",
      "EDF file detected\n",
      "Setting channel info structure...\n",
      "Creating raw.info structure...\n",
      "Used Annotations descriptions: ['Sleep stage 1', 'Sleep stage 2', 'Sleep stage 3', 'Sleep stage 4', 'Sleep stage R', 'Sleep stage W']\n",
      "Not setting metadata\n",
      "1208 matching events found\n",
      "No baseline correction applied\n",
      "0 projection items activated\n",
      "Loading data for 1208 events and 3000 original time points ...\n"
     ]
    },
    {
     "name": "stderr",
     "output_type": "stream",
     "text": [
      "/tmp/ipykernel_14361/442409635.py:50: RuntimeWarning: No matching events found for Sleep stage M (event id 6)\n",
      "  epochs = mne.Epochs(raw=raw_data, events=events, event_id=event_id, tmin=0., tmax=tmax, baseline=None, on_missing='warn')\n"
     ]
    },
    {
     "name": "stdout",
     "output_type": "stream",
     "text": [
      "0 bad epochs dropped\n",
      "Extracting EDF parameters from /home/shate/Desktop/praca_magisterska/medical_signal_representation/data/sleepEDF/raw/SC4142E0-PSG.edf...\n",
      "EDF file detected\n",
      "Setting channel info structure...\n",
      "Creating raw.info structure...\n",
      "Used Annotations descriptions: ['Sleep stage 1', 'Sleep stage 2', 'Sleep stage 3', 'Sleep stage 4', 'Sleep stage R', 'Sleep stage W']\n",
      "Not setting metadata\n",
      "672 matching events found\n",
      "No baseline correction applied\n",
      "0 projection items activated\n",
      "Loading data for 672 events and 3000 original time points ...\n"
     ]
    },
    {
     "name": "stderr",
     "output_type": "stream",
     "text": [
      "/tmp/ipykernel_14361/442409635.py:50: RuntimeWarning: No matching events found for Sleep stage M (event id 6)\n",
      "  epochs = mne.Epochs(raw=raw_data, events=events, event_id=event_id, tmin=0., tmax=tmax, baseline=None, on_missing='warn')\n"
     ]
    },
    {
     "name": "stdout",
     "output_type": "stream",
     "text": [
      "0 bad epochs dropped\n",
      "Extracting EDF parameters from /home/shate/Desktop/praca_magisterska/medical_signal_representation/data/sleepEDF/raw/SC4751E0-PSG.edf...\n",
      "EDF file detected\n",
      "Setting channel info structure...\n",
      "Creating raw.info structure...\n",
      "Used Annotations descriptions: ['Sleep stage 1', 'Sleep stage 2', 'Sleep stage 3', 'Sleep stage 4', 'Sleep stage R', 'Sleep stage W']\n",
      "Not setting metadata\n",
      "1096 matching events found\n",
      "No baseline correction applied\n",
      "0 projection items activated\n",
      "Loading data for 1096 events and 3000 original time points ...\n"
     ]
    },
    {
     "name": "stderr",
     "output_type": "stream",
     "text": [
      "/tmp/ipykernel_14361/442409635.py:50: RuntimeWarning: No matching events found for Sleep stage M (event id 6)\n",
      "  epochs = mne.Epochs(raw=raw_data, events=events, event_id=event_id, tmin=0., tmax=tmax, baseline=None, on_missing='warn')\n"
     ]
    },
    {
     "name": "stdout",
     "output_type": "stream",
     "text": [
      "0 bad epochs dropped\n",
      "Extracting EDF parameters from /home/shate/Desktop/praca_magisterska/medical_signal_representation/data/sleepEDF/raw/SC4422E0-PSG.edf...\n",
      "EDF file detected\n",
      "Setting channel info structure...\n",
      "Creating raw.info structure...\n",
      "Used Annotations descriptions: ['Sleep stage 1', 'Sleep stage 2', 'Sleep stage 3', 'Sleep stage 4', 'Sleep stage R', 'Sleep stage W']\n",
      "Not setting metadata\n",
      "841 matching events found\n",
      "No baseline correction applied\n",
      "0 projection items activated\n",
      "Loading data for 841 events and 3000 original time points ...\n"
     ]
    },
    {
     "name": "stderr",
     "output_type": "stream",
     "text": [
      "/tmp/ipykernel_14361/442409635.py:50: RuntimeWarning: No matching events found for Sleep stage M (event id 6)\n",
      "  epochs = mne.Epochs(raw=raw_data, events=events, event_id=event_id, tmin=0., tmax=tmax, baseline=None, on_missing='warn')\n"
     ]
    },
    {
     "name": "stdout",
     "output_type": "stream",
     "text": [
      "0 bad epochs dropped\n",
      "Extracting EDF parameters from /home/shate/Desktop/praca_magisterska/medical_signal_representation/data/sleepEDF/raw/SC4601E0-PSG.edf...\n",
      "EDF file detected\n",
      "Setting channel info structure...\n",
      "Creating raw.info structure...\n",
      "Used Annotations descriptions: ['Sleep stage 1', 'Sleep stage 2', 'Sleep stage 3', 'Sleep stage R', 'Sleep stage W']\n",
      "Not setting metadata\n",
      "1326 matching events found\n",
      "No baseline correction applied\n",
      "0 projection items activated\n",
      "Loading data for 1326 events and 3000 original time points ...\n"
     ]
    },
    {
     "name": "stderr",
     "output_type": "stream",
     "text": [
      "/tmp/ipykernel_14361/442409635.py:50: RuntimeWarning: No matching events found for Sleep stage 4 (event id 4)\n",
      "  epochs = mne.Epochs(raw=raw_data, events=events, event_id=event_id, tmin=0., tmax=tmax, baseline=None, on_missing='warn')\n",
      "/tmp/ipykernel_14361/442409635.py:50: RuntimeWarning: No matching events found for Sleep stage M (event id 6)\n",
      "  epochs = mne.Epochs(raw=raw_data, events=events, event_id=event_id, tmin=0., tmax=tmax, baseline=None, on_missing='warn')\n"
     ]
    },
    {
     "name": "stdout",
     "output_type": "stream",
     "text": [
      "0 bad epochs dropped\n",
      "Extracting EDF parameters from /home/shate/Desktop/praca_magisterska/medical_signal_representation/data/sleepEDF/raw/SC4192E0-PSG.edf...\n",
      "EDF file detected\n",
      "Setting channel info structure...\n",
      "Creating raw.info structure...\n",
      "Used Annotations descriptions: ['Sleep stage 1', 'Sleep stage 2', 'Sleep stage 3', 'Sleep stage 4', 'Sleep stage R', 'Sleep stage W']\n",
      "Not setting metadata\n",
      "1003 matching events found\n",
      "No baseline correction applied\n",
      "0 projection items activated\n",
      "Loading data for 1003 events and 3000 original time points ...\n"
     ]
    },
    {
     "name": "stderr",
     "output_type": "stream",
     "text": [
      "/tmp/ipykernel_14361/442409635.py:50: RuntimeWarning: No matching events found for Sleep stage M (event id 6)\n",
      "  epochs = mne.Epochs(raw=raw_data, events=events, event_id=event_id, tmin=0., tmax=tmax, baseline=None, on_missing='warn')\n"
     ]
    },
    {
     "name": "stdout",
     "output_type": "stream",
     "text": [
      "0 bad epochs dropped\n",
      "Extracting EDF parameters from /home/shate/Desktop/praca_magisterska/medical_signal_representation/data/sleepEDF/raw/SC4812G0-PSG.edf...\n",
      "EDF file detected\n",
      "Setting channel info structure...\n",
      "Creating raw.info structure...\n",
      "Used Annotations descriptions: ['Sleep stage 1', 'Sleep stage 2', 'Sleep stage 3', 'Sleep stage 4', 'Sleep stage R', 'Sleep stage W']\n",
      "Not setting metadata\n",
      "1021 matching events found\n",
      "No baseline correction applied\n",
      "0 projection items activated\n",
      "Loading data for 1021 events and 3000 original time points ...\n"
     ]
    },
    {
     "name": "stderr",
     "output_type": "stream",
     "text": [
      "/tmp/ipykernel_14361/442409635.py:50: RuntimeWarning: No matching events found for Sleep stage M (event id 6)\n",
      "  epochs = mne.Epochs(raw=raw_data, events=events, event_id=event_id, tmin=0., tmax=tmax, baseline=None, on_missing='warn')\n"
     ]
    },
    {
     "name": "stdout",
     "output_type": "stream",
     "text": [
      "0 bad epochs dropped\n",
      "Extracting EDF parameters from /home/shate/Desktop/praca_magisterska/medical_signal_representation/data/sleepEDF/raw/SC4822G0-PSG.edf...\n",
      "EDF file detected\n",
      "Setting channel info structure...\n",
      "Creating raw.info structure...\n",
      "Used Annotations descriptions: ['Sleep stage 1', 'Sleep stage 2', 'Sleep stage 3', 'Sleep stage 4', 'Sleep stage R', 'Sleep stage W']\n",
      "Not setting metadata\n",
      "2644 matching events found\n",
      "No baseline correction applied\n",
      "0 projection items activated\n",
      "Loading data for 2644 events and 3000 original time points ...\n"
     ]
    },
    {
     "name": "stderr",
     "output_type": "stream",
     "text": [
      "/tmp/ipykernel_14361/442409635.py:50: RuntimeWarning: No matching events found for Sleep stage M (event id 6)\n",
      "  epochs = mne.Epochs(raw=raw_data, events=events, event_id=event_id, tmin=0., tmax=tmax, baseline=None, on_missing='warn')\n"
     ]
    },
    {
     "name": "stdout",
     "output_type": "stream",
     "text": [
      "0 bad epochs dropped\n",
      "Extracting EDF parameters from /home/shate/Desktop/praca_magisterska/medical_signal_representation/data/sleepEDF/raw/SC4772G0-PSG.edf...\n",
      "EDF file detected\n",
      "Setting channel info structure...\n",
      "Creating raw.info structure...\n",
      "Used Annotations descriptions: ['Sleep stage 1', 'Sleep stage 2', 'Sleep stage 3', 'Sleep stage 4', 'Sleep stage R', 'Sleep stage W']\n",
      "Not setting metadata\n",
      "1108 matching events found\n",
      "No baseline correction applied\n",
      "0 projection items activated\n",
      "Loading data for 1108 events and 3000 original time points ...\n"
     ]
    },
    {
     "name": "stderr",
     "output_type": "stream",
     "text": [
      "/tmp/ipykernel_14361/442409635.py:50: RuntimeWarning: No matching events found for Sleep stage M (event id 6)\n",
      "  epochs = mne.Epochs(raw=raw_data, events=events, event_id=event_id, tmin=0., tmax=tmax, baseline=None, on_missing='warn')\n"
     ]
    },
    {
     "name": "stdout",
     "output_type": "stream",
     "text": [
      "0 bad epochs dropped\n",
      "Extracting EDF parameters from /home/shate/Desktop/praca_magisterska/medical_signal_representation/data/sleepEDF/raw/SC4012E0-PSG.edf...\n",
      "EDF file detected\n",
      "Setting channel info structure...\n",
      "Creating raw.info structure...\n",
      "Used Annotations descriptions: ['Sleep stage 1', 'Sleep stage 2', 'Sleep stage 3', 'Sleep stage R', 'Sleep stage W']\n",
      "Not setting metadata\n",
      "1049 matching events found\n",
      "No baseline correction applied\n",
      "0 projection items activated\n",
      "Loading data for 1049 events and 3000 original time points ...\n"
     ]
    },
    {
     "name": "stderr",
     "output_type": "stream",
     "text": [
      "/tmp/ipykernel_14361/442409635.py:50: RuntimeWarning: No matching events found for Sleep stage 4 (event id 4)\n",
      "  epochs = mne.Epochs(raw=raw_data, events=events, event_id=event_id, tmin=0., tmax=tmax, baseline=None, on_missing='warn')\n",
      "/tmp/ipykernel_14361/442409635.py:50: RuntimeWarning: No matching events found for Sleep stage M (event id 6)\n",
      "  epochs = mne.Epochs(raw=raw_data, events=events, event_id=event_id, tmin=0., tmax=tmax, baseline=None, on_missing='warn')\n"
     ]
    },
    {
     "name": "stdout",
     "output_type": "stream",
     "text": [
      "0 bad epochs dropped\n",
      "Extracting EDF parameters from /home/shate/Desktop/praca_magisterska/medical_signal_representation/data/sleepEDF/raw/SC4572F0-PSG.edf...\n",
      "EDF file detected\n",
      "Setting channel info structure...\n",
      "Creating raw.info structure...\n",
      "Used Annotations descriptions: ['Sleep stage 1', 'Sleep stage 2', 'Sleep stage 3', 'Sleep stage 4', 'Sleep stage R', 'Sleep stage W']\n",
      "Not setting metadata\n",
      "1144 matching events found\n",
      "No baseline correction applied\n",
      "0 projection items activated\n",
      "Loading data for 1144 events and 3000 original time points ...\n"
     ]
    },
    {
     "name": "stderr",
     "output_type": "stream",
     "text": [
      "/tmp/ipykernel_14361/442409635.py:50: RuntimeWarning: No matching events found for Sleep stage M (event id 6)\n",
      "  epochs = mne.Epochs(raw=raw_data, events=events, event_id=event_id, tmin=0., tmax=tmax, baseline=None, on_missing='warn')\n"
     ]
    },
    {
     "name": "stdout",
     "output_type": "stream",
     "text": [
      "0 bad epochs dropped\n",
      "Extracting EDF parameters from /home/shate/Desktop/praca_magisterska/medical_signal_representation/data/sleepEDF/raw/SC4231E0-PSG.edf...\n",
      "EDF file detected\n",
      "Setting channel info structure...\n",
      "Creating raw.info structure...\n",
      "Used Annotations descriptions: ['Sleep stage 1', 'Sleep stage 2', 'Sleep stage R', 'Sleep stage W']\n",
      "Not setting metadata\n",
      "1241 matching events found\n",
      "No baseline correction applied\n",
      "0 projection items activated\n",
      "Loading data for 1241 events and 3000 original time points ...\n"
     ]
    },
    {
     "name": "stderr",
     "output_type": "stream",
     "text": [
      "/tmp/ipykernel_14361/442409635.py:50: RuntimeWarning: No matching events found for Sleep stage 3 (event id 3)\n",
      "  epochs = mne.Epochs(raw=raw_data, events=events, event_id=event_id, tmin=0., tmax=tmax, baseline=None, on_missing='warn')\n",
      "/tmp/ipykernel_14361/442409635.py:50: RuntimeWarning: No matching events found for Sleep stage 4 (event id 4)\n",
      "  epochs = mne.Epochs(raw=raw_data, events=events, event_id=event_id, tmin=0., tmax=tmax, baseline=None, on_missing='warn')\n",
      "/tmp/ipykernel_14361/442409635.py:50: RuntimeWarning: No matching events found for Sleep stage M (event id 6)\n",
      "  epochs = mne.Epochs(raw=raw_data, events=events, event_id=event_id, tmin=0., tmax=tmax, baseline=None, on_missing='warn')\n"
     ]
    },
    {
     "name": "stdout",
     "output_type": "stream",
     "text": [
      "0 bad epochs dropped\n",
      "Extracting EDF parameters from /home/shate/Desktop/praca_magisterska/medical_signal_representation/data/sleepEDF/raw/SC4261F0-PSG.edf...\n",
      "EDF file detected\n",
      "Setting channel info structure...\n",
      "Creating raw.info structure...\n",
      "Used Annotations descriptions: ['Sleep stage 1', 'Sleep stage 2', 'Sleep stage 3', 'Sleep stage 4', 'Sleep stage R', 'Sleep stage W']\n",
      "Not setting metadata\n",
      "1206 matching events found\n",
      "No baseline correction applied\n",
      "0 projection items activated\n",
      "Loading data for 1206 events and 3000 original time points ...\n"
     ]
    },
    {
     "name": "stderr",
     "output_type": "stream",
     "text": [
      "/tmp/ipykernel_14361/442409635.py:50: RuntimeWarning: No matching events found for Sleep stage M (event id 6)\n",
      "  epochs = mne.Epochs(raw=raw_data, events=events, event_id=event_id, tmin=0., tmax=tmax, baseline=None, on_missing='warn')\n"
     ]
    },
    {
     "name": "stdout",
     "output_type": "stream",
     "text": [
      "0 bad epochs dropped\n",
      "Extracting EDF parameters from /home/shate/Desktop/praca_magisterska/medical_signal_representation/data/sleepEDF/raw/SC4291G0-PSG.edf...\n",
      "EDF file detected\n",
      "Setting channel info structure...\n",
      "Creating raw.info structure...\n",
      "Used Annotations descriptions: ['Sleep stage 1', 'Sleep stage 2', 'Sleep stage 3', 'Sleep stage R', 'Sleep stage W']\n",
      "Not setting metadata\n",
      "1022 matching events found\n",
      "No baseline correction applied\n",
      "0 projection items activated\n",
      "Loading data for 1022 events and 3000 original time points ...\n"
     ]
    },
    {
     "name": "stderr",
     "output_type": "stream",
     "text": [
      "/tmp/ipykernel_14361/442409635.py:50: RuntimeWarning: No matching events found for Sleep stage 4 (event id 4)\n",
      "  epochs = mne.Epochs(raw=raw_data, events=events, event_id=event_id, tmin=0., tmax=tmax, baseline=None, on_missing='warn')\n",
      "/tmp/ipykernel_14361/442409635.py:50: RuntimeWarning: No matching events found for Sleep stage M (event id 6)\n",
      "  epochs = mne.Epochs(raw=raw_data, events=events, event_id=event_id, tmin=0., tmax=tmax, baseline=None, on_missing='warn')\n"
     ]
    },
    {
     "name": "stdout",
     "output_type": "stream",
     "text": [
      "0 bad epochs dropped\n",
      "Extracting EDF parameters from /home/shate/Desktop/praca_magisterska/medical_signal_representation/data/sleepEDF/raw/SC4281G0-PSG.edf...\n",
      "EDF file detected\n",
      "Setting channel info structure...\n",
      "Creating raw.info structure...\n",
      "Used Annotations descriptions: ['Sleep stage 1', 'Sleep stage 2', 'Sleep stage 3', 'Sleep stage R', 'Sleep stage W']\n",
      "Not setting metadata\n",
      "1509 matching events found\n",
      "No baseline correction applied\n",
      "0 projection items activated\n",
      "Loading data for 1509 events and 3000 original time points ...\n"
     ]
    },
    {
     "name": "stderr",
     "output_type": "stream",
     "text": [
      "/tmp/ipykernel_14361/442409635.py:50: RuntimeWarning: No matching events found for Sleep stage 4 (event id 4)\n",
      "  epochs = mne.Epochs(raw=raw_data, events=events, event_id=event_id, tmin=0., tmax=tmax, baseline=None, on_missing='warn')\n",
      "/tmp/ipykernel_14361/442409635.py:50: RuntimeWarning: No matching events found for Sleep stage M (event id 6)\n",
      "  epochs = mne.Epochs(raw=raw_data, events=events, event_id=event_id, tmin=0., tmax=tmax, baseline=None, on_missing='warn')\n"
     ]
    },
    {
     "name": "stdout",
     "output_type": "stream",
     "text": [
      "0 bad epochs dropped\n",
      "Extracting EDF parameters from /home/shate/Desktop/praca_magisterska/medical_signal_representation/data/sleepEDF/raw/SC4242E0-PSG.edf...\n",
      "EDF file detected\n",
      "Setting channel info structure...\n",
      "Creating raw.info structure...\n",
      "Used Annotations descriptions: ['Sleep stage 1', 'Sleep stage 2', 'Sleep stage 3', 'Sleep stage R', 'Sleep stage W']\n",
      "Not setting metadata\n",
      "976 matching events found\n",
      "No baseline correction applied\n",
      "0 projection items activated\n",
      "Loading data for 976 events and 3000 original time points ...\n"
     ]
    },
    {
     "name": "stderr",
     "output_type": "stream",
     "text": [
      "/tmp/ipykernel_14361/442409635.py:50: RuntimeWarning: No matching events found for Sleep stage 4 (event id 4)\n",
      "  epochs = mne.Epochs(raw=raw_data, events=events, event_id=event_id, tmin=0., tmax=tmax, baseline=None, on_missing='warn')\n",
      "/tmp/ipykernel_14361/442409635.py:50: RuntimeWarning: No matching events found for Sleep stage M (event id 6)\n",
      "  epochs = mne.Epochs(raw=raw_data, events=events, event_id=event_id, tmin=0., tmax=tmax, baseline=None, on_missing='warn')\n"
     ]
    },
    {
     "name": "stdout",
     "output_type": "stream",
     "text": [
      "0 bad epochs dropped\n",
      "Extracting EDF parameters from /home/shate/Desktop/praca_magisterska/medical_signal_representation/data/sleepEDF/raw/SC4091E0-PSG.edf...\n",
      "EDF file detected\n",
      "Setting channel info structure...\n",
      "Creating raw.info structure...\n",
      "Used Annotations descriptions: ['Sleep stage 1', 'Sleep stage 2', 'Sleep stage 3', 'Sleep stage 4', 'Sleep stage R', 'Sleep stage W']\n",
      "Not setting metadata\n",
      "1200 matching events found\n",
      "No baseline correction applied\n",
      "0 projection items activated\n",
      "Loading data for 1200 events and 3000 original time points ...\n"
     ]
    },
    {
     "name": "stderr",
     "output_type": "stream",
     "text": [
      "/tmp/ipykernel_14361/442409635.py:50: RuntimeWarning: No matching events found for Sleep stage M (event id 6)\n",
      "  epochs = mne.Epochs(raw=raw_data, events=events, event_id=event_id, tmin=0., tmax=tmax, baseline=None, on_missing='warn')\n"
     ]
    },
    {
     "name": "stdout",
     "output_type": "stream",
     "text": [
      "0 bad epochs dropped\n",
      "Extracting EDF parameters from /home/shate/Desktop/praca_magisterska/medical_signal_representation/data/sleepEDF/raw/SC4302E0-PSG.edf...\n",
      "EDF file detected\n",
      "Setting channel info structure...\n",
      "Creating raw.info structure...\n",
      "Used Annotations descriptions: ['Sleep stage 1', 'Sleep stage 2', 'Sleep stage 3', 'Sleep stage 4', 'Sleep stage R', 'Sleep stage W']\n",
      "Not setting metadata\n",
      "1871 matching events found\n",
      "No baseline correction applied\n",
      "0 projection items activated\n",
      "Loading data for 1871 events and 3000 original time points ...\n"
     ]
    },
    {
     "name": "stderr",
     "output_type": "stream",
     "text": [
      "/tmp/ipykernel_14361/442409635.py:50: RuntimeWarning: No matching events found for Sleep stage M (event id 6)\n",
      "  epochs = mne.Epochs(raw=raw_data, events=events, event_id=event_id, tmin=0., tmax=tmax, baseline=None, on_missing='warn')\n"
     ]
    },
    {
     "name": "stdout",
     "output_type": "stream",
     "text": [
      "0 bad epochs dropped\n",
      "Extracting EDF parameters from /home/shate/Desktop/praca_magisterska/medical_signal_representation/data/sleepEDF/raw/SC4081E0-PSG.edf...\n",
      "EDF file detected\n",
      "Setting channel info structure...\n",
      "Creating raw.info structure...\n",
      "Used Annotations descriptions: ['Sleep stage 1', 'Sleep stage 2', 'Sleep stage 3', 'Sleep stage 4', 'Sleep stage R', 'Sleep stage W']\n",
      "Not setting metadata\n",
      "1062 matching events found\n",
      "No baseline correction applied\n",
      "0 projection items activated\n",
      "Loading data for 1062 events and 3000 original time points ...\n"
     ]
    },
    {
     "name": "stderr",
     "output_type": "stream",
     "text": [
      "/tmp/ipykernel_14361/442409635.py:50: RuntimeWarning: No matching events found for Sleep stage M (event id 6)\n",
      "  epochs = mne.Epochs(raw=raw_data, events=events, event_id=event_id, tmin=0., tmax=tmax, baseline=None, on_missing='warn')\n"
     ]
    },
    {
     "name": "stdout",
     "output_type": "stream",
     "text": [
      "0 bad epochs dropped\n",
      "Extracting EDF parameters from /home/shate/Desktop/praca_magisterska/medical_signal_representation/data/sleepEDF/raw/SC4492G0-PSG.edf...\n",
      "EDF file detected\n",
      "Setting channel info structure...\n",
      "Creating raw.info structure...\n",
      "Used Annotations descriptions: ['Sleep stage 1', 'Sleep stage 2', 'Sleep stage 3', 'Sleep stage R', 'Sleep stage W']\n",
      "Not setting metadata\n",
      "904 matching events found\n",
      "No baseline correction applied\n",
      "0 projection items activated\n",
      "Loading data for 904 events and 3000 original time points ...\n"
     ]
    },
    {
     "name": "stderr",
     "output_type": "stream",
     "text": [
      "/tmp/ipykernel_14361/442409635.py:50: RuntimeWarning: No matching events found for Sleep stage 4 (event id 4)\n",
      "  epochs = mne.Epochs(raw=raw_data, events=events, event_id=event_id, tmin=0., tmax=tmax, baseline=None, on_missing='warn')\n",
      "/tmp/ipykernel_14361/442409635.py:50: RuntimeWarning: No matching events found for Sleep stage M (event id 6)\n",
      "  epochs = mne.Epochs(raw=raw_data, events=events, event_id=event_id, tmin=0., tmax=tmax, baseline=None, on_missing='warn')\n"
     ]
    },
    {
     "name": "stdout",
     "output_type": "stream",
     "text": [
      "0 bad epochs dropped\n",
      "Extracting EDF parameters from /home/shate/Desktop/praca_magisterska/medical_signal_representation/data/sleepEDF/raw/SC4511E0-PSG.edf...\n",
      "EDF file detected\n",
      "Setting channel info structure...\n",
      "Creating raw.info structure...\n",
      "Used Annotations descriptions: ['Sleep stage 1', 'Sleep stage 2', 'Sleep stage R', 'Sleep stage W']\n",
      "Not setting metadata\n",
      "2210 matching events found\n",
      "No baseline correction applied\n",
      "0 projection items activated\n",
      "Loading data for 2210 events and 3000 original time points ...\n"
     ]
    },
    {
     "name": "stderr",
     "output_type": "stream",
     "text": [
      "/tmp/ipykernel_14361/442409635.py:50: RuntimeWarning: No matching events found for Sleep stage 3 (event id 3)\n",
      "  epochs = mne.Epochs(raw=raw_data, events=events, event_id=event_id, tmin=0., tmax=tmax, baseline=None, on_missing='warn')\n",
      "/tmp/ipykernel_14361/442409635.py:50: RuntimeWarning: No matching events found for Sleep stage 4 (event id 4)\n",
      "  epochs = mne.Epochs(raw=raw_data, events=events, event_id=event_id, tmin=0., tmax=tmax, baseline=None, on_missing='warn')\n",
      "/tmp/ipykernel_14361/442409635.py:50: RuntimeWarning: No matching events found for Sleep stage M (event id 6)\n",
      "  epochs = mne.Epochs(raw=raw_data, events=events, event_id=event_id, tmin=0., tmax=tmax, baseline=None, on_missing='warn')\n"
     ]
    },
    {
     "name": "stdout",
     "output_type": "stream",
     "text": [
      "0 bad epochs dropped\n",
      "Extracting EDF parameters from /home/shate/Desktop/praca_magisterska/medical_signal_representation/data/sleepEDF/raw/SC4271F0-PSG.edf...\n",
      "EDF file detected\n",
      "Setting channel info structure...\n",
      "Creating raw.info structure...\n",
      "Used Annotations descriptions: ['Sleep stage 1', 'Sleep stage 2', 'Sleep stage R', 'Sleep stage W']\n",
      "Not setting metadata\n",
      "1130 matching events found\n",
      "No baseline correction applied\n",
      "0 projection items activated\n",
      "Loading data for 1130 events and 3000 original time points ...\n"
     ]
    },
    {
     "name": "stderr",
     "output_type": "stream",
     "text": [
      "/tmp/ipykernel_14361/442409635.py:50: RuntimeWarning: No matching events found for Sleep stage 3 (event id 3)\n",
      "  epochs = mne.Epochs(raw=raw_data, events=events, event_id=event_id, tmin=0., tmax=tmax, baseline=None, on_missing='warn')\n",
      "/tmp/ipykernel_14361/442409635.py:50: RuntimeWarning: No matching events found for Sleep stage 4 (event id 4)\n",
      "  epochs = mne.Epochs(raw=raw_data, events=events, event_id=event_id, tmin=0., tmax=tmax, baseline=None, on_missing='warn')\n",
      "/tmp/ipykernel_14361/442409635.py:50: RuntimeWarning: No matching events found for Sleep stage M (event id 6)\n",
      "  epochs = mne.Epochs(raw=raw_data, events=events, event_id=event_id, tmin=0., tmax=tmax, baseline=None, on_missing='warn')\n"
     ]
    },
    {
     "name": "stdout",
     "output_type": "stream",
     "text": [
      "0 bad epochs dropped\n",
      "Extracting EDF parameters from /home/shate/Desktop/praca_magisterska/medical_signal_representation/data/sleepEDF/raw/SC4212E0-PSG.edf...\n",
      "EDF file detected\n",
      "Setting channel info structure...\n",
      "Creating raw.info structure...\n",
      "Used Annotations descriptions: ['Sleep stage 1', 'Sleep stage 2', 'Sleep stage 3', 'Sleep stage R', 'Sleep stage W']\n",
      "Not setting metadata\n",
      "1104 matching events found\n",
      "No baseline correction applied\n",
      "0 projection items activated\n",
      "Loading data for 1104 events and 3000 original time points ...\n"
     ]
    },
    {
     "name": "stderr",
     "output_type": "stream",
     "text": [
      "/tmp/ipykernel_14361/442409635.py:50: RuntimeWarning: No matching events found for Sleep stage 4 (event id 4)\n",
      "  epochs = mne.Epochs(raw=raw_data, events=events, event_id=event_id, tmin=0., tmax=tmax, baseline=None, on_missing='warn')\n",
      "/tmp/ipykernel_14361/442409635.py:50: RuntimeWarning: No matching events found for Sleep stage M (event id 6)\n",
      "  epochs = mne.Epochs(raw=raw_data, events=events, event_id=event_id, tmin=0., tmax=tmax, baseline=None, on_missing='warn')\n"
     ]
    },
    {
     "name": "stdout",
     "output_type": "stream",
     "text": [
      "0 bad epochs dropped\n",
      "Extracting EDF parameters from /home/shate/Desktop/praca_magisterska/medical_signal_representation/data/sleepEDF/raw/SC4131E0-PSG.edf...\n",
      "EDF file detected\n",
      "Setting channel info structure...\n",
      "Creating raw.info structure...\n",
      "Used Annotations descriptions: ['Sleep stage 1', 'Sleep stage 2', 'Sleep stage 3', 'Sleep stage 4', 'Sleep stage R', 'Sleep stage W']\n",
      "Not setting metadata\n",
      "962 matching events found\n",
      "No baseline correction applied\n",
      "0 projection items activated\n",
      "Loading data for 962 events and 3000 original time points ...\n"
     ]
    },
    {
     "name": "stderr",
     "output_type": "stream",
     "text": [
      "/tmp/ipykernel_14361/442409635.py:50: RuntimeWarning: No matching events found for Sleep stage M (event id 6)\n",
      "  epochs = mne.Epochs(raw=raw_data, events=events, event_id=event_id, tmin=0., tmax=tmax, baseline=None, on_missing='warn')\n"
     ]
    },
    {
     "name": "stdout",
     "output_type": "stream",
     "text": [
      "0 bad epochs dropped\n",
      "Extracting EDF parameters from /home/shate/Desktop/praca_magisterska/medical_signal_representation/data/sleepEDF/raw/SC4612E0-PSG.edf...\n",
      "EDF file detected\n",
      "Setting channel info structure...\n",
      "Creating raw.info structure...\n",
      "Used Annotations descriptions: ['Sleep stage 1', 'Sleep stage 2', 'Sleep stage 3', 'Sleep stage 4', 'Sleep stage R', 'Sleep stage W']\n",
      "Not setting metadata\n",
      "1820 matching events found\n",
      "No baseline correction applied\n",
      "0 projection items activated\n",
      "Loading data for 1820 events and 3000 original time points ...\n"
     ]
    },
    {
     "name": "stderr",
     "output_type": "stream",
     "text": [
      "/tmp/ipykernel_14361/442409635.py:50: RuntimeWarning: No matching events found for Sleep stage M (event id 6)\n",
      "  epochs = mne.Epochs(raw=raw_data, events=events, event_id=event_id, tmin=0., tmax=tmax, baseline=None, on_missing='warn')\n"
     ]
    },
    {
     "name": "stdout",
     "output_type": "stream",
     "text": [
      "0 bad epochs dropped\n",
      "Extracting EDF parameters from /home/shate/Desktop/praca_magisterska/medical_signal_representation/data/sleepEDF/raw/SC4102E0-PSG.edf...\n",
      "EDF file detected\n",
      "Setting channel info structure...\n",
      "Creating raw.info structure...\n",
      "Used Annotations descriptions: ['Sleep stage 1', 'Sleep stage 2', 'Sleep stage 3', 'Sleep stage R', 'Sleep stage W']\n",
      "Not setting metadata\n",
      "1101 matching events found\n",
      "No baseline correction applied\n",
      "0 projection items activated\n",
      "Loading data for 1101 events and 3000 original time points ...\n"
     ]
    },
    {
     "name": "stderr",
     "output_type": "stream",
     "text": [
      "/tmp/ipykernel_14361/442409635.py:50: RuntimeWarning: No matching events found for Sleep stage 4 (event id 4)\n",
      "  epochs = mne.Epochs(raw=raw_data, events=events, event_id=event_id, tmin=0., tmax=tmax, baseline=None, on_missing='warn')\n",
      "/tmp/ipykernel_14361/442409635.py:50: RuntimeWarning: No matching events found for Sleep stage M (event id 6)\n",
      "  epochs = mne.Epochs(raw=raw_data, events=events, event_id=event_id, tmin=0., tmax=tmax, baseline=None, on_missing='warn')\n"
     ]
    },
    {
     "name": "stdout",
     "output_type": "stream",
     "text": [
      "0 bad epochs dropped\n",
      "Extracting EDF parameters from /home/shate/Desktop/praca_magisterska/medical_signal_representation/data/sleepEDF/raw/SC4112E0-PSG.edf...\n",
      "EDF file detected\n",
      "Setting channel info structure...\n",
      "Creating raw.info structure...\n",
      "Used Annotations descriptions: ['Sleep stage 1', 'Sleep stage 2', 'Sleep stage 3', 'Sleep stage 4', 'Sleep stage R', 'Sleep stage W']\n",
      "Not setting metadata\n",
      "1597 matching events found\n",
      "No baseline correction applied\n",
      "0 projection items activated\n",
      "Loading data for 1597 events and 3000 original time points ...\n"
     ]
    },
    {
     "name": "stderr",
     "output_type": "stream",
     "text": [
      "/tmp/ipykernel_14361/442409635.py:50: RuntimeWarning: No matching events found for Sleep stage M (event id 6)\n",
      "  epochs = mne.Epochs(raw=raw_data, events=events, event_id=event_id, tmin=0., tmax=tmax, baseline=None, on_missing='warn')\n"
     ]
    },
    {
     "name": "stdout",
     "output_type": "stream",
     "text": [
      "0 bad epochs dropped\n",
      "Extracting EDF parameters from /home/shate/Desktop/praca_magisterska/medical_signal_representation/data/sleepEDF/raw/SC4331F0-PSG.edf...\n",
      "EDF file detected\n",
      "Setting channel info structure...\n",
      "Creating raw.info structure...\n",
      "Used Annotations descriptions: ['Sleep stage 1', 'Sleep stage 2', 'Sleep stage 3', 'Sleep stage 4', 'Sleep stage R', 'Sleep stage W']\n",
      "Not setting metadata\n",
      "1028 matching events found\n",
      "No baseline correction applied\n",
      "0 projection items activated\n",
      "Loading data for 1028 events and 3000 original time points ...\n"
     ]
    },
    {
     "name": "stderr",
     "output_type": "stream",
     "text": [
      "/tmp/ipykernel_14361/442409635.py:50: RuntimeWarning: No matching events found for Sleep stage M (event id 6)\n",
      "  epochs = mne.Epochs(raw=raw_data, events=events, event_id=event_id, tmin=0., tmax=tmax, baseline=None, on_missing='warn')\n"
     ]
    },
    {
     "name": "stdout",
     "output_type": "stream",
     "text": [
      "0 bad epochs dropped\n",
      "Extracting EDF parameters from /home/shate/Desktop/praca_magisterska/medical_signal_representation/data/sleepEDF/raw/SC4241E0-PSG.edf...\n",
      "EDF file detected\n",
      "Setting channel info structure...\n",
      "Creating raw.info structure...\n",
      "Used Annotations descriptions: ['Sleep stage 1', 'Sleep stage 2', 'Sleep stage 3', 'Sleep stage 4', 'Sleep stage R', 'Sleep stage W']\n",
      "Not setting metadata\n",
      "1090 matching events found\n",
      "No baseline correction applied\n",
      "0 projection items activated\n",
      "Loading data for 1090 events and 3000 original time points ...\n"
     ]
    },
    {
     "name": "stderr",
     "output_type": "stream",
     "text": [
      "/tmp/ipykernel_14361/442409635.py:50: RuntimeWarning: No matching events found for Sleep stage M (event id 6)\n",
      "  epochs = mne.Epochs(raw=raw_data, events=events, event_id=event_id, tmin=0., tmax=tmax, baseline=None, on_missing='warn')\n"
     ]
    },
    {
     "name": "stdout",
     "output_type": "stream",
     "text": [
      "0 bad epochs dropped\n",
      "Extracting EDF parameters from /home/shate/Desktop/praca_magisterska/medical_signal_representation/data/sleepEDF/raw/SC4092E0-PSG.edf...\n",
      "EDF file detected\n",
      "Setting channel info structure...\n",
      "Creating raw.info structure...\n",
      "Used Annotations descriptions: ['Sleep stage 1', 'Sleep stage 2', 'Sleep stage 3', 'Sleep stage R', 'Sleep stage W']\n",
      "Not setting metadata\n",
      "1445 matching events found\n",
      "No baseline correction applied\n",
      "0 projection items activated\n",
      "Loading data for 1445 events and 3000 original time points ...\n"
     ]
    },
    {
     "name": "stderr",
     "output_type": "stream",
     "text": [
      "/tmp/ipykernel_14361/442409635.py:50: RuntimeWarning: No matching events found for Sleep stage 4 (event id 4)\n",
      "  epochs = mne.Epochs(raw=raw_data, events=events, event_id=event_id, tmin=0., tmax=tmax, baseline=None, on_missing='warn')\n",
      "/tmp/ipykernel_14361/442409635.py:50: RuntimeWarning: No matching events found for Sleep stage M (event id 6)\n",
      "  epochs = mne.Epochs(raw=raw_data, events=events, event_id=event_id, tmin=0., tmax=tmax, baseline=None, on_missing='warn')\n"
     ]
    },
    {
     "name": "stdout",
     "output_type": "stream",
     "text": [
      "0 bad epochs dropped\n",
      "Extracting EDF parameters from /home/shate/Desktop/praca_magisterska/medical_signal_representation/data/sleepEDF/raw/SC4322E0-PSG.edf...\n",
      "EDF file detected\n",
      "Setting channel info structure...\n",
      "Creating raw.info structure...\n",
      "Used Annotations descriptions: ['Sleep stage 1', 'Sleep stage 2', 'Sleep stage 3', 'Sleep stage R', 'Sleep stage W']\n",
      "Not setting metadata\n",
      "1673 matching events found\n",
      "No baseline correction applied\n",
      "0 projection items activated\n",
      "Loading data for 1673 events and 3000 original time points ...\n"
     ]
    },
    {
     "name": "stderr",
     "output_type": "stream",
     "text": [
      "/tmp/ipykernel_14361/442409635.py:50: RuntimeWarning: No matching events found for Sleep stage 4 (event id 4)\n",
      "  epochs = mne.Epochs(raw=raw_data, events=events, event_id=event_id, tmin=0., tmax=tmax, baseline=None, on_missing='warn')\n",
      "/tmp/ipykernel_14361/442409635.py:50: RuntimeWarning: No matching events found for Sleep stage M (event id 6)\n",
      "  epochs = mne.Epochs(raw=raw_data, events=events, event_id=event_id, tmin=0., tmax=tmax, baseline=None, on_missing='warn')\n"
     ]
    },
    {
     "name": "stdout",
     "output_type": "stream",
     "text": [
      "0 bad epochs dropped\n",
      "Extracting EDF parameters from /home/shate/Desktop/praca_magisterska/medical_signal_representation/data/sleepEDF/raw/SC4712E0-PSG.edf...\n",
      "EDF file detected\n",
      "Setting channel info structure...\n",
      "Creating raw.info structure...\n",
      "Used Annotations descriptions: ['Sleep stage 1', 'Sleep stage 2', 'Sleep stage 3', 'Sleep stage 4', 'Sleep stage R', 'Sleep stage W']\n",
      "Not setting metadata\n",
      "920 matching events found\n",
      "No baseline correction applied\n",
      "0 projection items activated\n",
      "Loading data for 920 events and 3000 original time points ...\n"
     ]
    },
    {
     "name": "stderr",
     "output_type": "stream",
     "text": [
      "/tmp/ipykernel_14361/442409635.py:50: RuntimeWarning: No matching events found for Sleep stage M (event id 6)\n",
      "  epochs = mne.Epochs(raw=raw_data, events=events, event_id=event_id, tmin=0., tmax=tmax, baseline=None, on_missing='warn')\n"
     ]
    },
    {
     "name": "stdout",
     "output_type": "stream",
     "text": [
      "0 bad epochs dropped\n",
      "Extracting EDF parameters from /home/shate/Desktop/praca_magisterska/medical_signal_representation/data/sleepEDF/raw/SC4042E0-PSG.edf...\n",
      "EDF file detected\n",
      "Setting channel info structure...\n",
      "Creating raw.info structure...\n",
      "Used Annotations descriptions: ['Sleep stage 1', 'Sleep stage 2', 'Sleep stage 3', 'Sleep stage 4', 'Sleep stage R', 'Sleep stage W']\n",
      "Not setting metadata\n",
      "964 matching events found\n",
      "No baseline correction applied\n",
      "0 projection items activated\n",
      "Loading data for 964 events and 3000 original time points ...\n"
     ]
    },
    {
     "name": "stderr",
     "output_type": "stream",
     "text": [
      "/tmp/ipykernel_14361/442409635.py:50: RuntimeWarning: No matching events found for Sleep stage M (event id 6)\n",
      "  epochs = mne.Epochs(raw=raw_data, events=events, event_id=event_id, tmin=0., tmax=tmax, baseline=None, on_missing='warn')\n"
     ]
    },
    {
     "name": "stdout",
     "output_type": "stream",
     "text": [
      "0 bad epochs dropped\n",
      "Extracting EDF parameters from /home/shate/Desktop/praca_magisterska/medical_signal_representation/data/sleepEDF/raw/SC4711E0-PSG.edf...\n",
      "EDF file detected\n",
      "Setting channel info structure...\n",
      "Creating raw.info structure...\n",
      "Used Annotations descriptions: ['Sleep stage 1', 'Sleep stage 2', 'Sleep stage 3', 'Sleep stage R', 'Sleep stage W']\n",
      "Not setting metadata\n",
      "1056 matching events found\n",
      "No baseline correction applied\n",
      "0 projection items activated\n",
      "Loading data for 1056 events and 3000 original time points ...\n"
     ]
    },
    {
     "name": "stderr",
     "output_type": "stream",
     "text": [
      "/tmp/ipykernel_14361/442409635.py:50: RuntimeWarning: No matching events found for Sleep stage 4 (event id 4)\n",
      "  epochs = mne.Epochs(raw=raw_data, events=events, event_id=event_id, tmin=0., tmax=tmax, baseline=None, on_missing='warn')\n",
      "/tmp/ipykernel_14361/442409635.py:50: RuntimeWarning: No matching events found for Sleep stage M (event id 6)\n",
      "  epochs = mne.Epochs(raw=raw_data, events=events, event_id=event_id, tmin=0., tmax=tmax, baseline=None, on_missing='warn')\n"
     ]
    },
    {
     "name": "stdout",
     "output_type": "stream",
     "text": [
      "0 bad epochs dropped\n",
      "Extracting EDF parameters from /home/shate/Desktop/praca_magisterska/medical_signal_representation/data/sleepEDF/raw/SC4421E0-PSG.edf...\n",
      "EDF file detected\n",
      "Setting channel info structure...\n",
      "Creating raw.info structure...\n",
      "Used Annotations descriptions: ['Sleep stage 1', 'Sleep stage 2', 'Sleep stage 3', 'Sleep stage R', 'Sleep stage W']\n",
      "Not setting metadata\n",
      "929 matching events found\n",
      "No baseline correction applied\n",
      "0 projection items activated\n",
      "Loading data for 929 events and 3000 original time points ...\n"
     ]
    },
    {
     "name": "stderr",
     "output_type": "stream",
     "text": [
      "/tmp/ipykernel_14361/442409635.py:50: RuntimeWarning: No matching events found for Sleep stage 4 (event id 4)\n",
      "  epochs = mne.Epochs(raw=raw_data, events=events, event_id=event_id, tmin=0., tmax=tmax, baseline=None, on_missing='warn')\n",
      "/tmp/ipykernel_14361/442409635.py:50: RuntimeWarning: No matching events found for Sleep stage M (event id 6)\n",
      "  epochs = mne.Epochs(raw=raw_data, events=events, event_id=event_id, tmin=0., tmax=tmax, baseline=None, on_missing='warn')\n"
     ]
    },
    {
     "name": "stdout",
     "output_type": "stream",
     "text": [
      "0 bad epochs dropped\n",
      "Extracting EDF parameters from /home/shate/Desktop/praca_magisterska/medical_signal_representation/data/sleepEDF/raw/SC4722E0-PSG.edf...\n",
      "EDF file detected\n",
      "Setting channel info structure...\n",
      "Creating raw.info structure...\n",
      "Used Annotations descriptions: ['Sleep stage 1', 'Sleep stage 2', 'Sleep stage 3', 'Sleep stage R', 'Sleep stage W']\n",
      "Not setting metadata\n",
      "1022 matching events found\n",
      "No baseline correction applied\n",
      "0 projection items activated\n",
      "Loading data for 1022 events and 3000 original time points ...\n"
     ]
    },
    {
     "name": "stderr",
     "output_type": "stream",
     "text": [
      "/tmp/ipykernel_14361/442409635.py:50: RuntimeWarning: No matching events found for Sleep stage 4 (event id 4)\n",
      "  epochs = mne.Epochs(raw=raw_data, events=events, event_id=event_id, tmin=0., tmax=tmax, baseline=None, on_missing='warn')\n",
      "/tmp/ipykernel_14361/442409635.py:50: RuntimeWarning: No matching events found for Sleep stage M (event id 6)\n",
      "  epochs = mne.Epochs(raw=raw_data, events=events, event_id=event_id, tmin=0., tmax=tmax, baseline=None, on_missing='warn')\n"
     ]
    },
    {
     "name": "stdout",
     "output_type": "stream",
     "text": [
      "0 bad epochs dropped\n",
      "Extracting EDF parameters from /home/shate/Desktop/praca_magisterska/medical_signal_representation/data/sleepEDF/raw/SC4402E0-PSG.edf...\n",
      "EDF file detected\n",
      "Setting channel info structure...\n",
      "Creating raw.info structure...\n",
      "Used Annotations descriptions: ['Sleep stage 1', 'Sleep stage 2', 'Sleep stage 3', 'Sleep stage 4', 'Sleep stage R', 'Sleep stage W']\n",
      "Not setting metadata\n",
      "1054 matching events found\n",
      "No baseline correction applied\n",
      "0 projection items activated\n",
      "Loading data for 1054 events and 3000 original time points ...\n"
     ]
    },
    {
     "name": "stderr",
     "output_type": "stream",
     "text": [
      "/tmp/ipykernel_14361/442409635.py:50: RuntimeWarning: No matching events found for Sleep stage M (event id 6)\n",
      "  epochs = mne.Epochs(raw=raw_data, events=events, event_id=event_id, tmin=0., tmax=tmax, baseline=None, on_missing='warn')\n"
     ]
    },
    {
     "name": "stdout",
     "output_type": "stream",
     "text": [
      "0 bad epochs dropped\n",
      "Extracting EDF parameters from /home/shate/Desktop/praca_magisterska/medical_signal_representation/data/sleepEDF/raw/SC4501E0-PSG.edf...\n",
      "EDF file detected\n",
      "Setting channel info structure...\n",
      "Creating raw.info structure...\n",
      "Used Annotations descriptions: ['Sleep stage 1', 'Sleep stage 2', 'Sleep stage 3', 'Sleep stage 4', 'Sleep stage R', 'Sleep stage W']\n",
      "Not setting metadata\n",
      "1127 matching events found\n",
      "No baseline correction applied\n",
      "0 projection items activated\n",
      "Loading data for 1127 events and 3000 original time points ...\n"
     ]
    },
    {
     "name": "stderr",
     "output_type": "stream",
     "text": [
      "/tmp/ipykernel_14361/442409635.py:50: RuntimeWarning: No matching events found for Sleep stage M (event id 6)\n",
      "  epochs = mne.Epochs(raw=raw_data, events=events, event_id=event_id, tmin=0., tmax=tmax, baseline=None, on_missing='warn')\n"
     ]
    },
    {
     "name": "stdout",
     "output_type": "stream",
     "text": [
      "0 bad epochs dropped\n",
      "Extracting EDF parameters from /home/shate/Desktop/praca_magisterska/medical_signal_representation/data/sleepEDF/raw/SC4342F0-PSG.edf...\n",
      "EDF file detected\n",
      "Setting channel info structure...\n",
      "Creating raw.info structure...\n",
      "Used Annotations descriptions: ['Sleep stage 1', 'Sleep stage 2', 'Sleep stage 3', 'Sleep stage 4', 'Sleep stage R', 'Sleep stage W']\n",
      "Not setting metadata\n",
      "1132 matching events found\n",
      "No baseline correction applied\n",
      "0 projection items activated\n",
      "Loading data for 1132 events and 3000 original time points ...\n"
     ]
    },
    {
     "name": "stderr",
     "output_type": "stream",
     "text": [
      "/tmp/ipykernel_14361/442409635.py:50: RuntimeWarning: No matching events found for Sleep stage M (event id 6)\n",
      "  epochs = mne.Epochs(raw=raw_data, events=events, event_id=event_id, tmin=0., tmax=tmax, baseline=None, on_missing='warn')\n"
     ]
    },
    {
     "name": "stdout",
     "output_type": "stream",
     "text": [
      "0 bad epochs dropped\n",
      "Extracting EDF parameters from /home/shate/Desktop/praca_magisterska/medical_signal_representation/data/sleepEDF/raw/SC4121E0-PSG.edf...\n",
      "EDF file detected\n",
      "Setting channel info structure...\n",
      "Creating raw.info structure...\n",
      "Used Annotations descriptions: ['Sleep stage 1', 'Sleep stage 2', 'Sleep stage 3', 'Sleep stage 4', 'Sleep stage R', 'Sleep stage W']\n",
      "Not setting metadata\n",
      "2043 matching events found\n",
      "No baseline correction applied\n",
      "0 projection items activated\n",
      "Loading data for 2043 events and 3000 original time points ...\n"
     ]
    },
    {
     "name": "stderr",
     "output_type": "stream",
     "text": [
      "/tmp/ipykernel_14361/442409635.py:50: RuntimeWarning: No matching events found for Sleep stage M (event id 6)\n",
      "  epochs = mne.Epochs(raw=raw_data, events=events, event_id=event_id, tmin=0., tmax=tmax, baseline=None, on_missing='warn')\n"
     ]
    },
    {
     "name": "stdout",
     "output_type": "stream",
     "text": [
      "0 bad epochs dropped\n",
      "Extracting EDF parameters from /home/shate/Desktop/praca_magisterska/medical_signal_representation/data/sleepEDF/raw/SC4202E0-PSG.edf...\n",
      "EDF file detected\n",
      "Setting channel info structure...\n",
      "Creating raw.info structure...\n",
      "Used Annotations descriptions: ['Sleep stage 1', 'Sleep stage 2', 'Sleep stage 3', 'Sleep stage 4', 'Sleep stage R', 'Sleep stage W']\n",
      "Not setting metadata\n",
      "952 matching events found\n",
      "No baseline correction applied\n",
      "0 projection items activated\n",
      "Loading data for 952 events and 3000 original time points ...\n"
     ]
    },
    {
     "name": "stderr",
     "output_type": "stream",
     "text": [
      "/tmp/ipykernel_14361/442409635.py:50: RuntimeWarning: No matching events found for Sleep stage M (event id 6)\n",
      "  epochs = mne.Epochs(raw=raw_data, events=events, event_id=event_id, tmin=0., tmax=tmax, baseline=None, on_missing='warn')\n"
     ]
    },
    {
     "name": "stdout",
     "output_type": "stream",
     "text": [
      "0 bad epochs dropped\n",
      "Extracting EDF parameters from /home/shate/Desktop/praca_magisterska/medical_signal_representation/data/sleepEDF/raw/SC4592G0-PSG.edf...\n",
      "EDF file detected\n",
      "Setting channel info structure...\n",
      "Creating raw.info structure...\n",
      "Used Annotations descriptions: ['Sleep stage 1', 'Sleep stage 2', 'Sleep stage 3', 'Sleep stage 4', 'Sleep stage R', 'Sleep stage W']\n",
      "Not setting metadata\n",
      "1652 matching events found\n",
      "No baseline correction applied\n",
      "0 projection items activated\n",
      "Loading data for 1652 events and 3000 original time points ...\n"
     ]
    },
    {
     "name": "stderr",
     "output_type": "stream",
     "text": [
      "/tmp/ipykernel_14361/442409635.py:50: RuntimeWarning: No matching events found for Sleep stage M (event id 6)\n",
      "  epochs = mne.Epochs(raw=raw_data, events=events, event_id=event_id, tmin=0., tmax=tmax, baseline=None, on_missing='warn')\n"
     ]
    },
    {
     "name": "stdout",
     "output_type": "stream",
     "text": [
      "0 bad epochs dropped\n",
      "Extracting EDF parameters from /home/shate/Desktop/praca_magisterska/medical_signal_representation/data/sleepEDF/raw/SC4071E0-PSG.edf...\n",
      "EDF file detected\n",
      "Setting channel info structure...\n",
      "Creating raw.info structure...\n",
      "Used Annotations descriptions: ['Sleep stage 1', 'Sleep stage 2', 'Sleep stage 3', 'Sleep stage 4', 'Sleep stage R', 'Sleep stage W']\n",
      "Not setting metadata\n",
      "1324 matching events found\n",
      "No baseline correction applied\n",
      "0 projection items activated\n",
      "Loading data for 1324 events and 3000 original time points ...\n"
     ]
    },
    {
     "name": "stderr",
     "output_type": "stream",
     "text": [
      "/tmp/ipykernel_14361/442409635.py:50: RuntimeWarning: No matching events found for Sleep stage M (event id 6)\n",
      "  epochs = mne.Epochs(raw=raw_data, events=events, event_id=event_id, tmin=0., tmax=tmax, baseline=None, on_missing='warn')\n"
     ]
    },
    {
     "name": "stdout",
     "output_type": "stream",
     "text": [
      "0 bad epochs dropped\n",
      "Extracting EDF parameters from /home/shate/Desktop/praca_magisterska/medical_signal_representation/data/sleepEDF/raw/SC4011E0-PSG.edf...\n",
      "EDF file detected\n",
      "Setting channel info structure...\n",
      "Creating raw.info structure...\n",
      "Used Annotations descriptions: ['Sleep stage 1', 'Sleep stage 2', 'Sleep stage 3', 'Sleep stage R', 'Sleep stage W']\n",
      "Not setting metadata\n",
      "1095 matching events found\n",
      "No baseline correction applied\n",
      "0 projection items activated\n",
      "Loading data for 1095 events and 3000 original time points ...\n"
     ]
    },
    {
     "name": "stderr",
     "output_type": "stream",
     "text": [
      "/tmp/ipykernel_14361/442409635.py:50: RuntimeWarning: No matching events found for Sleep stage 4 (event id 4)\n",
      "  epochs = mne.Epochs(raw=raw_data, events=events, event_id=event_id, tmin=0., tmax=tmax, baseline=None, on_missing='warn')\n",
      "/tmp/ipykernel_14361/442409635.py:50: RuntimeWarning: No matching events found for Sleep stage M (event id 6)\n",
      "  epochs = mne.Epochs(raw=raw_data, events=events, event_id=event_id, tmin=0., tmax=tmax, baseline=None, on_missing='warn')\n"
     ]
    },
    {
     "name": "stdout",
     "output_type": "stream",
     "text": [
      "0 bad epochs dropped\n",
      "Extracting EDF parameters from /home/shate/Desktop/praca_magisterska/medical_signal_representation/data/sleepEDF/raw/SC4581G0-PSG.edf...\n",
      "EDF file detected\n",
      "Setting channel info structure...\n",
      "Creating raw.info structure...\n",
      "Used Annotations descriptions: ['Sleep stage 1', 'Sleep stage 2', 'Sleep stage R', 'Sleep stage W']\n",
      "Not setting metadata\n",
      "1312 matching events found\n",
      "No baseline correction applied\n",
      "0 projection items activated\n",
      "Loading data for 1312 events and 3000 original time points ...\n"
     ]
    },
    {
     "name": "stderr",
     "output_type": "stream",
     "text": [
      "/tmp/ipykernel_14361/442409635.py:50: RuntimeWarning: No matching events found for Sleep stage 3 (event id 3)\n",
      "  epochs = mne.Epochs(raw=raw_data, events=events, event_id=event_id, tmin=0., tmax=tmax, baseline=None, on_missing='warn')\n",
      "/tmp/ipykernel_14361/442409635.py:50: RuntimeWarning: No matching events found for Sleep stage 4 (event id 4)\n",
      "  epochs = mne.Epochs(raw=raw_data, events=events, event_id=event_id, tmin=0., tmax=tmax, baseline=None, on_missing='warn')\n",
      "/tmp/ipykernel_14361/442409635.py:50: RuntimeWarning: No matching events found for Sleep stage M (event id 6)\n",
      "  epochs = mne.Epochs(raw=raw_data, events=events, event_id=event_id, tmin=0., tmax=tmax, baseline=None, on_missing='warn')\n"
     ]
    },
    {
     "name": "stdout",
     "output_type": "stream",
     "text": [
      "0 bad epochs dropped\n",
      "Extracting EDF parameters from /home/shate/Desktop/praca_magisterska/medical_signal_representation/data/sleepEDF/raw/SC4352F0-PSG.edf...\n",
      "EDF file detected\n",
      "Setting channel info structure...\n",
      "Creating raw.info structure...\n",
      "Used Annotations descriptions: ['Sleep stage 1', 'Sleep stage 2', 'Sleep stage 3', 'Sleep stage 4', 'Sleep stage R', 'Sleep stage W']\n",
      "Not setting metadata\n",
      "1070 matching events found\n",
      "No baseline correction applied\n",
      "0 projection items activated\n",
      "Loading data for 1070 events and 3000 original time points ...\n"
     ]
    },
    {
     "name": "stderr",
     "output_type": "stream",
     "text": [
      "/tmp/ipykernel_14361/442409635.py:50: RuntimeWarning: No matching events found for Sleep stage M (event id 6)\n",
      "  epochs = mne.Epochs(raw=raw_data, events=events, event_id=event_id, tmin=0., tmax=tmax, baseline=None, on_missing='warn')\n"
     ]
    },
    {
     "name": "stdout",
     "output_type": "stream",
     "text": [
      "0 bad epochs dropped\n",
      "Extracting EDF parameters from /home/shate/Desktop/praca_magisterska/medical_signal_representation/data/sleepEDF/raw/SC4272F0-PSG.edf...\n",
      "EDF file detected\n",
      "Setting channel info structure...\n",
      "Creating raw.info structure...\n",
      "Used Annotations descriptions: ['Sleep stage 1', 'Sleep stage 2', 'Sleep stage 3', 'Sleep stage 4', 'Sleep stage R', 'Sleep stage W']\n",
      "Not setting metadata\n",
      "1052 matching events found\n",
      "No baseline correction applied\n",
      "0 projection items activated\n",
      "Loading data for 1052 events and 3000 original time points ...\n"
     ]
    },
    {
     "name": "stderr",
     "output_type": "stream",
     "text": [
      "/tmp/ipykernel_14361/442409635.py:50: RuntimeWarning: No matching events found for Sleep stage M (event id 6)\n",
      "  epochs = mne.Epochs(raw=raw_data, events=events, event_id=event_id, tmin=0., tmax=tmax, baseline=None, on_missing='warn')\n"
     ]
    },
    {
     "name": "stdout",
     "output_type": "stream",
     "text": [
      "0 bad epochs dropped\n",
      "Extracting EDF parameters from /home/shate/Desktop/praca_magisterska/medical_signal_representation/data/sleepEDF/raw/SC4542F0-PSG.edf...\n",
      "EDF file detected\n",
      "Setting channel info structure...\n",
      "Creating raw.info structure...\n",
      "Used Annotations descriptions: ['Sleep stage 1', 'Sleep stage 2', 'Sleep stage R', 'Sleep stage W']\n",
      "Not setting metadata\n",
      "1560 matching events found\n",
      "No baseline correction applied\n",
      "0 projection items activated\n",
      "Loading data for 1560 events and 3000 original time points ...\n"
     ]
    },
    {
     "name": "stderr",
     "output_type": "stream",
     "text": [
      "/tmp/ipykernel_14361/442409635.py:50: RuntimeWarning: No matching events found for Sleep stage 3 (event id 3)\n",
      "  epochs = mne.Epochs(raw=raw_data, events=events, event_id=event_id, tmin=0., tmax=tmax, baseline=None, on_missing='warn')\n",
      "/tmp/ipykernel_14361/442409635.py:50: RuntimeWarning: No matching events found for Sleep stage 4 (event id 4)\n",
      "  epochs = mne.Epochs(raw=raw_data, events=events, event_id=event_id, tmin=0., tmax=tmax, baseline=None, on_missing='warn')\n",
      "/tmp/ipykernel_14361/442409635.py:50: RuntimeWarning: No matching events found for Sleep stage M (event id 6)\n",
      "  epochs = mne.Epochs(raw=raw_data, events=events, event_id=event_id, tmin=0., tmax=tmax, baseline=None, on_missing='warn')\n"
     ]
    },
    {
     "name": "stdout",
     "output_type": "stream",
     "text": [
      "0 bad epochs dropped\n",
      "Extracting EDF parameters from /home/shate/Desktop/praca_magisterska/medical_signal_representation/data/sleepEDF/raw/SC4321E0-PSG.edf...\n",
      "EDF file detected\n",
      "Setting channel info structure...\n",
      "Creating raw.info structure...\n",
      "Used Annotations descriptions: ['Sleep stage 1', 'Sleep stage 2', 'Sleep stage 3', 'Sleep stage 4', 'Sleep stage R', 'Sleep stage W']\n",
      "Not setting metadata\n",
      "980 matching events found\n",
      "No baseline correction applied\n",
      "0 projection items activated\n",
      "Loading data for 980 events and 3000 original time points ...\n"
     ]
    },
    {
     "name": "stderr",
     "output_type": "stream",
     "text": [
      "/tmp/ipykernel_14361/442409635.py:50: RuntimeWarning: No matching events found for Sleep stage M (event id 6)\n",
      "  epochs = mne.Epochs(raw=raw_data, events=events, event_id=event_id, tmin=0., tmax=tmax, baseline=None, on_missing='warn')\n"
     ]
    },
    {
     "name": "stdout",
     "output_type": "stream",
     "text": [
      "0 bad epochs dropped\n",
      "Extracting EDF parameters from /home/shate/Desktop/praca_magisterska/medical_signal_representation/data/sleepEDF/raw/SC4151E0-PSG.edf...\n",
      "EDF file detected\n",
      "Setting channel info structure...\n",
      "Creating raw.info structure...\n",
      "Used Annotations descriptions: ['Sleep stage 1', 'Sleep stage 2', 'Sleep stage 3', 'Sleep stage 4', 'Sleep stage R', 'Sleep stage W']\n",
      "Not setting metadata\n",
      "952 matching events found\n",
      "No baseline correction applied\n",
      "0 projection items activated\n",
      "Loading data for 952 events and 3000 original time points ...\n"
     ]
    },
    {
     "name": "stderr",
     "output_type": "stream",
     "text": [
      "/tmp/ipykernel_14361/442409635.py:50: RuntimeWarning: No matching events found for Sleep stage M (event id 6)\n",
      "  epochs = mne.Epochs(raw=raw_data, events=events, event_id=event_id, tmin=0., tmax=tmax, baseline=None, on_missing='warn')\n"
     ]
    },
    {
     "name": "stdout",
     "output_type": "stream",
     "text": [
      "0 bad epochs dropped\n",
      "Extracting EDF parameters from /home/shate/Desktop/praca_magisterska/medical_signal_representation/data/sleepEDF/raw/SC4172E0-PSG.edf...\n",
      "EDF file detected\n",
      "Setting channel info structure...\n",
      "Creating raw.info structure...\n",
      "Used Annotations descriptions: ['Sleep stage 1', 'Sleep stage 2', 'Sleep stage 3', 'Sleep stage 4', 'Sleep stage R', 'Sleep stage W']\n",
      "Not setting metadata\n",
      "952 matching events found\n",
      "No baseline correction applied\n",
      "0 projection items activated\n",
      "Loading data for 952 events and 3000 original time points ...\n"
     ]
    },
    {
     "name": "stderr",
     "output_type": "stream",
     "text": [
      "/tmp/ipykernel_14361/442409635.py:50: RuntimeWarning: No matching events found for Sleep stage M (event id 6)\n",
      "  epochs = mne.Epochs(raw=raw_data, events=events, event_id=event_id, tmin=0., tmax=tmax, baseline=None, on_missing='warn')\n"
     ]
    },
    {
     "name": "stdout",
     "output_type": "stream",
     "text": [
      "0 bad epochs dropped\n",
      "Extracting EDF parameters from /home/shate/Desktop/praca_magisterska/medical_signal_representation/data/sleepEDF/raw/SC4051E0-PSG.edf...\n",
      "EDF file detected\n",
      "Setting channel info structure...\n",
      "Creating raw.info structure...\n",
      "Used Annotations descriptions: ['Sleep stage 1', 'Sleep stage 2', 'Sleep stage 3', 'Sleep stage R', 'Sleep stage W']\n",
      "Not setting metadata\n",
      "1716 matching events found\n",
      "No baseline correction applied\n",
      "0 projection items activated\n",
      "Loading data for 1716 events and 3000 original time points ...\n"
     ]
    },
    {
     "name": "stderr",
     "output_type": "stream",
     "text": [
      "/tmp/ipykernel_14361/442409635.py:50: RuntimeWarning: No matching events found for Sleep stage 4 (event id 4)\n",
      "  epochs = mne.Epochs(raw=raw_data, events=events, event_id=event_id, tmin=0., tmax=tmax, baseline=None, on_missing='warn')\n",
      "/tmp/ipykernel_14361/442409635.py:50: RuntimeWarning: No matching events found for Sleep stage M (event id 6)\n",
      "  epochs = mne.Epochs(raw=raw_data, events=events, event_id=event_id, tmin=0., tmax=tmax, baseline=None, on_missing='warn')\n"
     ]
    },
    {
     "name": "stdout",
     "output_type": "stream",
     "text": [
      "0 bad epochs dropped\n",
      "Extracting EDF parameters from /home/shate/Desktop/praca_magisterska/medical_signal_representation/data/sleepEDF/raw/SC4301E0-PSG.edf...\n",
      "EDF file detected\n",
      "Setting channel info structure...\n",
      "Creating raw.info structure...\n",
      "Used Annotations descriptions: ['Sleep stage 1', 'Sleep stage 2', 'Sleep stage 3', 'Sleep stage 4', 'Sleep stage R', 'Sleep stage W']\n",
      "Not setting metadata\n",
      "1183 matching events found\n",
      "No baseline correction applied\n",
      "0 projection items activated\n",
      "Loading data for 1183 events and 3000 original time points ...\n"
     ]
    },
    {
     "name": "stderr",
     "output_type": "stream",
     "text": [
      "/tmp/ipykernel_14361/442409635.py:50: RuntimeWarning: No matching events found for Sleep stage M (event id 6)\n",
      "  epochs = mne.Epochs(raw=raw_data, events=events, event_id=event_id, tmin=0., tmax=tmax, baseline=None, on_missing='warn')\n"
     ]
    },
    {
     "name": "stdout",
     "output_type": "stream",
     "text": [
      "0 bad epochs dropped\n",
      "Extracting EDF parameters from /home/shate/Desktop/praca_magisterska/medical_signal_representation/data/sleepEDF/raw/SC4182E0-PSG.edf...\n",
      "EDF file detected\n",
      "Setting channel info structure...\n",
      "Creating raw.info structure...\n",
      "Used Annotations descriptions: ['Sleep stage 1', 'Sleep stage 2', 'Sleep stage 3', 'Sleep stage R', 'Sleep stage W']\n",
      "Not setting metadata\n",
      "1717 matching events found\n",
      "No baseline correction applied\n",
      "0 projection items activated\n",
      "Loading data for 1717 events and 3000 original time points ...\n"
     ]
    },
    {
     "name": "stderr",
     "output_type": "stream",
     "text": [
      "/tmp/ipykernel_14361/442409635.py:50: RuntimeWarning: No matching events found for Sleep stage 4 (event id 4)\n",
      "  epochs = mne.Epochs(raw=raw_data, events=events, event_id=event_id, tmin=0., tmax=tmax, baseline=None, on_missing='warn')\n",
      "/tmp/ipykernel_14361/442409635.py:50: RuntimeWarning: No matching events found for Sleep stage M (event id 6)\n",
      "  epochs = mne.Epochs(raw=raw_data, events=events, event_id=event_id, tmin=0., tmax=tmax, baseline=None, on_missing='warn')\n"
     ]
    },
    {
     "name": "stdout",
     "output_type": "stream",
     "text": [
      "0 bad epochs dropped\n",
      "Extracting EDF parameters from /home/shate/Desktop/praca_magisterska/medical_signal_representation/data/sleepEDF/raw/SC4742E0-PSG.edf...\n",
      "EDF file detected\n",
      "Setting channel info structure...\n",
      "Creating raw.info structure...\n",
      "Used Annotations descriptions: ['Sleep stage 1', 'Sleep stage 2', 'Sleep stage 3', 'Sleep stage R', 'Sleep stage W']\n",
      "Not setting metadata\n",
      "1241 matching events found\n",
      "No baseline correction applied\n",
      "0 projection items activated\n",
      "Loading data for 1241 events and 3000 original time points ...\n"
     ]
    },
    {
     "name": "stderr",
     "output_type": "stream",
     "text": [
      "/tmp/ipykernel_14361/442409635.py:50: RuntimeWarning: No matching events found for Sleep stage 4 (event id 4)\n",
      "  epochs = mne.Epochs(raw=raw_data, events=events, event_id=event_id, tmin=0., tmax=tmax, baseline=None, on_missing='warn')\n",
      "/tmp/ipykernel_14361/442409635.py:50: RuntimeWarning: No matching events found for Sleep stage M (event id 6)\n",
      "  epochs = mne.Epochs(raw=raw_data, events=events, event_id=event_id, tmin=0., tmax=tmax, baseline=None, on_missing='warn')\n"
     ]
    },
    {
     "name": "stdout",
     "output_type": "stream",
     "text": [
      "0 bad epochs dropped\n",
      "Extracting EDF parameters from /home/shate/Desktop/praca_magisterska/medical_signal_representation/data/sleepEDF/raw/SC4351F0-PSG.edf...\n",
      "EDF file detected\n",
      "Setting channel info structure...\n",
      "Creating raw.info structure...\n",
      "Used Annotations descriptions: ['Sleep stage 1', 'Sleep stage 2', 'Sleep stage R', 'Sleep stage W']\n",
      "Not setting metadata\n",
      "1582 matching events found\n",
      "No baseline correction applied\n",
      "0 projection items activated\n",
      "Loading data for 1582 events and 3000 original time points ...\n"
     ]
    },
    {
     "name": "stderr",
     "output_type": "stream",
     "text": [
      "/tmp/ipykernel_14361/442409635.py:50: RuntimeWarning: No matching events found for Sleep stage 3 (event id 3)\n",
      "  epochs = mne.Epochs(raw=raw_data, events=events, event_id=event_id, tmin=0., tmax=tmax, baseline=None, on_missing='warn')\n",
      "/tmp/ipykernel_14361/442409635.py:50: RuntimeWarning: No matching events found for Sleep stage 4 (event id 4)\n",
      "  epochs = mne.Epochs(raw=raw_data, events=events, event_id=event_id, tmin=0., tmax=tmax, baseline=None, on_missing='warn')\n",
      "/tmp/ipykernel_14361/442409635.py:50: RuntimeWarning: No matching events found for Sleep stage M (event id 6)\n",
      "  epochs = mne.Epochs(raw=raw_data, events=events, event_id=event_id, tmin=0., tmax=tmax, baseline=None, on_missing='warn')\n"
     ]
    },
    {
     "name": "stdout",
     "output_type": "stream",
     "text": [
      "0 bad epochs dropped\n",
      "Extracting EDF parameters from /home/shate/Desktop/praca_magisterska/medical_signal_representation/data/sleepEDF/raw/SC4052E0-PSG.edf...\n",
      "EDF file detected\n",
      "Setting channel info structure...\n",
      "Creating raw.info structure...\n",
      "Used Annotations descriptions: ['Sleep stage 1', 'Sleep stage 2', 'Sleep stage 3', 'Sleep stage 4', 'Sleep stage R', 'Sleep stage W']\n",
      "Not setting metadata\n",
      "843 matching events found\n",
      "No baseline correction applied\n",
      "0 projection items activated\n",
      "Loading data for 843 events and 3000 original time points ...\n"
     ]
    },
    {
     "name": "stderr",
     "output_type": "stream",
     "text": [
      "/tmp/ipykernel_14361/442409635.py:50: RuntimeWarning: No matching events found for Sleep stage M (event id 6)\n",
      "  epochs = mne.Epochs(raw=raw_data, events=events, event_id=event_id, tmin=0., tmax=tmax, baseline=None, on_missing='warn')\n"
     ]
    },
    {
     "name": "stdout",
     "output_type": "stream",
     "text": [
      "0 bad epochs dropped\n",
      "Extracting EDF parameters from /home/shate/Desktop/praca_magisterska/medical_signal_representation/data/sleepEDF/raw/SC4721E0-PSG.edf...\n",
      "EDF file detected\n",
      "Setting channel info structure...\n",
      "Creating raw.info structure...\n",
      "Used Annotations descriptions: ['Sleep stage 1', 'Sleep stage 2', 'Sleep stage 3', 'Sleep stage 4', 'Sleep stage R', 'Sleep stage W']\n",
      "Not setting metadata\n",
      "963 matching events found\n",
      "No baseline correction applied\n",
      "0 projection items activated\n",
      "Loading data for 963 events and 3000 original time points ...\n"
     ]
    },
    {
     "name": "stderr",
     "output_type": "stream",
     "text": [
      "/tmp/ipykernel_14361/442409635.py:50: RuntimeWarning: No matching events found for Sleep stage M (event id 6)\n",
      "  epochs = mne.Epochs(raw=raw_data, events=events, event_id=event_id, tmin=0., tmax=tmax, baseline=None, on_missing='warn')\n"
     ]
    },
    {
     "name": "stdout",
     "output_type": "stream",
     "text": [
      "0 bad epochs dropped\n",
      "Extracting EDF parameters from /home/shate/Desktop/praca_magisterska/medical_signal_representation/data/sleepEDF/raw/SC4041E0-PSG.edf...\n",
      "EDF file detected\n",
      "Setting channel info structure...\n",
      "Creating raw.info structure...\n",
      "Used Annotations descriptions: ['Sleep stage 1', 'Sleep stage 2', 'Sleep stage 3', 'Sleep stage 4', 'Sleep stage R', 'Sleep stage W']\n",
      "Not setting metadata\n",
      "1072 matching events found\n",
      "No baseline correction applied\n",
      "0 projection items activated\n",
      "Loading data for 1072 events and 3000 original time points ...\n"
     ]
    },
    {
     "name": "stderr",
     "output_type": "stream",
     "text": [
      "/tmp/ipykernel_14361/442409635.py:50: RuntimeWarning: No matching events found for Sleep stage M (event id 6)\n",
      "  epochs = mne.Epochs(raw=raw_data, events=events, event_id=event_id, tmin=0., tmax=tmax, baseline=None, on_missing='warn')\n"
     ]
    },
    {
     "name": "stdout",
     "output_type": "stream",
     "text": [
      "0 bad epochs dropped\n",
      "Extracting EDF parameters from /home/shate/Desktop/praca_magisterska/medical_signal_representation/data/sleepEDF/raw/SC4821G0-PSG.edf...\n",
      "EDF file detected\n",
      "Setting channel info structure...\n",
      "Creating raw.info structure...\n",
      "Used Annotations descriptions: ['Sleep stage 1', 'Sleep stage 2', 'Sleep stage 3', 'Sleep stage 4', 'Sleep stage R', 'Sleep stage W']\n",
      "Not setting metadata\n",
      "1054 matching events found\n",
      "No baseline correction applied\n",
      "0 projection items activated\n",
      "Loading data for 1054 events and 3000 original time points ...\n"
     ]
    },
    {
     "name": "stderr",
     "output_type": "stream",
     "text": [
      "/tmp/ipykernel_14361/442409635.py:50: RuntimeWarning: No matching events found for Sleep stage M (event id 6)\n",
      "  epochs = mne.Epochs(raw=raw_data, events=events, event_id=event_id, tmin=0., tmax=tmax, baseline=None, on_missing='warn')\n"
     ]
    },
    {
     "name": "stdout",
     "output_type": "stream",
     "text": [
      "0 bad epochs dropped\n"
     ]
    }
   ],
   "source": [
    "for row in tqdm(info.iterrows(), total=len(info)):\n",
    "    row = row[1]\n",
    "    data_file, header_file, subject, night = row[['psg', 'hypnogram', 'subject', 'night']]\n",
    "    epochs_df = parse_edf_to_epochs_dataframe(data_file, header_file, epoch_duration=30)\n",
    "    epochs_df.to_csv(RAW_CSV_PATH / f\"{subject}_{night}.csv\")"
   ]
  },
  {
   "cell_type": "code",
   "execution_count": 307,
   "id": "52129b94-48b5-41db-87c4-747df3f7d730",
   "metadata": {},
   "outputs": [],
   "source": [
    "from sklearn.model_selection import GroupShuffleSplit\n",
    "\n",
    "def create_train_val_test_split_info(random_state=42, save=False):\n",
    "    info = pd.read_csv(SLEEP_EDF_PATH / \"raw_info.csv\")\n",
    "\n",
    "    groups = info['subject'].values\n",
    "    gss = GroupShuffleSplit(n_splits=1, train_size=.7, random_state=42)\n",
    "    train_idx, val_test_idx = next(gss.split(info, groups=groups))\n",
    "\n",
    "    train_info = info.iloc[train_idx]\n",
    "    val_test_info = info.iloc[val_test_idx]\n",
    "\n",
    "    val_test_groups = val_test_info['subject'].values\n",
    "    gss = GroupShuffleSplit(n_splits=1, train_size=.5, random_state=42)\n",
    "    val_idx, test_idx = next(gss.split(val_test_info, groups=val_test_groups))\n",
    "\n",
    "    val_info = info.iloc[val_idx]\n",
    "    test_info = info.iloc[test_idx]\n",
    "\n",
    "    train_info.loc[:, 'split'] = 'train'\n",
    "    val_info.loc[:, 'split'] = 'val'\n",
    "    test_info.loc[:, 'split'] = 'test'\n",
    "\n",
    "    train_val_test_split_info = pd.concat([train_info, val_info, test_info])\n",
    "    \n",
    "    if save:\n",
    "        train_val_test_split_info.to_csv(SLEEP_EDF_PATH / \"split_info.csv\", index=False)\n",
    "    return train_val_test_split_info"
   ]
  },
  {
   "cell_type": "code",
   "execution_count": 314,
   "id": "38a91ded-f5f5-4dc3-8c01-62658428a7ee",
   "metadata": {},
   "outputs": [
    {
     "data": {
      "text/html": [
       "<div>\n",
       "<style scoped>\n",
       "    .dataframe tbody tr th:only-of-type {\n",
       "        vertical-align: middle;\n",
       "    }\n",
       "\n",
       "    .dataframe tbody tr th {\n",
       "        vertical-align: top;\n",
       "    }\n",
       "\n",
       "    .dataframe thead th {\n",
       "        text-align: right;\n",
       "    }\n",
       "</style>\n",
       "<table border=\"1\" class=\"dataframe\">\n",
       "  <thead>\n",
       "    <tr style=\"text-align: right;\">\n",
       "      <th></th>\n",
       "      <th>night</th>\n",
       "      <th>hypnogram</th>\n",
       "      <th>psg</th>\n",
       "      <th>raw_csv_path</th>\n",
       "    </tr>\n",
       "    <tr>\n",
       "      <th>subject</th>\n",
       "      <th></th>\n",
       "      <th></th>\n",
       "      <th></th>\n",
       "      <th></th>\n",
       "    </tr>\n",
       "  </thead>\n",
       "  <tbody>\n",
       "    <tr>\n",
       "      <th>70</th>\n",
       "      <td>2</td>\n",
       "      <td>SC4702EA-Hypnogram.edf</td>\n",
       "      <td>SC4662E0-PSG.edf</td>\n",
       "      <td>70/2.csv</td>\n",
       "    </tr>\n",
       "    <tr>\n",
       "      <th>70</th>\n",
       "      <td>1</td>\n",
       "      <td>SC4701EC-Hypnogram.edf</td>\n",
       "      <td>SC4182E0-PSG.edf</td>\n",
       "      <td>70/1.csv</td>\n",
       "    </tr>\n",
       "  </tbody>\n",
       "</table>\n",
       "</div>"
      ],
      "text/plain": [
       "         night               hypnogram               psg raw_csv_path\n",
       "subject                                                              \n",
       "70           2  SC4702EA-Hypnogram.edf  SC4662E0-PSG.edf     70/2.csv\n",
       "70           1  SC4701EC-Hypnogram.edf  SC4182E0-PSG.edf     70/1.csv"
      ]
     },
     "execution_count": 314,
     "metadata": {},
     "output_type": "execute_result"
    }
   ],
   "source": [
    "info.set_index('subject').loc[70]"
   ]
  },
  {
   "cell_type": "code",
   "execution_count": 308,
   "id": "142be100-d580-4aa1-bbeb-5f187269d2c2",
   "metadata": {},
   "outputs": [
    {
     "name": "stderr",
     "output_type": "stream",
     "text": [
      "/home/shate/.local/lib/python3.8/site-packages/pandas/core/indexing.py:1667: SettingWithCopyWarning: \n",
      "A value is trying to be set on a copy of a slice from a DataFrame.\n",
      "Try using .loc[row_indexer,col_indexer] = value instead\n",
      "\n",
      "See the caveats in the documentation: https://pandas.pydata.org/pandas-docs/stable/user_guide/indexing.html#returning-a-view-versus-a-copy\n",
      "  self.obj[key] = value\n"
     ]
    }
   ],
   "source": [
    "train_val_test_split_info = create_train_val_test_split_info(save=True)"
   ]
  },
  {
   "cell_type": "code",
   "execution_count": 303,
   "id": "87de118e-c4e9-42eb-973a-274280153032",
   "metadata": {},
   "outputs": [
    {
     "data": {
      "text/html": [
       "<div>\n",
       "<style scoped>\n",
       "    .dataframe tbody tr th:only-of-type {\n",
       "        vertical-align: middle;\n",
       "    }\n",
       "\n",
       "    .dataframe tbody tr th {\n",
       "        vertical-align: top;\n",
       "    }\n",
       "\n",
       "    .dataframe thead th {\n",
       "        text-align: right;\n",
       "    }\n",
       "</style>\n",
       "<table border=\"1\" class=\"dataframe\">\n",
       "  <thead>\n",
       "    <tr style=\"text-align: right;\">\n",
       "      <th></th>\n",
       "      <th>subject</th>\n",
       "      <th>night</th>\n",
       "      <th>hypnogram</th>\n",
       "      <th>psg</th>\n",
       "      <th>raw_csv_path</th>\n",
       "      <th>split</th>\n",
       "    </tr>\n",
       "  </thead>\n",
       "  <tbody>\n",
       "    <tr>\n",
       "      <th>0</th>\n",
       "      <td>21</td>\n",
       "      <td>2</td>\n",
       "      <td>SC4212EC-Hypnogram.edf</td>\n",
       "      <td>SC4802G0-PSG.edf</td>\n",
       "      <td>21/2.csv</td>\n",
       "      <td>train</td>\n",
       "    </tr>\n",
       "    <tr>\n",
       "      <th>3</th>\n",
       "      <td>2</td>\n",
       "      <td>1</td>\n",
       "      <td>SC4021EH-Hypnogram.edf</td>\n",
       "      <td>SC4442E0-PSG.edf</td>\n",
       "      <td>02/1.csv</td>\n",
       "      <td>train</td>\n",
       "    </tr>\n",
       "    <tr>\n",
       "      <th>4</th>\n",
       "      <td>6</td>\n",
       "      <td>2</td>\n",
       "      <td>SC4062EC-Hypnogram.edf</td>\n",
       "      <td>SC4602E0-PSG.edf</td>\n",
       "      <td>06/2.csv</td>\n",
       "      <td>train</td>\n",
       "    </tr>\n",
       "    <tr>\n",
       "      <th>5</th>\n",
       "      <td>76</td>\n",
       "      <td>1</td>\n",
       "      <td>SC4761EP-Hypnogram.edf</td>\n",
       "      <td>SC4702E0-PSG.edf</td>\n",
       "      <td>76/1.csv</td>\n",
       "      <td>train</td>\n",
       "    </tr>\n",
       "    <tr>\n",
       "      <th>6</th>\n",
       "      <td>7</td>\n",
       "      <td>2</td>\n",
       "      <td>SC4072EH-Hypnogram.edf</td>\n",
       "      <td>SC4211E0-PSG.edf</td>\n",
       "      <td>07/2.csv</td>\n",
       "      <td>train</td>\n",
       "    </tr>\n",
       "    <tr>\n",
       "      <th>...</th>\n",
       "      <td>...</td>\n",
       "      <td>...</td>\n",
       "      <td>...</td>\n",
       "      <td>...</td>\n",
       "      <td>...</td>\n",
       "      <td>...</td>\n",
       "    </tr>\n",
       "    <tr>\n",
       "      <th>43</th>\n",
       "      <td>44</td>\n",
       "      <td>1</td>\n",
       "      <td>SC4441EC-Hypnogram.edf</td>\n",
       "      <td>SC4111E0-PSG.edf</td>\n",
       "      <td>44/1.csv</td>\n",
       "      <td>test</td>\n",
       "    </tr>\n",
       "    <tr>\n",
       "      <th>44</th>\n",
       "      <td>54</td>\n",
       "      <td>2</td>\n",
       "      <td>SC4542FW-Hypnogram.edf</td>\n",
       "      <td>SC4252E0-PSG.edf</td>\n",
       "      <td>54/2.csv</td>\n",
       "      <td>test</td>\n",
       "    </tr>\n",
       "    <tr>\n",
       "      <th>45</th>\n",
       "      <td>74</td>\n",
       "      <td>2</td>\n",
       "      <td>SC4742EC-Hypnogram.edf</td>\n",
       "      <td>SC4801G0-PSG.edf</td>\n",
       "      <td>74/2.csv</td>\n",
       "      <td>test</td>\n",
       "    </tr>\n",
       "    <tr>\n",
       "      <th>46</th>\n",
       "      <td>38</td>\n",
       "      <td>1</td>\n",
       "      <td>SC4381FC-Hypnogram.edf</td>\n",
       "      <td>SC4651E0-PSG.edf</td>\n",
       "      <td>38/1.csv</td>\n",
       "      <td>test</td>\n",
       "    </tr>\n",
       "    <tr>\n",
       "      <th>47</th>\n",
       "      <td>44</td>\n",
       "      <td>2</td>\n",
       "      <td>SC4442EV-Hypnogram.edf</td>\n",
       "      <td>SC4491G0-PSG.edf</td>\n",
       "      <td>44/2.csv</td>\n",
       "      <td>test</td>\n",
       "    </tr>\n",
       "  </tbody>\n",
       "</table>\n",
       "<p>153 rows × 6 columns</p>\n",
       "</div>"
      ],
      "text/plain": [
       "    subject  night               hypnogram               psg raw_csv_path  \\\n",
       "0        21      2  SC4212EC-Hypnogram.edf  SC4802G0-PSG.edf     21/2.csv   \n",
       "3         2      1  SC4021EH-Hypnogram.edf  SC4442E0-PSG.edf     02/1.csv   \n",
       "4         6      2  SC4062EC-Hypnogram.edf  SC4602E0-PSG.edf     06/2.csv   \n",
       "5        76      1  SC4761EP-Hypnogram.edf  SC4702E0-PSG.edf     76/1.csv   \n",
       "6         7      2  SC4072EH-Hypnogram.edf  SC4211E0-PSG.edf     07/2.csv   \n",
       "..      ...    ...                     ...               ...          ...   \n",
       "43       44      1  SC4441EC-Hypnogram.edf  SC4111E0-PSG.edf     44/1.csv   \n",
       "44       54      2  SC4542FW-Hypnogram.edf  SC4252E0-PSG.edf     54/2.csv   \n",
       "45       74      2  SC4742EC-Hypnogram.edf  SC4801G0-PSG.edf     74/2.csv   \n",
       "46       38      1  SC4381FC-Hypnogram.edf  SC4651E0-PSG.edf     38/1.csv   \n",
       "47       44      2  SC4442EV-Hypnogram.edf  SC4491G0-PSG.edf     44/2.csv   \n",
       "\n",
       "    split  \n",
       "0   train  \n",
       "3   train  \n",
       "4   train  \n",
       "5   train  \n",
       "6   train  \n",
       "..    ...  \n",
       "43   test  \n",
       "44   test  \n",
       "45   test  \n",
       "46   test  \n",
       "47   test  \n",
       "\n",
       "[153 rows x 6 columns]"
      ]
     },
     "execution_count": 303,
     "metadata": {},
     "output_type": "execute_result"
    }
   ],
   "source": [
    "train_val_test_split_info"
   ]
  },
  {
   "cell_type": "code",
   "execution_count": 299,
   "id": "40252935-e504-4c8d-88ef-1c386c0b8ea9",
   "metadata": {},
   "outputs": [
    {
     "data": {
      "text/html": [
       "<div>\n",
       "<style scoped>\n",
       "    .dataframe tbody tr th:only-of-type {\n",
       "        vertical-align: middle;\n",
       "    }\n",
       "\n",
       "    .dataframe tbody tr th {\n",
       "        vertical-align: top;\n",
       "    }\n",
       "\n",
       "    .dataframe thead th {\n",
       "        text-align: right;\n",
       "    }\n",
       "</style>\n",
       "<table border=\"1\" class=\"dataframe\">\n",
       "  <thead>\n",
       "    <tr style=\"text-align: right;\">\n",
       "      <th></th>\n",
       "      <th>subject</th>\n",
       "      <th>night</th>\n",
       "      <th>hypnogram</th>\n",
       "      <th>psg</th>\n",
       "      <th>raw_csv_path</th>\n",
       "      <th>split</th>\n",
       "    </tr>\n",
       "  </thead>\n",
       "  <tbody>\n",
       "    <tr>\n",
       "      <th>2</th>\n",
       "      <td>70</td>\n",
       "      <td>2</td>\n",
       "      <td>SC4702EA-Hypnogram.edf</td>\n",
       "      <td>SC4662E0-PSG.edf</td>\n",
       "      <td>70/2.csv</td>\n",
       "      <td>val</td>\n",
       "    </tr>\n",
       "    <tr>\n",
       "      <th>3</th>\n",
       "      <td>2</td>\n",
       "      <td>1</td>\n",
       "      <td>SC4021EH-Hypnogram.edf</td>\n",
       "      <td>SC4442E0-PSG.edf</td>\n",
       "      <td>02/1.csv</td>\n",
       "      <td>val</td>\n",
       "    </tr>\n",
       "    <tr>\n",
       "      <th>6</th>\n",
       "      <td>7</td>\n",
       "      <td>2</td>\n",
       "      <td>SC4072EH-Hypnogram.edf</td>\n",
       "      <td>SC4211E0-PSG.edf</td>\n",
       "      <td>07/2.csv</td>\n",
       "      <td>val</td>\n",
       "    </tr>\n",
       "    <tr>\n",
       "      <th>7</th>\n",
       "      <td>37</td>\n",
       "      <td>1</td>\n",
       "      <td>SC4371FA-Hypnogram.edf</td>\n",
       "      <td>SC4262F0-PSG.edf</td>\n",
       "      <td>37/1.csv</td>\n",
       "      <td>val</td>\n",
       "    </tr>\n",
       "    <tr>\n",
       "      <th>9</th>\n",
       "      <td>72</td>\n",
       "      <td>1</td>\n",
       "      <td>SC4721EC-Hypnogram.edf</td>\n",
       "      <td>SC4412E0-PSG.edf</td>\n",
       "      <td>72/1.csv</td>\n",
       "      <td>val</td>\n",
       "    </tr>\n",
       "    <tr>\n",
       "      <th>14</th>\n",
       "      <td>82</td>\n",
       "      <td>2</td>\n",
       "      <td>SC4822GC-Hypnogram.edf</td>\n",
       "      <td>SC4371F0-PSG.edf</td>\n",
       "      <td>82/2.csv</td>\n",
       "      <td>val</td>\n",
       "    </tr>\n",
       "    <tr>\n",
       "      <th>15</th>\n",
       "      <td>1</td>\n",
       "      <td>1</td>\n",
       "      <td>SC4011EH-Hypnogram.edf</td>\n",
       "      <td>SC4591G0-PSG.edf</td>\n",
       "      <td>01/1.csv</td>\n",
       "      <td>val</td>\n",
       "    </tr>\n",
       "    <tr>\n",
       "      <th>18</th>\n",
       "      <td>20</td>\n",
       "      <td>2</td>\n",
       "      <td>SC4202EC-Hypnogram.edf</td>\n",
       "      <td>SC4502E0-PSG.edf</td>\n",
       "      <td>20/2.csv</td>\n",
       "      <td>val</td>\n",
       "    </tr>\n",
       "    <tr>\n",
       "      <th>20</th>\n",
       "      <td>24</td>\n",
       "      <td>2</td>\n",
       "      <td>SC4242EA-Hypnogram.edf</td>\n",
       "      <td>SC4251E0-PSG.edf</td>\n",
       "      <td>24/2.csv</td>\n",
       "      <td>val</td>\n",
       "    </tr>\n",
       "    <tr>\n",
       "      <th>21</th>\n",
       "      <td>77</td>\n",
       "      <td>1</td>\n",
       "      <td>SC4771GC-Hypnogram.edf</td>\n",
       "      <td>SC4141E0-PSG.edf</td>\n",
       "      <td>77/1.csv</td>\n",
       "      <td>val</td>\n",
       "    </tr>\n",
       "    <tr>\n",
       "      <th>22</th>\n",
       "      <td>52</td>\n",
       "      <td>2</td>\n",
       "      <td>SC4522EM-Hypnogram.edf</td>\n",
       "      <td>SC4622E0-PSG.edf</td>\n",
       "      <td>52/2.csv</td>\n",
       "      <td>val</td>\n",
       "    </tr>\n",
       "    <tr>\n",
       "      <th>23</th>\n",
       "      <td>49</td>\n",
       "      <td>2</td>\n",
       "      <td>SC4492GJ-Hypnogram.edf</td>\n",
       "      <td>SC4522E0-PSG.edf</td>\n",
       "      <td>49/2.csv</td>\n",
       "      <td>val</td>\n",
       "    </tr>\n",
       "    <tr>\n",
       "      <th>25</th>\n",
       "      <td>82</td>\n",
       "      <td>1</td>\n",
       "      <td>SC4821GC-Hypnogram.edf</td>\n",
       "      <td>SC4411E0-PSG.edf</td>\n",
       "      <td>82/1.csv</td>\n",
       "      <td>val</td>\n",
       "    </tr>\n",
       "    <tr>\n",
       "      <th>28</th>\n",
       "      <td>48</td>\n",
       "      <td>1</td>\n",
       "      <td>SC4481FV-Hypnogram.edf</td>\n",
       "      <td>SC4641E0-PSG.edf</td>\n",
       "      <td>48/1.csv</td>\n",
       "      <td>val</td>\n",
       "    </tr>\n",
       "    <tr>\n",
       "      <th>29</th>\n",
       "      <td>1</td>\n",
       "      <td>2</td>\n",
       "      <td>SC4012EC-Hypnogram.edf</td>\n",
       "      <td>SC4332F0-PSG.edf</td>\n",
       "      <td>01/2.csv</td>\n",
       "      <td>val</td>\n",
       "    </tr>\n",
       "    <tr>\n",
       "      <th>30</th>\n",
       "      <td>0</td>\n",
       "      <td>2</td>\n",
       "      <td>SC4002EC-Hypnogram.edf</td>\n",
       "      <td>SC4481F0-PSG.edf</td>\n",
       "      <td>00/2.csv</td>\n",
       "      <td>val</td>\n",
       "    </tr>\n",
       "    <tr>\n",
       "      <th>31</th>\n",
       "      <td>67</td>\n",
       "      <td>1</td>\n",
       "      <td>SC4671GJ-Hypnogram.edf</td>\n",
       "      <td>SC4341F0-PSG.edf</td>\n",
       "      <td>67/1.csv</td>\n",
       "      <td>val</td>\n",
       "    </tr>\n",
       "    <tr>\n",
       "      <th>32</th>\n",
       "      <td>29</td>\n",
       "      <td>2</td>\n",
       "      <td>SC4292GC-Hypnogram.edf</td>\n",
       "      <td>SC4461F0-PSG.edf</td>\n",
       "      <td>29/2.csv</td>\n",
       "      <td>val</td>\n",
       "    </tr>\n",
       "    <tr>\n",
       "      <th>35</th>\n",
       "      <td>66</td>\n",
       "      <td>2</td>\n",
       "      <td>SC4662EJ-Hypnogram.edf</td>\n",
       "      <td>SC4771G0-PSG.edf</td>\n",
       "      <td>66/2.csv</td>\n",
       "      <td>val</td>\n",
       "    </tr>\n",
       "    <tr>\n",
       "      <th>36</th>\n",
       "      <td>11</td>\n",
       "      <td>2</td>\n",
       "      <td>SC4112EC-Hypnogram.edf</td>\n",
       "      <td>SC4001E0-PSG.edf</td>\n",
       "      <td>11/2.csv</td>\n",
       "      <td>val</td>\n",
       "    </tr>\n",
       "    <tr>\n",
       "      <th>37</th>\n",
       "      <td>58</td>\n",
       "      <td>2</td>\n",
       "      <td>SC4582GP-Hypnogram.edf</td>\n",
       "      <td>SC4471F0-PSG.edf</td>\n",
       "      <td>58/2.csv</td>\n",
       "      <td>val</td>\n",
       "    </tr>\n",
       "    <tr>\n",
       "      <th>38</th>\n",
       "      <td>12</td>\n",
       "      <td>2</td>\n",
       "      <td>SC4122EV-Hypnogram.edf</td>\n",
       "      <td>SC4811G0-PSG.edf</td>\n",
       "      <td>12/2.csv</td>\n",
       "      <td>val</td>\n",
       "    </tr>\n",
       "    <tr>\n",
       "      <th>41</th>\n",
       "      <td>5</td>\n",
       "      <td>2</td>\n",
       "      <td>SC4052EC-Hypnogram.edf</td>\n",
       "      <td>SC4221E0-PSG.edf</td>\n",
       "      <td>05/2.csv</td>\n",
       "      <td>val</td>\n",
       "    </tr>\n",
       "    <tr>\n",
       "      <th>42</th>\n",
       "      <td>47</td>\n",
       "      <td>1</td>\n",
       "      <td>SC4471FA-Hypnogram.edf</td>\n",
       "      <td>SC4482F0-PSG.edf</td>\n",
       "      <td>47/1.csv</td>\n",
       "      <td>val</td>\n",
       "    </tr>\n",
       "  </tbody>\n",
       "</table>\n",
       "</div>"
      ],
      "text/plain": [
       "    subject  night               hypnogram               psg raw_csv_path  \\\n",
       "2        70      2  SC4702EA-Hypnogram.edf  SC4662E0-PSG.edf     70/2.csv   \n",
       "3         2      1  SC4021EH-Hypnogram.edf  SC4442E0-PSG.edf     02/1.csv   \n",
       "6         7      2  SC4072EH-Hypnogram.edf  SC4211E0-PSG.edf     07/2.csv   \n",
       "7        37      1  SC4371FA-Hypnogram.edf  SC4262F0-PSG.edf     37/1.csv   \n",
       "9        72      1  SC4721EC-Hypnogram.edf  SC4412E0-PSG.edf     72/1.csv   \n",
       "14       82      2  SC4822GC-Hypnogram.edf  SC4371F0-PSG.edf     82/2.csv   \n",
       "15        1      1  SC4011EH-Hypnogram.edf  SC4591G0-PSG.edf     01/1.csv   \n",
       "18       20      2  SC4202EC-Hypnogram.edf  SC4502E0-PSG.edf     20/2.csv   \n",
       "20       24      2  SC4242EA-Hypnogram.edf  SC4251E0-PSG.edf     24/2.csv   \n",
       "21       77      1  SC4771GC-Hypnogram.edf  SC4141E0-PSG.edf     77/1.csv   \n",
       "22       52      2  SC4522EM-Hypnogram.edf  SC4622E0-PSG.edf     52/2.csv   \n",
       "23       49      2  SC4492GJ-Hypnogram.edf  SC4522E0-PSG.edf     49/2.csv   \n",
       "25       82      1  SC4821GC-Hypnogram.edf  SC4411E0-PSG.edf     82/1.csv   \n",
       "28       48      1  SC4481FV-Hypnogram.edf  SC4641E0-PSG.edf     48/1.csv   \n",
       "29        1      2  SC4012EC-Hypnogram.edf  SC4332F0-PSG.edf     01/2.csv   \n",
       "30        0      2  SC4002EC-Hypnogram.edf  SC4481F0-PSG.edf     00/2.csv   \n",
       "31       67      1  SC4671GJ-Hypnogram.edf  SC4341F0-PSG.edf     67/1.csv   \n",
       "32       29      2  SC4292GC-Hypnogram.edf  SC4461F0-PSG.edf     29/2.csv   \n",
       "35       66      2  SC4662EJ-Hypnogram.edf  SC4771G0-PSG.edf     66/2.csv   \n",
       "36       11      2  SC4112EC-Hypnogram.edf  SC4001E0-PSG.edf     11/2.csv   \n",
       "37       58      2  SC4582GP-Hypnogram.edf  SC4471F0-PSG.edf     58/2.csv   \n",
       "38       12      2  SC4122EV-Hypnogram.edf  SC4811G0-PSG.edf     12/2.csv   \n",
       "41        5      2  SC4052EC-Hypnogram.edf  SC4221E0-PSG.edf     05/2.csv   \n",
       "42       47      1  SC4471FA-Hypnogram.edf  SC4482F0-PSG.edf     47/1.csv   \n",
       "\n",
       "   split  \n",
       "2    val  \n",
       "3    val  \n",
       "6    val  \n",
       "7    val  \n",
       "9    val  \n",
       "14   val  \n",
       "15   val  \n",
       "18   val  \n",
       "20   val  \n",
       "21   val  \n",
       "22   val  \n",
       "23   val  \n",
       "25   val  \n",
       "28   val  \n",
       "29   val  \n",
       "30   val  \n",
       "31   val  \n",
       "32   val  \n",
       "35   val  \n",
       "36   val  \n",
       "37   val  \n",
       "38   val  \n",
       "41   val  \n",
       "42   val  "
      ]
     },
     "execution_count": 299,
     "metadata": {},
     "output_type": "execute_result"
    }
   ],
   "source": [
    "val_info"
   ]
  },
  {
   "cell_type": "code",
   "execution_count": 300,
   "id": "01af289e-3c00-4f75-b1bf-eefb6b3e1207",
   "metadata": {},
   "outputs": [
    {
     "data": {
      "text/html": [
       "<div>\n",
       "<style scoped>\n",
       "    .dataframe tbody tr th:only-of-type {\n",
       "        vertical-align: middle;\n",
       "    }\n",
       "\n",
       "    .dataframe tbody tr th {\n",
       "        vertical-align: top;\n",
       "    }\n",
       "\n",
       "    .dataframe thead th {\n",
       "        text-align: right;\n",
       "    }\n",
       "</style>\n",
       "<table border=\"1\" class=\"dataframe\">\n",
       "  <thead>\n",
       "    <tr style=\"text-align: right;\">\n",
       "      <th></th>\n",
       "      <th>subject</th>\n",
       "      <th>night</th>\n",
       "      <th>hypnogram</th>\n",
       "      <th>psg</th>\n",
       "      <th>raw_csv_path</th>\n",
       "      <th>split</th>\n",
       "    </tr>\n",
       "  </thead>\n",
       "  <tbody>\n",
       "    <tr>\n",
       "      <th>0</th>\n",
       "      <td>21</td>\n",
       "      <td>2</td>\n",
       "      <td>SC4212EC-Hypnogram.edf</td>\n",
       "      <td>SC4802G0-PSG.edf</td>\n",
       "      <td>21/2.csv</td>\n",
       "      <td>train</td>\n",
       "    </tr>\n",
       "    <tr>\n",
       "      <th>3</th>\n",
       "      <td>2</td>\n",
       "      <td>1</td>\n",
       "      <td>SC4021EH-Hypnogram.edf</td>\n",
       "      <td>SC4442E0-PSG.edf</td>\n",
       "      <td>02/1.csv</td>\n",
       "      <td>train</td>\n",
       "    </tr>\n",
       "    <tr>\n",
       "      <th>4</th>\n",
       "      <td>6</td>\n",
       "      <td>2</td>\n",
       "      <td>SC4062EC-Hypnogram.edf</td>\n",
       "      <td>SC4602E0-PSG.edf</td>\n",
       "      <td>06/2.csv</td>\n",
       "      <td>train</td>\n",
       "    </tr>\n",
       "    <tr>\n",
       "      <th>5</th>\n",
       "      <td>76</td>\n",
       "      <td>1</td>\n",
       "      <td>SC4761EP-Hypnogram.edf</td>\n",
       "      <td>SC4702E0-PSG.edf</td>\n",
       "      <td>76/1.csv</td>\n",
       "      <td>train</td>\n",
       "    </tr>\n",
       "    <tr>\n",
       "      <th>6</th>\n",
       "      <td>7</td>\n",
       "      <td>2</td>\n",
       "      <td>SC4072EH-Hypnogram.edf</td>\n",
       "      <td>SC4211E0-PSG.edf</td>\n",
       "      <td>07/2.csv</td>\n",
       "      <td>train</td>\n",
       "    </tr>\n",
       "    <tr>\n",
       "      <th>...</th>\n",
       "      <td>...</td>\n",
       "      <td>...</td>\n",
       "      <td>...</td>\n",
       "      <td>...</td>\n",
       "      <td>...</td>\n",
       "      <td>...</td>\n",
       "    </tr>\n",
       "    <tr>\n",
       "      <th>43</th>\n",
       "      <td>44</td>\n",
       "      <td>1</td>\n",
       "      <td>SC4441EC-Hypnogram.edf</td>\n",
       "      <td>SC4111E0-PSG.edf</td>\n",
       "      <td>44/1.csv</td>\n",
       "      <td>test</td>\n",
       "    </tr>\n",
       "    <tr>\n",
       "      <th>44</th>\n",
       "      <td>54</td>\n",
       "      <td>2</td>\n",
       "      <td>SC4542FW-Hypnogram.edf</td>\n",
       "      <td>SC4252E0-PSG.edf</td>\n",
       "      <td>54/2.csv</td>\n",
       "      <td>test</td>\n",
       "    </tr>\n",
       "    <tr>\n",
       "      <th>45</th>\n",
       "      <td>74</td>\n",
       "      <td>2</td>\n",
       "      <td>SC4742EC-Hypnogram.edf</td>\n",
       "      <td>SC4801G0-PSG.edf</td>\n",
       "      <td>74/2.csv</td>\n",
       "      <td>test</td>\n",
       "    </tr>\n",
       "    <tr>\n",
       "      <th>46</th>\n",
       "      <td>38</td>\n",
       "      <td>1</td>\n",
       "      <td>SC4381FC-Hypnogram.edf</td>\n",
       "      <td>SC4651E0-PSG.edf</td>\n",
       "      <td>38/1.csv</td>\n",
       "      <td>test</td>\n",
       "    </tr>\n",
       "    <tr>\n",
       "      <th>47</th>\n",
       "      <td>44</td>\n",
       "      <td>2</td>\n",
       "      <td>SC4442EV-Hypnogram.edf</td>\n",
       "      <td>SC4491G0-PSG.edf</td>\n",
       "      <td>44/2.csv</td>\n",
       "      <td>test</td>\n",
       "    </tr>\n",
       "  </tbody>\n",
       "</table>\n",
       "<p>153 rows × 6 columns</p>\n",
       "</div>"
      ],
      "text/plain": [
       "    subject  night               hypnogram               psg raw_csv_path  \\\n",
       "0        21      2  SC4212EC-Hypnogram.edf  SC4802G0-PSG.edf     21/2.csv   \n",
       "3         2      1  SC4021EH-Hypnogram.edf  SC4442E0-PSG.edf     02/1.csv   \n",
       "4         6      2  SC4062EC-Hypnogram.edf  SC4602E0-PSG.edf     06/2.csv   \n",
       "5        76      1  SC4761EP-Hypnogram.edf  SC4702E0-PSG.edf     76/1.csv   \n",
       "6         7      2  SC4072EH-Hypnogram.edf  SC4211E0-PSG.edf     07/2.csv   \n",
       "..      ...    ...                     ...               ...          ...   \n",
       "43       44      1  SC4441EC-Hypnogram.edf  SC4111E0-PSG.edf     44/1.csv   \n",
       "44       54      2  SC4542FW-Hypnogram.edf  SC4252E0-PSG.edf     54/2.csv   \n",
       "45       74      2  SC4742EC-Hypnogram.edf  SC4801G0-PSG.edf     74/2.csv   \n",
       "46       38      1  SC4381FC-Hypnogram.edf  SC4651E0-PSG.edf     38/1.csv   \n",
       "47       44      2  SC4442EV-Hypnogram.edf  SC4491G0-PSG.edf     44/2.csv   \n",
       "\n",
       "    split  \n",
       "0   train  \n",
       "3   train  \n",
       "4   train  \n",
       "5   train  \n",
       "6   train  \n",
       "..    ...  \n",
       "43   test  \n",
       "44   test  \n",
       "45   test  \n",
       "46   test  \n",
       "47   test  \n",
       "\n",
       "[153 rows x 6 columns]"
      ]
     },
     "execution_count": 300,
     "metadata": {},
     "output_type": "execute_result"
    }
   ],
   "source": []
  },
  {
   "cell_type": "code",
   "execution_count": 280,
   "id": "efc2bc04-8e02-475b-8a23-b9f65c965c27",
   "metadata": {},
   "outputs": [
    {
     "data": {
      "text/plain": [
       "(105, 48)"
      ]
     },
     "execution_count": 280,
     "metadata": {},
     "output_type": "execute_result"
    }
   ],
   "source": [
    "train_idx.__len__(), val_test_idx.__len__()"
   ]
  },
  {
   "cell_type": "code",
   "execution_count": 282,
   "id": "576920da-88e1-438c-8b52-abc749476f56",
   "metadata": {},
   "outputs": [
    {
     "data": {
      "text/plain": [
       "0.6862745098039216"
      ]
     },
     "execution_count": 282,
     "metadata": {},
     "output_type": "execute_result"
    }
   ],
   "source": [
    "105 / len(info)"
   ]
  },
  {
   "cell_type": "code",
   "execution_count": 267,
   "id": "ed933278-2142-4d88-aedd-563e11c226bd",
   "metadata": {},
   "outputs": [
    {
     "data": {
      "text/plain": [
       "2"
      ]
     },
     "execution_count": 267,
     "metadata": {},
     "output_type": "execute_result"
    }
   ],
   "source": [
    "gss.get_n_splits()\n"
   ]
  },
  {
   "cell_type": "code",
   "execution_count": null,
   "id": "3b83e722-eefe-4fb9-874f-5bafe944b87a",
   "metadata": {},
   "outputs": [],
   "source": []
  }
 ],
 "metadata": {
  "kernelspec": {
   "display_name": "Python 3 (ipykernel)",
   "language": "python",
   "name": "python3"
  },
  "language_info": {
   "codemirror_mode": {
    "name": "ipython",
    "version": 3
   },
   "file_extension": ".py",
   "mimetype": "text/x-python",
   "name": "python",
   "nbconvert_exporter": "python",
   "pygments_lexer": "ipython3",
   "version": "3.8.10"
  }
 },
 "nbformat": 4,
 "nbformat_minor": 5
}
