{
 "cells": [
  {
   "cell_type": "code",
   "execution_count": 15,
   "id": "fbefd871-67e4-4c56-b276-371e8d966bb2",
   "metadata": {},
   "outputs": [],
   "source": [
    "import torch\n",
    "from torch import nn\n",
    "from torch.nn import functional as F\n",
    "import pandas as pd\n",
    "import numpy as np\n",
    "from pytorch_lightning import LightningModule, Trainer, LightningDataModule\n",
    "from tqdm.auto import tqdm\n",
    "from joblib import Parallel, delayed\n",
    "from torch.utils.data import Dataset, DataLoader"
   ]
  },
  {
   "cell_type": "code",
   "execution_count": 55,
   "id": "0c7ddeb2-a38c-45b0-848b-3952d7ff52c2",
   "metadata": {},
   "outputs": [],
   "source": []
  },
  {
   "cell_type": "code",
   "execution_count": 56,
   "id": "f35f223b-ae55-4be2-9c88-62c708e0dbd3",
   "metadata": {},
   "outputs": [],
   "source": [
    "def load_ptbxl_split(representation_type, target, split, fs=100):\n",
    "    data = torch.load(f'../../data/ptbxl/representations_{fs}/data/{representation_type}/{split}_data.pt')\n",
    "    labels = np.load(f'../../data/ptbxl/representations_{fs}/labels/{target}/{split}_labels.npy')\n",
    "    classes = np.load(f'../../data/ptbxl/representations_{fs}/labels/{target}/classes.npy', allow_pickle=True)\n",
    "    classes = {i: classes[i] for i in range(len(classes))}\n",
    "    return {'data': data, 'labels': labels, 'classes': classes}\n",
    "\n",
    "def load_ptbxl_dataset(representation_type, target):\n",
    "    return {split: load_ptbxl_split(representation_type, target, split) for split in ['train', 'val', 'test']}\n",
    "\n",
    "\n",
    "class PTBXLDataset(Dataset):\n",
    "    \"\"\"PTB-XL Dataset class used in DeepLearning models.\"\"\"\n",
    "\n",
    "    def __init__(self, representation_type, target, split, transform=None):\n",
    "        dataset = load_ptbxl_split(representation_type, target, split)\n",
    "        self.data = dataset['data']\n",
    "        self.labels = dataset['labels']\n",
    "        self.classes = dataset['classes']\n",
    "        self.transform = transform\n",
    "\n",
    "    def __len__(self):\n",
    "        return len(self.data)\n",
    "\n",
    "    def __getitem__(self, idx):\n",
    "        if torch.is_tensor(idx):\n",
    "            idx = idx.tolist()\n",
    "        return self.data[idx].float(), self.labels[idx]\n",
    "\n",
    "\n",
    "class PTBXLDataModule(LightningDataModule):\n",
    "    \"\"\"PTB-XL DataModule class used as DeepLearning models DataLoaders provider.\"\"\"\n",
    "\n",
    "    def __init__(self, representation_type, target: str = 'diagnostic_class', batch_size: int = 64, num_workers=8):\n",
    "        super().__init__()\n",
    "        self.representation_type = representation_type\n",
    "        self.target = target\n",
    "        self.batch_size = batch_size\n",
    "        self.num_workers = num_workers\n",
    "\n",
    "        self.train = None\n",
    "        self.val = None\n",
    "        self.test = None\n",
    "\n",
    "    def setup(self, stage=None):\n",
    "        if stage == \"fit\" or stage is None:\n",
    "            self.train = PTBXLDataset(self.representation_type, self.target, split=\"train\")\n",
    "            self.val = PTBXLDataset(self.representation_type, self.target, split=\"val\")\n",
    "        if stage == \"test\" or stage is None:\n",
    "            self.test = PTBXLDataset(self.representation_type, self.target, split=\"test\")\n",
    "\n",
    "    def train_dataloader(self):\n",
    "        return DataLoader(self.train, batch_size=self.batch_size, shuffle=True, num_workers=self.num_workers)\n",
    "\n",
    "    def val_dataloader(self):\n",
    "        return DataLoader(self.val, batch_size=10 * self.batch_size, num_workers=self.num_workers)\n",
    "\n",
    "    def test_dataloader(self):\n",
    "        return DataLoader(self.test, batch_size=10 * self.batch_size, num_workers=self.num_workers)"
   ]
  },
  {
   "cell_type": "code",
   "execution_count": 2,
   "id": "4f811e0e-803a-447f-ab2d-689387a713e8",
   "metadata": {},
   "outputs": [],
   "source": [
    "import sys         \n",
    "sys.path.append('./../../src/')\n",
    "from data.ptbxl import PTBXLDataModule"
   ]
  },
  {
   "cell_type": "code",
   "execution_count": null,
   "id": "e5d04122-45f2-4500-aade-139d610acfdb",
   "metadata": {},
   "outputs": [],
   "source": []
  },
  {
   "cell_type": "code",
   "execution_count": 3,
   "id": "c787a172-a01f-4dcb-8b7e-bee29e66cac6",
   "metadata": {},
   "outputs": [],
   "source": [
    "ptbxl_datamodule = PTBXLDataModule(\n",
    "    representation_type = 'whole_signal_waveforms',\n",
    "    target = 'diagnostic_class'\n",
    ")"
   ]
  },
  {
   "cell_type": "code",
   "execution_count": 4,
   "id": "5eedf252-067f-4b6f-93fc-08180d6f02f1",
   "metadata": {},
   "outputs": [],
   "source": [
    "ptbxl_datamodule.setup()"
   ]
  },
  {
   "cell_type": "code",
   "execution_count": 5,
   "id": "6b1bdf68-d72d-404b-9cb5-f12a2f6e828b",
   "metadata": {},
   "outputs": [
    {
     "data": {
      "text/plain": [
       "torch.Size([12, 1000])"
      ]
     },
     "execution_count": 5,
     "metadata": {},
     "output_type": "execute_result"
    }
   ],
   "source": [
    "ptbxl_datamodule.train_dataloader().dataset[0][0].shape"
   ]
  },
  {
   "cell_type": "code",
   "execution_count": 6,
   "id": "9bc05c95-77c5-4eca-a275-96003a6c0000",
   "metadata": {},
   "outputs": [
    {
     "data": {
      "text/plain": [
       "{0: 'CD', 1: 'HYP', 2: 'MI', 3: 'NORM', 4: 'STTC'}"
      ]
     },
     "execution_count": 6,
     "metadata": {},
     "output_type": "execute_result"
    }
   ],
   "source": [
    "ptbxl_datamodule.train_dataloader().dataset.classes"
   ]
  },
  {
   "cell_type": "code",
   "execution_count": null,
   "id": "720b7cdf-926e-463a-8834-18ea60bcb685",
   "metadata": {},
   "outputs": [],
   "source": []
  }
 ],
 "metadata": {
  "kernelspec": {
   "display_name": "Python 3 (ipykernel)",
   "language": "python",
   "name": "python3"
  },
  "language_info": {
   "codemirror_mode": {
    "name": "ipython",
    "version": 3
   },
   "file_extension": ".py",
   "mimetype": "text/x-python",
   "name": "python",
   "nbconvert_exporter": "python",
   "pygments_lexer": "ipython3",
   "version": "3.8.10"
  }
 },
 "nbformat": 4,
 "nbformat_minor": 5
}
