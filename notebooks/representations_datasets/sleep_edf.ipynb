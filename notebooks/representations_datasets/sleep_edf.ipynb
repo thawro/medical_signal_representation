{
 "cells": [
  {
   "cell_type": "code",
   "execution_count": 1,
   "id": "c0973aef-4bd1-4134-a6a8-8228ff03a718",
   "metadata": {},
   "outputs": [],
   "source": [
    "%load_ext autoreload\n",
    "%autoreload 2\n",
    "\n",
    "from msr.training.data.datasets import SleepEDFDataset\n",
    "from msr.training.data.datamodules import SleepEDFDataModule"
   ]
  },
  {
   "cell_type": "markdown",
   "id": "84dce8d9-d4eb-447b-b408-294569fe8666",
   "metadata": {},
   "source": [
    "---\n",
    "# **Whole signal**"
   ]
  },
  {
   "cell_type": "markdown",
   "id": "f2bfbd76-890c-4a9f-b7c9-f8cbebe5549b",
   "metadata": {},
   "source": [
    "**`whole_signal_waveforms`**"
   ]
  },
  {
   "cell_type": "code",
   "execution_count": null,
   "id": "7837410e-e50d-4fd6-a550-b8e938f5628d",
   "metadata": {},
   "outputs": [],
   "source": [
    "dm = SleepEDFDataModule(\"whole_signal_waveforms\")\n",
    "dm.setup(); dm.plot_targets(); print(dm.describe(ds_fields=['input_shape', 'classes_counts'], dm_fields=['info']))"
   ]
  },
  {
   "cell_type": "code",
   "execution_count": null,
   "id": "f7121eef-6a0b-498d-8a64-6c9bcaa9bf82",
   "metadata": {},
   "outputs": [],
   "source": []
  },
  {
   "cell_type": "markdown",
   "id": "3163bc77-028c-4df7-805c-109d8a44e3fe",
   "metadata": {},
   "source": [
    "**`whole_signal_features`**"
   ]
  },
  {
   "cell_type": "code",
   "execution_count": 3,
   "id": "3cf282e8-6c75-415a-81a3-22b84721268e",
   "metadata": {
    "tags": []
   },
   "outputs": [
    {
     "name": "stdout",
     "output_type": "stream",
     "text": [
      "SleepEDFDataModule (whole_signal_features)\n",
      "  \n",
      "  Train SleepEDFDataset:\n",
      "    data_shape            = torch.Size([135740, 26])\n",
      "\n",
      "  Val SleepEDFDataset:\n",
      "    data_shape            = torch.Size([28757, 26])\n",
      "\n",
      "  Test SleepEDFDataset:\n",
      "    data_shape            = torch.Size([31853, 26])\n"
     ]
    }
   ],
   "source": [
    "dm = SleepEDFDataModule(\"whole_signal_features\")\n",
    "dm.setup(); print(dm.describe(ds_fields=['data_shape'], dm_fields=[]))"
   ]
  },
  {
   "cell_type": "markdown",
   "id": "fa9d4449-bf9b-4fa2-8b2f-42494603ce44",
   "metadata": {},
   "source": [
    "---\n",
    "# **Windows**"
   ]
  },
  {
   "cell_type": "markdown",
   "id": "13eb1e62-5876-41b6-8d03-29a64d5eebdf",
   "metadata": {},
   "source": [
    "**`windows_waveforms`**"
   ]
  },
  {
   "cell_type": "code",
   "execution_count": 4,
   "id": "24288d3d-f778-42e7-a42f-d45fde3439aa",
   "metadata": {},
   "outputs": [
    {
     "name": "stdout",
     "output_type": "stream",
     "text": [
      "SleepEDFDataModule (windows_waveforms)\n",
      "  \n",
      "  Train SleepEDFDataset:\n",
      "    data_shape            = torch.Size([135740, 3, 1000, 3])\n",
      "\n",
      "  Val SleepEDFDataset:\n",
      "    data_shape            = torch.Size([28757, 3, 1000, 3])\n",
      "\n",
      "  Test SleepEDFDataset:\n",
      "    data_shape            = torch.Size([31853, 3, 1000, 3])\n"
     ]
    }
   ],
   "source": [
    "dm = SleepEDFDataModule(\"windows_waveforms\")\n",
    "dm.setup(); print(dm.describe(ds_fields=['data_shape'], dm_fields=[]))"
   ]
  },
  {
   "cell_type": "markdown",
   "id": "71cc384c-8e39-4cc4-86a5-25204894e7fe",
   "metadata": {},
   "source": [
    "**`windows_features`**"
   ]
  },
  {
   "cell_type": "code",
   "execution_count": 5,
   "id": "f04bbd7a-2214-4cd3-9a32-c808bab83d04",
   "metadata": {},
   "outputs": [
    {
     "name": "stdout",
     "output_type": "stream",
     "text": [
      "SleepEDFDataModule (windows_features)\n",
      "  \n",
      "  Train SleepEDFDataset:\n",
      "    data_shape            = torch.Size([135740, 3, 25])\n",
      "\n",
      "  Val SleepEDFDataset:\n",
      "    data_shape            = torch.Size([28757, 3, 25])\n",
      "\n",
      "  Test SleepEDFDataset:\n",
      "    data_shape            = torch.Size([31853, 3, 25])\n"
     ]
    }
   ],
   "source": [
    "dm = SleepEDFDataModule(\"windows_features\")\n",
    "dm.setup(); print(dm.describe(ds_fields=['data_shape'], dm_fields=[]))"
   ]
  },
  {
   "cell_type": "markdown",
   "id": "75e769f8-731f-4318-827a-f3d45029acdb",
   "metadata": {},
   "source": [
    "---"
   ]
  }
 ],
 "metadata": {
  "kernelspec": {
   "display_name": "Python 3 (ipykernel)",
   "language": "python",
   "name": "python3"
  },
  "language_info": {
   "codemirror_mode": {
    "name": "ipython",
    "version": 3
   },
   "file_extension": ".py",
   "mimetype": "text/x-python",
   "name": "python",
   "nbconvert_exporter": "python",
   "pygments_lexer": "ipython3",
   "version": "3.8.10"
  }
 },
 "nbformat": 4,
 "nbformat_minor": 5
}
