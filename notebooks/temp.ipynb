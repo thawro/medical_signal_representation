{
 "cells": [
  {
   "cell_type": "code",
   "execution_count": 29,
   "id": "0b495bd6-0fc9-4e78-b73e-41f49b2abbba",
   "metadata": {},
   "outputs": [],
   "source": [
    "import torch"
   ]
  },
  {
   "cell_type": "code",
   "execution_count": 40,
   "id": "0cdaf7a0-ea83-4b85-b78b-c5ac7d15b6fd",
   "metadata": {},
   "outputs": [],
   "source": [
    "x = torch.tensor([1, 2, 3, 4, 5])\n",
    "y = torch.tensor([5, 6, 7, 8, 9])\n",
    "z = torch.tensor([3, 4, 5, 6, 7])\n",
    "p = torch.tensor([1, 7, 9, 6, 7])\n",
    "q = torch.tensor([2, 6, 8, 6, 7])"
   ]
  },
  {
   "cell_type": "code",
   "execution_count": 45,
   "id": "3740711a-7355-4343-b9b0-44ccc2088567",
   "metadata": {},
   "outputs": [
    {
     "data": {
      "text/plain": [
       "torch.return_types.median(\n",
       "values=tensor([2., 6., 7., 6., 7.], device='cuda:0'),\n",
       "indices=tensor([4, 1, 1, 2, 2], device='cuda:0'))"
      ]
     },
     "execution_count": 45,
     "metadata": {},
     "output_type": "execute_result"
    }
   ],
   "source": [
    "torch.stack([x, y, z, p, q]).T.float().cuda().median(dim=1)"
   ]
  },
  {
   "cell_type": "code",
   "execution_count": 47,
   "id": "733bbcc5-a248-4375-a09b-011f315a4534",
   "metadata": {},
   "outputs": [
    {
     "name": "stdout",
     "output_type": "stream",
     "text": [
      "torch.Size([1, 2, 3, 4])    ->    torch.Size([1, 2, 3, 4])   ->   torch.Size([1, 2, 3, 4])\n",
      "torch.Size([1, 2, 3, 4])    ->    torch.Size([2, 1, 3, 4])   ->   torch.Size([1, 2, 3, 4])\n",
      "torch.Size([1, 2, 3, 4])    ->    torch.Size([3, 1, 2, 4])   ->   torch.Size([1, 2, 3, 4])\n",
      "torch.Size([1, 2, 3, 4])    ->    torch.Size([4, 1, 2, 3])   ->   torch.Size([1, 2, 3, 4])\n"
     ]
    }
   ],
   "source": [
    "import torch\n",
    "\n",
    "\n",
    "sample_shape_len = 4\n",
    "all_axes = list(range(sample_shape_len))\n",
    "\n",
    "for axis in [0, 1, 2, 3]:\n",
    "    x = torch.randn(1,2,3,4)\n",
    "    channels_permutation = (axis, *[x for x in all_axes if x != axis])\n",
    "    permuted_x = torch.permute(x, channels_permutation)\n",
    "\n",
    "    inverse_channels_permutation = list(range(1, axis + 1)) + [0] + all_axes[axis + 1 :]\n",
    "\n",
    "    permuted_x_permuted = torch.permute(permuted_x, inverse_channels_permutation)\n",
    "\n",
    "    assert x.shape == (1,2,3,4)\n",
    "    print(x.shape, \"   ->   \", permuted_x.shape, \"  ->  \", permuted_x_permuted.shape)\n",
    "\n"
   ]
  },
  {
   "cell_type": "code",
   "execution_count": 1,
   "id": "b75e01f3-6dd2-4965-ab7d-f33ae2b815a1",
   "metadata": {},
   "outputs": [
    {
     "name": "stdout",
     "output_type": "stream",
     "text": [
      "/home/shate/Desktop/praca_magisterska/medical_signal_representation/notebooks\n"
     ]
    }
   ],
   "source": [
    "!pwd"
   ]
  },
  {
   "cell_type": "code",
   "execution_count": 2,
   "id": "bb4eb37c-32c0-4bcb-a8f0-74e75f086d2e",
   "metadata": {},
   "outputs": [],
   "source": [
    "import glob\n",
    "import torch"
   ]
  },
  {
   "cell_type": "code",
   "execution_count": 6,
   "id": "185feaea-8136-438f-aaa4-2b6ec4d8f4a9",
   "metadata": {},
   "outputs": [],
   "source": [
    "files = sorted(glob.glob(\"../data/sleep_edf/representations/whole_signal_waveforms/train*\"))"
   ]
  },
  {
   "cell_type": "code",
   "execution_count": 8,
   "id": "f326ceb3-60d9-4eff-9183-1378c4676073",
   "metadata": {},
   "outputs": [],
   "source": [
    "rep_split_tensor = torch.concatenate([torch.load(file) for file in files]).shape"
   ]
  },
  {
   "cell_type": "code",
   "execution_count": null,
   "id": "163a0851-1180-420e-b961-e9a6a8417909",
   "metadata": {},
   "outputs": [],
   "source": []
  }
 ],
 "metadata": {
  "kernelspec": {
   "display_name": "Python 3 (ipykernel)",
   "language": "python",
   "name": "python3"
  },
  "language_info": {
   "codemirror_mode": {
    "name": "ipython",
    "version": 3
   },
   "file_extension": ".py",
   "mimetype": "text/x-python",
   "name": "python",
   "nbconvert_exporter": "python",
   "pygments_lexer": "ipython3",
   "version": "3.8.10"
  }
 },
 "nbformat": 4,
 "nbformat_minor": 5
}
