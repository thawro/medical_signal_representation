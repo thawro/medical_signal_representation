{
 "cells": [
  {
   "cell_type": "code",
   "execution_count": 1,
   "id": "6e568baf-23a3-4f0b-9788-85a51e911a85",
   "metadata": {},
   "outputs": [],
   "source": []
  },
  {
   "cell_type": "code",
   "execution_count": 2,
   "id": "1800dc7e-97fe-4653-b680-a7ddf41a9ec6",
   "metadata": {},
   "outputs": [],
   "source": [
    "def load_raw_data():\n",
    "    data = []\n",
    "\n",
    "    for file_idx in tqdm(range(1, 5), desc=\"Loading raw data from .mat files\"):\n",
    "        fname = f'Part_{file_idx}'\n",
    "        file_data = mat73.loadmat(RAW_DATASET_PATH / f'{fname}.mat')[fname]\n",
    "        data.extend(file_data)\n",
    "    return data\n",
    "\n",
    "\n",
    "def sample_subjects(subjects_ids, max_samples_per_subject):\n",
    "    unique_ids = np.unique(subjects_ids)\n",
    "    chosen_samples = []\n",
    "    for _id in unique_ids:\n",
    "        subject_ids = set(np.where(subjects_ids == _id)[0])\n",
    "        if max_samples_per_subject > len(subject_ids):\n",
    "            subject_samples = list(subject_ids)        \n",
    "        else:\n",
    "            subject_samples = random.sample(subject_ids, k=max_samples_per_subject)\n",
    "        chosen_samples.extend(subject_samples)\n",
    "    chosen_samples = np.array(sorted(chosen_samples))\n",
    "    return chosen_samples\n",
    "\n",
    "\n",
    "def prepare_mimic_clean_data(max_samples_per_subject=8, n_samples=1000, seed=42):\n",
    "    random.seed(seed)\n",
    "    \n",
    "    # PPG, ABP, ECG\n",
    "    raw_data = load_raw_data()\n",
    "    data = np.concatenate([measurement.reshape(3, -1, n_samples) for measurement in raw_data], axis=1)\n",
    "    data = torch.from_numpy(data)\n",
    "    \n",
    "    samples_per_subject = torch.tensor([measurement.shape[1] // n_samples for measurement in raw_data])\n",
    "    subjects_ids = np.concatenate([[i] * samples_num for i, samples_num in enumerate(samples_per_subject)])\n",
    "    \n",
    "    sample_ids = sample_subjects(subjects_ids, max_samples_per_subject=max_samples_per_subject)\n",
    "    \n",
    "    subjects_ids = subjects_ids[sample_ids]\n",
    "    data = data[:, sample_ids]\n",
    "    \n",
    "    abp = data[1].numpy()\n",
    "    \n",
    "    sbp = np.array([_abp[find_peaks(_abp, height=_abp.mean())[0]].mean() for _abp in tqdm(abp, \"Gathering sbp target values\")])\n",
    "    dbp = np.array([_abp[find_peaks(-_abp, height=-_abp.mean())[0]].mean() for _abp in tqdm(abp, \"Gathering dbp target values\")])\n",
    "    \n",
    "    valid_mask = ~(np.isnan(sbp) | np.isnan(dbp))\n",
    "    \n",
    "    sample_ids = sample_ids[valid_mask]\n",
    "    subjects_ids = subjects_ids[valid_mask]\n",
    "    data = data[:, valid_mask]  \n",
    "    data = torch.index_select(data, 0, torch.tensor([0, 2])) # PPG, ECG\n",
    "    data = data.permute(1, 0, 2) # [2, S, 1000] -> [S, 2, 1000]\n",
    "    sbp = sbp[valid_mask]\n",
    "    dbp = dbp[valid_mask]\n",
    "    \n",
    "    info = pd.DataFrame({\n",
    "        'sample_id': sample_ids,\n",
    "        'subject_id': subjects_ids,\n",
    "        'sbp': sbp,\n",
    "        'dbp': dbp\n",
    "    })\n",
    "\n",
    "    return data, info\n",
    "\n",
    "\n",
    "def save_data_and_targets_to_files(data, splits_info):\n",
    "    splits = splits_info[\"split\"].unique()\n",
    "    for split in tqdm(splits, desc=\"Saving split files\"):\n",
    "        split_mask = splits_info['split'].values == split\n",
    "        split_data = data[split_mask] # [S, 2, 1000]\n",
    "\n",
    "        sbp = splits_info['sbp'].values[split_mask]\n",
    "        dbp = splits_info['dbp'].values[split_mask]\n",
    "        sbp_dbp_avg = torch.tensor(np.array([sbp, dbp])).T\n",
    "\n",
    "        torch.save(split_data, RAW_TENSORS_DATA_PATH / f\"{split}.pt\")\n",
    "        torch.save(sbp_dbp_avg, RAW_TENSORS_TARGETS_PATH / f\"{split}.pt\")\n",
    "\n",
    "\n",
    "def create_mimic_clean_raw_tensors(max_samples_per_subject=8, n_samples=1000, seed=42):\n",
    "    data, info = prepare_mimic_clean_data(\n",
    "        max_samples_per_subject=max_samples_per_subject,\n",
    "        n_samples=n_samples,\n",
    "        seed=seed\n",
    "    )\n",
    "    \n",
    "    splits_info = create_train_val_test_split_info(\n",
    "        groups=info['subject_id'].values, \n",
    "        info=info,\n",
    "        train_size=0.7,\n",
    "        val_size=0.15,\n",
    "        test_size=0.15,\n",
    "        random_state=seed\n",
    "    )\n",
    "    \n",
    "    splits_info.to_csv(SPLIT_INFO_PATH)\n",
    "    save_data_and_targets_to_files(data, splits_info)"
   ]
  },
  {
   "cell_type": "code",
   "execution_count": 3,
   "id": "0538da65-bcb7-40f1-95a4-1b227eaa3d8c",
   "metadata": {},
   "outputs": [
    {
     "data": {
      "application/vnd.jupyter.widget-view+json": {
       "model_id": "daf5f648045a423899f9a5023093da9a",
       "version_major": 2,
       "version_minor": 0
      },
      "text/plain": [
       "A Jupyter Widget"
      ]
     },
     "metadata": {},
     "output_type": "display_data"
    },
    {
     "data": {
      "application/vnd.jupyter.widget-view+json": {
       "model_id": "9611ad12a925445aa91547a3e0b60e65",
       "version_major": 2,
       "version_minor": 0
      },
      "text/plain": [
       "A Jupyter Widget"
      ]
     },
     "metadata": {},
     "output_type": "display_data"
    },
    {
     "name": "stderr",
     "output_type": "stream",
     "text": [
      "/tmp/ipykernel_1850719/1797326760.py:43: RuntimeWarning: Mean of empty slice.\n",
      "  sbp = np.array([_abp[find_peaks(_abp, height=_abp.mean())[0]].mean() for _abp in tqdm(abp, \"Gathering sbp target values\")])\n",
      "/home/shate/.cache/pypoetry/virtualenvs/msr-xbuxOujG-py3.8/lib/python3.8/site-packages/numpy/core/_methods.py:190: RuntimeWarning: invalid value encountered in double_scalars\n",
      "  ret = ret.dtype.type(ret / rcount)\n"
     ]
    },
    {
     "data": {
      "application/vnd.jupyter.widget-view+json": {
       "model_id": "83657b224d4e45d18d3cf3e1fd3ab9c4",
       "version_major": 2,
       "version_minor": 0
      },
      "text/plain": [
       "A Jupyter Widget"
      ]
     },
     "metadata": {},
     "output_type": "display_data"
    },
    {
     "name": "stderr",
     "output_type": "stream",
     "text": [
      "/tmp/ipykernel_1850719/1797326760.py:44: RuntimeWarning: Mean of empty slice.\n",
      "  dbp = np.array([_abp[find_peaks(-_abp, height=-_abp.mean())[0]].mean() for _abp in tqdm(abp, \"Gathering dbp target values\")])\n"
     ]
    },
    {
     "data": {
      "application/vnd.jupyter.widget-view+json": {
       "model_id": "892e103c4ebe4a4b83abaa85d39c0ba8",
       "version_major": 2,
       "version_minor": 0
      },
      "text/plain": [
       "A Jupyter Widget"
      ]
     },
     "metadata": {},
     "output_type": "display_data"
    },
    {
     "data": {
      "application/vnd.jupyter.widget-view+json": {
       "model_id": "bd3d24bc7e1e423ba6415656a7ed093a",
       "version_major": 2,
       "version_minor": 0
      },
      "text/plain": [
       "A Jupyter Widget"
      ]
     },
     "metadata": {},
     "output_type": "display_data"
    },
    {
     "data": {
      "application/vnd.jupyter.widget-view+json": {
       "model_id": "b79f3719becf419388693f04b925a07d",
       "version_major": 2,
       "version_minor": 0
      },
      "text/plain": [
       "A Jupyter Widget"
      ]
     },
     "metadata": {},
     "output_type": "display_data"
    },
    {
     "name": "stderr",
     "output_type": "stream",
     "text": [
      "/home/shate/Desktop/praca_magisterska/medical_signal_representation/msr/data/utils.py:54: SettingWithCopyWarning: \n",
      "A value is trying to be set on a copy of a slice from a DataFrame.\n",
      "Try using .loc[row_indexer,col_indexer] = value instead\n",
      "\n",
      "See the caveats in the documentation: https://pandas.pydata.org/pandas-docs/stable/user_guide/indexing.html#returning-a-view-versus-a-copy\n",
      "  train_info.loc[:, \"split\"] = \"train\"\n",
      "/home/shate/Desktop/praca_magisterska/medical_signal_representation/msr/data/utils.py:55: SettingWithCopyWarning: \n",
      "A value is trying to be set on a copy of a slice from a DataFrame.\n",
      "Try using .loc[row_indexer,col_indexer] = value instead\n",
      "\n",
      "See the caveats in the documentation: https://pandas.pydata.org/pandas-docs/stable/user_guide/indexing.html#returning-a-view-versus-a-copy\n",
      "  val_info.loc[:, \"split\"] = \"val\"\n",
      "/home/shate/Desktop/praca_magisterska/medical_signal_representation/msr/data/utils.py:56: SettingWithCopyWarning: \n",
      "A value is trying to be set on a copy of a slice from a DataFrame.\n",
      "Try using .loc[row_indexer,col_indexer] = value instead\n",
      "\n",
      "See the caveats in the documentation: https://pandas.pydata.org/pandas-docs/stable/user_guide/indexing.html#returning-a-view-versus-a-copy\n",
      "  test_info.loc[:, \"split\"] = \"test\"\n"
     ]
    },
    {
     "data": {
      "application/vnd.jupyter.widget-view+json": {
       "model_id": "6c706cac93114f46ba4d696b7ee3cab0",
       "version_major": 2,
       "version_minor": 0
      },
      "text/plain": [
       "A Jupyter Widget"
      ]
     },
     "metadata": {},
     "output_type": "display_data"
    }
   ],
   "source": [
    "create_mimic_clean_raw_tensors(max_samples_per_subject=20, n_samples=1000, seed=42)"
   ]
  },
  {
   "cell_type": "code",
   "execution_count": null,
   "id": "d474da8c-68db-452a-a77f-f265023ba653",
   "metadata": {},
   "outputs": [],
   "source": []
  }
 ],
 "metadata": {
  "kernelspec": {
   "display_name": "Python 3 (ipykernel)",
   "language": "python",
   "name": "python3"
  },
  "language_info": {
   "codemirror_mode": {
    "name": "ipython",
    "version": 3
   },
   "file_extension": ".py",
   "mimetype": "text/x-python",
   "name": "python",
   "nbconvert_exporter": "python",
   "pygments_lexer": "ipython3",
   "version": "3.8.10"
  }
 },
 "nbformat": 4,
 "nbformat_minor": 5
}
