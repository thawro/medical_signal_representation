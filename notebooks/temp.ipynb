{
 "cells": [
  {
   "cell_type": "code",
   "execution_count": 1,
   "id": "f80f2a08-3d41-4ac6-af12-db30e64522fa",
   "metadata": {},
   "outputs": [],
   "source": [
    "%load_ext autoreload\n",
    "%autoreload 2"
   ]
  },
  {
   "cell_type": "code",
   "execution_count": 2,
   "id": "c6b0eee2-318e-4a0a-a7f8-0f2fa2b7312c",
   "metadata": {},
   "outputs": [],
   "source": [
    "from msr.data.dataset_providers import SleepEDFDatasetProvider, PtbXLDatasetProvider, MimicDatasetProvider\n",
    "from msr.data.download import mimic, sleep_edf, ptbxl\n",
    "from msr.data.namespace import Representation, PeriodicRepresentation\n",
    "import torch\n",
    "import numpy as np"
   ]
  },
  {
   "cell_type": "code",
   "execution_count": 23,
   "id": "01f4b2b1-9a5a-4e61-a044-3a95192a6572",
   "metadata": {},
   "outputs": [],
   "source": [
    "sleepedf_ds_provider = SleepEDFDatasetProvider(\n",
    "    representation_types=Representation.all(),\n",
    "    windows_params=dict(win_len_s=10, step_s=8)\n",
    ")\n",
    "\n",
    "ptbxl_ds_provider = PtbXLDatasetProvider(\n",
    "    representation_types=PeriodicRepresentation.all(),\n",
    "    windows_params=dict(win_len_s=6, step_s=2),\n",
    "    beats_params=dict(source_channel=\"ecg_2\"),\n",
    "    agg_beat_params=dict(valid_only=False),\n",
    "    n_beats=7,\n",
    "    target=\"diagnostic_class\"\n",
    ")\n",
    "\n",
    "mimic_ds_provider = MimicDatasetProvider(\n",
    "    representation_types=PeriodicRepresentation.all(),\n",
    "    windows_params=dict(win_len_s=20, step_s=18),\n",
    "    beats_params=dict(source_channel=\"ecg\"),\n",
    "    agg_beat_params=dict(valid_only=False),\n",
    "    n_beats=100,\n",
    "    target=\"sbp_dbp_avg\"\n",
    ")"
   ]
  },
  {
   "cell_type": "code",
   "execution_count": null,
   "id": "cdfa6ac4-69ff-416f-b348-1a93cca6d9ee",
   "metadata": {},
   "outputs": [],
   "source": [
    "sleepedf_sample = torch.load(sleep_edf.RAW_TENSORS_DATA_PATH / \"train.pt\")[0]\n",
    "ptbxl_sample = torch.load(ptbxl.RAW_TENSORS_DATA_PATH / \"train.pt\")[0]\n",
    "mimic_sample = torch.load(mimic.RAW_TENSORS_DATA_PATH / \"train.pt\")[0]\n",
    "\n",
    "sleepedf_reps, sleepedf_feat_names = sleepedf_ds_provider.get_representations(sleepedf_sample.numpy(), return_feature_names=True)\n",
    "# sleepedf_reps, sleepedf_feat_names\n",
    "\n",
    "ptbxl_reps, ptbxl_feat_names = ptbxl_ds_provider.get_representations(ptbxl_sample.numpy().T, return_feature_names=True)\n",
    "# ptbxl_reps, ptbxl_feat_names\n",
    "\n",
    "mimic_reps, mimic_feat_names = mimic_ds_provider.get_representations(mimic_sample.numpy().T, return_feature_names=True)\n",
    "# mimic_reps, mimic_feat_names"
   ]
  },
  {
   "cell_type": "code",
   "execution_count": 24,
   "id": "7e19e5ea-e1b9-4703-ae0b-638ae9122ba7",
   "metadata": {},
   "outputs": [
    {
     "name": "stderr",
     "output_type": "stream",
     "text": [
      "No info file for that split\n"
     ]
    }
   ],
   "source": [
    "ds = mimic_ds_provider.load_split(\"train\", \"whole_signal_features\")"
   ]
  },
  {
   "cell_type": "code",
   "execution_count": 25,
   "id": "5f20f396-104f-4b39-867b-990ae89faf86",
   "metadata": {
    "collapsed": true,
    "jupyter": {
     "outputs_hidden": true
    },
    "tags": []
   },
   "outputs": [
    {
     "data": {
      "text/plain": [
       "{'data': tensor([[1.7923, 0.6548, 1.6828,  ..., 0.0496, 1.3955, 0.0000],\n",
       "         [1.7458, 0.5886, 1.5098,  ..., 0.0043, 1.4540, 0.0000],\n",
       "         [1.7933, 0.6552, 1.5064,  ..., 0.0039, 1.4231, 0.0000],\n",
       "         ...,\n",
       "         [0.4836, 0.1227, 0.4848,  ..., 0.0825, 0.6428, 0.0000],\n",
       "         [0.4891, 0.2269, 0.5239,  ..., 0.0032, 0.3323, 0.0000],\n",
       "         [0.4963, 0.0735, 0.4985,  ..., 0.0636, 0.3699, 0.0000]],\n",
       "        dtype=torch.float64),\n",
       " 'targets': tensor([[144.5071,  77.4045],\n",
       "         [140.5207,  65.6062],\n",
       "         [159.5910,  76.0887],\n",
       "         ...,\n",
       "         [ 86.7306,  38.0804],\n",
       "         [ 99.7970,  49.6916],\n",
       "         [114.4846,  47.7820]], dtype=torch.float64),\n",
       " 'info': {},\n",
       " 'feature_names': array(['ppg__basic__mean', 'ppg__basic__std', 'ppg__basic__median',\n",
       "        'ppg__basic__skewness', 'ppg__basic__kurtosis',\n",
       "        'ppg__agg_beat__basic__mean', 'ppg__agg_beat__basic__std',\n",
       "        'ppg__agg_beat__basic__median', 'ppg__agg_beat__basic__skewness',\n",
       "        'ppg__agg_beat__basic__kurtosis',\n",
       "        'ppg__agg_beat__crit_points__systolic_peak_loc',\n",
       "        'ppg__agg_beat__crit_points__systolic_peak_time',\n",
       "        'ppg__agg_beat__crit_points__systolic_peak_val',\n",
       "        'ppg__agg_beat__sppg__duration',\n",
       "        'ppg__agg_beat__sppg__systolic_peak_val',\n",
       "        'ppg__agg_beat__sppg__systolic_peak_time',\n",
       "        'ppg__agg_beat__sppg__systolic_onset_slope',\n",
       "        'ppg__agg_beat__sppg__systolic_offset_slope',\n",
       "        'ppg__agg_beat__sppg__energy',\n",
       "        'ppg__agg_beat__sppg__before_systolic_area',\n",
       "        'ppg__agg_beat__sppg__after_systolic_area', 'ppg__hrv__ibi_mean',\n",
       "        'ppg__hrv__ibi_std', 'ecg__basic__mean', 'ecg__basic__std',\n",
       "        'ecg__basic__median', 'ecg__basic__skewness',\n",
       "        'ecg__basic__kurtosis', 'ecg__agg_beat__basic__mean',\n",
       "        'ecg__agg_beat__basic__std', 'ecg__agg_beat__basic__median',\n",
       "        'ecg__agg_beat__basic__skewness', 'ecg__agg_beat__basic__kurtosis',\n",
       "        'ecg__agg_beat__crit_points__p_onset_loc',\n",
       "        'ecg__agg_beat__crit_points__p_onset_time',\n",
       "        'ecg__agg_beat__crit_points__p_onset_val',\n",
       "        'ecg__agg_beat__crit_points__p_loc',\n",
       "        'ecg__agg_beat__crit_points__p_time',\n",
       "        'ecg__agg_beat__crit_points__p_val',\n",
       "        'ecg__agg_beat__crit_points__p_offset_loc',\n",
       "        'ecg__agg_beat__crit_points__p_offset_time',\n",
       "        'ecg__agg_beat__crit_points__p_offset_val',\n",
       "        'ecg__agg_beat__crit_points__q_loc',\n",
       "        'ecg__agg_beat__crit_points__q_time',\n",
       "        'ecg__agg_beat__crit_points__q_val',\n",
       "        'ecg__agg_beat__crit_points__r_onset_loc',\n",
       "        'ecg__agg_beat__crit_points__r_onset_time',\n",
       "        'ecg__agg_beat__crit_points__r_onset_val',\n",
       "        'ecg__agg_beat__crit_points__r_loc',\n",
       "        'ecg__agg_beat__crit_points__r_time',\n",
       "        'ecg__agg_beat__crit_points__r_val',\n",
       "        'ecg__agg_beat__crit_points__r_offset_loc',\n",
       "        'ecg__agg_beat__crit_points__r_offset_time',\n",
       "        'ecg__agg_beat__crit_points__r_offset_val',\n",
       "        'ecg__agg_beat__crit_points__s_loc',\n",
       "        'ecg__agg_beat__crit_points__s_time',\n",
       "        'ecg__agg_beat__crit_points__s_val',\n",
       "        'ecg__agg_beat__crit_points__t_onset_loc',\n",
       "        'ecg__agg_beat__crit_points__t_onset_time',\n",
       "        'ecg__agg_beat__crit_points__t_onset_val',\n",
       "        'ecg__agg_beat__crit_points__t_loc',\n",
       "        'ecg__agg_beat__crit_points__t_time',\n",
       "        'ecg__agg_beat__crit_points__t_val',\n",
       "        'ecg__agg_beat__crit_points__t_offset_loc',\n",
       "        'ecg__agg_beat__crit_points__t_offset_time',\n",
       "        'ecg__agg_beat__crit_points__t_offset_val',\n",
       "        'ecg__agg_beat__area__P_A', 'ecg__agg_beat__area__QRS_A',\n",
       "        'ecg__agg_beat__area__T_A', 'ecg__agg_beat__energy__ZeroPQ_E',\n",
       "        'ecg__agg_beat__energy__QRS_E', 'ecg__agg_beat__energy__STEnd_E',\n",
       "        'ecg__agg_beat__slope__P_onset_slope',\n",
       "        'ecg__agg_beat__slope__P_offset_slope',\n",
       "        'ecg__agg_beat__slope__R_onset_slope',\n",
       "        'ecg__agg_beat__slope__R_offset_slope',\n",
       "        'ecg__agg_beat__slope__T_onset_slope',\n",
       "        'ecg__agg_beat__slope__T_offset_slope', 'ecg__hrv__ibi_mean',\n",
       "        'ecg__hrv__ibi_std', 'ecg__hrv__R_val', 'ptt_features__ptt'],\n",
       "       dtype='<U46')}"
      ]
     },
     "execution_count": 25,
     "metadata": {},
     "output_type": "execute_result"
    }
   ],
   "source": [
    "ds"
   ]
  },
  {
   "cell_type": "code",
   "execution_count": null,
   "id": "821a438e-938f-48cd-85a1-e61d28b1f345",
   "metadata": {},
   "outputs": [],
   "source": []
  },
  {
   "cell_type": "code",
   "execution_count": 27,
   "id": "e3ec2fc5-ea96-4a9f-b42a-e08ccd01c4e0",
   "metadata": {
    "tags": []
   },
   "outputs": [
    {
     "data": {
      "application/vnd.jupyter.widget-view+json": {
       "model_id": "8c74124175064f2c8fa0751945853dee",
       "version_major": 2,
       "version_minor": 0
      },
      "text/plain": [
       "A Jupyter Widget"
      ]
     },
     "metadata": {},
     "output_type": "display_data"
    },
    {
     "data": {
      "application/vnd.jupyter.widget-view+json": {
       "model_id": "cd065321b8e14106a97b4379637ef565",
       "version_major": 2,
       "version_minor": 0
      },
      "text/plain": [
       "A Jupyter Widget"
      ]
     },
     "metadata": {},
     "output_type": "display_data"
    },
    {
     "data": {
      "application/vnd.jupyter.widget-view+json": {
       "model_id": "2223d987c24944878c7d845bf4b12435",
       "version_major": 2,
       "version_minor": 0
      },
      "text/plain": [
       "A Jupyter Widget"
      ]
     },
     "metadata": {},
     "output_type": "display_data"
    },
    {
     "data": {
      "application/vnd.jupyter.widget-view+json": {
       "model_id": "64167fe0a0374bf3847dc1af5d9c08a9",
       "version_major": 2,
       "version_minor": 0
      },
      "text/plain": [
       "A Jupyter Widget"
      ]
     },
     "metadata": {},
     "output_type": "display_data"
    }
   ],
   "source": [
    "ptbxl_ds_provider.create_dataset()"
   ]
  },
  {
   "cell_type": "code",
   "execution_count": 4,
   "id": "3a8bb5b4-4736-48f6-a8fd-4fcaffdfe04d",
   "metadata": {},
   "outputs": [
    {
     "data": {
      "application/vnd.jupyter.widget-view+json": {
       "model_id": "10cbb1937ae64621a35c8fb5a329ce00",
       "version_major": 2,
       "version_minor": 0
      },
      "text/plain": [
       "A Jupyter Widget"
      ]
     },
     "metadata": {},
     "output_type": "display_data"
    },
    {
     "data": {
      "application/vnd.jupyter.widget-view+json": {
       "model_id": "005c5e3a52d34fc0a24702774153ae69",
       "version_major": 2,
       "version_minor": 0
      },
      "text/plain": [
       "A Jupyter Widget"
      ]
     },
     "metadata": {},
     "output_type": "display_data"
    },
    {
     "data": {
      "application/vnd.jupyter.widget-view+json": {
       "model_id": "2b96cf1b46d34a7684ebc9848fd4ee58",
       "version_major": 2,
       "version_minor": 0
      },
      "text/plain": [
       "A Jupyter Widget"
      ]
     },
     "metadata": {},
     "output_type": "display_data"
    },
    {
     "data": {
      "application/vnd.jupyter.widget-view+json": {
       "model_id": "323e8435ebb0490a9104758a2e86fe6b",
       "version_major": 2,
       "version_minor": 0
      },
      "text/plain": [
       "A Jupyter Widget"
      ]
     },
     "metadata": {},
     "output_type": "display_data"
    }
   ],
   "source": [
    "sleepedf_ds_provider.create_dataset(splits=[\"val\", \"test\"])"
   ]
  },
  {
   "cell_type": "code",
   "execution_count": 5,
   "id": "e273d291-7a4d-41df-a745-b6ca3f601ca8",
   "metadata": {},
   "outputs": [
    {
     "data": {
      "application/vnd.jupyter.widget-view+json": {
       "model_id": "3880ec9f2bcc41e8ab2a8a9b1ab1a630",
       "version_major": 2,
       "version_minor": 0
      },
      "text/plain": [
       "A Jupyter Widget"
      ]
     },
     "metadata": {},
     "output_type": "display_data"
    },
    {
     "data": {
      "application/vnd.jupyter.widget-view+json": {
       "model_id": "26173e10e3b74a5e94ac4ed505c3f3d9",
       "version_major": 2,
       "version_minor": 0
      },
      "text/plain": [
       "A Jupyter Widget"
      ]
     },
     "metadata": {},
     "output_type": "display_data"
    },
    {
     "data": {
      "application/vnd.jupyter.widget-view+json": {
       "model_id": "26d8b19cfe1d4f148d7c681d691aa8e4",
       "version_major": 2,
       "version_minor": 0
      },
      "text/plain": [
       "A Jupyter Widget"
      ]
     },
     "metadata": {},
     "output_type": "display_data"
    },
    {
     "data": {
      "application/vnd.jupyter.widget-view+json": {
       "model_id": "1e475f388859469cae902e3dd94394f7",
       "version_major": 2,
       "version_minor": 0
      },
      "text/plain": [
       "A Jupyter Widget"
      ]
     },
     "metadata": {},
     "output_type": "display_data"
    }
   ],
   "source": [
    "mimic_ds_provider.create_dataset()"
   ]
  },
  {
   "cell_type": "code",
   "execution_count": 20,
   "id": "13c4d314-e2b7-4b41-9dc4-6e52d2b65738",
   "metadata": {
    "tags": []
   },
   "outputs": [
    {
     "data": {
      "text/plain": [
       "tensor(True)"
      ]
     },
     "execution_count": 20,
     "metadata": {},
     "output_type": "execute_result"
    }
   ],
   "source": [
    "ds_name = \"ptbxl\"\n",
    "rep_type = \"whole_signal_features\"\n",
    "split = \"train\"\n",
    "rep_suffix = \"_100\" if ds_name == \"ptbxl\" else \"\"\n",
    "old_path = f\"../data/{ds_name}/representations{rep_suffix}/{rep_type}/{split}.pt\"\n",
    "new_path = f\"../data/{ds_name}/representations{rep_suffix}/{rep_type}/_{split}.pt\"\n",
    "\n",
    "torch.all(torch.load(old_path)[:5] == torch.load(new_path))"
   ]
  },
  {
   "cell_type": "code",
   "execution_count": 1,
   "id": "3979e44e-bf04-478e-836b-7fd68b9e7c2b",
   "metadata": {},
   "outputs": [],
   "source": [
    "import torch\n",
    "import numpy as np"
   ]
  },
  {
   "cell_type": "code",
   "execution_count": 2,
   "id": "eda3e51f-247c-459b-a049-4eefb396796f",
   "metadata": {},
   "outputs": [],
   "source": [
    "from msr.data.download import ptbxl"
   ]
  },
  {
   "cell_type": "code",
   "execution_count": 5,
   "id": "def079b7-14c3-4ada-8ec8-da5b72a133fb",
   "metadata": {},
   "outputs": [],
   "source": [
    "classname = \"diagnostic_class\" # \"diagnostic_subclass\""
   ]
  },
  {
   "cell_type": "code",
   "execution_count": 7,
   "id": "b6f2a0f4-b61d-4f4e-92eb-7747610a45f7",
   "metadata": {},
   "outputs": [],
   "source": [
    "train_targets = np.load(ptbxl.RAW_TENSORS_TARGETS_PATH / classname / \"train.npy\")\n",
    "val_targets = np.load(ptbxl.RAW_TENSORS_TARGETS_PATH / classname / \"val.npy\")\n",
    "test_targets = np.load(ptbxl.RAW_TENSORS_TARGETS_PATH / classname / \"test.npy\")\n",
    "\n",
    "torch.save(torch.from_numpy(train_targets), ptbxl.RAW_TENSORS_TARGETS_PATH / classname / \"train.pt\")\n",
    "torch.save(torch.from_numpy(val_targets), ptbxl.RAW_TENSORS_TARGETS_PATH / classname / \"val.pt\")\n",
    "torch.save(torch.from_numpy(test_targets), ptbxl.RAW_TENSORS_TARGETS_PATH / classname / \"test.pt\")"
   ]
  },
  {
   "cell_type": "code",
   "execution_count": null,
   "id": "c12e1860-ec8b-4b29-876c-ba7ed7b1571f",
   "metadata": {},
   "outputs": [],
   "source": []
  }
 ],
 "metadata": {
  "kernelspec": {
   "display_name": "Python 3 (ipykernel)",
   "language": "python",
   "name": "python3"
  },
  "language_info": {
   "codemirror_mode": {
    "name": "ipython",
    "version": 3
   },
   "file_extension": ".py",
   "mimetype": "text/x-python",
   "name": "python",
   "nbconvert_exporter": "python",
   "pygments_lexer": "ipython3",
   "version": "3.8.10"
  }
 },
 "nbformat": 4,
 "nbformat_minor": 5
}
