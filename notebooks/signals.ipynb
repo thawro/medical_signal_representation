{
 "cells": [
  {
   "cell_type": "code",
   "execution_count": 1,
   "id": "2e13a127-1602-41b3-9e5b-935b4f5515ec",
   "metadata": {},
   "outputs": [],
   "source": [
    "%load_ext autoreload\n",
    "%autoreload 2\n",
    "\n",
    "import sys         \n",
    "import numpy as np\n",
    "import torch\n",
    "\n",
    "sys.path.append('./../src/') "
   ]
  },
  {
   "cell_type": "code",
   "execution_count": 2,
   "id": "275e439f-a99d-48c1-be14-dbe6dd1edcbb",
   "metadata": {},
   "outputs": [],
   "source": [
    "from data.sleep_edf import load_sleep_edf_split, create_sleep_edf_dataset\n",
    "from data.ptbxl import load_ptbxl_split, create_ptbxl_dataset\n",
    "from data.representations import Representation, PeriodicRepresentation\n",
    "\n",
    "WAVEFORMS_REPRESENTATIONS = [\n",
    "    Representation.WHOLE_SIGNAL_WAVEFORMS,\n",
    "    Representation.WINDOWS_WAVEFORMS,\n",
    "    PeriodicRepresentation.BEATS_WAVEFORMS,\n",
    "    PeriodicRepresentation.AGG_BEAT_WAVEFORMS\n",
    "]\n",
    "\n",
    "FEATURES_REPRESENTATION = [\n",
    "    Representation.WHOLE_SIGNAL_FEATURS,\n",
    "    Representation.WINDOWS_FEATURES,\n",
    "    PeriodicRepresentation.BEATS_FEATURES,\n",
    "    PeriodicRepresentation.AGG_BEAT_FEATURES\n",
    "\n",
    "]"
   ]
  },
  {
   "cell_type": "code",
   "execution_count": null,
   "id": "7e6b73eb-17a1-4f63-a2c8-98df45cab96f",
   "metadata": {},
   "outputs": [
    {
     "data": {
      "application/vnd.jupyter.widget-view+json": {
       "model_id": "1c9aeb9ce95849899974d6473e0fe24e",
       "version_major": 2,
       "version_minor": 0
      },
      "text/plain": [
       "Creating representations for all splits:   0%|          | 0/3 [00:00<?, ?it/s]"
      ]
     },
     "metadata": {},
     "output_type": "display_data"
    },
    {
     "data": {
      "application/vnd.jupyter.widget-view+json": {
       "model_id": "040e2db44a934893b5348560ea68d6e4",
       "version_major": 2,
       "version_minor": 0
      },
      "text/plain": [
       "Extracting representations:   0%|          | 0/135740 [00:00<?, ?it/s]"
      ]
     },
     "metadata": {},
     "output_type": "display_data"
    }
   ],
   "source": [
    "create_sleep_edf_dataset(representation_types=[Representation.WINDOWS_FEATURES, Representation.WINDOWS_WAVEFORMS])"
   ]
  },
  {
   "cell_type": "code",
   "execution_count": 21,
   "id": "0601d2d9-f752-4a79-afc9-2ba75f52b2d4",
   "metadata": {
    "collapsed": true,
    "jupyter": {
     "outputs_hidden": true
    },
    "tags": []
   },
   "outputs": [
    {
     "data": {
      "application/vnd.jupyter.widget-view+json": {
       "model_id": "915a60d4565441b78ae8e2db3df09097",
       "version_major": 2,
       "version_minor": 0
      },
      "text/plain": [
       "Creating representations for all splits:   0%|          | 0/3 [00:00<?, ?it/s]"
      ]
     },
     "metadata": {},
     "output_type": "display_data"
    },
    {
     "data": {
      "application/vnd.jupyter.widget-view+json": {
       "model_id": "2f5c1341b8874b26b97f07956a2ffd5f",
       "version_major": 2,
       "version_minor": 0
      },
      "text/plain": [
       "Extracting representations:   0%|          | 0/12978 [00:00<?, ?it/s]"
      ]
     },
     "metadata": {},
     "output_type": "display_data"
    },
    {
     "name": "stdout",
     "output_type": "stream",
     "text": [
      "Unexpected exception formatting exception. Falling back to standard exception\n"
     ]
    },
    {
     "name": "stderr",
     "output_type": "stream",
     "text": [
      "Traceback (most recent call last):\n",
      "  File \"/home/shate/.local/lib/python3.8/site-packages/IPython/core/interactiveshell.py\", line 3369, in run_code\n",
      "    exec(code_obj, self.user_global_ns, self.user_ns)\n",
      "  File \"/tmp/ipykernel_10269/1231420374.py\", line 1, in <cell line: 1>\n",
      "    create_ptbxl_dataset(representation_types=[Representation.WHOLE_SIGNAL_WAVEFORMS, Representation.WINDOWS_WAVEFORMS])\n",
      "  File \"/home/shate/Desktop/praca_magisterska/medical_signal_representation/notebooks/./../src/data/ptbxl.py\", line 163, in create_ptbxl_dataset\n",
      "    create_dataset(\n",
      "  File \"/home/shate/Desktop/praca_magisterska/medical_signal_representation/notebooks/./../src/data/representations.py\", line 64, in create_dataset\n",
      "    representation_path = representations_path / name\n",
      "  File \"/home/shate/Desktop/praca_magisterska/medical_signal_representation/notebooks/./../src/data/representations.py\", line 64, in <listcomp>\n",
      "    representation_path = representations_path / name\n",
      "  File \"/home/shate/Desktop/praca_magisterska/medical_signal_representation/notebooks/./../src/data/ptbxl.py\", line 143, in get_ptbxl_representation\n",
      "    return get_periodic_representations(ecg, beats_params, agg_beat_params, windows_params, representation_types=representation_types)\n",
      "  File \"/home/shate/Desktop/praca_magisterska/medical_signal_representation/notebooks/./../src/data/representations.py\", line 34, in get_periodic_representations\n",
      "    def get_representations(\n",
      "  File \"/home/shate/Desktop/praca_magisterska/medical_signal_representation/notebooks/./../src/signals/representation_extractor.py\", line 11, in set_windows\n",
      "    self.measurement.set_windows(win_len_s, step_s)\n",
      "  File \"/home/shate/Desktop/praca_magisterska/medical_signal_representation/notebooks/./../src/signals/base.py\", line 481, in set_windows\n",
      "  File \"/home/shate/Desktop/praca_magisterska/medical_signal_representation/notebooks/./../src/signals/base.py\", line 481, in <dictcomp>\n",
      "  File \"/home/shate/Desktop/praca_magisterska/medical_signal_representation/notebooks/./../src/signals/base.py\", line 312, in set_windows\n",
      "    super().set_windows(win_len_s, step_s)\n",
      "  File \"/home/shate/Desktop/praca_magisterska/medical_signal_representation/notebooks/./../src/signals/base.py\", line 278, in set_windows\n",
      "    self.windows = np.array([\n",
      "  File \"/home/shate/Desktop/praca_magisterska/medical_signal_representation/notebooks/./../src/signals/base.py\", line 279, in <listcomp>\n",
      "    create_new_obj(self, data=self.data[start:end], start_sec=self.time[start]) for start, end in intervals\n",
      "  File \"/home/shate/Desktop/praca_magisterska/medical_signal_representation/notebooks/./../src/signals/utils.py\", line 32, in create_new_obj\n",
      "    return obj.__class__(**args)\n",
      "  File \"/home/shate/Desktop/praca_magisterska/medical_signal_representation/notebooks/./../src/signals/ecg.py\", line 58, in __init__\n",
      "    polarity = check_ecg_polarity(nk.ecg_clean(data, sampling_rate=fs))\n",
      "  File \"/home/shate/Desktop/praca_magisterska/medical_signal_representation/notebooks/./../src/signals/ecg.py\", line 29, in check_ecg_polarity\n",
      "    pos_amp = np.quantile(pos_peaks_amps, 0.95)\n",
      "  File \"<__array_function__ internals>\", line 180, in quantile\n",
      "  File \"/home/shate/.local/lib/python3.8/site-packages/numpy/lib/function_base.py\", line 4371, in quantile\n",
      "    return _quantile_unchecked(\n",
      "  File \"/home/shate/.local/lib/python3.8/site-packages/numpy/lib/function_base.py\", line 4383, in _quantile_unchecked\n",
      "    r, k = _ureduce(a,\n",
      "  File \"/home/shate/.local/lib/python3.8/site-packages/numpy/lib/function_base.py\", line 3702, in _ureduce\n",
      "    r = func(a, **kwargs)\n",
      "  File \"/home/shate/.local/lib/python3.8/site-packages/numpy/lib/function_base.py\", line 4552, in _quantile_ureduce_func\n",
      "    result = _quantile(arr,\n",
      "  File \"/home/shate/.local/lib/python3.8/site-packages/numpy/lib/function_base.py\", line 4658, in _quantile\n",
      "    take(arr, indices=-1, axis=DATA_AXIS)\n",
      "  File \"<__array_function__ internals>\", line 180, in take\n",
      "  File \"/home/shate/.local/lib/python3.8/site-packages/numpy/core/fromnumeric.py\", line 190, in take\n",
      "    return _wrapfunc(a, 'take', indices, axis=axis, out=out, mode=mode)\n",
      "  File \"/home/shate/.local/lib/python3.8/site-packages/numpy/core/fromnumeric.py\", line 57, in _wrapfunc\n",
      "    return bound(*args, **kwds)\n",
      "IndexError: cannot do a non-empty take from an empty axes.\n",
      "\n",
      "During handling of the above exception, another exception occurred:\n",
      "\n",
      "Traceback (most recent call last):\n",
      "  File \"/home/shate/.local/lib/python3.8/site-packages/IPython/core/interactiveshell.py\", line 1982, in showtraceback\n",
      "    stb = self.InteractiveTB.structured_traceback(\n",
      "  File \"/home/shate/.local/lib/python3.8/site-packages/IPython/core/ultratb.py\", line 1118, in structured_traceback\n",
      "    return FormattedTB.structured_traceback(\n",
      "  File \"/home/shate/.local/lib/python3.8/site-packages/IPython/core/ultratb.py\", line 1012, in structured_traceback\n",
      "    return VerboseTB.structured_traceback(\n",
      "  File \"/home/shate/.local/lib/python3.8/site-packages/IPython/core/ultratb.py\", line 865, in structured_traceback\n",
      "    formatted_exception = self.format_exception_as_a_whole(etype, evalue, etb, number_of_lines_of_context,\n",
      "  File \"/home/shate/.local/lib/python3.8/site-packages/IPython/core/ultratb.py\", line 818, in format_exception_as_a_whole\n",
      "    frames.append(self.format_record(r))\n",
      "  File \"/home/shate/.local/lib/python3.8/site-packages/IPython/core/ultratb.py\", line 736, in format_record\n",
      "    result += ''.join(_format_traceback_lines(frame_info.lines, Colors, self.has_colors, lvals))\n",
      "  File \"/home/shate/.local/lib/python3.8/site-packages/stack_data/utils.py\", line 145, in cached_property_wrapper\n",
      "    value = obj.__dict__[self.func.__name__] = self.func(obj)\n",
      "  File \"/home/shate/.local/lib/python3.8/site-packages/stack_data/core.py\", line 698, in lines\n",
      "    pieces = self.included_pieces\n",
      "  File \"/home/shate/.local/lib/python3.8/site-packages/stack_data/utils.py\", line 145, in cached_property_wrapper\n",
      "    value = obj.__dict__[self.func.__name__] = self.func(obj)\n",
      "  File \"/home/shate/.local/lib/python3.8/site-packages/stack_data/core.py\", line 649, in included_pieces\n",
      "    pos = scope_pieces.index(self.executing_piece)\n",
      "  File \"/home/shate/.local/lib/python3.8/site-packages/stack_data/utils.py\", line 145, in cached_property_wrapper\n",
      "    value = obj.__dict__[self.func.__name__] = self.func(obj)\n",
      "  File \"/home/shate/.local/lib/python3.8/site-packages/stack_data/core.py\", line 628, in executing_piece\n",
      "    return only(\n",
      "  File \"/home/shate/.local/lib/python3.8/site-packages/executing/executing.py\", line 164, in only\n",
      "    raise NotOneValueFound('Expected one value, found 0')\n",
      "executing.executing.NotOneValueFound: Expected one value, found 0\n"
     ]
    }
   ],
   "source": [
    "create_ptbxl_dataset(representation_types=[Representation.WHOLE_SIGNAL_WAVEFORMS, Representation.WINDOWS_WAVEFORMS])"
   ]
  },
  {
   "cell_type": "markdown",
   "id": "9a5757cc-3341-4fba-a910-c83d8252be86",
   "metadata": {},
   "source": [
    "# **TODO**\n",
    "* Create every dataset representation for PTB-XL and Sleep-EDF (and check if all works fine)\n",
    "* Get work done for MIMIC dataset\n",
    "* Think about adding EMG and EOG for Sleep-EDF "
   ]
  },
  {
   "cell_type": "code",
   "execution_count": null,
   "id": "d63ea466-6dfb-41f8-b7e7-ef9b2cc412fe",
   "metadata": {},
   "outputs": [],
   "source": []
  }
 ],
 "metadata": {
  "kernelspec": {
   "display_name": "Python 3 (ipykernel)",
   "language": "python",
   "name": "python3"
  },
  "language_info": {
   "codemirror_mode": {
    "name": "ipython",
    "version": 3
   },
   "file_extension": ".py",
   "mimetype": "text/x-python",
   "name": "python",
   "nbconvert_exporter": "python",
   "pygments_lexer": "ipython3",
   "version": "3.8.10"
  }
 },
 "nbformat": 4,
 "nbformat_minor": 5
}
