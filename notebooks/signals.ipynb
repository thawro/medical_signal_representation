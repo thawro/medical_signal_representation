{
 "cells": [
  {
   "cell_type": "code",
   "execution_count": 18,
   "id": "2e13a127-1602-41b3-9e5b-935b4f5515ec",
   "metadata": {},
   "outputs": [],
   "source": [
    "%load_ext autoreload\n",
    "%autoreload 2\n",
    "\n",
    "import sys         \n",
    "sys.path.append('./../src/') "
   ]
  },
  {
   "cell_type": "code",
   "execution_count": 19,
   "id": "a36783ba-9ea5-406b-bc29-dd80c5ce2134",
   "metadata": {},
   "outputs": [],
   "source": [
    "from data.ptbxl import load_ptbxl_split"
   ]
  },
  {
   "cell_type": "code",
   "execution_count": 48,
   "id": "a87eaa66-7c4f-484e-83ef-d0d3ea311885",
   "metadata": {},
   "outputs": [],
   "source": [
    "train = load_ptbxl_split(\"per_beat_features\", 100, \"diagnostic_class\", \"test\")"
   ]
  },
  {
   "cell_type": "code",
   "execution_count": null,
   "id": "275e439f-a99d-48c1-be14-dbe6dd1edcbb",
   "metadata": {},
   "outputs": [],
   "source": []
  }
 ],
 "metadata": {
  "kernelspec": {
   "display_name": "Python 3 (ipykernel)",
   "language": "python",
   "name": "python3"
  },
  "language_info": {
   "codemirror_mode": {
    "name": "ipython",
    "version": 3
   },
   "file_extension": ".py",
   "mimetype": "text/x-python",
   "name": "python",
   "nbconvert_exporter": "python",
   "pygments_lexer": "ipython3",
   "version": "3.8.10"
  }
 },
 "nbformat": 4,
 "nbformat_minor": 5
}
