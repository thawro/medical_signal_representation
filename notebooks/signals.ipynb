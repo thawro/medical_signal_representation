{
 "cells": [
  {
   "cell_type": "code",
   "execution_count": 1,
   "id": "2e13a127-1602-41b3-9e5b-935b4f5515ec",
   "metadata": {},
   "outputs": [],
   "source": [
    "%load_ext autoreload\n",
    "%autoreload 2\n",
    "\n",
    "import sys         \n",
    "sys.path.append('./../src/') "
   ]
  },
  {
   "cell_type": "code",
   "execution_count": 2,
   "id": "c0acf627-4ef2-481e-8d7d-aeff9b0515a2",
   "metadata": {},
   "outputs": [],
   "source": [
    "from signals.ecg import ECGSignal"
   ]
  },
  {
   "cell_type": "code",
   "execution_count": null,
   "id": "0481eb7d-8881-45b5-b605-1b1c3cfb7d8a",
   "metadata": {},
   "outputs": [],
   "source": [
    "ECGSignal()"
   ]
  }
 ],
 "metadata": {
  "kernelspec": {
   "display_name": "Python 3 (ipykernel)",
   "language": "python",
   "name": "python3"
  },
  "language_info": {
   "codemirror_mode": {
    "name": "ipython",
    "version": 3
   },
   "file_extension": ".py",
   "mimetype": "text/x-python",
   "name": "python",
   "nbconvert_exporter": "python",
   "pygments_lexer": "ipython3",
   "version": "3.8.10"
  }
 },
 "nbformat": 4,
 "nbformat_minor": 5
}
