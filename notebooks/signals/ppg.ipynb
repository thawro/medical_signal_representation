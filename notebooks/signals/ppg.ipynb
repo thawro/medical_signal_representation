{
 "cells": [
  {
   "cell_type": "code",
   "execution_count": 7,
   "id": "a117405d-468c-4038-8104-dc07885c23e4",
   "metadata": {},
   "outputs": [
    {
     "name": "stdout",
     "output_type": "stream",
     "text": [
      "The autoreload extension is already loaded. To reload it, use:\n",
      "  %reload_ext autoreload\n"
     ]
    }
   ],
   "source": [
    "%load_ext autoreload\n",
    "%autoreload 2\n",
    "\n",
    "from msr.signals.ppg import PPGSignal\n",
    "from msr.signals.ecg import ECGSignal\n",
    "from msr.data.representation.mimic import create_multichannel_mimic\n",
    "from msr.data.raw.mimic import load_mimic_raw_data\n",
    "import matplotlib.pyplot as plt"
   ]
  },
  {
   "cell_type": "code",
   "execution_count": 8,
   "id": "170600bb-5d03-4bb1-a959-b55a2f3e8347",
   "metadata": {},
   "outputs": [],
   "source": [
    "data = load_mimic_raw_data(\"val\")"
   ]
  },
  {
   "cell_type": "code",
   "execution_count": 9,
   "id": "a55ddf21-d192-43a9-8a33-e615b4556f97",
   "metadata": {},
   "outputs": [
    {
     "data": {
      "text/plain": [
       "torch.Size([3832, 30000, 2])"
      ]
     },
     "execution_count": 9,
     "metadata": {},
     "output_type": "execute_result"
    }
   ],
   "source": [
    "data.shape"
   ]
  },
  {
   "cell_type": "code",
   "execution_count": 14,
   "id": "23ba81ac-4188-40d6-b641-d156a4f31e4a",
   "metadata": {},
   "outputs": [
    {
     "name": "stderr",
     "output_type": "stream",
     "text": [
      "/home/shate/.cache/pypoetry/virtualenvs/msr-xbuxOujG-py3.8/lib/python3.8/site-packages/neurokit2/epochs/epochs_create.py:205: FutureWarning: iteritems is deprecated and will be removed in a future version. Use .items instead.\n",
      "  for colname, column in epochs[i].select_dtypes(include=[\"object\"]).iteritems():\n"
     ]
    }
   ],
   "source": [
    "sig_data = data[0, :, 0]\n",
    "multi_sig_data = data[0]\n",
    "\n",
    "sig = PPGSignal(\"PPG\", sig_data.numpy(), fs=125, start_sec=0)\n",
    "multi_sig = create_multichannel_mimic(multi_sig_data.T.numpy(), fs=125)\n",
    "\n",
    "sig.set_beats()\n",
    "sig.set_agg_beat()\n",
    "\n",
    "multi_sig.set_beats()\n",
    "multi_sig.set_agg_beat()"
   ]
  },
  {
   "cell_type": "code",
   "execution_count": 15,
   "id": "978a8773-ab53-4658-a2a1-43c82bc1a54d",
   "metadata": {},
   "outputs": [
    {
     "data": {
      "text/plain": [
       "{'PPG_basic_features__mean': 0.4366739980449657,\n",
       " 'PPG_basic_features__std': 0.07136930045415507,\n",
       " 'PPG_basic_features__median': 0.4115347018572825,\n",
       " 'PPG_basic_features__skewness': 1.5176574405742043,\n",
       " 'PPG_basic_features__kurtosis': 1.8117975118197318,\n",
       " 'PPG_agg_beat_features__agg_beat_basic_features__mean': 0.4696475013086143,\n",
       " 'PPG_agg_beat_features__agg_beat_basic_features__std': 0.07929119005787862,\n",
       " 'PPG_agg_beat_features__agg_beat_basic_features__median': 0.4526531748497268,\n",
       " 'PPG_agg_beat_features__agg_beat_basic_features__skewness': 0.3015436563406345,\n",
       " 'PPG_agg_beat_features__agg_beat_basic_features__kurtosis': -1.4489696895401891,\n",
       " 'PPG_agg_beat_features__agg_beat_crit_points__systolic_peak_loc': 54,\n",
       " 'PPG_agg_beat_features__agg_beat_crit_points__systolic_peak_time': 0.2081376,\n",
       " 'PPG_agg_beat_features__agg_beat_crit_points__systolic_peak_val': 0.5960716364807447,\n",
       " 'PPG_agg_beat_features__agg_beat_sppg_features__duration': 0.38544,\n",
       " 'PPG_agg_beat_features__agg_beat_sppg_features__systolic_peak_val': 0.5960716364807447,\n",
       " 'PPG_agg_beat_features__agg_beat_sppg_features__systolic_peak_time': 0.2081376,\n",
       " 'PPG_agg_beat_features__agg_beat_sppg_features__systolic_onset_slope': 1.0224909792623615,\n",
       " 'PPG_agg_beat_features__agg_beat_sppg_features__systolic_offset_slope': 1.249164788674102,\n",
       " 'PPG_agg_beat_features__agg_beat_sppg_features__energy': 0.2268558683062194,\n",
       " 'PPG_agg_beat_features__agg_beat_sppg_features__before_systolic_area': 0.0943836141275902,\n",
       " 'PPG_agg_beat_features__agg_beat_sppg_features__after_systolic_area': 0.08287763563943493,\n",
       " 'PPG_hrv_features__ibi_mean': 0.854594982078853,\n",
       " 'PPG_hrv_features__ibi_std': 0.19426170532050788}"
      ]
     },
     "execution_count": 15,
     "metadata": {},
     "output_type": "execute_result"
    }
   ],
   "source": [
    "dict(sig.extract_features(return_arr=False))"
   ]
  },
  {
   "cell_type": "code",
   "execution_count": 16,
   "id": "ffdb6ee7-f927-4759-8a25-baf602a90923",
   "metadata": {},
   "outputs": [
    {
     "data": {
      "text/plain": [
       "{'ECG II_basic_features__mean': -1.07042125,\n",
       " 'ECG II_basic_features__std': 0.4776481076440453,\n",
       " 'ECG II_basic_features__median': -1.075,\n",
       " 'ECG II_basic_features__skewness': 1.652975012437808,\n",
       " 'ECG II_basic_features__kurtosis': 3.957003474373969,\n",
       " 'ECG II_agg_beat_features__agg_beat_basic_features__mean': -0.005053883985317495,\n",
       " 'ECG II_agg_beat_features__agg_beat_basic_features__std': 0.4252090705314701,\n",
       " 'ECG II_agg_beat_features__agg_beat_basic_features__median': -0.03616149823388472,\n",
       " 'ECG II_agg_beat_features__agg_beat_basic_features__skewness': 1.8970020448992246,\n",
       " 'ECG II_agg_beat_features__agg_beat_basic_features__kurtosis': 3.2549038653575932,\n",
       " 'ECG II_agg_beat_features__agg_beat_crit_points__p_onset_loc': 14,\n",
       " 'ECG II_agg_beat_features__agg_beat_crit_points__p_onset_time': 0.09313549163879563,\n",
       " 'ECG II_agg_beat_features__agg_beat_crit_points__p_onset_val': -0.032957115261515714,\n",
       " 'ECG II_agg_beat_features__agg_beat_crit_points__p_loc': 22,\n",
       " 'ECG II_agg_beat_features__agg_beat_crit_points__p_time': 0.14635577257525026,\n",
       " 'ECG II_agg_beat_features__agg_beat_crit_points__p_val': 0.1032588481513529,\n",
       " 'ECG II_agg_beat_features__agg_beat_crit_points__p_offset_loc': 25,\n",
       " 'ECG II_agg_beat_features__agg_beat_crit_points__p_offset_time': 0.16631337792642076,\n",
       " 'ECG II_agg_beat_features__agg_beat_crit_points__p_offset_val': 0.07491449882596819,\n",
       " 'ECG II_agg_beat_features__agg_beat_crit_points__q_loc': 35,\n",
       " 'ECG II_agg_beat_features__agg_beat_crit_points__q_time': 0.23283872909698905,\n",
       " 'ECG II_agg_beat_features__agg_beat_crit_points__q_val': -0.09113651880409507,\n",
       " 'ECG II_agg_beat_features__agg_beat_crit_points__r_onset_loc': 36,\n",
       " 'ECG II_agg_beat_features__agg_beat_crit_points__r_onset_time': 0.23949126421404587,\n",
       " 'ECG II_agg_beat_features__agg_beat_crit_points__r_onset_val': -0.036329990766198986,\n",
       " 'ECG II_agg_beat_features__agg_beat_crit_points__r_loc': 42,\n",
       " 'ECG II_agg_beat_features__agg_beat_crit_points__r_time': 0.27940647491638687,\n",
       " 'ECG II_agg_beat_features__agg_beat_crit_points__r_val': 1.4094500014785583,\n",
       " 'ECG II_agg_beat_features__agg_beat_crit_points__r_offset_loc': 53,\n",
       " 'ECG II_agg_beat_features__agg_beat_crit_points__r_offset_time': 0.352584361204012,\n",
       " 'ECG II_agg_beat_features__agg_beat_crit_points__r_offset_val': -0.11059003760591592,\n",
       " 'ECG II_agg_beat_features__agg_beat_crit_points__s_loc': 82,\n",
       " 'ECG II_agg_beat_features__agg_beat_crit_points__s_time': 0.5455078795986601,\n",
       " 'ECG II_agg_beat_features__agg_beat_crit_points__s_val': -0.38262577338560033,\n",
       " 'ECG II_agg_beat_features__agg_beat_crit_points__t_onset_loc': 86,\n",
       " 'ECG II_agg_beat_features__agg_beat_crit_points__t_onset_time': 0.5721180200668874,\n",
       " 'ECG II_agg_beat_features__agg_beat_crit_points__t_onset_val': -0.35994976981813687,\n",
       " 'ECG II_agg_beat_features__agg_beat_crit_points__t_loc': 91,\n",
       " 'ECG II_agg_beat_features__agg_beat_crit_points__t_time': 0.6053806956521716,\n",
       " 'ECG II_agg_beat_features__agg_beat_crit_points__t_val': -0.2642383787911084,\n",
       " 'ECG II_agg_beat_features__agg_beat_crit_points__t_offset_loc': 99,\n",
       " 'ECG II_agg_beat_features__agg_beat_crit_points__t_offset_time': 0.6586009765886262,\n",
       " 'ECG II_agg_beat_features__agg_beat_crit_points__t_offset_val': -0.09629352657820885,\n",
       " 'ECG II_agg_beat_features__agg_beat_area_features__P_A': 0.0063406160168345375,\n",
       " 'ECG II_agg_beat_features__agg_beat_area_features__QRS_A': 0.0949577509653763,\n",
       " 'ECG II_agg_beat_features__agg_beat_area_features__T_A': 0.011294296351153596,\n",
       " 'ECG II_agg_beat_features__agg_beat_energy_features__ZeroPQ_E': 0.05965252272253832,\n",
       " 'ECG II_agg_beat_features__agg_beat_energy_features__QRS_E': 13.399326090132337,\n",
       " 'ECG II_agg_beat_features__agg_beat_energy_features__STEnd_E': 0.8398034988352118,\n",
       " 'ECG II_agg_beat_features__agg_beat_slope_features__P_onset_slope': 2.5594747155790363,\n",
       " 'ECG II_agg_beat_features__agg_beat_slope_features__P_offset_slope': -1.4202279695706246,\n",
       " 'ECG II_agg_beat_features__agg_beat_slope_features__R_onset_slope': 36.221279226767635,\n",
       " 'ECG II_agg_beat_features__agg_beat_slope_features__R_offset_slope': -20.77184947799624,\n",
       " 'ECG II_agg_beat_features__agg_beat_slope_features__T_onset_slope': 2.8774411361355545,\n",
       " 'ECG II_agg_beat_features__agg_beat_slope_features__T_offset_slope': 3.1556551235313277,\n",
       " 'ECG II_hrv_features__ibi_mean': 0.82875,\n",
       " 'ECG II_hrv_features__ibi_std': 0.17918052272002669,\n",
       " 'ECG II_hrv_features__R_val': 0.5046496539792388,\n",
       " 'PLETH_basic_features__mean': 0.4366739980449657,\n",
       " 'PLETH_basic_features__std': 0.07136930045415507,\n",
       " 'PLETH_basic_features__median': 0.4115347018572825,\n",
       " 'PLETH_basic_features__skewness': 1.5176574405742043,\n",
       " 'PLETH_basic_features__kurtosis': 1.8117975118197318,\n",
       " 'PLETH_agg_beat_features__agg_beat_basic_features__mean': 0.4696475013086143,\n",
       " 'PLETH_agg_beat_features__agg_beat_basic_features__std': 0.07929119005787862,\n",
       " 'PLETH_agg_beat_features__agg_beat_basic_features__median': 0.4526531748497268,\n",
       " 'PLETH_agg_beat_features__agg_beat_basic_features__skewness': 0.3015436563406345,\n",
       " 'PLETH_agg_beat_features__agg_beat_basic_features__kurtosis': -1.4489696895401891,\n",
       " 'PLETH_agg_beat_features__agg_beat_crit_points__systolic_peak_loc': 54,\n",
       " 'PLETH_agg_beat_features__agg_beat_crit_points__systolic_peak_time': 0.2081376,\n",
       " 'PLETH_agg_beat_features__agg_beat_crit_points__systolic_peak_val': 0.5960716364807447,\n",
       " 'PLETH_agg_beat_features__agg_beat_sppg_features__duration': 0.38544,\n",
       " 'PLETH_agg_beat_features__agg_beat_sppg_features__systolic_peak_val': 0.5960716364807447,\n",
       " 'PLETH_agg_beat_features__agg_beat_sppg_features__systolic_peak_time': 0.2081376,\n",
       " 'PLETH_agg_beat_features__agg_beat_sppg_features__systolic_onset_slope': 1.0224909792623615,\n",
       " 'PLETH_agg_beat_features__agg_beat_sppg_features__systolic_offset_slope': 1.249164788674102,\n",
       " 'PLETH_agg_beat_features__agg_beat_sppg_features__energy': 0.2268558683062194,\n",
       " 'PLETH_agg_beat_features__agg_beat_sppg_features__before_systolic_area': 0.0943836141275902,\n",
       " 'PLETH_agg_beat_features__agg_beat_sppg_features__after_systolic_area': 0.08287763563943493,\n",
       " 'PLETH_hrv_features__ibi_mean': 0.854594982078853,\n",
       " 'PLETH_hrv_features__ibi_std': 0.19426170532050788}"
      ]
     },
     "execution_count": 16,
     "metadata": {},
     "output_type": "execute_result"
    }
   ],
   "source": [
    "dict(multi_sig.extract_features(return_arr=False))"
   ]
  },
  {
   "cell_type": "code",
   "execution_count": null,
   "id": "188566d4-788d-4230-b1d2-51a956bc377b",
   "metadata": {},
   "outputs": [],
   "source": []
  }
 ],
 "metadata": {
  "kernelspec": {
   "display_name": "Python 3 (ipykernel)",
   "language": "python",
   "name": "python3"
  },
  "language_info": {
   "codemirror_mode": {
    "name": "ipython",
    "version": 3
   },
   "file_extension": ".py",
   "mimetype": "text/x-python",
   "name": "python",
   "nbconvert_exporter": "python",
   "pygments_lexer": "ipython3",
   "version": "3.8.10"
  }
 },
 "nbformat": 4,
 "nbformat_minor": 5
}
