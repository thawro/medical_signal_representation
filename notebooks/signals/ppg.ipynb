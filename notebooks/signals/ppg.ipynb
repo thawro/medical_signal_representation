{
 "cells": [
  {
   "cell_type": "code",
   "execution_count": 1,
   "id": "a117405d-468c-4038-8104-dc07885c23e4",
   "metadata": {},
   "outputs": [],
   "source": [
    "%load_ext autoreload\n",
    "%autoreload 2\n",
    "\n",
    "import matplotlib.pyplot as plt\n",
    "import numpy as np\n",
    "import seaborn as sns\n",
    "\n",
    "sns.set(style=\"whitegrid\")"
   ]
  },
  {
   "cell_type": "code",
   "execution_count": 4,
   "id": "23ba81ac-4188-40d6-b641-d156a4f31e4a",
   "metadata": {
    "tags": []
   },
   "outputs": [],
   "source": [
    "from msr.data.download.mimic import load_mimic_raw_tensors_for_split, FS\n",
    "from msr.data.measurements import MimicMeasurement\n",
    "\n",
    "data, targets = load_mimic_raw_tensors_for_split(\"val\", \"sbp_dbp_avg\")\n",
    "data, targets = data.numpy(), targets.numpy()\n",
    "sample = data[222]\n",
    "sample = sample[:2500]\n",
    "ppg, ecg = sample.T\n",
    "measurement = MimicMeasurement(ppg, ecg, FS)\n",
    "measurement.set_beats(source_channel='ecg', align_peaks_loc=True)\n",
    "measurement.set_agg_beat()\n",
    "ppg_sig = measurement['ppg']"
   ]
  },
  {
   "cell_type": "code",
   "execution_count": 3,
   "id": "c0fe30c5-fe79-4483-a64f-4170d8ba97c1",
   "metadata": {},
   "outputs": [],
   "source": [
    "from funcs import get_figs_for_thesis_periodic\n",
    "\n",
    "prefix = \"ppg_\"\n",
    "figs = get_figs_for_thesis_periodic(ppg_sig, prefix)\n",
    "\n",
    "for name, fig in figs.items():\n",
    "    fig.savefig(f\"plots/{name}.pdf\", bbox_inches=\"tight\")"
   ]
  },
  {
   "cell_type": "code",
   "execution_count": null,
   "id": "1b5c6674-a148-4205-96d1-5e74baf5eb20",
   "metadata": {},
   "outputs": [],
   "source": []
  }
 ],
 "metadata": {
  "kernelspec": {
   "display_name": "Python 3 (ipykernel)",
   "language": "python",
   "name": "python3"
  },
  "language_info": {
   "codemirror_mode": {
    "name": "ipython",
    "version": 3
   },
   "file_extension": ".py",
   "mimetype": "text/x-python",
   "name": "python",
   "nbconvert_exporter": "python",
   "pygments_lexer": "ipython3",
   "version": "3.8.10"
  }
 },
 "nbformat": 4,
 "nbformat_minor": 5
}
