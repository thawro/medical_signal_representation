{
 "cells": [
  {
   "cell_type": "code",
   "execution_count": 1,
   "id": "5fca6ff2-975b-4422-b100-8dbf56220a63",
   "metadata": {},
   "outputs": [
    {
     "name": "stderr",
     "output_type": "stream",
     "text": [
      "/home/shate/.cache/pypoetry/virtualenvs/msr-xbuxOujG-py3.8/lib/python3.8/site-packages/tqdm/auto.py:22: TqdmWarning: IProgress not found. Please update jupyter and ipywidgets. See https://ipywidgets.readthedocs.io/en/stable/user_install.html\n",
      "  from .autonotebook import tqdm as notebook_tqdm\n"
     ]
    }
   ],
   "source": [
    "%load_ext autoreload\n",
    "%autoreload 2\n",
    "\n",
    "import sys\n",
    "import numpy as np\n",
    "import seaborn as sns\n",
    "# import torch\n",
    "import glob\n",
    "from msr.data.raw.mimic import RAW_DATASET_PATH\n",
    "import pandas as pd"
   ]
  },
  {
   "cell_type": "markdown",
   "id": "f39d565b-a960-4751-aba1-88290d4663c3",
   "metadata": {},
   "source": [
    "# **TODO**\n",
    "* Create train/val/test raw tensors for MIMIC dataset\n",
    "* check if ptbxl and sleepEDF still works\n",
    "* refactor all that shit"
   ]
  },
  {
   "cell_type": "code",
   "execution_count": null,
   "id": "94db8ba9-a9ac-42cd-8ae4-fee8c50b8881",
   "metadata": {},
   "outputs": [],
   "source": []
  }
 ],
 "metadata": {
  "kernelspec": {
   "display_name": "Python 3 (ipykernel)",
   "language": "python",
   "name": "python3"
  },
  "language_info": {
   "codemirror_mode": {
    "name": "ipython",
    "version": 3
   },
   "file_extension": ".py",
   "mimetype": "text/x-python",
   "name": "python",
   "nbconvert_exporter": "python",
   "pygments_lexer": "ipython3",
   "version": "3.8.10"
  }
 },
 "nbformat": 4,
 "nbformat_minor": 5
}
