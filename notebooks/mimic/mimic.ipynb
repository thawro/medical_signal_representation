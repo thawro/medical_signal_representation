{
 "cells": [
  {
   "cell_type": "code",
   "execution_count": 1,
   "id": "cab473d0-3cca-4ae0-9310-554644b1e11b",
   "metadata": {},
   "outputs": [],
   "source": [
    "import pandas as pd\n",
    "import seaborn as sns\n",
    "import matplotlib.pyplot as plt\n",
    "import numpy as np\n",
    "import wfdb\n",
    "from tqdm.notebook import tqdm\n",
    "import requests\n",
    "from joblib import Parallel, delayed\n",
    "from pathlib import Path\n",
    "import wget\n",
    "import time"
   ]
  },
  {
   "cell_type": "code",
   "execution_count": 2,
   "id": "5fdcbb32-f8b6-4057-b7e4-bca61de53fff",
   "metadata": {},
   "outputs": [],
   "source": [
    "MIMIC_DB_NAME = \"mimic3wdb-matched\"\n",
    "\n",
    "all_records = requests.get(f\"https://physionet.org/files/{MIMIC_DB_NAME}/1.0/RECORDS\").text.split(\"/\\n\")\n",
    "all_records = [record for record in all_records if len(record) > 0]"
   ]
  },
  {
   "cell_type": "code",
   "execution_count": 3,
   "id": "47853479-a099-4804-9cd5-ad2ca4c66235",
   "metadata": {
    "tags": []
   },
   "outputs": [],
   "source": [
    "def is_good_measurement(record, measurement):\n",
    "    header = requests.get(f\"https://physionet.org/files/{MIMIC_DB_NAME}/1.0/{record}/{measurement}.hea\").text\n",
    "    return {\n",
    "        \"path\": f\"{record}/{measurement}\",\n",
    "        **{signal: signal in header for signal in [\"ABP\", \"PLETH\", \"II\", \"V\"]}\n",
    "    }\n",
    "\n",
    "def find_good_measurements(all_records, start, n_records=200):\n",
    "    end = start + n_records\n",
    "    current_records = all_records[start:end]\n",
    "    good_measurements = []\n",
    "    for record in tqdm(current_records, desc=\"Records\"):\n",
    "        record_measurements = requests.get(f\"https://physionet.org/files/{MIMIC_DB_NAME}/1.0/{record}/RECORDS\").text.split(\"\\n\")\n",
    "        record_measurements = [measurement for measurement in record_measurements if len(measurement) > 0]\n",
    "        results = Parallel(n_jobs=-1)(delayed(is_good_measurement)(record, measurement) for measurement in tqdm(record_measurements, desc=\"Record measurements\"))\n",
    "        results = [result for result in results if result is not None]\n",
    "        good_measurements.extend(results)\n",
    "        time.sleep(0.1)\n",
    "    df = pd.DataFrame(good_measurements)\n",
    "    df.to_csv(f\"mimic_recordings/{start}-{end}.csv\", index=False)\n",
    "    return df\n",
    "\n",
    "def download_measurements(measurements):\n",
    "    for measurement_path in tqdm(measurements, desc=\"Downloading measurements\"):\n",
    "        directory, subject, recording = measurement_path.split(\"/\")\n",
    "        path = Path(f\"mimic_db/{directory}/{subject}\")\n",
    "        path.mkdir(parents=True, exist_ok=True)\n",
    "        url_dat = f'https://physionet.org/files/mimic3wdb-matched/1.0/{directory}/{subject}/{recording}.dat'\n",
    "        url_hea = f'https://physionet.org/files/mimic3wdb-matched/1.0/{directory}/{subject}/{recording}.hea'\n",
    "        wget.download(url_dat, out=str(path))\n",
    "        wget.download(url_hea, out=str(path))"
   ]
  },
  {
   "cell_type": "code",
   "execution_count": 6,
   "id": "2dcba539-cf24-4776-ab1e-9cfe631e93ff",
   "metadata": {
    "collapsed": true,
    "jupyter": {
     "outputs_hidden": true
    },
    "tags": []
   },
   "outputs": [
    {
     "data": {
      "application/vnd.jupyter.widget-view+json": {
       "model_id": "6002ec99b3f84931aa6b605ad85ce7dc",
       "version_major": 2,
       "version_minor": 0
      },
      "text/plain": [
       "Records:   0%|          | 0/250 [00:00<?, ?it/s]"
      ]
     },
     "metadata": {},
     "output_type": "display_data"
    },
    {
     "data": {
      "application/vnd.jupyter.widget-view+json": {
       "model_id": "81f1e8c48b17433088dddf13a799a973",
       "version_major": 2,
       "version_minor": 0
      },
      "text/plain": [
       "Record measurements:   0%|          | 0/83 [00:00<?, ?it/s]"
      ]
     },
     "metadata": {},
     "output_type": "display_data"
    },
    {
     "data": {
      "application/vnd.jupyter.widget-view+json": {
       "model_id": "01b7b837cab24c748d50433f783a3297",
       "version_major": 2,
       "version_minor": 0
      },
      "text/plain": [
       "Record measurements:   0%|          | 0/23 [00:00<?, ?it/s]"
      ]
     },
     "metadata": {},
     "output_type": "display_data"
    },
    {
     "data": {
      "application/vnd.jupyter.widget-view+json": {
       "model_id": "2f45ca95d5ee446caedfd4bcc3e13e14",
       "version_major": 2,
       "version_minor": 0
      },
      "text/plain": [
       "Record measurements:   0%|          | 0/20 [00:00<?, ?it/s]"
      ]
     },
     "metadata": {},
     "output_type": "display_data"
    },
    {
     "data": {
      "application/vnd.jupyter.widget-view+json": {
       "model_id": "fb22b4b2684d468ea781b99d2a91ffb0",
       "version_major": 2,
       "version_minor": 0
      },
      "text/plain": [
       "Record measurements:   0%|          | 0/10 [00:00<?, ?it/s]"
      ]
     },
     "metadata": {},
     "output_type": "display_data"
    },
    {
     "data": {
      "application/vnd.jupyter.widget-view+json": {
       "model_id": "5d9f9f713716445ea758b9946446d585",
       "version_major": 2,
       "version_minor": 0
      },
      "text/plain": [
       "Record measurements:   0%|          | 0/895 [00:00<?, ?it/s]"
      ]
     },
     "metadata": {},
     "output_type": "display_data"
    },
    {
     "data": {
      "application/vnd.jupyter.widget-view+json": {
       "model_id": "04450faa053f4be2b432381b45d45964",
       "version_major": 2,
       "version_minor": 0
      },
      "text/plain": [
       "Record measurements:   0%|          | 0/24 [00:00<?, ?it/s]"
      ]
     },
     "metadata": {},
     "output_type": "display_data"
    },
    {
     "data": {
      "application/vnd.jupyter.widget-view+json": {
       "model_id": "92c12547d6c04093add20a06431b7e75",
       "version_major": 2,
       "version_minor": 0
      },
      "text/plain": [
       "Record measurements:   0%|          | 0/26 [00:00<?, ?it/s]"
      ]
     },
     "metadata": {},
     "output_type": "display_data"
    },
    {
     "data": {
      "application/vnd.jupyter.widget-view+json": {
       "model_id": "fa51d6174693408f9f722d624b0b851e",
       "version_major": 2,
       "version_minor": 0
      },
      "text/plain": [
       "Record measurements:   0%|          | 0/37 [00:00<?, ?it/s]"
      ]
     },
     "metadata": {},
     "output_type": "display_data"
    },
    {
     "data": {
      "application/vnd.jupyter.widget-view+json": {
       "model_id": "cac010cdf34c4a7da8345a05e0b894ad",
       "version_major": 2,
       "version_minor": 0
      },
      "text/plain": [
       "Record measurements:   0%|          | 0/36 [00:00<?, ?it/s]"
      ]
     },
     "metadata": {},
     "output_type": "display_data"
    },
    {
     "data": {
      "application/vnd.jupyter.widget-view+json": {
       "model_id": "4c8912b5d1bc4b01bab3c47c9be34696",
       "version_major": 2,
       "version_minor": 0
      },
      "text/plain": [
       "Record measurements:   0%|          | 0/16 [00:00<?, ?it/s]"
      ]
     },
     "metadata": {},
     "output_type": "display_data"
    },
    {
     "data": {
      "application/vnd.jupyter.widget-view+json": {
       "model_id": "4df774217d8542b6bdaeb48882e829fb",
       "version_major": 2,
       "version_minor": 0
      },
      "text/plain": [
       "Record measurements:   0%|          | 0/9 [00:00<?, ?it/s]"
      ]
     },
     "metadata": {},
     "output_type": "display_data"
    },
    {
     "data": {
      "application/vnd.jupyter.widget-view+json": {
       "model_id": "ab275a79d89c4fb7b235bc035b55d878",
       "version_major": 2,
       "version_minor": 0
      },
      "text/plain": [
       "Record measurements:   0%|          | 0/10 [00:00<?, ?it/s]"
      ]
     },
     "metadata": {},
     "output_type": "display_data"
    },
    {
     "data": {
      "application/vnd.jupyter.widget-view+json": {
       "model_id": "9b7d4188b2314cbca569245705690854",
       "version_major": 2,
       "version_minor": 0
      },
      "text/plain": [
       "Record measurements:   0%|          | 0/23 [00:00<?, ?it/s]"
      ]
     },
     "metadata": {},
     "output_type": "display_data"
    },
    {
     "data": {
      "application/vnd.jupyter.widget-view+json": {
       "model_id": "b5c31210ce3b40eeab2a57fc566129ae",
       "version_major": 2,
       "version_minor": 0
      },
      "text/plain": [
       "Record measurements:   0%|          | 0/524 [00:00<?, ?it/s]"
      ]
     },
     "metadata": {},
     "output_type": "display_data"
    },
    {
     "data": {
      "application/vnd.jupyter.widget-view+json": {
       "model_id": "0efc89b6906740abb5b7fcf66e0089e6",
       "version_major": 2,
       "version_minor": 0
      },
      "text/plain": [
       "Record measurements:   0%|          | 0/26 [00:00<?, ?it/s]"
      ]
     },
     "metadata": {},
     "output_type": "display_data"
    },
    {
     "data": {
      "application/vnd.jupyter.widget-view+json": {
       "model_id": "0fc706cbf412420dae593e291cea39cd",
       "version_major": 2,
       "version_minor": 0
      },
      "text/plain": [
       "Record measurements:   0%|          | 0/31 [00:00<?, ?it/s]"
      ]
     },
     "metadata": {},
     "output_type": "display_data"
    },
    {
     "data": {
      "application/vnd.jupyter.widget-view+json": {
       "model_id": "ccd14e4e98dd4957ad587ad0315ce84d",
       "version_major": 2,
       "version_minor": 0
      },
      "text/plain": [
       "Record measurements:   0%|          | 0/6 [00:00<?, ?it/s]"
      ]
     },
     "metadata": {},
     "output_type": "display_data"
    },
    {
     "data": {
      "application/vnd.jupyter.widget-view+json": {
       "model_id": "e585dfc8c7544e8d9c8e312f04235abf",
       "version_major": 2,
       "version_minor": 0
      },
      "text/plain": [
       "Record measurements:   0%|          | 0/86 [00:00<?, ?it/s]"
      ]
     },
     "metadata": {},
     "output_type": "display_data"
    },
    {
     "data": {
      "application/vnd.jupyter.widget-view+json": {
       "model_id": "8dc13d31844944409eeaba16744436d3",
       "version_major": 2,
       "version_minor": 0
      },
      "text/plain": [
       "Record measurements:   0%|          | 0/24 [00:00<?, ?it/s]"
      ]
     },
     "metadata": {},
     "output_type": "display_data"
    },
    {
     "data": {
      "application/vnd.jupyter.widget-view+json": {
       "model_id": "bea05181754441489d82ea8f1ea3f96c",
       "version_major": 2,
       "version_minor": 0
      },
      "text/plain": [
       "Record measurements:   0%|          | 0/131 [00:00<?, ?it/s]"
      ]
     },
     "metadata": {},
     "output_type": "display_data"
    },
    {
     "data": {
      "application/vnd.jupyter.widget-view+json": {
       "model_id": "8503ece826c9466c9f5427ac6f2115c4",
       "version_major": 2,
       "version_minor": 0
      },
      "text/plain": [
       "Record measurements:   0%|          | 0/192 [00:00<?, ?it/s]"
      ]
     },
     "metadata": {},
     "output_type": "display_data"
    },
    {
     "data": {
      "application/vnd.jupyter.widget-view+json": {
       "model_id": "a789bae6284f4a939c382936da027910",
       "version_major": 2,
       "version_minor": 0
      },
      "text/plain": [
       "Record measurements:   0%|          | 0/64 [00:00<?, ?it/s]"
      ]
     },
     "metadata": {},
     "output_type": "display_data"
    },
    {
     "data": {
      "application/vnd.jupyter.widget-view+json": {
       "model_id": "67f921a0ca614ff3af605d3a8fe744e9",
       "version_major": 2,
       "version_minor": 0
      },
      "text/plain": [
       "Record measurements:   0%|          | 0/166 [00:00<?, ?it/s]"
      ]
     },
     "metadata": {},
     "output_type": "display_data"
    },
    {
     "data": {
      "application/vnd.jupyter.widget-view+json": {
       "model_id": "360bc74708fd4135a0845a365f818b6f",
       "version_major": 2,
       "version_minor": 0
      },
      "text/plain": [
       "Record measurements:   0%|          | 0/18 [00:00<?, ?it/s]"
      ]
     },
     "metadata": {},
     "output_type": "display_data"
    },
    {
     "data": {
      "application/vnd.jupyter.widget-view+json": {
       "model_id": "f6a2db19411842409552be0b7409e191",
       "version_major": 2,
       "version_minor": 0
      },
      "text/plain": [
       "Record measurements:   0%|          | 0/60 [00:00<?, ?it/s]"
      ]
     },
     "metadata": {},
     "output_type": "display_data"
    },
    {
     "data": {
      "application/vnd.jupyter.widget-view+json": {
       "model_id": "a5d77bcbe35d4b85be3903b355cd812f",
       "version_major": 2,
       "version_minor": 0
      },
      "text/plain": [
       "Record measurements:   0%|          | 0/7 [00:00<?, ?it/s]"
      ]
     },
     "metadata": {},
     "output_type": "display_data"
    },
    {
     "data": {
      "application/vnd.jupyter.widget-view+json": {
       "model_id": "50de61ca1ea143188ff20993181ab974",
       "version_major": 2,
       "version_minor": 0
      },
      "text/plain": [
       "Record measurements:   0%|          | 0/55 [00:00<?, ?it/s]"
      ]
     },
     "metadata": {},
     "output_type": "display_data"
    },
    {
     "data": {
      "application/vnd.jupyter.widget-view+json": {
       "model_id": "7169eb3a709047cda2dc798ce644158e",
       "version_major": 2,
       "version_minor": 0
      },
      "text/plain": [
       "Record measurements:   0%|          | 0/497 [00:00<?, ?it/s]"
      ]
     },
     "metadata": {},
     "output_type": "display_data"
    },
    {
     "data": {
      "application/vnd.jupyter.widget-view+json": {
       "model_id": "dd8ee28fb2714720bcede8e5b404cb45",
       "version_major": 2,
       "version_minor": 0
      },
      "text/plain": [
       "Record measurements:   0%|          | 0/109 [00:00<?, ?it/s]"
      ]
     },
     "metadata": {},
     "output_type": "display_data"
    },
    {
     "data": {
      "application/vnd.jupyter.widget-view+json": {
       "model_id": "e2f80c08f25c46a892c0db63c802cc4e",
       "version_major": 2,
       "version_minor": 0
      },
      "text/plain": [
       "Record measurements:   0%|          | 0/92 [00:00<?, ?it/s]"
      ]
     },
     "metadata": {},
     "output_type": "display_data"
    },
    {
     "data": {
      "application/vnd.jupyter.widget-view+json": {
       "model_id": "35d018ae88da4a3c9fc1d88e30087bfb",
       "version_major": 2,
       "version_minor": 0
      },
      "text/plain": [
       "Record measurements:   0%|          | 0/240 [00:00<?, ?it/s]"
      ]
     },
     "metadata": {},
     "output_type": "display_data"
    },
    {
     "data": {
      "application/vnd.jupyter.widget-view+json": {
       "model_id": "8d49340f2caa42c5ae78629b23ff80c3",
       "version_major": 2,
       "version_minor": 0
      },
      "text/plain": [
       "Record measurements:   0%|          | 0/5 [00:00<?, ?it/s]"
      ]
     },
     "metadata": {},
     "output_type": "display_data"
    },
    {
     "data": {
      "application/vnd.jupyter.widget-view+json": {
       "model_id": "67cdcf254bd6415a99b0b66caa6d3b92",
       "version_major": 2,
       "version_minor": 0
      },
      "text/plain": [
       "Record measurements:   0%|          | 0/1101 [00:00<?, ?it/s]"
      ]
     },
     "metadata": {},
     "output_type": "display_data"
    },
    {
     "data": {
      "application/vnd.jupyter.widget-view+json": {
       "model_id": "8f615ac21e3d468cb1c7f73da6b7c86e",
       "version_major": 2,
       "version_minor": 0
      },
      "text/plain": [
       "Record measurements:   0%|          | 0/299 [00:00<?, ?it/s]"
      ]
     },
     "metadata": {},
     "output_type": "display_data"
    },
    {
     "data": {
      "application/vnd.jupyter.widget-view+json": {
       "model_id": "c2c8a53dacea422982db1362d3c881e1",
       "version_major": 2,
       "version_minor": 0
      },
      "text/plain": [
       "Record measurements:   0%|          | 0/66 [00:00<?, ?it/s]"
      ]
     },
     "metadata": {},
     "output_type": "display_data"
    },
    {
     "data": {
      "application/vnd.jupyter.widget-view+json": {
       "model_id": "5a4ffe034d2b4ca3be083e37037ec5fc",
       "version_major": 2,
       "version_minor": 0
      },
      "text/plain": [
       "Record measurements:   0%|          | 0/4 [00:00<?, ?it/s]"
      ]
     },
     "metadata": {},
     "output_type": "display_data"
    },
    {
     "data": {
      "application/vnd.jupyter.widget-view+json": {
       "model_id": "624156f5db214f76b15a886075a60da1",
       "version_major": 2,
       "version_minor": 0
      },
      "text/plain": [
       "Record measurements:   0%|          | 0/7 [00:00<?, ?it/s]"
      ]
     },
     "metadata": {},
     "output_type": "display_data"
    },
    {
     "data": {
      "application/vnd.jupyter.widget-view+json": {
       "model_id": "206972e29f584ba9a6ae943cdba63fa0",
       "version_major": 2,
       "version_minor": 0
      },
      "text/plain": [
       "Record measurements:   0%|          | 0/93 [00:00<?, ?it/s]"
      ]
     },
     "metadata": {},
     "output_type": "display_data"
    },
    {
     "data": {
      "application/vnd.jupyter.widget-view+json": {
       "model_id": "26aa25167bd9445180eb4c514b8ec24d",
       "version_major": 2,
       "version_minor": 0
      },
      "text/plain": [
       "Record measurements:   0%|          | 0/28 [00:00<?, ?it/s]"
      ]
     },
     "metadata": {},
     "output_type": "display_data"
    },
    {
     "data": {
      "application/vnd.jupyter.widget-view+json": {
       "model_id": "b8f0bf5ee0c442ea867bb94f3e7e88a9",
       "version_major": 2,
       "version_minor": 0
      },
      "text/plain": [
       "Record measurements:   0%|          | 0/23 [00:00<?, ?it/s]"
      ]
     },
     "metadata": {},
     "output_type": "display_data"
    },
    {
     "data": {
      "application/vnd.jupyter.widget-view+json": {
       "model_id": "9b2c458d61af47c7829c514566f303f0",
       "version_major": 2,
       "version_minor": 0
      },
      "text/plain": [
       "Record measurements:   0%|          | 0/75 [00:00<?, ?it/s]"
      ]
     },
     "metadata": {},
     "output_type": "display_data"
    },
    {
     "data": {
      "application/vnd.jupyter.widget-view+json": {
       "model_id": "bcb7237621f0404c81e2a17949613385",
       "version_major": 2,
       "version_minor": 0
      },
      "text/plain": [
       "Record measurements:   0%|          | 0/7 [00:00<?, ?it/s]"
      ]
     },
     "metadata": {},
     "output_type": "display_data"
    },
    {
     "data": {
      "application/vnd.jupyter.widget-view+json": {
       "model_id": "f4be64c3004c4c58b2dc4c670885ab35",
       "version_major": 2,
       "version_minor": 0
      },
      "text/plain": [
       "Record measurements:   0%|          | 0/12 [00:00<?, ?it/s]"
      ]
     },
     "metadata": {},
     "output_type": "display_data"
    },
    {
     "data": {
      "application/vnd.jupyter.widget-view+json": {
       "model_id": "bf81f60754824743b3dd1ac286990e34",
       "version_major": 2,
       "version_minor": 0
      },
      "text/plain": [
       "Record measurements:   0%|          | 0/71 [00:00<?, ?it/s]"
      ]
     },
     "metadata": {},
     "output_type": "display_data"
    },
    {
     "data": {
      "application/vnd.jupyter.widget-view+json": {
       "model_id": "45f5b415a0874a428321e107172876c0",
       "version_major": 2,
       "version_minor": 0
      },
      "text/plain": [
       "Record measurements:   0%|          | 0/26 [00:00<?, ?it/s]"
      ]
     },
     "metadata": {},
     "output_type": "display_data"
    },
    {
     "data": {
      "application/vnd.jupyter.widget-view+json": {
       "model_id": "e63d0fcb88014378bc42266370af3fc8",
       "version_major": 2,
       "version_minor": 0
      },
      "text/plain": [
       "Record measurements:   0%|          | 0/11 [00:00<?, ?it/s]"
      ]
     },
     "metadata": {},
     "output_type": "display_data"
    },
    {
     "data": {
      "application/vnd.jupyter.widget-view+json": {
       "model_id": "d32ece27f7e24e5ab348dfc60a93a550",
       "version_major": 2,
       "version_minor": 0
      },
      "text/plain": [
       "Record measurements:   0%|          | 0/44 [00:00<?, ?it/s]"
      ]
     },
     "metadata": {},
     "output_type": "display_data"
    },
    {
     "data": {
      "application/vnd.jupyter.widget-view+json": {
       "model_id": "6025636f6c934edb927a91cd404fe448",
       "version_major": 2,
       "version_minor": 0
      },
      "text/plain": [
       "Record measurements:   0%|          | 0/27 [00:00<?, ?it/s]"
      ]
     },
     "metadata": {},
     "output_type": "display_data"
    },
    {
     "data": {
      "application/vnd.jupyter.widget-view+json": {
       "model_id": "02ee208ea32043818785859206a59eab",
       "version_major": 2,
       "version_minor": 0
      },
      "text/plain": [
       "Record measurements:   0%|          | 0/33 [00:00<?, ?it/s]"
      ]
     },
     "metadata": {},
     "output_type": "display_data"
    },
    {
     "data": {
      "application/vnd.jupyter.widget-view+json": {
       "model_id": "5aa888bbf600452dbf3dfe922f505b74",
       "version_major": 2,
       "version_minor": 0
      },
      "text/plain": [
       "Record measurements:   0%|          | 0/14 [00:00<?, ?it/s]"
      ]
     },
     "metadata": {},
     "output_type": "display_data"
    },
    {
     "data": {
      "application/vnd.jupyter.widget-view+json": {
       "model_id": "574e4431fdfa4ef895f28417b94fedcf",
       "version_major": 2,
       "version_minor": 0
      },
      "text/plain": [
       "Record measurements:   0%|          | 0/65 [00:00<?, ?it/s]"
      ]
     },
     "metadata": {},
     "output_type": "display_data"
    },
    {
     "data": {
      "application/vnd.jupyter.widget-view+json": {
       "model_id": "e0cbacb85b944470b11e3a77cd9a93ce",
       "version_major": 2,
       "version_minor": 0
      },
      "text/plain": [
       "Record measurements:   0%|          | 0/11 [00:00<?, ?it/s]"
      ]
     },
     "metadata": {},
     "output_type": "display_data"
    },
    {
     "data": {
      "application/vnd.jupyter.widget-view+json": {
       "model_id": "79e0c59f9ad146f0bd68aa9a6e60a73c",
       "version_major": 2,
       "version_minor": 0
      },
      "text/plain": [
       "Record measurements:   0%|          | 0/55 [00:00<?, ?it/s]"
      ]
     },
     "metadata": {},
     "output_type": "display_data"
    },
    {
     "data": {
      "application/vnd.jupyter.widget-view+json": {
       "model_id": "4b51f07dda914982bab30ea13bccb961",
       "version_major": 2,
       "version_minor": 0
      },
      "text/plain": [
       "Record measurements:   0%|          | 0/4 [00:00<?, ?it/s]"
      ]
     },
     "metadata": {},
     "output_type": "display_data"
    },
    {
     "data": {
      "application/vnd.jupyter.widget-view+json": {
       "model_id": "9803c2c154954139aa1f6e54d915e801",
       "version_major": 2,
       "version_minor": 0
      },
      "text/plain": [
       "Record measurements:   0%|          | 0/40 [00:00<?, ?it/s]"
      ]
     },
     "metadata": {},
     "output_type": "display_data"
    },
    {
     "data": {
      "application/vnd.jupyter.widget-view+json": {
       "model_id": "7af7e33a3e2441119f4074e1bb79b68e",
       "version_major": 2,
       "version_minor": 0
      },
      "text/plain": [
       "Record measurements:   0%|          | 0/11 [00:00<?, ?it/s]"
      ]
     },
     "metadata": {},
     "output_type": "display_data"
    },
    {
     "data": {
      "application/vnd.jupyter.widget-view+json": {
       "model_id": "2e4f906fe0a3462f924033e5d98d4797",
       "version_major": 2,
       "version_minor": 0
      },
      "text/plain": [
       "Record measurements:   0%|          | 0/26 [00:00<?, ?it/s]"
      ]
     },
     "metadata": {},
     "output_type": "display_data"
    },
    {
     "data": {
      "application/vnd.jupyter.widget-view+json": {
       "model_id": "f480be94e2cd41a5abe686f1c6127dd2",
       "version_major": 2,
       "version_minor": 0
      },
      "text/plain": [
       "Record measurements:   0%|          | 0/255 [00:00<?, ?it/s]"
      ]
     },
     "metadata": {},
     "output_type": "display_data"
    },
    {
     "data": {
      "application/vnd.jupyter.widget-view+json": {
       "model_id": "daf67baae84c46f89428802fe33ddb71",
       "version_major": 2,
       "version_minor": 0
      },
      "text/plain": [
       "Record measurements:   0%|          | 0/19 [00:00<?, ?it/s]"
      ]
     },
     "metadata": {},
     "output_type": "display_data"
    },
    {
     "data": {
      "application/vnd.jupyter.widget-view+json": {
       "model_id": "62090112f1e54ffbb995381975951b5f",
       "version_major": 2,
       "version_minor": 0
      },
      "text/plain": [
       "Record measurements:   0%|          | 0/44 [00:00<?, ?it/s]"
      ]
     },
     "metadata": {},
     "output_type": "display_data"
    },
    {
     "data": {
      "application/vnd.jupyter.widget-view+json": {
       "model_id": "bb59d684221c4c0384244d7fdd43ec08",
       "version_major": 2,
       "version_minor": 0
      },
      "text/plain": [
       "Record measurements:   0%|          | 0/56 [00:00<?, ?it/s]"
      ]
     },
     "metadata": {},
     "output_type": "display_data"
    },
    {
     "data": {
      "application/vnd.jupyter.widget-view+json": {
       "model_id": "d6b4b142095f44b9a4cafb4dac6a15c7",
       "version_major": 2,
       "version_minor": 0
      },
      "text/plain": [
       "Record measurements:   0%|          | 0/22 [00:00<?, ?it/s]"
      ]
     },
     "metadata": {},
     "output_type": "display_data"
    },
    {
     "data": {
      "application/vnd.jupyter.widget-view+json": {
       "model_id": "d7f65b2b7e1848c1bf040d9fa6d8f32b",
       "version_major": 2,
       "version_minor": 0
      },
      "text/plain": [
       "Record measurements:   0%|          | 0/15 [00:00<?, ?it/s]"
      ]
     },
     "metadata": {},
     "output_type": "display_data"
    },
    {
     "data": {
      "application/vnd.jupyter.widget-view+json": {
       "model_id": "d59651b90ae3449eb270a59a9f323e87",
       "version_major": 2,
       "version_minor": 0
      },
      "text/plain": [
       "Record measurements:   0%|          | 0/121 [00:00<?, ?it/s]"
      ]
     },
     "metadata": {},
     "output_type": "display_data"
    },
    {
     "data": {
      "application/vnd.jupyter.widget-view+json": {
       "model_id": "d8df1ac8093a4d20bb24e96b10d29134",
       "version_major": 2,
       "version_minor": 0
      },
      "text/plain": [
       "Record measurements:   0%|          | 0/14 [00:00<?, ?it/s]"
      ]
     },
     "metadata": {},
     "output_type": "display_data"
    },
    {
     "data": {
      "application/vnd.jupyter.widget-view+json": {
       "model_id": "3ac585f17be6428a82ba323db8e2b353",
       "version_major": 2,
       "version_minor": 0
      },
      "text/plain": [
       "Record measurements:   0%|          | 0/10 [00:00<?, ?it/s]"
      ]
     },
     "metadata": {},
     "output_type": "display_data"
    },
    {
     "data": {
      "application/vnd.jupyter.widget-view+json": {
       "model_id": "fe31d42fe68b4fe9a729d9b2a9eb1c26",
       "version_major": 2,
       "version_minor": 0
      },
      "text/plain": [
       "Record measurements:   0%|          | 0/8 [00:00<?, ?it/s]"
      ]
     },
     "metadata": {},
     "output_type": "display_data"
    },
    {
     "data": {
      "application/vnd.jupyter.widget-view+json": {
       "model_id": "9017b140f46a4d0bb01444ea12aea93a",
       "version_major": 2,
       "version_minor": 0
      },
      "text/plain": [
       "Record measurements:   0%|          | 0/13 [00:00<?, ?it/s]"
      ]
     },
     "metadata": {},
     "output_type": "display_data"
    },
    {
     "data": {
      "application/vnd.jupyter.widget-view+json": {
       "model_id": "6e53306e3ee54a7b85c54e09648f4c9b",
       "version_major": 2,
       "version_minor": 0
      },
      "text/plain": [
       "Record measurements:   0%|          | 0/39 [00:00<?, ?it/s]"
      ]
     },
     "metadata": {},
     "output_type": "display_data"
    },
    {
     "data": {
      "application/vnd.jupyter.widget-view+json": {
       "model_id": "ef4bfc608c1e4fd79ac2a1193e7fcba6",
       "version_major": 2,
       "version_minor": 0
      },
      "text/plain": [
       "Record measurements:   0%|          | 0/20 [00:00<?, ?it/s]"
      ]
     },
     "metadata": {},
     "output_type": "display_data"
    },
    {
     "data": {
      "application/vnd.jupyter.widget-view+json": {
       "model_id": "b80123800aeb4fb4b902af35822c4a3d",
       "version_major": 2,
       "version_minor": 0
      },
      "text/plain": [
       "Record measurements:   0%|          | 0/32 [00:00<?, ?it/s]"
      ]
     },
     "metadata": {},
     "output_type": "display_data"
    },
    {
     "data": {
      "application/vnd.jupyter.widget-view+json": {
       "model_id": "8f67a7aaf9f74f7d919721d3002e4be4",
       "version_major": 2,
       "version_minor": 0
      },
      "text/plain": [
       "Record measurements:   0%|          | 0/18 [00:00<?, ?it/s]"
      ]
     },
     "metadata": {},
     "output_type": "display_data"
    },
    {
     "data": {
      "application/vnd.jupyter.widget-view+json": {
       "model_id": "29f8264ce12e472ab657c9e32f5c2b27",
       "version_major": 2,
       "version_minor": 0
      },
      "text/plain": [
       "Record measurements:   0%|          | 0/22 [00:00<?, ?it/s]"
      ]
     },
     "metadata": {},
     "output_type": "display_data"
    },
    {
     "data": {
      "application/vnd.jupyter.widget-view+json": {
       "model_id": "42d093385dc241c9b4b7144d996ebe74",
       "version_major": 2,
       "version_minor": 0
      },
      "text/plain": [
       "Record measurements:   0%|          | 0/15 [00:00<?, ?it/s]"
      ]
     },
     "metadata": {},
     "output_type": "display_data"
    },
    {
     "data": {
      "application/vnd.jupyter.widget-view+json": {
       "model_id": "febbbdd1120845ba8fae4de2a97862df",
       "version_major": 2,
       "version_minor": 0
      },
      "text/plain": [
       "Record measurements:   0%|          | 0/17 [00:00<?, ?it/s]"
      ]
     },
     "metadata": {},
     "output_type": "display_data"
    },
    {
     "data": {
      "application/vnd.jupyter.widget-view+json": {
       "model_id": "da53d5433e964d949c0769923e71f99d",
       "version_major": 2,
       "version_minor": 0
      },
      "text/plain": [
       "Record measurements:   0%|          | 0/89 [00:00<?, ?it/s]"
      ]
     },
     "metadata": {},
     "output_type": "display_data"
    },
    {
     "data": {
      "application/vnd.jupyter.widget-view+json": {
       "model_id": "bd8ce148e037426dac72fb5c01a0d395",
       "version_major": 2,
       "version_minor": 0
      },
      "text/plain": [
       "Record measurements:   0%|          | 0/44 [00:00<?, ?it/s]"
      ]
     },
     "metadata": {},
     "output_type": "display_data"
    },
    {
     "data": {
      "application/vnd.jupyter.widget-view+json": {
       "model_id": "c98378d449ca44bfbde003ffb6a51661",
       "version_major": 2,
       "version_minor": 0
      },
      "text/plain": [
       "Record measurements:   0%|          | 0/140 [00:00<?, ?it/s]"
      ]
     },
     "metadata": {},
     "output_type": "display_data"
    },
    {
     "data": {
      "application/vnd.jupyter.widget-view+json": {
       "model_id": "1b460d4cd2d0437bb8c33f94daa5c2ee",
       "version_major": 2,
       "version_minor": 0
      },
      "text/plain": [
       "Record measurements:   0%|          | 0/19 [00:00<?, ?it/s]"
      ]
     },
     "metadata": {},
     "output_type": "display_data"
    },
    {
     "data": {
      "application/vnd.jupyter.widget-view+json": {
       "model_id": "03a7b1fb70e4418a8849db0de9f53ddf",
       "version_major": 2,
       "version_minor": 0
      },
      "text/plain": [
       "Record measurements:   0%|          | 0/15 [00:00<?, ?it/s]"
      ]
     },
     "metadata": {},
     "output_type": "display_data"
    },
    {
     "data": {
      "application/vnd.jupyter.widget-view+json": {
       "model_id": "975ee230e0c74269972b252185ffb32f",
       "version_major": 2,
       "version_minor": 0
      },
      "text/plain": [
       "Record measurements:   0%|          | 0/36 [00:00<?, ?it/s]"
      ]
     },
     "metadata": {},
     "output_type": "display_data"
    },
    {
     "data": {
      "application/vnd.jupyter.widget-view+json": {
       "model_id": "e9c3bf305c684bcd8848e6e5db2b78be",
       "version_major": 2,
       "version_minor": 0
      },
      "text/plain": [
       "Record measurements:   0%|          | 0/26 [00:00<?, ?it/s]"
      ]
     },
     "metadata": {},
     "output_type": "display_data"
    },
    {
     "data": {
      "application/vnd.jupyter.widget-view+json": {
       "model_id": "d325d6a9e3764405ae2c00c0786a7746",
       "version_major": 2,
       "version_minor": 0
      },
      "text/plain": [
       "Record measurements:   0%|          | 0/6 [00:00<?, ?it/s]"
      ]
     },
     "metadata": {},
     "output_type": "display_data"
    },
    {
     "data": {
      "application/vnd.jupyter.widget-view+json": {
       "model_id": "f499c66597054c0cac7d9f6f93b838bd",
       "version_major": 2,
       "version_minor": 0
      },
      "text/plain": [
       "Record measurements:   0%|          | 0/14 [00:00<?, ?it/s]"
      ]
     },
     "metadata": {},
     "output_type": "display_data"
    },
    {
     "data": {
      "application/vnd.jupyter.widget-view+json": {
       "model_id": "eed9be7ec93945f8999901dbb4bdb751",
       "version_major": 2,
       "version_minor": 0
      },
      "text/plain": [
       "Record measurements:   0%|          | 0/74 [00:00<?, ?it/s]"
      ]
     },
     "metadata": {},
     "output_type": "display_data"
    },
    {
     "data": {
      "application/vnd.jupyter.widget-view+json": {
       "model_id": "f163fb85bb6a4751917d2c84eb0d9484",
       "version_major": 2,
       "version_minor": 0
      },
      "text/plain": [
       "Record measurements:   0%|          | 0/201 [00:00<?, ?it/s]"
      ]
     },
     "metadata": {},
     "output_type": "display_data"
    },
    {
     "data": {
      "application/vnd.jupyter.widget-view+json": {
       "model_id": "b32b7dfe31a0452c8c4357544017b0bd",
       "version_major": 2,
       "version_minor": 0
      },
      "text/plain": [
       "Record measurements:   0%|          | 0/59 [00:00<?, ?it/s]"
      ]
     },
     "metadata": {},
     "output_type": "display_data"
    },
    {
     "data": {
      "application/vnd.jupyter.widget-view+json": {
       "model_id": "515d43e60dfc47b3b8918ca83715a591",
       "version_major": 2,
       "version_minor": 0
      },
      "text/plain": [
       "Record measurements:   0%|          | 0/13 [00:00<?, ?it/s]"
      ]
     },
     "metadata": {},
     "output_type": "display_data"
    },
    {
     "data": {
      "application/vnd.jupyter.widget-view+json": {
       "model_id": "b2d91465bbf943eaa7ff2b573ca2db4e",
       "version_major": 2,
       "version_minor": 0
      },
      "text/plain": [
       "Record measurements:   0%|          | 0/76 [00:00<?, ?it/s]"
      ]
     },
     "metadata": {},
     "output_type": "display_data"
    },
    {
     "data": {
      "application/vnd.jupyter.widget-view+json": {
       "model_id": "60c6bf03f45648d7ba06007a96666e1b",
       "version_major": 2,
       "version_minor": 0
      },
      "text/plain": [
       "Record measurements:   0%|          | 0/49 [00:00<?, ?it/s]"
      ]
     },
     "metadata": {},
     "output_type": "display_data"
    },
    {
     "data": {
      "application/vnd.jupyter.widget-view+json": {
       "model_id": "b4ab57e6be7c4b21ba25e087478de373",
       "version_major": 2,
       "version_minor": 0
      },
      "text/plain": [
       "Record measurements:   0%|          | 0/21 [00:00<?, ?it/s]"
      ]
     },
     "metadata": {},
     "output_type": "display_data"
    },
    {
     "data": {
      "application/vnd.jupyter.widget-view+json": {
       "model_id": "c148101adf574955a7d0d5b369194730",
       "version_major": 2,
       "version_minor": 0
      },
      "text/plain": [
       "Record measurements:   0%|          | 0/40 [00:00<?, ?it/s]"
      ]
     },
     "metadata": {},
     "output_type": "display_data"
    },
    {
     "data": {
      "application/vnd.jupyter.widget-view+json": {
       "model_id": "b6b19d20627042279f7c9e0b60eecf7b",
       "version_major": 2,
       "version_minor": 0
      },
      "text/plain": [
       "Record measurements:   0%|          | 0/9 [00:00<?, ?it/s]"
      ]
     },
     "metadata": {},
     "output_type": "display_data"
    },
    {
     "data": {
      "application/vnd.jupyter.widget-view+json": {
       "model_id": "50a5517accc246fcad338a36ba1b4e10",
       "version_major": 2,
       "version_minor": 0
      },
      "text/plain": [
       "Record measurements:   0%|          | 0/28 [00:00<?, ?it/s]"
      ]
     },
     "metadata": {},
     "output_type": "display_data"
    },
    {
     "data": {
      "application/vnd.jupyter.widget-view+json": {
       "model_id": "1ce632aee94443f3872eb6817ec84fc9",
       "version_major": 2,
       "version_minor": 0
      },
      "text/plain": [
       "Record measurements:   0%|          | 0/26 [00:00<?, ?it/s]"
      ]
     },
     "metadata": {},
     "output_type": "display_data"
    },
    {
     "data": {
      "application/vnd.jupyter.widget-view+json": {
       "model_id": "fca430c31efa45c2ab10a8848f943a06",
       "version_major": 2,
       "version_minor": 0
      },
      "text/plain": [
       "Record measurements:   0%|          | 0/81 [00:00<?, ?it/s]"
      ]
     },
     "metadata": {},
     "output_type": "display_data"
    },
    {
     "data": {
      "application/vnd.jupyter.widget-view+json": {
       "model_id": "7fcba9f8275c425785c09939cad052e7",
       "version_major": 2,
       "version_minor": 0
      },
      "text/plain": [
       "Record measurements:   0%|          | 0/51 [00:00<?, ?it/s]"
      ]
     },
     "metadata": {},
     "output_type": "display_data"
    },
    {
     "data": {
      "application/vnd.jupyter.widget-view+json": {
       "model_id": "92142206e3d34b1b82ae5dd9cf62c372",
       "version_major": 2,
       "version_minor": 0
      },
      "text/plain": [
       "Record measurements:   0%|          | 0/29 [00:00<?, ?it/s]"
      ]
     },
     "metadata": {},
     "output_type": "display_data"
    },
    {
     "data": {
      "application/vnd.jupyter.widget-view+json": {
       "model_id": "8ca7d2d304014f64a80a0bc0161ffed0",
       "version_major": 2,
       "version_minor": 0
      },
      "text/plain": [
       "Record measurements:   0%|          | 0/56 [00:00<?, ?it/s]"
      ]
     },
     "metadata": {},
     "output_type": "display_data"
    },
    {
     "data": {
      "application/vnd.jupyter.widget-view+json": {
       "model_id": "3b3e489f65b34f33856c965ed50d0dc1",
       "version_major": 2,
       "version_minor": 0
      },
      "text/plain": [
       "Record measurements:   0%|          | 0/1277 [00:00<?, ?it/s]"
      ]
     },
     "metadata": {},
     "output_type": "display_data"
    },
    {
     "data": {
      "application/vnd.jupyter.widget-view+json": {
       "model_id": "7657ce4ca154458c8da74c93cdb743c3",
       "version_major": 2,
       "version_minor": 0
      },
      "text/plain": [
       "Record measurements:   0%|          | 0/51 [00:00<?, ?it/s]"
      ]
     },
     "metadata": {},
     "output_type": "display_data"
    },
    {
     "data": {
      "application/vnd.jupyter.widget-view+json": {
       "model_id": "d6505edee79349fe92e4a47a0b878adf",
       "version_major": 2,
       "version_minor": 0
      },
      "text/plain": [
       "Record measurements:   0%|          | 0/51 [00:00<?, ?it/s]"
      ]
     },
     "metadata": {},
     "output_type": "display_data"
    },
    {
     "data": {
      "application/vnd.jupyter.widget-view+json": {
       "model_id": "99da62f002484b31ad510435b6085364",
       "version_major": 2,
       "version_minor": 0
      },
      "text/plain": [
       "Record measurements:   0%|          | 0/158 [00:00<?, ?it/s]"
      ]
     },
     "metadata": {},
     "output_type": "display_data"
    },
    {
     "data": {
      "application/vnd.jupyter.widget-view+json": {
       "model_id": "3f6f7d4c3def4829a85f9fa9a556d354",
       "version_major": 2,
       "version_minor": 0
      },
      "text/plain": [
       "Record measurements:   0%|          | 0/16 [00:00<?, ?it/s]"
      ]
     },
     "metadata": {},
     "output_type": "display_data"
    },
    {
     "data": {
      "application/vnd.jupyter.widget-view+json": {
       "model_id": "e340494f75bc4ad0bc139f59334aebfe",
       "version_major": 2,
       "version_minor": 0
      },
      "text/plain": [
       "Record measurements:   0%|          | 0/105 [00:00<?, ?it/s]"
      ]
     },
     "metadata": {},
     "output_type": "display_data"
    },
    {
     "data": {
      "application/vnd.jupyter.widget-view+json": {
       "model_id": "214ebe6c089c4d2f903bbf6d85d31fdd",
       "version_major": 2,
       "version_minor": 0
      },
      "text/plain": [
       "Record measurements:   0%|          | 0/420 [00:00<?, ?it/s]"
      ]
     },
     "metadata": {},
     "output_type": "display_data"
    },
    {
     "data": {
      "application/vnd.jupyter.widget-view+json": {
       "model_id": "1576be032cb34153b7fe34af954a0ef8",
       "version_major": 2,
       "version_minor": 0
      },
      "text/plain": [
       "Record measurements:   0%|          | 0/16 [00:00<?, ?it/s]"
      ]
     },
     "metadata": {},
     "output_type": "display_data"
    },
    {
     "data": {
      "application/vnd.jupyter.widget-view+json": {
       "model_id": "14f64983916f4bd3acfb6331d65d55a8",
       "version_major": 2,
       "version_minor": 0
      },
      "text/plain": [
       "Record measurements:   0%|          | 0/574 [00:00<?, ?it/s]"
      ]
     },
     "metadata": {},
     "output_type": "display_data"
    },
    {
     "data": {
      "application/vnd.jupyter.widget-view+json": {
       "model_id": "8974cd005ac941a3a6c1f0d987abd063",
       "version_major": 2,
       "version_minor": 0
      },
      "text/plain": [
       "Record measurements:   0%|          | 0/14 [00:00<?, ?it/s]"
      ]
     },
     "metadata": {},
     "output_type": "display_data"
    },
    {
     "data": {
      "application/vnd.jupyter.widget-view+json": {
       "model_id": "d9c86b43e3114c4c8b8330fe7463f899",
       "version_major": 2,
       "version_minor": 0
      },
      "text/plain": [
       "Record measurements:   0%|          | 0/17 [00:00<?, ?it/s]"
      ]
     },
     "metadata": {},
     "output_type": "display_data"
    },
    {
     "data": {
      "application/vnd.jupyter.widget-view+json": {
       "model_id": "4403cdb70f7c4241887b0236e08b5ed7",
       "version_major": 2,
       "version_minor": 0
      },
      "text/plain": [
       "Record measurements:   0%|          | 0/19 [00:00<?, ?it/s]"
      ]
     },
     "metadata": {},
     "output_type": "display_data"
    },
    {
     "data": {
      "application/vnd.jupyter.widget-view+json": {
       "model_id": "1759a25494a848cc8d520d98989f112a",
       "version_major": 2,
       "version_minor": 0
      },
      "text/plain": [
       "Record measurements:   0%|          | 0/43 [00:00<?, ?it/s]"
      ]
     },
     "metadata": {},
     "output_type": "display_data"
    },
    {
     "data": {
      "application/vnd.jupyter.widget-view+json": {
       "model_id": "212ba6223e824c44a5aab487df1c272e",
       "version_major": 2,
       "version_minor": 0
      },
      "text/plain": [
       "Record measurements:   0%|          | 0/61 [00:00<?, ?it/s]"
      ]
     },
     "metadata": {},
     "output_type": "display_data"
    },
    {
     "data": {
      "application/vnd.jupyter.widget-view+json": {
       "model_id": "336f650e33094e4cba5af1effbb5050b",
       "version_major": 2,
       "version_minor": 0
      },
      "text/plain": [
       "Record measurements:   0%|          | 0/143 [00:00<?, ?it/s]"
      ]
     },
     "metadata": {},
     "output_type": "display_data"
    },
    {
     "data": {
      "application/vnd.jupyter.widget-view+json": {
       "model_id": "0081b092f82c40fc80e39d62ce00f9c7",
       "version_major": 2,
       "version_minor": 0
      },
      "text/plain": [
       "Record measurements:   0%|          | 0/17 [00:00<?, ?it/s]"
      ]
     },
     "metadata": {},
     "output_type": "display_data"
    },
    {
     "data": {
      "application/vnd.jupyter.widget-view+json": {
       "model_id": "af2b09c614da426f98c429f46d8fb19f",
       "version_major": 2,
       "version_minor": 0
      },
      "text/plain": [
       "Record measurements:   0%|          | 0/25 [00:00<?, ?it/s]"
      ]
     },
     "metadata": {},
     "output_type": "display_data"
    },
    {
     "data": {
      "application/vnd.jupyter.widget-view+json": {
       "model_id": "ff9ae38cb9674aa8b13fc476be7169dd",
       "version_major": 2,
       "version_minor": 0
      },
      "text/plain": [
       "Record measurements:   0%|          | 0/13 [00:00<?, ?it/s]"
      ]
     },
     "metadata": {},
     "output_type": "display_data"
    },
    {
     "data": {
      "application/vnd.jupyter.widget-view+json": {
       "model_id": "86452ea4026c40649649913d65d44c92",
       "version_major": 2,
       "version_minor": 0
      },
      "text/plain": [
       "Record measurements:   0%|          | 0/32 [00:00<?, ?it/s]"
      ]
     },
     "metadata": {},
     "output_type": "display_data"
    },
    {
     "data": {
      "application/vnd.jupyter.widget-view+json": {
       "model_id": "0cdff064a603451c9a8e422f4ae3b8fa",
       "version_major": 2,
       "version_minor": 0
      },
      "text/plain": [
       "Record measurements:   0%|          | 0/41 [00:00<?, ?it/s]"
      ]
     },
     "metadata": {},
     "output_type": "display_data"
    },
    {
     "data": {
      "application/vnd.jupyter.widget-view+json": {
       "model_id": "21421a502ebb422689af0482d8fe3c5e",
       "version_major": 2,
       "version_minor": 0
      },
      "text/plain": [
       "Record measurements:   0%|          | 0/7 [00:00<?, ?it/s]"
      ]
     },
     "metadata": {},
     "output_type": "display_data"
    },
    {
     "data": {
      "application/vnd.jupyter.widget-view+json": {
       "model_id": "92ff1de895d2465c9958c7d0b125a9eb",
       "version_major": 2,
       "version_minor": 0
      },
      "text/plain": [
       "Record measurements:   0%|          | 0/31 [00:00<?, ?it/s]"
      ]
     },
     "metadata": {},
     "output_type": "display_data"
    },
    {
     "data": {
      "application/vnd.jupyter.widget-view+json": {
       "model_id": "9370cbbd1ab340379a7fb9475c588147",
       "version_major": 2,
       "version_minor": 0
      },
      "text/plain": [
       "Record measurements:   0%|          | 0/20 [00:00<?, ?it/s]"
      ]
     },
     "metadata": {},
     "output_type": "display_data"
    },
    {
     "data": {
      "application/vnd.jupyter.widget-view+json": {
       "model_id": "fb6ea015e5a64250a9805209f9aefd38",
       "version_major": 2,
       "version_minor": 0
      },
      "text/plain": [
       "Record measurements:   0%|          | 0/41 [00:00<?, ?it/s]"
      ]
     },
     "metadata": {},
     "output_type": "display_data"
    },
    {
     "data": {
      "application/vnd.jupyter.widget-view+json": {
       "model_id": "adb87bd69d2f4c97a55808820aa51b3d",
       "version_major": 2,
       "version_minor": 0
      },
      "text/plain": [
       "Record measurements:   0%|          | 0/6 [00:00<?, ?it/s]"
      ]
     },
     "metadata": {},
     "output_type": "display_data"
    },
    {
     "data": {
      "application/vnd.jupyter.widget-view+json": {
       "model_id": "dbc82c3ec2984fdea642dd1f29df7352",
       "version_major": 2,
       "version_minor": 0
      },
      "text/plain": [
       "Record measurements:   0%|          | 0/89 [00:00<?, ?it/s]"
      ]
     },
     "metadata": {},
     "output_type": "display_data"
    },
    {
     "data": {
      "application/vnd.jupyter.widget-view+json": {
       "model_id": "83779d12ae7b49b0945e2d305502f535",
       "version_major": 2,
       "version_minor": 0
      },
      "text/plain": [
       "Record measurements:   0%|          | 0/31 [00:00<?, ?it/s]"
      ]
     },
     "metadata": {},
     "output_type": "display_data"
    },
    {
     "data": {
      "application/vnd.jupyter.widget-view+json": {
       "model_id": "762a45bb758e4504b5960105c2ef4e42",
       "version_major": 2,
       "version_minor": 0
      },
      "text/plain": [
       "Record measurements:   0%|          | 0/25 [00:00<?, ?it/s]"
      ]
     },
     "metadata": {},
     "output_type": "display_data"
    },
    {
     "data": {
      "application/vnd.jupyter.widget-view+json": {
       "model_id": "22ef26691f414a26bfc1ea354813cd9e",
       "version_major": 2,
       "version_minor": 0
      },
      "text/plain": [
       "Record measurements:   0%|          | 0/34 [00:00<?, ?it/s]"
      ]
     },
     "metadata": {},
     "output_type": "display_data"
    },
    {
     "data": {
      "application/vnd.jupyter.widget-view+json": {
       "model_id": "930437a26db4427ba014f3e721aabc74",
       "version_major": 2,
       "version_minor": 0
      },
      "text/plain": [
       "Record measurements:   0%|          | 0/179 [00:00<?, ?it/s]"
      ]
     },
     "metadata": {},
     "output_type": "display_data"
    },
    {
     "data": {
      "application/vnd.jupyter.widget-view+json": {
       "model_id": "69da0745513b463ea8fcde589dbae4ef",
       "version_major": 2,
       "version_minor": 0
      },
      "text/plain": [
       "Record measurements:   0%|          | 0/18 [00:00<?, ?it/s]"
      ]
     },
     "metadata": {},
     "output_type": "display_data"
    },
    {
     "data": {
      "application/vnd.jupyter.widget-view+json": {
       "model_id": "6cc47211802249fc9a0b79172462f18a",
       "version_major": 2,
       "version_minor": 0
      },
      "text/plain": [
       "Record measurements:   0%|          | 0/929 [00:00<?, ?it/s]"
      ]
     },
     "metadata": {},
     "output_type": "display_data"
    },
    {
     "data": {
      "application/vnd.jupyter.widget-view+json": {
       "model_id": "d71d03bbedfb4b3683ade0c5cd2265b2",
       "version_major": 2,
       "version_minor": 0
      },
      "text/plain": [
       "Record measurements:   0%|          | 0/11 [00:00<?, ?it/s]"
      ]
     },
     "metadata": {},
     "output_type": "display_data"
    },
    {
     "data": {
      "application/vnd.jupyter.widget-view+json": {
       "model_id": "7a6494b2dcbe41e8acff0fb8b2f13d11",
       "version_major": 2,
       "version_minor": 0
      },
      "text/plain": [
       "Record measurements:   0%|          | 0/39 [00:00<?, ?it/s]"
      ]
     },
     "metadata": {},
     "output_type": "display_data"
    },
    {
     "data": {
      "application/vnd.jupyter.widget-view+json": {
       "model_id": "25a3a60c8c7f42df8739420c4d735101",
       "version_major": 2,
       "version_minor": 0
      },
      "text/plain": [
       "Record measurements:   0%|          | 0/23 [00:00<?, ?it/s]"
      ]
     },
     "metadata": {},
     "output_type": "display_data"
    },
    {
     "data": {
      "application/vnd.jupyter.widget-view+json": {
       "model_id": "817eb12dc8ff44ccbcaa05f6a55bf49f",
       "version_major": 2,
       "version_minor": 0
      },
      "text/plain": [
       "Record measurements:   0%|          | 0/48 [00:00<?, ?it/s]"
      ]
     },
     "metadata": {},
     "output_type": "display_data"
    },
    {
     "data": {
      "application/vnd.jupyter.widget-view+json": {
       "model_id": "92456d2847a149eda16aef415a455219",
       "version_major": 2,
       "version_minor": 0
      },
      "text/plain": [
       "Record measurements:   0%|          | 0/39 [00:00<?, ?it/s]"
      ]
     },
     "metadata": {},
     "output_type": "display_data"
    },
    {
     "data": {
      "application/vnd.jupyter.widget-view+json": {
       "model_id": "8b229c5e65ca4a61915d32225cd18c38",
       "version_major": 2,
       "version_minor": 0
      },
      "text/plain": [
       "Record measurements:   0%|          | 0/15 [00:00<?, ?it/s]"
      ]
     },
     "metadata": {},
     "output_type": "display_data"
    },
    {
     "data": {
      "application/vnd.jupyter.widget-view+json": {
       "model_id": "c695daadc52643c6950cb1b91de414f7",
       "version_major": 2,
       "version_minor": 0
      },
      "text/plain": [
       "Record measurements:   0%|          | 0/14 [00:00<?, ?it/s]"
      ]
     },
     "metadata": {},
     "output_type": "display_data"
    },
    {
     "data": {
      "application/vnd.jupyter.widget-view+json": {
       "model_id": "ffb6f89a29264a9a9076852356f67fec",
       "version_major": 2,
       "version_minor": 0
      },
      "text/plain": [
       "Record measurements:   0%|          | 0/17 [00:00<?, ?it/s]"
      ]
     },
     "metadata": {},
     "output_type": "display_data"
    },
    {
     "data": {
      "application/vnd.jupyter.widget-view+json": {
       "model_id": "8f2c80182afc41d2863e75dee0e61afa",
       "version_major": 2,
       "version_minor": 0
      },
      "text/plain": [
       "Record measurements:   0%|          | 0/39 [00:00<?, ?it/s]"
      ]
     },
     "metadata": {},
     "output_type": "display_data"
    },
    {
     "data": {
      "application/vnd.jupyter.widget-view+json": {
       "model_id": "61d7809d8d4e46cbb28e90ef76a12cf2",
       "version_major": 2,
       "version_minor": 0
      },
      "text/plain": [
       "Record measurements:   0%|          | 0/39 [00:00<?, ?it/s]"
      ]
     },
     "metadata": {},
     "output_type": "display_data"
    },
    {
     "data": {
      "application/vnd.jupyter.widget-view+json": {
       "model_id": "7e2d03234c82406f85db929c1b478d3b",
       "version_major": 2,
       "version_minor": 0
      },
      "text/plain": [
       "Record measurements:   0%|          | 0/177 [00:00<?, ?it/s]"
      ]
     },
     "metadata": {},
     "output_type": "display_data"
    },
    {
     "data": {
      "application/vnd.jupyter.widget-view+json": {
       "model_id": "e4512512e1fa4503896def80a4a17c24",
       "version_major": 2,
       "version_minor": 0
      },
      "text/plain": [
       "Record measurements:   0%|          | 0/9 [00:00<?, ?it/s]"
      ]
     },
     "metadata": {},
     "output_type": "display_data"
    },
    {
     "data": {
      "application/vnd.jupyter.widget-view+json": {
       "model_id": "8f16d6bd72a941ce9ac40eec01b4c5c1",
       "version_major": 2,
       "version_minor": 0
      },
      "text/plain": [
       "Record measurements:   0%|          | 0/25 [00:00<?, ?it/s]"
      ]
     },
     "metadata": {},
     "output_type": "display_data"
    },
    {
     "data": {
      "application/vnd.jupyter.widget-view+json": {
       "model_id": "159ed745609c4c4ea1159a8406151a70",
       "version_major": 2,
       "version_minor": 0
      },
      "text/plain": [
       "Record measurements:   0%|          | 0/131 [00:00<?, ?it/s]"
      ]
     },
     "metadata": {},
     "output_type": "display_data"
    },
    {
     "data": {
      "application/vnd.jupyter.widget-view+json": {
       "model_id": "f6a99b40be6f43189f13426788343509",
       "version_major": 2,
       "version_minor": 0
      },
      "text/plain": [
       "Record measurements:   0%|          | 0/6 [00:00<?, ?it/s]"
      ]
     },
     "metadata": {},
     "output_type": "display_data"
    },
    {
     "data": {
      "application/vnd.jupyter.widget-view+json": {
       "model_id": "bed6c344f2cc49af8f9efe7ac18edea0",
       "version_major": 2,
       "version_minor": 0
      },
      "text/plain": [
       "Record measurements:   0%|          | 0/28 [00:00<?, ?it/s]"
      ]
     },
     "metadata": {},
     "output_type": "display_data"
    },
    {
     "data": {
      "application/vnd.jupyter.widget-view+json": {
       "model_id": "c29ae3e553df4a4f878e60acc9ea387a",
       "version_major": 2,
       "version_minor": 0
      },
      "text/plain": [
       "Record measurements:   0%|          | 0/16 [00:00<?, ?it/s]"
      ]
     },
     "metadata": {},
     "output_type": "display_data"
    },
    {
     "data": {
      "application/vnd.jupyter.widget-view+json": {
       "model_id": "3f9bbb9a255344d2b37e5ca5d347a0d9",
       "version_major": 2,
       "version_minor": 0
      },
      "text/plain": [
       "Record measurements:   0%|          | 0/351 [00:00<?, ?it/s]"
      ]
     },
     "metadata": {},
     "output_type": "display_data"
    },
    {
     "data": {
      "application/vnd.jupyter.widget-view+json": {
       "model_id": "47b13b46172f47d4b3d4c9edd338838e",
       "version_major": 2,
       "version_minor": 0
      },
      "text/plain": [
       "Record measurements:   0%|          | 0/84 [00:00<?, ?it/s]"
      ]
     },
     "metadata": {},
     "output_type": "display_data"
    },
    {
     "data": {
      "application/vnd.jupyter.widget-view+json": {
       "model_id": "425b8b98a1a24595a26be8d6840792bd",
       "version_major": 2,
       "version_minor": 0
      },
      "text/plain": [
       "Record measurements:   0%|          | 0/363 [00:00<?, ?it/s]"
      ]
     },
     "metadata": {},
     "output_type": "display_data"
    },
    {
     "data": {
      "application/vnd.jupyter.widget-view+json": {
       "model_id": "ab0e8830a96e4f4baa43f477de9f5025",
       "version_major": 2,
       "version_minor": 0
      },
      "text/plain": [
       "Record measurements:   0%|          | 0/57 [00:00<?, ?it/s]"
      ]
     },
     "metadata": {},
     "output_type": "display_data"
    },
    {
     "data": {
      "application/vnd.jupyter.widget-view+json": {
       "model_id": "cccbb140c5ad47178e75d0afa1fa3274",
       "version_major": 2,
       "version_minor": 0
      },
      "text/plain": [
       "Record measurements:   0%|          | 0/189 [00:00<?, ?it/s]"
      ]
     },
     "metadata": {},
     "output_type": "display_data"
    },
    {
     "data": {
      "application/vnd.jupyter.widget-view+json": {
       "model_id": "fcc50016b06f4f8bab6ed7b51b333bc3",
       "version_major": 2,
       "version_minor": 0
      },
      "text/plain": [
       "Record measurements:   0%|          | 0/52 [00:00<?, ?it/s]"
      ]
     },
     "metadata": {},
     "output_type": "display_data"
    },
    {
     "data": {
      "application/vnd.jupyter.widget-view+json": {
       "model_id": "78d2573432d64b8084f72c57fa64aedb",
       "version_major": 2,
       "version_minor": 0
      },
      "text/plain": [
       "Record measurements:   0%|          | 0/1937 [00:00<?, ?it/s]"
      ]
     },
     "metadata": {},
     "output_type": "display_data"
    },
    {
     "data": {
      "application/vnd.jupyter.widget-view+json": {
       "model_id": "d8ceae27ffc84afaa3541fabc283b20e",
       "version_major": 2,
       "version_minor": 0
      },
      "text/plain": [
       "Record measurements:   0%|          | 0/4 [00:00<?, ?it/s]"
      ]
     },
     "metadata": {},
     "output_type": "display_data"
    },
    {
     "data": {
      "application/vnd.jupyter.widget-view+json": {
       "model_id": "08d0ef5d864140deb76f5ebd8ea33234",
       "version_major": 2,
       "version_minor": 0
      },
      "text/plain": [
       "Record measurements:   0%|          | 0/80 [00:00<?, ?it/s]"
      ]
     },
     "metadata": {},
     "output_type": "display_data"
    },
    {
     "data": {
      "application/vnd.jupyter.widget-view+json": {
       "model_id": "a95171de5d5e47219aa3ab6ba786a25b",
       "version_major": 2,
       "version_minor": 0
      },
      "text/plain": [
       "Record measurements:   0%|          | 0/53 [00:00<?, ?it/s]"
      ]
     },
     "metadata": {},
     "output_type": "display_data"
    },
    {
     "data": {
      "application/vnd.jupyter.widget-view+json": {
       "model_id": "3e2bb57220b041509f8ea638814c9254",
       "version_major": 2,
       "version_minor": 0
      },
      "text/plain": [
       "Record measurements:   0%|          | 0/136 [00:00<?, ?it/s]"
      ]
     },
     "metadata": {},
     "output_type": "display_data"
    },
    {
     "data": {
      "application/vnd.jupyter.widget-view+json": {
       "model_id": "a85c6b2dbdd341dc9c46b8d391855f49",
       "version_major": 2,
       "version_minor": 0
      },
      "text/plain": [
       "Record measurements:   0%|          | 0/9 [00:00<?, ?it/s]"
      ]
     },
     "metadata": {},
     "output_type": "display_data"
    },
    {
     "data": {
      "application/vnd.jupyter.widget-view+json": {
       "model_id": "f8c2adb80df049708cb50bf8ca7afa10",
       "version_major": 2,
       "version_minor": 0
      },
      "text/plain": [
       "Record measurements:   0%|          | 0/95 [00:00<?, ?it/s]"
      ]
     },
     "metadata": {},
     "output_type": "display_data"
    },
    {
     "data": {
      "application/vnd.jupyter.widget-view+json": {
       "model_id": "bec45bb558544aafa705db1a888d7bf9",
       "version_major": 2,
       "version_minor": 0
      },
      "text/plain": [
       "Record measurements:   0%|          | 0/17 [00:00<?, ?it/s]"
      ]
     },
     "metadata": {},
     "output_type": "display_data"
    },
    {
     "data": {
      "application/vnd.jupyter.widget-view+json": {
       "model_id": "57184f03830e4b7a84382f678da79798",
       "version_major": 2,
       "version_minor": 0
      },
      "text/plain": [
       "Record measurements:   0%|          | 0/15 [00:00<?, ?it/s]"
      ]
     },
     "metadata": {},
     "output_type": "display_data"
    },
    {
     "data": {
      "application/vnd.jupyter.widget-view+json": {
       "model_id": "5613ede2cddf4bcba9c6e907d45777f2",
       "version_major": 2,
       "version_minor": 0
      },
      "text/plain": [
       "Record measurements:   0%|          | 0/27 [00:00<?, ?it/s]"
      ]
     },
     "metadata": {},
     "output_type": "display_data"
    },
    {
     "data": {
      "application/vnd.jupyter.widget-view+json": {
       "model_id": "fe3890b829be455390e44a8a00a0aa9e",
       "version_major": 2,
       "version_minor": 0
      },
      "text/plain": [
       "Record measurements:   0%|          | 0/18 [00:00<?, ?it/s]"
      ]
     },
     "metadata": {},
     "output_type": "display_data"
    },
    {
     "data": {
      "application/vnd.jupyter.widget-view+json": {
       "model_id": "aee4be7401bb4c0fa6db72ffed715eb3",
       "version_major": 2,
       "version_minor": 0
      },
      "text/plain": [
       "Record measurements:   0%|          | 0/22 [00:00<?, ?it/s]"
      ]
     },
     "metadata": {},
     "output_type": "display_data"
    },
    {
     "data": {
      "application/vnd.jupyter.widget-view+json": {
       "model_id": "d92d32ecc2484c9e83e5754e9c688d7f",
       "version_major": 2,
       "version_minor": 0
      },
      "text/plain": [
       "Record measurements:   0%|          | 0/59 [00:00<?, ?it/s]"
      ]
     },
     "metadata": {},
     "output_type": "display_data"
    },
    {
     "data": {
      "application/vnd.jupyter.widget-view+json": {
       "model_id": "61a89c3325c245c28244f193145a89b7",
       "version_major": 2,
       "version_minor": 0
      },
      "text/plain": [
       "Record measurements:   0%|          | 0/6 [00:00<?, ?it/s]"
      ]
     },
     "metadata": {},
     "output_type": "display_data"
    },
    {
     "data": {
      "application/vnd.jupyter.widget-view+json": {
       "model_id": "50b00a4a515d4f1d9508dcfb4583efdb",
       "version_major": 2,
       "version_minor": 0
      },
      "text/plain": [
       "Record measurements:   0%|          | 0/10 [00:00<?, ?it/s]"
      ]
     },
     "metadata": {},
     "output_type": "display_data"
    },
    {
     "data": {
      "application/vnd.jupyter.widget-view+json": {
       "model_id": "5df18af38c4e40a294b4ff78d4044906",
       "version_major": 2,
       "version_minor": 0
      },
      "text/plain": [
       "Record measurements:   0%|          | 0/228 [00:00<?, ?it/s]"
      ]
     },
     "metadata": {},
     "output_type": "display_data"
    },
    {
     "data": {
      "application/vnd.jupyter.widget-view+json": {
       "model_id": "ec69f6870f3b4087bb0b36ba9242a0f9",
       "version_major": 2,
       "version_minor": 0
      },
      "text/plain": [
       "Record measurements:   0%|          | 0/17 [00:00<?, ?it/s]"
      ]
     },
     "metadata": {},
     "output_type": "display_data"
    },
    {
     "data": {
      "application/vnd.jupyter.widget-view+json": {
       "model_id": "fec93059b4584740ad4b29553bd6abea",
       "version_major": 2,
       "version_minor": 0
      },
      "text/plain": [
       "Record measurements:   0%|          | 0/16 [00:00<?, ?it/s]"
      ]
     },
     "metadata": {},
     "output_type": "display_data"
    },
    {
     "data": {
      "application/vnd.jupyter.widget-view+json": {
       "model_id": "aa1a48e40c404bb59088cc8ccb481b14",
       "version_major": 2,
       "version_minor": 0
      },
      "text/plain": [
       "Record measurements:   0%|          | 0/30 [00:00<?, ?it/s]"
      ]
     },
     "metadata": {},
     "output_type": "display_data"
    },
    {
     "data": {
      "application/vnd.jupyter.widget-view+json": {
       "model_id": "7df649aa73a6405db2dd767be93abff0",
       "version_major": 2,
       "version_minor": 0
      },
      "text/plain": [
       "Record measurements:   0%|          | 0/37 [00:00<?, ?it/s]"
      ]
     },
     "metadata": {},
     "output_type": "display_data"
    },
    {
     "data": {
      "application/vnd.jupyter.widget-view+json": {
       "model_id": "8e35d46299fe4ba8a15f21d5d7a9348c",
       "version_major": 2,
       "version_minor": 0
      },
      "text/plain": [
       "Record measurements:   0%|          | 0/38 [00:00<?, ?it/s]"
      ]
     },
     "metadata": {},
     "output_type": "display_data"
    },
    {
     "data": {
      "application/vnd.jupyter.widget-view+json": {
       "model_id": "7ae66d80842c45a9a1ab667c4f1cc35e",
       "version_major": 2,
       "version_minor": 0
      },
      "text/plain": [
       "Record measurements:   0%|          | 0/314 [00:00<?, ?it/s]"
      ]
     },
     "metadata": {},
     "output_type": "display_data"
    },
    {
     "data": {
      "application/vnd.jupyter.widget-view+json": {
       "model_id": "4f0a2dcfcaa94715b851ec1de06c458f",
       "version_major": 2,
       "version_minor": 0
      },
      "text/plain": [
       "Record measurements:   0%|          | 0/267 [00:00<?, ?it/s]"
      ]
     },
     "metadata": {},
     "output_type": "display_data"
    },
    {
     "data": {
      "application/vnd.jupyter.widget-view+json": {
       "model_id": "d211a569cb834071929963fcb3a760e3",
       "version_major": 2,
       "version_minor": 0
      },
      "text/plain": [
       "Record measurements:   0%|          | 0/88 [00:00<?, ?it/s]"
      ]
     },
     "metadata": {},
     "output_type": "display_data"
    },
    {
     "data": {
      "application/vnd.jupyter.widget-view+json": {
       "model_id": "d53d26f45c674ac098769d5bf05372c1",
       "version_major": 2,
       "version_minor": 0
      },
      "text/plain": [
       "Record measurements:   0%|          | 0/15 [00:00<?, ?it/s]"
      ]
     },
     "metadata": {},
     "output_type": "display_data"
    },
    {
     "data": {
      "application/vnd.jupyter.widget-view+json": {
       "model_id": "220f98286697458291f6e40bbed99b07",
       "version_major": 2,
       "version_minor": 0
      },
      "text/plain": [
       "Record measurements:   0%|          | 0/12 [00:00<?, ?it/s]"
      ]
     },
     "metadata": {},
     "output_type": "display_data"
    },
    {
     "data": {
      "application/vnd.jupyter.widget-view+json": {
       "model_id": "23a61f9e670647a4a42279ab6bb6e7fe",
       "version_major": 2,
       "version_minor": 0
      },
      "text/plain": [
       "Record measurements:   0%|          | 0/24 [00:00<?, ?it/s]"
      ]
     },
     "metadata": {},
     "output_type": "display_data"
    },
    {
     "data": {
      "application/vnd.jupyter.widget-view+json": {
       "model_id": "f8481832a5d846448a054ac7717bb89e",
       "version_major": 2,
       "version_minor": 0
      },
      "text/plain": [
       "Record measurements:   0%|          | 0/111 [00:00<?, ?it/s]"
      ]
     },
     "metadata": {},
     "output_type": "display_data"
    },
    {
     "data": {
      "application/vnd.jupyter.widget-view+json": {
       "model_id": "19929f9a56c5456f95622c33347ccad8",
       "version_major": 2,
       "version_minor": 0
      },
      "text/plain": [
       "Record measurements:   0%|          | 0/8 [00:00<?, ?it/s]"
      ]
     },
     "metadata": {},
     "output_type": "display_data"
    },
    {
     "data": {
      "application/vnd.jupyter.widget-view+json": {
       "model_id": "7af26694572244bbbba249dac78d5b09",
       "version_major": 2,
       "version_minor": 0
      },
      "text/plain": [
       "Record measurements:   0%|          | 0/25 [00:00<?, ?it/s]"
      ]
     },
     "metadata": {},
     "output_type": "display_data"
    },
    {
     "data": {
      "application/vnd.jupyter.widget-view+json": {
       "model_id": "03cd3279718242a69efade3979bbec21",
       "version_major": 2,
       "version_minor": 0
      },
      "text/plain": [
       "Record measurements:   0%|          | 0/24 [00:00<?, ?it/s]"
      ]
     },
     "metadata": {},
     "output_type": "display_data"
    },
    {
     "data": {
      "application/vnd.jupyter.widget-view+json": {
       "model_id": "2ff0e3a2c60849af9f90d37b6a41809e",
       "version_major": 2,
       "version_minor": 0
      },
      "text/plain": [
       "Record measurements:   0%|          | 0/27 [00:00<?, ?it/s]"
      ]
     },
     "metadata": {},
     "output_type": "display_data"
    },
    {
     "data": {
      "application/vnd.jupyter.widget-view+json": {
       "model_id": "a834fe8de5e74d89854751061bfd6eca",
       "version_major": 2,
       "version_minor": 0
      },
      "text/plain": [
       "Record measurements:   0%|          | 0/16 [00:00<?, ?it/s]"
      ]
     },
     "metadata": {},
     "output_type": "display_data"
    },
    {
     "data": {
      "application/vnd.jupyter.widget-view+json": {
       "model_id": "adc3fd1318944e7a9cc00a8bf3bcdc9f",
       "version_major": 2,
       "version_minor": 0
      },
      "text/plain": [
       "Record measurements:   0%|          | 0/27 [00:00<?, ?it/s]"
      ]
     },
     "metadata": {},
     "output_type": "display_data"
    },
    {
     "data": {
      "application/vnd.jupyter.widget-view+json": {
       "model_id": "d935c03b672e4281b56bcb82f7d952f9",
       "version_major": 2,
       "version_minor": 0
      },
      "text/plain": [
       "Record measurements:   0%|          | 0/44 [00:00<?, ?it/s]"
      ]
     },
     "metadata": {},
     "output_type": "display_data"
    },
    {
     "data": {
      "application/vnd.jupyter.widget-view+json": {
       "model_id": "5e0123b33bcd4ede87c95090b03c25ca",
       "version_major": 2,
       "version_minor": 0
      },
      "text/plain": [
       "Record measurements:   0%|          | 0/103 [00:00<?, ?it/s]"
      ]
     },
     "metadata": {},
     "output_type": "display_data"
    },
    {
     "data": {
      "application/vnd.jupyter.widget-view+json": {
       "model_id": "d0c53b7ef96c4908a0a2136d9c8f9b62",
       "version_major": 2,
       "version_minor": 0
      },
      "text/plain": [
       "Record measurements:   0%|          | 0/31 [00:00<?, ?it/s]"
      ]
     },
     "metadata": {},
     "output_type": "display_data"
    },
    {
     "data": {
      "application/vnd.jupyter.widget-view+json": {
       "model_id": "5bcbfa49829243919fb50c1815d91adf",
       "version_major": 2,
       "version_minor": 0
      },
      "text/plain": [
       "Record measurements:   0%|          | 0/298 [00:00<?, ?it/s]"
      ]
     },
     "metadata": {},
     "output_type": "display_data"
    },
    {
     "data": {
      "application/vnd.jupyter.widget-view+json": {
       "model_id": "44d98e4ef0d44e5a9d8bf0c087b9a5b6",
       "version_major": 2,
       "version_minor": 0
      },
      "text/plain": [
       "Record measurements:   0%|          | 0/19 [00:00<?, ?it/s]"
      ]
     },
     "metadata": {},
     "output_type": "display_data"
    },
    {
     "data": {
      "application/vnd.jupyter.widget-view+json": {
       "model_id": "b31c966d5d704065b4997fe7886d2c8e",
       "version_major": 2,
       "version_minor": 0
      },
      "text/plain": [
       "Record measurements:   0%|          | 0/61 [00:00<?, ?it/s]"
      ]
     },
     "metadata": {},
     "output_type": "display_data"
    },
    {
     "data": {
      "application/vnd.jupyter.widget-view+json": {
       "model_id": "8bd435fe6ec24d23940773174d6e3a67",
       "version_major": 2,
       "version_minor": 0
      },
      "text/plain": [
       "Record measurements:   0%|          | 0/32 [00:00<?, ?it/s]"
      ]
     },
     "metadata": {},
     "output_type": "display_data"
    },
    {
     "data": {
      "application/vnd.jupyter.widget-view+json": {
       "model_id": "17ab6c19418c484a8f4fcc060bf132a4",
       "version_major": 2,
       "version_minor": 0
      },
      "text/plain": [
       "Record measurements:   0%|          | 0/12 [00:00<?, ?it/s]"
      ]
     },
     "metadata": {},
     "output_type": "display_data"
    },
    {
     "data": {
      "application/vnd.jupyter.widget-view+json": {
       "model_id": "9f51f0f6ad974bd8b7326c68d0c983d6",
       "version_major": 2,
       "version_minor": 0
      },
      "text/plain": [
       "Record measurements:   0%|          | 0/123 [00:00<?, ?it/s]"
      ]
     },
     "metadata": {},
     "output_type": "display_data"
    },
    {
     "data": {
      "application/vnd.jupyter.widget-view+json": {
       "model_id": "04a8e0e98b3a496d94fa248d107756b4",
       "version_major": 2,
       "version_minor": 0
      },
      "text/plain": [
       "Record measurements:   0%|          | 0/14 [00:00<?, ?it/s]"
      ]
     },
     "metadata": {},
     "output_type": "display_data"
    },
    {
     "data": {
      "application/vnd.jupyter.widget-view+json": {
       "model_id": "ccf0f92b3fe34659a5542d7d58a9087d",
       "version_major": 2,
       "version_minor": 0
      },
      "text/plain": [
       "Record measurements:   0%|          | 0/59 [00:00<?, ?it/s]"
      ]
     },
     "metadata": {},
     "output_type": "display_data"
    },
    {
     "data": {
      "application/vnd.jupyter.widget-view+json": {
       "model_id": "6482e54ace604184aa85a94e65ed2132",
       "version_major": 2,
       "version_minor": 0
      },
      "text/plain": [
       "Record measurements:   0%|          | 0/125 [00:00<?, ?it/s]"
      ]
     },
     "metadata": {},
     "output_type": "display_data"
    },
    {
     "data": {
      "application/vnd.jupyter.widget-view+json": {
       "model_id": "15af3be806294aa49ddacf1a1018f7b7",
       "version_major": 2,
       "version_minor": 0
      },
      "text/plain": [
       "Record measurements:   0%|          | 0/122 [00:00<?, ?it/s]"
      ]
     },
     "metadata": {},
     "output_type": "display_data"
    },
    {
     "data": {
      "application/vnd.jupyter.widget-view+json": {
       "model_id": "7cdd984c9b9746d6b00c226ec88afdb4",
       "version_major": 2,
       "version_minor": 0
      },
      "text/plain": [
       "Record measurements:   0%|          | 0/27 [00:00<?, ?it/s]"
      ]
     },
     "metadata": {},
     "output_type": "display_data"
    },
    {
     "data": {
      "application/vnd.jupyter.widget-view+json": {
       "model_id": "9a1f0fba7f7d4084852bf3f901e9a8f0",
       "version_major": 2,
       "version_minor": 0
      },
      "text/plain": [
       "Record measurements:   0%|          | 0/144 [00:00<?, ?it/s]"
      ]
     },
     "metadata": {},
     "output_type": "display_data"
    },
    {
     "data": {
      "application/vnd.jupyter.widget-view+json": {
       "model_id": "1c06f5430b40477db6520959b8c49d78",
       "version_major": 2,
       "version_minor": 0
      },
      "text/plain": [
       "Record measurements:   0%|          | 0/129 [00:00<?, ?it/s]"
      ]
     },
     "metadata": {},
     "output_type": "display_data"
    },
    {
     "data": {
      "application/vnd.jupyter.widget-view+json": {
       "model_id": "cdcd2c5e4ea54edf98da90ed392a40cf",
       "version_major": 2,
       "version_minor": 0
      },
      "text/plain": [
       "Record measurements:   0%|          | 0/131 [00:00<?, ?it/s]"
      ]
     },
     "metadata": {},
     "output_type": "display_data"
    },
    {
     "data": {
      "application/vnd.jupyter.widget-view+json": {
       "model_id": "6f861c070f854f16a7c24d40313c8e95",
       "version_major": 2,
       "version_minor": 0
      },
      "text/plain": [
       "Record measurements:   0%|          | 0/18 [00:00<?, ?it/s]"
      ]
     },
     "metadata": {},
     "output_type": "display_data"
    },
    {
     "data": {
      "application/vnd.jupyter.widget-view+json": {
       "model_id": "499230b5fafe4bbbb2654c8cf74788cb",
       "version_major": 2,
       "version_minor": 0
      },
      "text/plain": [
       "Record measurements:   0%|          | 0/89 [00:00<?, ?it/s]"
      ]
     },
     "metadata": {},
     "output_type": "display_data"
    },
    {
     "data": {
      "application/vnd.jupyter.widget-view+json": {
       "model_id": "d8ecae4add384202a369614f5eeba2ba",
       "version_major": 2,
       "version_minor": 0
      },
      "text/plain": [
       "Record measurements:   0%|          | 0/209 [00:00<?, ?it/s]"
      ]
     },
     "metadata": {},
     "output_type": "display_data"
    },
    {
     "data": {
      "application/vnd.jupyter.widget-view+json": {
       "model_id": "d0f0b42526bf4a39b52493581838690c",
       "version_major": 2,
       "version_minor": 0
      },
      "text/plain": [
       "Record measurements:   0%|          | 0/49 [00:00<?, ?it/s]"
      ]
     },
     "metadata": {},
     "output_type": "display_data"
    },
    {
     "data": {
      "application/vnd.jupyter.widget-view+json": {
       "model_id": "0a0b4941f15540e28ad21cf38e66d2b4",
       "version_major": 2,
       "version_minor": 0
      },
      "text/plain": [
       "Record measurements:   0%|          | 0/36 [00:00<?, ?it/s]"
      ]
     },
     "metadata": {},
     "output_type": "display_data"
    },
    {
     "data": {
      "application/vnd.jupyter.widget-view+json": {
       "model_id": "01e4e1b147c343b29b4b5ba129544b08",
       "version_major": 2,
       "version_minor": 0
      },
      "text/plain": [
       "Record measurements:   0%|          | 0/238 [00:00<?, ?it/s]"
      ]
     },
     "metadata": {},
     "output_type": "display_data"
    },
    {
     "data": {
      "application/vnd.jupyter.widget-view+json": {
       "model_id": "844898ee341e4f8ba5fb93ad467b5412",
       "version_major": 2,
       "version_minor": 0
      },
      "text/plain": [
       "Record measurements:   0%|          | 0/36 [00:00<?, ?it/s]"
      ]
     },
     "metadata": {},
     "output_type": "display_data"
    },
    {
     "data": {
      "application/vnd.jupyter.widget-view+json": {
       "model_id": "cbbd95ae8728435d9baf16ce6e1d1ba2",
       "version_major": 2,
       "version_minor": 0
      },
      "text/plain": [
       "Record measurements:   0%|          | 0/88 [00:00<?, ?it/s]"
      ]
     },
     "metadata": {},
     "output_type": "display_data"
    },
    {
     "data": {
      "application/vnd.jupyter.widget-view+json": {
       "model_id": "324b66802694421ea528685910513679",
       "version_major": 2,
       "version_minor": 0
      },
      "text/plain": [
       "Record measurements:   0%|          | 0/328 [00:00<?, ?it/s]"
      ]
     },
     "metadata": {},
     "output_type": "display_data"
    },
    {
     "data": {
      "application/vnd.jupyter.widget-view+json": {
       "model_id": "38d09bca74c94f3ea820fa084b0ef648",
       "version_major": 2,
       "version_minor": 0
      },
      "text/plain": [
       "Record measurements:   0%|          | 0/7 [00:00<?, ?it/s]"
      ]
     },
     "metadata": {},
     "output_type": "display_data"
    },
    {
     "data": {
      "application/vnd.jupyter.widget-view+json": {
       "model_id": "c26fb6e0ddc24568814f19958c2db86c",
       "version_major": 2,
       "version_minor": 0
      },
      "text/plain": [
       "Record measurements:   0%|          | 0/122 [00:00<?, ?it/s]"
      ]
     },
     "metadata": {},
     "output_type": "display_data"
    },
    {
     "data": {
      "application/vnd.jupyter.widget-view+json": {
       "model_id": "afbf968819dc411eb9dadfd0edee215c",
       "version_major": 2,
       "version_minor": 0
      },
      "text/plain": [
       "Record measurements:   0%|          | 0/27 [00:00<?, ?it/s]"
      ]
     },
     "metadata": {},
     "output_type": "display_data"
    },
    {
     "data": {
      "application/vnd.jupyter.widget-view+json": {
       "model_id": "0b4df57fef524327ac5a963e4c1ad87c",
       "version_major": 2,
       "version_minor": 0
      },
      "text/plain": [
       "Record measurements:   0%|          | 0/65 [00:00<?, ?it/s]"
      ]
     },
     "metadata": {},
     "output_type": "display_data"
    },
    {
     "data": {
      "application/vnd.jupyter.widget-view+json": {
       "model_id": "fc5c78541aa5463891e2c01c5132e9cf",
       "version_major": 2,
       "version_minor": 0
      },
      "text/plain": [
       "Record measurements:   0%|          | 0/22 [00:00<?, ?it/s]"
      ]
     },
     "metadata": {},
     "output_type": "display_data"
    },
    {
     "data": {
      "application/vnd.jupyter.widget-view+json": {
       "model_id": "95886e64ae524f01803676f34d706796",
       "version_major": 2,
       "version_minor": 0
      },
      "text/plain": [
       "Record measurements:   0%|          | 0/48 [00:00<?, ?it/s]"
      ]
     },
     "metadata": {},
     "output_type": "display_data"
    },
    {
     "data": {
      "application/vnd.jupyter.widget-view+json": {
       "model_id": "8afa927c3dfb44efb3243cb2552a813e",
       "version_major": 2,
       "version_minor": 0
      },
      "text/plain": [
       "Record measurements:   0%|          | 0/18 [00:00<?, ?it/s]"
      ]
     },
     "metadata": {},
     "output_type": "display_data"
    },
    {
     "data": {
      "application/vnd.jupyter.widget-view+json": {
       "model_id": "02fdd03ca64a4afc82d7ce53aa25e2dc",
       "version_major": 2,
       "version_minor": 0
      },
      "text/plain": [
       "Record measurements:   0%|          | 0/16 [00:00<?, ?it/s]"
      ]
     },
     "metadata": {},
     "output_type": "display_data"
    },
    {
     "data": {
      "application/vnd.jupyter.widget-view+json": {
       "model_id": "8e54a83fa3344ace818feeb6c558d785",
       "version_major": 2,
       "version_minor": 0
      },
      "text/plain": [
       "Record measurements:   0%|          | 0/476 [00:00<?, ?it/s]"
      ]
     },
     "metadata": {},
     "output_type": "display_data"
    },
    {
     "data": {
      "application/vnd.jupyter.widget-view+json": {
       "model_id": "0c39ae72691d4e6ea191de1b034669ad",
       "version_major": 2,
       "version_minor": 0
      },
      "text/plain": [
       "Record measurements:   0%|          | 0/48 [00:00<?, ?it/s]"
      ]
     },
     "metadata": {},
     "output_type": "display_data"
    },
    {
     "data": {
      "application/vnd.jupyter.widget-view+json": {
       "model_id": "476862d4fd0a4ae890b6ca9713855227",
       "version_major": 2,
       "version_minor": 0
      },
      "text/plain": [
       "Record measurements:   0%|          | 0/26 [00:00<?, ?it/s]"
      ]
     },
     "metadata": {},
     "output_type": "display_data"
    },
    {
     "data": {
      "application/vnd.jupyter.widget-view+json": {
       "model_id": "714c8f7acdff4e8f919b14e7a60b3db2",
       "version_major": 2,
       "version_minor": 0
      },
      "text/plain": [
       "Record measurements:   0%|          | 0/67 [00:00<?, ?it/s]"
      ]
     },
     "metadata": {},
     "output_type": "display_data"
    },
    {
     "data": {
      "application/vnd.jupyter.widget-view+json": {
       "model_id": "36395eadd863409289be04212fff20ea",
       "version_major": 2,
       "version_minor": 0
      },
      "text/plain": [
       "Record measurements:   0%|          | 0/83 [00:00<?, ?it/s]"
      ]
     },
     "metadata": {},
     "output_type": "display_data"
    },
    {
     "data": {
      "application/vnd.jupyter.widget-view+json": {
       "model_id": "b8538a975bd34c99bef5ac0d2b903e23",
       "version_major": 2,
       "version_minor": 0
      },
      "text/plain": [
       "Record measurements:   0%|          | 0/21 [00:00<?, ?it/s]"
      ]
     },
     "metadata": {},
     "output_type": "display_data"
    },
    {
     "data": {
      "application/vnd.jupyter.widget-view+json": {
       "model_id": "971aff70f5784d6fa10d9f06782adcd7",
       "version_major": 2,
       "version_minor": 0
      },
      "text/plain": [
       "Record measurements:   0%|          | 0/150 [00:00<?, ?it/s]"
      ]
     },
     "metadata": {},
     "output_type": "display_data"
    },
    {
     "data": {
      "application/vnd.jupyter.widget-view+json": {
       "model_id": "f8aeb8d2671e47a1a1839038dc8c1f07",
       "version_major": 2,
       "version_minor": 0
      },
      "text/plain": [
       "Record measurements:   0%|          | 0/19 [00:00<?, ?it/s]"
      ]
     },
     "metadata": {},
     "output_type": "display_data"
    },
    {
     "data": {
      "application/vnd.jupyter.widget-view+json": {
       "model_id": "6e89ee3c00394aa89bd81c1f6939f72b",
       "version_major": 2,
       "version_minor": 0
      },
      "text/plain": [
       "Record measurements:   0%|          | 0/21 [00:00<?, ?it/s]"
      ]
     },
     "metadata": {},
     "output_type": "display_data"
    },
    {
     "data": {
      "application/vnd.jupyter.widget-view+json": {
       "model_id": "998c72a5541b4bb594b1163855e02da3",
       "version_major": 2,
       "version_minor": 0
      },
      "text/plain": [
       "Record measurements:   0%|          | 0/16 [00:00<?, ?it/s]"
      ]
     },
     "metadata": {},
     "output_type": "display_data"
    },
    {
     "data": {
      "application/vnd.jupyter.widget-view+json": {
       "model_id": "e303e6e6663f4d259ff01bd7a8049517",
       "version_major": 2,
       "version_minor": 0
      },
      "text/plain": [
       "Record measurements:   0%|          | 0/36 [00:00<?, ?it/s]"
      ]
     },
     "metadata": {},
     "output_type": "display_data"
    },
    {
     "data": {
      "application/vnd.jupyter.widget-view+json": {
       "model_id": "14ce48dcd1114c1198aaf6327c21e126",
       "version_major": 2,
       "version_minor": 0
      },
      "text/plain": [
       "Record measurements:   0%|          | 0/276 [00:00<?, ?it/s]"
      ]
     },
     "metadata": {},
     "output_type": "display_data"
    },
    {
     "data": {
      "application/vnd.jupyter.widget-view+json": {
       "model_id": "4d2e179aece04d9c9a600f872e3369c3",
       "version_major": 2,
       "version_minor": 0
      },
      "text/plain": [
       "Record measurements:   0%|          | 0/9 [00:00<?, ?it/s]"
      ]
     },
     "metadata": {},
     "output_type": "display_data"
    },
    {
     "data": {
      "application/vnd.jupyter.widget-view+json": {
       "model_id": "3f318d9990e44a5c9aabe24e5793003b",
       "version_major": 2,
       "version_minor": 0
      },
      "text/plain": [
       "Record measurements:   0%|          | 0/32 [00:00<?, ?it/s]"
      ]
     },
     "metadata": {},
     "output_type": "display_data"
    },
    {
     "data": {
      "application/vnd.jupyter.widget-view+json": {
       "model_id": "f7a88164e93d457c8b53847cab4745af",
       "version_major": 2,
       "version_minor": 0
      },
      "text/plain": [
       "Record measurements:   0%|          | 0/7 [00:00<?, ?it/s]"
      ]
     },
     "metadata": {},
     "output_type": "display_data"
    },
    {
     "data": {
      "application/vnd.jupyter.widget-view+json": {
       "model_id": "91ecc5e009ac48e0b15f8be1f109362c",
       "version_major": 2,
       "version_minor": 0
      },
      "text/plain": [
       "Record measurements:   0%|          | 0/31 [00:00<?, ?it/s]"
      ]
     },
     "metadata": {},
     "output_type": "display_data"
    },
    {
     "data": {
      "application/vnd.jupyter.widget-view+json": {
       "model_id": "f793cfb47f914825aa8d889d013d9c69",
       "version_major": 2,
       "version_minor": 0
      },
      "text/plain": [
       "Record measurements:   0%|          | 0/211 [00:00<?, ?it/s]"
      ]
     },
     "metadata": {},
     "output_type": "display_data"
    },
    {
     "data": {
      "application/vnd.jupyter.widget-view+json": {
       "model_id": "50cb6d78ce5a4d8481c14cc295661735",
       "version_major": 2,
       "version_minor": 0
      },
      "text/plain": [
       "Record measurements:   0%|          | 0/16 [00:00<?, ?it/s]"
      ]
     },
     "metadata": {},
     "output_type": "display_data"
    },
    {
     "data": {
      "application/vnd.jupyter.widget-view+json": {
       "model_id": "c9ff75060275447aadfc138a4189eeaf",
       "version_major": 2,
       "version_minor": 0
      },
      "text/plain": [
       "Record measurements:   0%|          | 0/63 [00:00<?, ?it/s]"
      ]
     },
     "metadata": {},
     "output_type": "display_data"
    },
    {
     "data": {
      "application/vnd.jupyter.widget-view+json": {
       "model_id": "e371dcc6c92d43149c88059cef607533",
       "version_major": 2,
       "version_minor": 0
      },
      "text/plain": [
       "Record measurements:   0%|          | 0/23 [00:00<?, ?it/s]"
      ]
     },
     "metadata": {},
     "output_type": "display_data"
    },
    {
     "data": {
      "application/vnd.jupyter.widget-view+json": {
       "model_id": "fdf26785591c438ebfc469a024157424",
       "version_major": 2,
       "version_minor": 0
      },
      "text/plain": [
       "Record measurements:   0%|          | 0/49 [00:00<?, ?it/s]"
      ]
     },
     "metadata": {},
     "output_type": "display_data"
    },
    {
     "data": {
      "application/vnd.jupyter.widget-view+json": {
       "model_id": "ab7ea58ec4b94dd1a22592aab503dba0",
       "version_major": 2,
       "version_minor": 0
      },
      "text/plain": [
       "Record measurements:   0%|          | 0/11 [00:00<?, ?it/s]"
      ]
     },
     "metadata": {},
     "output_type": "display_data"
    },
    {
     "data": {
      "application/vnd.jupyter.widget-view+json": {
       "model_id": "c941dc4c75ea449ab41c8b3340508796",
       "version_major": 2,
       "version_minor": 0
      },
      "text/plain": [
       "Record measurements:   0%|          | 0/449 [00:00<?, ?it/s]"
      ]
     },
     "metadata": {},
     "output_type": "display_data"
    },
    {
     "data": {
      "application/vnd.jupyter.widget-view+json": {
       "model_id": "75eb81e16cc24846a1429b236b8df69f",
       "version_major": 2,
       "version_minor": 0
      },
      "text/plain": [
       "Record measurements:   0%|          | 0/45 [00:00<?, ?it/s]"
      ]
     },
     "metadata": {},
     "output_type": "display_data"
    },
    {
     "data": {
      "application/vnd.jupyter.widget-view+json": {
       "model_id": "04fb7e00880d4582a67d70fa2e429155",
       "version_major": 2,
       "version_minor": 0
      },
      "text/plain": [
       "Record measurements:   0%|          | 0/28 [00:00<?, ?it/s]"
      ]
     },
     "metadata": {},
     "output_type": "display_data"
    },
    {
     "data": {
      "application/vnd.jupyter.widget-view+json": {
       "model_id": "b8ca92197b854ba0af512dcaf1e7afa7",
       "version_major": 2,
       "version_minor": 0
      },
      "text/plain": [
       "Record measurements:   0%|          | 0/20 [00:00<?, ?it/s]"
      ]
     },
     "metadata": {},
     "output_type": "display_data"
    },
    {
     "data": {
      "application/vnd.jupyter.widget-view+json": {
       "model_id": "fa9b79f61a9548df9e874b70ee310861",
       "version_major": 2,
       "version_minor": 0
      },
      "text/plain": [
       "Record measurements:   0%|          | 0/65 [00:00<?, ?it/s]"
      ]
     },
     "metadata": {},
     "output_type": "display_data"
    },
    {
     "data": {
      "application/vnd.jupyter.widget-view+json": {
       "model_id": "16bf3fee30e84342a460782e73ba6aa3",
       "version_major": 2,
       "version_minor": 0
      },
      "text/plain": [
       "Record measurements:   0%|          | 0/43 [00:00<?, ?it/s]"
      ]
     },
     "metadata": {},
     "output_type": "display_data"
    }
   ],
   "source": [
    "_ = find_good_measurements(all_records, start=8500, n_records=250)"
   ]
  },
  {
   "cell_type": "code",
   "execution_count": 7,
   "id": "c6d2112a-6cb2-4a83-b300-ffcc185678ce",
   "metadata": {
    "collapsed": true,
    "jupyter": {
     "outputs_hidden": true
    },
    "tags": []
   },
   "outputs": [
    {
     "data": {
      "application/vnd.jupyter.widget-view+json": {
       "model_id": "9dd6b08f1d37414ebf1855f4fc350322",
       "version_major": 2,
       "version_minor": 0
      },
      "text/plain": [
       "Records:   0%|          | 0/250 [00:00<?, ?it/s]"
      ]
     },
     "metadata": {},
     "output_type": "display_data"
    },
    {
     "data": {
      "application/vnd.jupyter.widget-view+json": {
       "model_id": "9d790d7d0bda4bd7bbd28acf1892a54e",
       "version_major": 2,
       "version_minor": 0
      },
      "text/plain": [
       "Record measurements:   0%|          | 0/488 [00:00<?, ?it/s]"
      ]
     },
     "metadata": {},
     "output_type": "display_data"
    },
    {
     "data": {
      "application/vnd.jupyter.widget-view+json": {
       "model_id": "4679d3ea49d9412682837c3b710ae768",
       "version_major": 2,
       "version_minor": 0
      },
      "text/plain": [
       "Record measurements:   0%|          | 0/127 [00:00<?, ?it/s]"
      ]
     },
     "metadata": {},
     "output_type": "display_data"
    },
    {
     "data": {
      "application/vnd.jupyter.widget-view+json": {
       "model_id": "034baa7afbb94b84bbd804621eb95c37",
       "version_major": 2,
       "version_minor": 0
      },
      "text/plain": [
       "Record measurements:   0%|          | 0/21 [00:00<?, ?it/s]"
      ]
     },
     "metadata": {},
     "output_type": "display_data"
    },
    {
     "data": {
      "application/vnd.jupyter.widget-view+json": {
       "model_id": "f379f4d940a648408a3a61c5848755a0",
       "version_major": 2,
       "version_minor": 0
      },
      "text/plain": [
       "Record measurements:   0%|          | 0/16 [00:00<?, ?it/s]"
      ]
     },
     "metadata": {},
     "output_type": "display_data"
    },
    {
     "data": {
      "application/vnd.jupyter.widget-view+json": {
       "model_id": "07a3131d6b0c4c2b81908c9a4a8f625b",
       "version_major": 2,
       "version_minor": 0
      },
      "text/plain": [
       "Record measurements:   0%|          | 0/55 [00:00<?, ?it/s]"
      ]
     },
     "metadata": {},
     "output_type": "display_data"
    },
    {
     "data": {
      "application/vnd.jupyter.widget-view+json": {
       "model_id": "12d5c4f67c074b5db558bb020b1e5fb7",
       "version_major": 2,
       "version_minor": 0
      },
      "text/plain": [
       "Record measurements:   0%|          | 0/13 [00:00<?, ?it/s]"
      ]
     },
     "metadata": {},
     "output_type": "display_data"
    },
    {
     "data": {
      "application/vnd.jupyter.widget-view+json": {
       "model_id": "eaa3fbc3c03f471bb2a3105264a14d29",
       "version_major": 2,
       "version_minor": 0
      },
      "text/plain": [
       "Record measurements:   0%|          | 0/15 [00:00<?, ?it/s]"
      ]
     },
     "metadata": {},
     "output_type": "display_data"
    },
    {
     "data": {
      "application/vnd.jupyter.widget-view+json": {
       "model_id": "0117deed5c71401a898d7f7584f4acfa",
       "version_major": 2,
       "version_minor": 0
      },
      "text/plain": [
       "Record measurements:   0%|          | 0/47 [00:00<?, ?it/s]"
      ]
     },
     "metadata": {},
     "output_type": "display_data"
    },
    {
     "data": {
      "application/vnd.jupyter.widget-view+json": {
       "model_id": "d939f1ca75574acfb4192a193606b887",
       "version_major": 2,
       "version_minor": 0
      },
      "text/plain": [
       "Record measurements:   0%|          | 0/39 [00:00<?, ?it/s]"
      ]
     },
     "metadata": {},
     "output_type": "display_data"
    },
    {
     "data": {
      "application/vnd.jupyter.widget-view+json": {
       "model_id": "57145bf6649d466e819b9b459143325a",
       "version_major": 2,
       "version_minor": 0
      },
      "text/plain": [
       "Record measurements:   0%|          | 0/34 [00:00<?, ?it/s]"
      ]
     },
     "metadata": {},
     "output_type": "display_data"
    },
    {
     "data": {
      "application/vnd.jupyter.widget-view+json": {
       "model_id": "b707d04b95db4b37bf7dab4f40c8fff6",
       "version_major": 2,
       "version_minor": 0
      },
      "text/plain": [
       "Record measurements:   0%|          | 0/19 [00:00<?, ?it/s]"
      ]
     },
     "metadata": {},
     "output_type": "display_data"
    },
    {
     "data": {
      "application/vnd.jupyter.widget-view+json": {
       "model_id": "41adb0173e904f17baa855e3457287a7",
       "version_major": 2,
       "version_minor": 0
      },
      "text/plain": [
       "Record measurements:   0%|          | 0/9 [00:00<?, ?it/s]"
      ]
     },
     "metadata": {},
     "output_type": "display_data"
    },
    {
     "data": {
      "application/vnd.jupyter.widget-view+json": {
       "model_id": "604e5ee5fee147928345ae3f4cad8fdf",
       "version_major": 2,
       "version_minor": 0
      },
      "text/plain": [
       "Record measurements:   0%|          | 0/9 [00:00<?, ?it/s]"
      ]
     },
     "metadata": {},
     "output_type": "display_data"
    },
    {
     "data": {
      "application/vnd.jupyter.widget-view+json": {
       "model_id": "a8438e210475454abe148aa495fdeacd",
       "version_major": 2,
       "version_minor": 0
      },
      "text/plain": [
       "Record measurements:   0%|          | 0/42 [00:00<?, ?it/s]"
      ]
     },
     "metadata": {},
     "output_type": "display_data"
    },
    {
     "data": {
      "application/vnd.jupyter.widget-view+json": {
       "model_id": "fccc61dd994f40239df71a241b4a1149",
       "version_major": 2,
       "version_minor": 0
      },
      "text/plain": [
       "Record measurements:   0%|          | 0/24 [00:00<?, ?it/s]"
      ]
     },
     "metadata": {},
     "output_type": "display_data"
    },
    {
     "data": {
      "application/vnd.jupyter.widget-view+json": {
       "model_id": "98ff38762e974257bc940dcdbb9c17d9",
       "version_major": 2,
       "version_minor": 0
      },
      "text/plain": [
       "Record measurements:   0%|          | 0/523 [00:00<?, ?it/s]"
      ]
     },
     "metadata": {},
     "output_type": "display_data"
    },
    {
     "data": {
      "application/vnd.jupyter.widget-view+json": {
       "model_id": "f04e499e44634497a30d94b9f1a02e97",
       "version_major": 2,
       "version_minor": 0
      },
      "text/plain": [
       "Record measurements:   0%|          | 0/173 [00:00<?, ?it/s]"
      ]
     },
     "metadata": {},
     "output_type": "display_data"
    },
    {
     "data": {
      "application/vnd.jupyter.widget-view+json": {
       "model_id": "4b04150223da407ba2d883849f372f80",
       "version_major": 2,
       "version_minor": 0
      },
      "text/plain": [
       "Record measurements:   0%|          | 0/29 [00:00<?, ?it/s]"
      ]
     },
     "metadata": {},
     "output_type": "display_data"
    },
    {
     "data": {
      "application/vnd.jupyter.widget-view+json": {
       "model_id": "0a863110089d42b3b45ae17e425197b0",
       "version_major": 2,
       "version_minor": 0
      },
      "text/plain": [
       "Record measurements:   0%|          | 0/38 [00:00<?, ?it/s]"
      ]
     },
     "metadata": {},
     "output_type": "display_data"
    },
    {
     "data": {
      "application/vnd.jupyter.widget-view+json": {
       "model_id": "f5c28e836ebb469f85f4553a1ab89cbb",
       "version_major": 2,
       "version_minor": 0
      },
      "text/plain": [
       "Record measurements:   0%|          | 0/25 [00:00<?, ?it/s]"
      ]
     },
     "metadata": {},
     "output_type": "display_data"
    },
    {
     "data": {
      "application/vnd.jupyter.widget-view+json": {
       "model_id": "ef146f2b542c45229f6fa1991e5b40f3",
       "version_major": 2,
       "version_minor": 0
      },
      "text/plain": [
       "Record measurements:   0%|          | 0/38 [00:00<?, ?it/s]"
      ]
     },
     "metadata": {},
     "output_type": "display_data"
    },
    {
     "data": {
      "application/vnd.jupyter.widget-view+json": {
       "model_id": "4c66711d9306469895176cc5d76b56b1",
       "version_major": 2,
       "version_minor": 0
      },
      "text/plain": [
       "Record measurements:   0%|          | 0/7 [00:00<?, ?it/s]"
      ]
     },
     "metadata": {},
     "output_type": "display_data"
    },
    {
     "data": {
      "application/vnd.jupyter.widget-view+json": {
       "model_id": "6be274f1f2604c50ba84ef16170b9122",
       "version_major": 2,
       "version_minor": 0
      },
      "text/plain": [
       "Record measurements:   0%|          | 0/13 [00:00<?, ?it/s]"
      ]
     },
     "metadata": {},
     "output_type": "display_data"
    },
    {
     "data": {
      "application/vnd.jupyter.widget-view+json": {
       "model_id": "e771593a835c4724bca0bc3a2134135c",
       "version_major": 2,
       "version_minor": 0
      },
      "text/plain": [
       "Record measurements:   0%|          | 0/18 [00:00<?, ?it/s]"
      ]
     },
     "metadata": {},
     "output_type": "display_data"
    },
    {
     "data": {
      "application/vnd.jupyter.widget-view+json": {
       "model_id": "b1076357daa8429395a6a93159d33cee",
       "version_major": 2,
       "version_minor": 0
      },
      "text/plain": [
       "Record measurements:   0%|          | 0/34 [00:00<?, ?it/s]"
      ]
     },
     "metadata": {},
     "output_type": "display_data"
    },
    {
     "data": {
      "application/vnd.jupyter.widget-view+json": {
       "model_id": "039acbc59d6f48a1985af454d8d8ed85",
       "version_major": 2,
       "version_minor": 0
      },
      "text/plain": [
       "Record measurements:   0%|          | 0/628 [00:00<?, ?it/s]"
      ]
     },
     "metadata": {},
     "output_type": "display_data"
    },
    {
     "data": {
      "application/vnd.jupyter.widget-view+json": {
       "model_id": "0b3392a807134bfdadc10b43a4ba666d",
       "version_major": 2,
       "version_minor": 0
      },
      "text/plain": [
       "Record measurements:   0%|          | 0/11 [00:00<?, ?it/s]"
      ]
     },
     "metadata": {},
     "output_type": "display_data"
    },
    {
     "data": {
      "application/vnd.jupyter.widget-view+json": {
       "model_id": "88a7c2cdcc654cfea2b4bf43cf8f93b0",
       "version_major": 2,
       "version_minor": 0
      },
      "text/plain": [
       "Record measurements:   0%|          | 0/22 [00:00<?, ?it/s]"
      ]
     },
     "metadata": {},
     "output_type": "display_data"
    },
    {
     "data": {
      "application/vnd.jupyter.widget-view+json": {
       "model_id": "7599d63b176b4c009d3587b719f51505",
       "version_major": 2,
       "version_minor": 0
      },
      "text/plain": [
       "Record measurements:   0%|          | 0/37 [00:00<?, ?it/s]"
      ]
     },
     "metadata": {},
     "output_type": "display_data"
    },
    {
     "data": {
      "application/vnd.jupyter.widget-view+json": {
       "model_id": "45dbb2063cf1421da3b55607a1e3b712",
       "version_major": 2,
       "version_minor": 0
      },
      "text/plain": [
       "Record measurements:   0%|          | 0/25 [00:00<?, ?it/s]"
      ]
     },
     "metadata": {},
     "output_type": "display_data"
    },
    {
     "data": {
      "application/vnd.jupyter.widget-view+json": {
       "model_id": "d58e595384b044a9b025a5263919e9fe",
       "version_major": 2,
       "version_minor": 0
      },
      "text/plain": [
       "Record measurements:   0%|          | 0/256 [00:00<?, ?it/s]"
      ]
     },
     "metadata": {},
     "output_type": "display_data"
    },
    {
     "data": {
      "application/vnd.jupyter.widget-view+json": {
       "model_id": "b5a86b070f5848a4aad4f95e3d3c1161",
       "version_major": 2,
       "version_minor": 0
      },
      "text/plain": [
       "Record measurements:   0%|          | 0/83 [00:00<?, ?it/s]"
      ]
     },
     "metadata": {},
     "output_type": "display_data"
    },
    {
     "data": {
      "application/vnd.jupyter.widget-view+json": {
       "model_id": "fa2533d3c8684be8a93cb49d30b3cf00",
       "version_major": 2,
       "version_minor": 0
      },
      "text/plain": [
       "Record measurements:   0%|          | 0/93 [00:00<?, ?it/s]"
      ]
     },
     "metadata": {},
     "output_type": "display_data"
    },
    {
     "data": {
      "application/vnd.jupyter.widget-view+json": {
       "model_id": "04708c7bee6649489163ab1ad9293706",
       "version_major": 2,
       "version_minor": 0
      },
      "text/plain": [
       "Record measurements:   0%|          | 0/44 [00:00<?, ?it/s]"
      ]
     },
     "metadata": {},
     "output_type": "display_data"
    },
    {
     "data": {
      "application/vnd.jupyter.widget-view+json": {
       "model_id": "c99aee0b69f54d7d9ce96fd8dce7bbaa",
       "version_major": 2,
       "version_minor": 0
      },
      "text/plain": [
       "Record measurements:   0%|          | 0/94 [00:00<?, ?it/s]"
      ]
     },
     "metadata": {},
     "output_type": "display_data"
    },
    {
     "data": {
      "application/vnd.jupyter.widget-view+json": {
       "model_id": "9428c0279759421cb721aac6270863ec",
       "version_major": 2,
       "version_minor": 0
      },
      "text/plain": [
       "Record measurements:   0%|          | 0/27 [00:00<?, ?it/s]"
      ]
     },
     "metadata": {},
     "output_type": "display_data"
    },
    {
     "data": {
      "application/vnd.jupyter.widget-view+json": {
       "model_id": "e947fccac1cb4e9b99b2ea7168958cf6",
       "version_major": 2,
       "version_minor": 0
      },
      "text/plain": [
       "Record measurements:   0%|          | 0/39 [00:00<?, ?it/s]"
      ]
     },
     "metadata": {},
     "output_type": "display_data"
    },
    {
     "data": {
      "application/vnd.jupyter.widget-view+json": {
       "model_id": "9fecdce0900142e4bed793216133372b",
       "version_major": 2,
       "version_minor": 0
      },
      "text/plain": [
       "Record measurements:   0%|          | 0/42 [00:00<?, ?it/s]"
      ]
     },
     "metadata": {},
     "output_type": "display_data"
    },
    {
     "data": {
      "application/vnd.jupyter.widget-view+json": {
       "model_id": "da1573a1e05349418d0668517fcf3ee9",
       "version_major": 2,
       "version_minor": 0
      },
      "text/plain": [
       "Record measurements:   0%|          | 0/73 [00:00<?, ?it/s]"
      ]
     },
     "metadata": {},
     "output_type": "display_data"
    },
    {
     "data": {
      "application/vnd.jupyter.widget-view+json": {
       "model_id": "de58d8536069423b8670a32df1f91c72",
       "version_major": 2,
       "version_minor": 0
      },
      "text/plain": [
       "Record measurements:   0%|          | 0/20 [00:00<?, ?it/s]"
      ]
     },
     "metadata": {},
     "output_type": "display_data"
    },
    {
     "data": {
      "application/vnd.jupyter.widget-view+json": {
       "model_id": "08266714832946d8aebd2f8338421a2e",
       "version_major": 2,
       "version_minor": 0
      },
      "text/plain": [
       "Record measurements:   0%|          | 0/75 [00:00<?, ?it/s]"
      ]
     },
     "metadata": {},
     "output_type": "display_data"
    },
    {
     "data": {
      "application/vnd.jupyter.widget-view+json": {
       "model_id": "fc1f9bae18864807b608258dfb7ef413",
       "version_major": 2,
       "version_minor": 0
      },
      "text/plain": [
       "Record measurements:   0%|          | 0/55 [00:00<?, ?it/s]"
      ]
     },
     "metadata": {},
     "output_type": "display_data"
    },
    {
     "data": {
      "application/vnd.jupyter.widget-view+json": {
       "model_id": "515c22239f2f425aa31d407755ebec41",
       "version_major": 2,
       "version_minor": 0
      },
      "text/plain": [
       "Record measurements:   0%|          | 0/15 [00:00<?, ?it/s]"
      ]
     },
     "metadata": {},
     "output_type": "display_data"
    },
    {
     "data": {
      "application/vnd.jupyter.widget-view+json": {
       "model_id": "f0853a8050be479aa33a2d0e76eb8abd",
       "version_major": 2,
       "version_minor": 0
      },
      "text/plain": [
       "Record measurements:   0%|          | 0/38 [00:00<?, ?it/s]"
      ]
     },
     "metadata": {},
     "output_type": "display_data"
    },
    {
     "data": {
      "application/vnd.jupyter.widget-view+json": {
       "model_id": "16e6c931df004d1d83c2ac681a7f51fd",
       "version_major": 2,
       "version_minor": 0
      },
      "text/plain": [
       "Record measurements:   0%|          | 0/20 [00:00<?, ?it/s]"
      ]
     },
     "metadata": {},
     "output_type": "display_data"
    },
    {
     "data": {
      "application/vnd.jupyter.widget-view+json": {
       "model_id": "dc77f5f49c2c4ba295bdb13ad3d3236f",
       "version_major": 2,
       "version_minor": 0
      },
      "text/plain": [
       "Record measurements:   0%|          | 0/25 [00:00<?, ?it/s]"
      ]
     },
     "metadata": {},
     "output_type": "display_data"
    },
    {
     "data": {
      "application/vnd.jupyter.widget-view+json": {
       "model_id": "d7ac26a029cc4f7f93b45d2839052fed",
       "version_major": 2,
       "version_minor": 0
      },
      "text/plain": [
       "Record measurements:   0%|          | 0/28 [00:00<?, ?it/s]"
      ]
     },
     "metadata": {},
     "output_type": "display_data"
    },
    {
     "data": {
      "application/vnd.jupyter.widget-view+json": {
       "model_id": "e1c6f16fab0542e78376eb852ce22c98",
       "version_major": 2,
       "version_minor": 0
      },
      "text/plain": [
       "Record measurements:   0%|          | 0/272 [00:00<?, ?it/s]"
      ]
     },
     "metadata": {},
     "output_type": "display_data"
    },
    {
     "data": {
      "application/vnd.jupyter.widget-view+json": {
       "model_id": "3f20f50b7c694232b5810f356c789a22",
       "version_major": 2,
       "version_minor": 0
      },
      "text/plain": [
       "Record measurements:   0%|          | 0/19 [00:00<?, ?it/s]"
      ]
     },
     "metadata": {},
     "output_type": "display_data"
    },
    {
     "data": {
      "application/vnd.jupyter.widget-view+json": {
       "model_id": "6bce8360e220429c8f77365306406c1c",
       "version_major": 2,
       "version_minor": 0
      },
      "text/plain": [
       "Record measurements:   0%|          | 0/58 [00:00<?, ?it/s]"
      ]
     },
     "metadata": {},
     "output_type": "display_data"
    },
    {
     "data": {
      "application/vnd.jupyter.widget-view+json": {
       "model_id": "e4846ace396d4663acf3b6ea80b2c31e",
       "version_major": 2,
       "version_minor": 0
      },
      "text/plain": [
       "Record measurements:   0%|          | 0/140 [00:00<?, ?it/s]"
      ]
     },
     "metadata": {},
     "output_type": "display_data"
    },
    {
     "data": {
      "application/vnd.jupyter.widget-view+json": {
       "model_id": "8046c04a13464d128377be17b1b71e54",
       "version_major": 2,
       "version_minor": 0
      },
      "text/plain": [
       "Record measurements:   0%|          | 0/37 [00:00<?, ?it/s]"
      ]
     },
     "metadata": {},
     "output_type": "display_data"
    },
    {
     "data": {
      "application/vnd.jupyter.widget-view+json": {
       "model_id": "958fda59eda443f4a449e4dfc9d2bf19",
       "version_major": 2,
       "version_minor": 0
      },
      "text/plain": [
       "Record measurements:   0%|          | 0/10 [00:00<?, ?it/s]"
      ]
     },
     "metadata": {},
     "output_type": "display_data"
    },
    {
     "data": {
      "application/vnd.jupyter.widget-view+json": {
       "model_id": "30212793151347989d9c980d70726309",
       "version_major": 2,
       "version_minor": 0
      },
      "text/plain": [
       "Record measurements:   0%|          | 0/6 [00:00<?, ?it/s]"
      ]
     },
     "metadata": {},
     "output_type": "display_data"
    },
    {
     "data": {
      "application/vnd.jupyter.widget-view+json": {
       "model_id": "423e5fc69f0540d49c6cd831d1510f1a",
       "version_major": 2,
       "version_minor": 0
      },
      "text/plain": [
       "Record measurements:   0%|          | 0/110 [00:00<?, ?it/s]"
      ]
     },
     "metadata": {},
     "output_type": "display_data"
    },
    {
     "data": {
      "application/vnd.jupyter.widget-view+json": {
       "model_id": "d11cbd7ee4a94428ad0e03b225b9caea",
       "version_major": 2,
       "version_minor": 0
      },
      "text/plain": [
       "Record measurements:   0%|          | 0/74 [00:00<?, ?it/s]"
      ]
     },
     "metadata": {},
     "output_type": "display_data"
    },
    {
     "data": {
      "application/vnd.jupyter.widget-view+json": {
       "model_id": "192d6977911043c986cace954eff0a53",
       "version_major": 2,
       "version_minor": 0
      },
      "text/plain": [
       "Record measurements:   0%|          | 0/8 [00:00<?, ?it/s]"
      ]
     },
     "metadata": {},
     "output_type": "display_data"
    },
    {
     "data": {
      "application/vnd.jupyter.widget-view+json": {
       "model_id": "c73eff9e82124535a8c10dc5990a5cd0",
       "version_major": 2,
       "version_minor": 0
      },
      "text/plain": [
       "Record measurements:   0%|          | 0/45 [00:00<?, ?it/s]"
      ]
     },
     "metadata": {},
     "output_type": "display_data"
    },
    {
     "data": {
      "application/vnd.jupyter.widget-view+json": {
       "model_id": "61d02ad96d4a47fbaf05354af1f3049e",
       "version_major": 2,
       "version_minor": 0
      },
      "text/plain": [
       "Record measurements:   0%|          | 0/26 [00:00<?, ?it/s]"
      ]
     },
     "metadata": {},
     "output_type": "display_data"
    },
    {
     "data": {
      "application/vnd.jupyter.widget-view+json": {
       "model_id": "71dda1a256e54b43bb7cd1c4729549a1",
       "version_major": 2,
       "version_minor": 0
      },
      "text/plain": [
       "Record measurements:   0%|          | 0/18 [00:00<?, ?it/s]"
      ]
     },
     "metadata": {},
     "output_type": "display_data"
    },
    {
     "data": {
      "application/vnd.jupyter.widget-view+json": {
       "model_id": "fc97b53f8e274b65b30a39ccecb136f1",
       "version_major": 2,
       "version_minor": 0
      },
      "text/plain": [
       "Record measurements:   0%|          | 0/8 [00:00<?, ?it/s]"
      ]
     },
     "metadata": {},
     "output_type": "display_data"
    },
    {
     "data": {
      "application/vnd.jupyter.widget-view+json": {
       "model_id": "208607d971c341838f53c7456d331d6c",
       "version_major": 2,
       "version_minor": 0
      },
      "text/plain": [
       "Record measurements:   0%|          | 0/74 [00:00<?, ?it/s]"
      ]
     },
     "metadata": {},
     "output_type": "display_data"
    },
    {
     "data": {
      "application/vnd.jupyter.widget-view+json": {
       "model_id": "ae1a1d87056e4c9a8daa4c7dfa7d7a10",
       "version_major": 2,
       "version_minor": 0
      },
      "text/plain": [
       "Record measurements:   0%|          | 0/24 [00:00<?, ?it/s]"
      ]
     },
     "metadata": {},
     "output_type": "display_data"
    },
    {
     "data": {
      "application/vnd.jupyter.widget-view+json": {
       "model_id": "8e69cc62f4fa495584dedd67e8589779",
       "version_major": 2,
       "version_minor": 0
      },
      "text/plain": [
       "Record measurements:   0%|          | 0/1789 [00:00<?, ?it/s]"
      ]
     },
     "metadata": {},
     "output_type": "display_data"
    },
    {
     "data": {
      "application/vnd.jupyter.widget-view+json": {
       "model_id": "117e4359d3aa4fdbafc5ec4978ce4a21",
       "version_major": 2,
       "version_minor": 0
      },
      "text/plain": [
       "Record measurements:   0%|          | 0/27 [00:00<?, ?it/s]"
      ]
     },
     "metadata": {},
     "output_type": "display_data"
    },
    {
     "data": {
      "application/vnd.jupyter.widget-view+json": {
       "model_id": "e0dd680ecd16404896b03daecb9c3332",
       "version_major": 2,
       "version_minor": 0
      },
      "text/plain": [
       "Record measurements:   0%|          | 0/141 [00:00<?, ?it/s]"
      ]
     },
     "metadata": {},
     "output_type": "display_data"
    },
    {
     "data": {
      "application/vnd.jupyter.widget-view+json": {
       "model_id": "e273525403164514a4d30d744b891119",
       "version_major": 2,
       "version_minor": 0
      },
      "text/plain": [
       "Record measurements:   0%|          | 0/6 [00:00<?, ?it/s]"
      ]
     },
     "metadata": {},
     "output_type": "display_data"
    },
    {
     "data": {
      "application/vnd.jupyter.widget-view+json": {
       "model_id": "8b04e7f31a4444bc8f7cf2dbb36a118e",
       "version_major": 2,
       "version_minor": 0
      },
      "text/plain": [
       "Record measurements:   0%|          | 0/27 [00:00<?, ?it/s]"
      ]
     },
     "metadata": {},
     "output_type": "display_data"
    },
    {
     "data": {
      "application/vnd.jupyter.widget-view+json": {
       "model_id": "0b926321884e4cd5ad317960a5781b18",
       "version_major": 2,
       "version_minor": 0
      },
      "text/plain": [
       "Record measurements:   0%|          | 0/76 [00:00<?, ?it/s]"
      ]
     },
     "metadata": {},
     "output_type": "display_data"
    },
    {
     "data": {
      "application/vnd.jupyter.widget-view+json": {
       "model_id": "2557a36be7104964aef5cf78dcb471c8",
       "version_major": 2,
       "version_minor": 0
      },
      "text/plain": [
       "Record measurements:   0%|          | 0/104 [00:00<?, ?it/s]"
      ]
     },
     "metadata": {},
     "output_type": "display_data"
    },
    {
     "data": {
      "application/vnd.jupyter.widget-view+json": {
       "model_id": "cd8f1d75abaf4567b9c17d577e86228a",
       "version_major": 2,
       "version_minor": 0
      },
      "text/plain": [
       "Record measurements:   0%|          | 0/10 [00:00<?, ?it/s]"
      ]
     },
     "metadata": {},
     "output_type": "display_data"
    },
    {
     "data": {
      "application/vnd.jupyter.widget-view+json": {
       "model_id": "d5494fa92661483bb002128d38a5cd3a",
       "version_major": 2,
       "version_minor": 0
      },
      "text/plain": [
       "Record measurements:   0%|          | 0/3 [00:00<?, ?it/s]"
      ]
     },
     "metadata": {},
     "output_type": "display_data"
    },
    {
     "data": {
      "application/vnd.jupyter.widget-view+json": {
       "model_id": "1adbd7e2db3440b8b71a728f0a0b04d1",
       "version_major": 2,
       "version_minor": 0
      },
      "text/plain": [
       "Record measurements:   0%|          | 0/38 [00:00<?, ?it/s]"
      ]
     },
     "metadata": {},
     "output_type": "display_data"
    },
    {
     "data": {
      "application/vnd.jupyter.widget-view+json": {
       "model_id": "8517ed7c0017497aacdae0d32bcb09e1",
       "version_major": 2,
       "version_minor": 0
      },
      "text/plain": [
       "Record measurements:   0%|          | 0/18 [00:00<?, ?it/s]"
      ]
     },
     "metadata": {},
     "output_type": "display_data"
    },
    {
     "data": {
      "application/vnd.jupyter.widget-view+json": {
       "model_id": "e85e6b1cf25146dab921cbf1da9f56e5",
       "version_major": 2,
       "version_minor": 0
      },
      "text/plain": [
       "Record measurements:   0%|          | 0/4 [00:00<?, ?it/s]"
      ]
     },
     "metadata": {},
     "output_type": "display_data"
    },
    {
     "data": {
      "application/vnd.jupyter.widget-view+json": {
       "model_id": "134c6b4f64334b2cb14561cc4493a923",
       "version_major": 2,
       "version_minor": 0
      },
      "text/plain": [
       "Record measurements:   0%|          | 0/63 [00:00<?, ?it/s]"
      ]
     },
     "metadata": {},
     "output_type": "display_data"
    },
    {
     "data": {
      "application/vnd.jupyter.widget-view+json": {
       "model_id": "afa0a2670ff34549b553882bdd09613d",
       "version_major": 2,
       "version_minor": 0
      },
      "text/plain": [
       "Record measurements:   0%|          | 0/78 [00:00<?, ?it/s]"
      ]
     },
     "metadata": {},
     "output_type": "display_data"
    },
    {
     "data": {
      "application/vnd.jupyter.widget-view+json": {
       "model_id": "f17458b0137a4efc9de6acd7c782ce82",
       "version_major": 2,
       "version_minor": 0
      },
      "text/plain": [
       "Record measurements:   0%|          | 0/53 [00:00<?, ?it/s]"
      ]
     },
     "metadata": {},
     "output_type": "display_data"
    },
    {
     "data": {
      "application/vnd.jupyter.widget-view+json": {
       "model_id": "381b57c5ac4c4e528489f5ed8c9f085f",
       "version_major": 2,
       "version_minor": 0
      },
      "text/plain": [
       "Record measurements:   0%|          | 0/459 [00:00<?, ?it/s]"
      ]
     },
     "metadata": {},
     "output_type": "display_data"
    },
    {
     "data": {
      "application/vnd.jupyter.widget-view+json": {
       "model_id": "156f0e8a7cb240a6859beabad5b13d0c",
       "version_major": 2,
       "version_minor": 0
      },
      "text/plain": [
       "Record measurements:   0%|          | 0/156 [00:00<?, ?it/s]"
      ]
     },
     "metadata": {},
     "output_type": "display_data"
    },
    {
     "data": {
      "application/vnd.jupyter.widget-view+json": {
       "model_id": "08aabf0c7ce64238b6a2035d1b8988be",
       "version_major": 2,
       "version_minor": 0
      },
      "text/plain": [
       "Record measurements:   0%|          | 0/1158 [00:00<?, ?it/s]"
      ]
     },
     "metadata": {},
     "output_type": "display_data"
    },
    {
     "data": {
      "application/vnd.jupyter.widget-view+json": {
       "model_id": "f04e823d00634d75a76f132cbe718779",
       "version_major": 2,
       "version_minor": 0
      },
      "text/plain": [
       "Record measurements:   0%|          | 0/66 [00:00<?, ?it/s]"
      ]
     },
     "metadata": {},
     "output_type": "display_data"
    },
    {
     "data": {
      "application/vnd.jupyter.widget-view+json": {
       "model_id": "e7c6787d75bb4c1abb40dd1764cde080",
       "version_major": 2,
       "version_minor": 0
      },
      "text/plain": [
       "Record measurements:   0%|          | 0/59 [00:00<?, ?it/s]"
      ]
     },
     "metadata": {},
     "output_type": "display_data"
    },
    {
     "data": {
      "application/vnd.jupyter.widget-view+json": {
       "model_id": "9cd869afa99d4bafb025c22c2b2cf7ab",
       "version_major": 2,
       "version_minor": 0
      },
      "text/plain": [
       "Record measurements:   0%|          | 0/83 [00:00<?, ?it/s]"
      ]
     },
     "metadata": {},
     "output_type": "display_data"
    },
    {
     "data": {
      "application/vnd.jupyter.widget-view+json": {
       "model_id": "61bc3a23b0364ec4b945e243bae01c4c",
       "version_major": 2,
       "version_minor": 0
      },
      "text/plain": [
       "Record measurements:   0%|          | 0/33 [00:00<?, ?it/s]"
      ]
     },
     "metadata": {},
     "output_type": "display_data"
    },
    {
     "data": {
      "application/vnd.jupyter.widget-view+json": {
       "model_id": "515f40e2375c46a68028ac546736fb2a",
       "version_major": 2,
       "version_minor": 0
      },
      "text/plain": [
       "Record measurements:   0%|          | 0/85 [00:00<?, ?it/s]"
      ]
     },
     "metadata": {},
     "output_type": "display_data"
    },
    {
     "data": {
      "application/vnd.jupyter.widget-view+json": {
       "model_id": "fc0e15f068964089ba0070c27fccafa9",
       "version_major": 2,
       "version_minor": 0
      },
      "text/plain": [
       "Record measurements:   0%|          | 0/39 [00:00<?, ?it/s]"
      ]
     },
     "metadata": {},
     "output_type": "display_data"
    },
    {
     "data": {
      "application/vnd.jupyter.widget-view+json": {
       "model_id": "a880d9cc71894e1fbb487b8a82e1345e",
       "version_major": 2,
       "version_minor": 0
      },
      "text/plain": [
       "Record measurements:   0%|          | 0/90 [00:00<?, ?it/s]"
      ]
     },
     "metadata": {},
     "output_type": "display_data"
    },
    {
     "data": {
      "application/vnd.jupyter.widget-view+json": {
       "model_id": "10a2a69c4c55448d98ef7cfc64369583",
       "version_major": 2,
       "version_minor": 0
      },
      "text/plain": [
       "Record measurements:   0%|          | 0/16 [00:00<?, ?it/s]"
      ]
     },
     "metadata": {},
     "output_type": "display_data"
    },
    {
     "data": {
      "application/vnd.jupyter.widget-view+json": {
       "model_id": "be9e0439d20549598e557614aa6c2dc2",
       "version_major": 2,
       "version_minor": 0
      },
      "text/plain": [
       "Record measurements:   0%|          | 0/8 [00:00<?, ?it/s]"
      ]
     },
     "metadata": {},
     "output_type": "display_data"
    },
    {
     "data": {
      "application/vnd.jupyter.widget-view+json": {
       "model_id": "8694b82b17e14cf895f23a24d5bdd86f",
       "version_major": 2,
       "version_minor": 0
      },
      "text/plain": [
       "Record measurements:   0%|          | 0/127 [00:00<?, ?it/s]"
      ]
     },
     "metadata": {},
     "output_type": "display_data"
    },
    {
     "data": {
      "application/vnd.jupyter.widget-view+json": {
       "model_id": "7fe31f1e56094577a82afc9f0fcbc1c9",
       "version_major": 2,
       "version_minor": 0
      },
      "text/plain": [
       "Record measurements:   0%|          | 0/154 [00:00<?, ?it/s]"
      ]
     },
     "metadata": {},
     "output_type": "display_data"
    },
    {
     "data": {
      "application/vnd.jupyter.widget-view+json": {
       "model_id": "e4e79eb758e14b05b689e82c1332ee56",
       "version_major": 2,
       "version_minor": 0
      },
      "text/plain": [
       "Record measurements:   0%|          | 0/31 [00:00<?, ?it/s]"
      ]
     },
     "metadata": {},
     "output_type": "display_data"
    },
    {
     "data": {
      "application/vnd.jupyter.widget-view+json": {
       "model_id": "0aa552879aff4dea9fa9682791078961",
       "version_major": 2,
       "version_minor": 0
      },
      "text/plain": [
       "Record measurements:   0%|          | 0/27 [00:00<?, ?it/s]"
      ]
     },
     "metadata": {},
     "output_type": "display_data"
    },
    {
     "data": {
      "application/vnd.jupyter.widget-view+json": {
       "model_id": "efa52f683c364c5398bea3b189c511d5",
       "version_major": 2,
       "version_minor": 0
      },
      "text/plain": [
       "Record measurements:   0%|          | 0/11 [00:00<?, ?it/s]"
      ]
     },
     "metadata": {},
     "output_type": "display_data"
    },
    {
     "data": {
      "application/vnd.jupyter.widget-view+json": {
       "model_id": "92c98a8d2a744a2a93cdec2532219de5",
       "version_major": 2,
       "version_minor": 0
      },
      "text/plain": [
       "Record measurements:   0%|          | 0/116 [00:00<?, ?it/s]"
      ]
     },
     "metadata": {},
     "output_type": "display_data"
    },
    {
     "data": {
      "application/vnd.jupyter.widget-view+json": {
       "model_id": "bec8cf56af864f8da64fe3b468a78623",
       "version_major": 2,
       "version_minor": 0
      },
      "text/plain": [
       "Record measurements:   0%|          | 0/25 [00:00<?, ?it/s]"
      ]
     },
     "metadata": {},
     "output_type": "display_data"
    },
    {
     "data": {
      "application/vnd.jupyter.widget-view+json": {
       "model_id": "3cf41189116546e7b3527aa3cd4d04b6",
       "version_major": 2,
       "version_minor": 0
      },
      "text/plain": [
       "Record measurements:   0%|          | 0/103 [00:00<?, ?it/s]"
      ]
     },
     "metadata": {},
     "output_type": "display_data"
    },
    {
     "data": {
      "application/vnd.jupyter.widget-view+json": {
       "model_id": "48761506a1964f81b4fed2815729bc5f",
       "version_major": 2,
       "version_minor": 0
      },
      "text/plain": [
       "Record measurements:   0%|          | 0/153 [00:00<?, ?it/s]"
      ]
     },
     "metadata": {},
     "output_type": "display_data"
    },
    {
     "data": {
      "application/vnd.jupyter.widget-view+json": {
       "model_id": "709e9c31c0df4e9bb42b01501cd57074",
       "version_major": 2,
       "version_minor": 0
      },
      "text/plain": [
       "Record measurements:   0%|          | 0/53 [00:00<?, ?it/s]"
      ]
     },
     "metadata": {},
     "output_type": "display_data"
    },
    {
     "data": {
      "application/vnd.jupyter.widget-view+json": {
       "model_id": "36bd8262d8414351813add4be20577bc",
       "version_major": 2,
       "version_minor": 0
      },
      "text/plain": [
       "Record measurements:   0%|          | 0/107 [00:00<?, ?it/s]"
      ]
     },
     "metadata": {},
     "output_type": "display_data"
    },
    {
     "data": {
      "application/vnd.jupyter.widget-view+json": {
       "model_id": "282fb7e572264c3fb88fbad71f94f0a7",
       "version_major": 2,
       "version_minor": 0
      },
      "text/plain": [
       "Record measurements:   0%|          | 0/35 [00:00<?, ?it/s]"
      ]
     },
     "metadata": {},
     "output_type": "display_data"
    },
    {
     "data": {
      "application/vnd.jupyter.widget-view+json": {
       "model_id": "b27a0d8e12894543b6fbeeeaea51046c",
       "version_major": 2,
       "version_minor": 0
      },
      "text/plain": [
       "Record measurements:   0%|          | 0/46 [00:00<?, ?it/s]"
      ]
     },
     "metadata": {},
     "output_type": "display_data"
    },
    {
     "data": {
      "application/vnd.jupyter.widget-view+json": {
       "model_id": "cbabe9ceec784e49a948df0f58f329f4",
       "version_major": 2,
       "version_minor": 0
      },
      "text/plain": [
       "Record measurements:   0%|          | 0/20 [00:00<?, ?it/s]"
      ]
     },
     "metadata": {},
     "output_type": "display_data"
    },
    {
     "data": {
      "application/vnd.jupyter.widget-view+json": {
       "model_id": "40149b5ebec74bbf85dc14d8aaa85a9a",
       "version_major": 2,
       "version_minor": 0
      },
      "text/plain": [
       "Record measurements:   0%|          | 0/18 [00:00<?, ?it/s]"
      ]
     },
     "metadata": {},
     "output_type": "display_data"
    },
    {
     "data": {
      "application/vnd.jupyter.widget-view+json": {
       "model_id": "38ff9f18e8b9463faae23c1212cc31e0",
       "version_major": 2,
       "version_minor": 0
      },
      "text/plain": [
       "Record measurements:   0%|          | 0/67 [00:00<?, ?it/s]"
      ]
     },
     "metadata": {},
     "output_type": "display_data"
    },
    {
     "data": {
      "application/vnd.jupyter.widget-view+json": {
       "model_id": "e0c6df5fbd6d41d196f49f80a94df582",
       "version_major": 2,
       "version_minor": 0
      },
      "text/plain": [
       "Record measurements:   0%|          | 0/7 [00:00<?, ?it/s]"
      ]
     },
     "metadata": {},
     "output_type": "display_data"
    },
    {
     "data": {
      "application/vnd.jupyter.widget-view+json": {
       "model_id": "d2f9079893fb4e9ca0cc003499b5e351",
       "version_major": 2,
       "version_minor": 0
      },
      "text/plain": [
       "Record measurements:   0%|          | 0/33 [00:00<?, ?it/s]"
      ]
     },
     "metadata": {},
     "output_type": "display_data"
    },
    {
     "data": {
      "application/vnd.jupyter.widget-view+json": {
       "model_id": "1e9eff09cbea46aba9c59e41d708a8e0",
       "version_major": 2,
       "version_minor": 0
      },
      "text/plain": [
       "Record measurements:   0%|          | 0/213 [00:00<?, ?it/s]"
      ]
     },
     "metadata": {},
     "output_type": "display_data"
    },
    {
     "data": {
      "application/vnd.jupyter.widget-view+json": {
       "model_id": "96ec7ed6388642e38603bcc3d733d86b",
       "version_major": 2,
       "version_minor": 0
      },
      "text/plain": [
       "Record measurements:   0%|          | 0/146 [00:00<?, ?it/s]"
      ]
     },
     "metadata": {},
     "output_type": "display_data"
    },
    {
     "data": {
      "application/vnd.jupyter.widget-view+json": {
       "model_id": "7f0192625e7f4bfb9e4cba40a941cd3c",
       "version_major": 2,
       "version_minor": 0
      },
      "text/plain": [
       "Record measurements:   0%|          | 0/61 [00:00<?, ?it/s]"
      ]
     },
     "metadata": {},
     "output_type": "display_data"
    },
    {
     "data": {
      "application/vnd.jupyter.widget-view+json": {
       "model_id": "2bfbb49a1e2344f9b608e26499032a5a",
       "version_major": 2,
       "version_minor": 0
      },
      "text/plain": [
       "Record measurements:   0%|          | 0/29 [00:00<?, ?it/s]"
      ]
     },
     "metadata": {},
     "output_type": "display_data"
    },
    {
     "data": {
      "application/vnd.jupyter.widget-view+json": {
       "model_id": "da5d40a3f31946c2bfb1f858c97c8112",
       "version_major": 2,
       "version_minor": 0
      },
      "text/plain": [
       "Record measurements:   0%|          | 0/18 [00:00<?, ?it/s]"
      ]
     },
     "metadata": {},
     "output_type": "display_data"
    },
    {
     "data": {
      "application/vnd.jupyter.widget-view+json": {
       "model_id": "a762dc36730949c58366a433db4bf1ba",
       "version_major": 2,
       "version_minor": 0
      },
      "text/plain": [
       "Record measurements:   0%|          | 0/125 [00:00<?, ?it/s]"
      ]
     },
     "metadata": {},
     "output_type": "display_data"
    },
    {
     "data": {
      "application/vnd.jupyter.widget-view+json": {
       "model_id": "f5b85346ac654570ae2557d80fd51f4c",
       "version_major": 2,
       "version_minor": 0
      },
      "text/plain": [
       "Record measurements:   0%|          | 0/21 [00:00<?, ?it/s]"
      ]
     },
     "metadata": {},
     "output_type": "display_data"
    },
    {
     "data": {
      "application/vnd.jupyter.widget-view+json": {
       "model_id": "eb7e62c9ca914ed7a0deb93ce979f4e3",
       "version_major": 2,
       "version_minor": 0
      },
      "text/plain": [
       "Record measurements:   0%|          | 0/96 [00:00<?, ?it/s]"
      ]
     },
     "metadata": {},
     "output_type": "display_data"
    },
    {
     "data": {
      "application/vnd.jupyter.widget-view+json": {
       "model_id": "29168a1a2b204213861806fee140f7aa",
       "version_major": 2,
       "version_minor": 0
      },
      "text/plain": [
       "Record measurements:   0%|          | 0/34 [00:00<?, ?it/s]"
      ]
     },
     "metadata": {},
     "output_type": "display_data"
    },
    {
     "data": {
      "application/vnd.jupyter.widget-view+json": {
       "model_id": "d1f32bbf2ecb44658610f9fb7a550887",
       "version_major": 2,
       "version_minor": 0
      },
      "text/plain": [
       "Record measurements:   0%|          | 0/24 [00:00<?, ?it/s]"
      ]
     },
     "metadata": {},
     "output_type": "display_data"
    },
    {
     "data": {
      "application/vnd.jupyter.widget-view+json": {
       "model_id": "0481b3d6ed934f6aa34c11c7a01baa41",
       "version_major": 2,
       "version_minor": 0
      },
      "text/plain": [
       "Record measurements:   0%|          | 0/30 [00:00<?, ?it/s]"
      ]
     },
     "metadata": {},
     "output_type": "display_data"
    },
    {
     "data": {
      "application/vnd.jupyter.widget-view+json": {
       "model_id": "3c3f16683728412d9526e8ddfb27deb0",
       "version_major": 2,
       "version_minor": 0
      },
      "text/plain": [
       "Record measurements:   0%|          | 0/6 [00:00<?, ?it/s]"
      ]
     },
     "metadata": {},
     "output_type": "display_data"
    },
    {
     "data": {
      "application/vnd.jupyter.widget-view+json": {
       "model_id": "8dda0e3f9fff42a6894dc6d71e9108c0",
       "version_major": 2,
       "version_minor": 0
      },
      "text/plain": [
       "Record measurements:   0%|          | 0/9 [00:00<?, ?it/s]"
      ]
     },
     "metadata": {},
     "output_type": "display_data"
    },
    {
     "data": {
      "application/vnd.jupyter.widget-view+json": {
       "model_id": "3c5319089a7c440ca1fa4132c18ed137",
       "version_major": 2,
       "version_minor": 0
      },
      "text/plain": [
       "Record measurements:   0%|          | 0/38 [00:00<?, ?it/s]"
      ]
     },
     "metadata": {},
     "output_type": "display_data"
    },
    {
     "data": {
      "application/vnd.jupyter.widget-view+json": {
       "model_id": "2a96c8479b9f4c08af306e7b1ed3566b",
       "version_major": 2,
       "version_minor": 0
      },
      "text/plain": [
       "Record measurements:   0%|          | 0/30 [00:00<?, ?it/s]"
      ]
     },
     "metadata": {},
     "output_type": "display_data"
    },
    {
     "data": {
      "application/vnd.jupyter.widget-view+json": {
       "model_id": "d2f0fc743cde46918f1326aadabc380f",
       "version_major": 2,
       "version_minor": 0
      },
      "text/plain": [
       "Record measurements:   0%|          | 0/27 [00:00<?, ?it/s]"
      ]
     },
     "metadata": {},
     "output_type": "display_data"
    },
    {
     "data": {
      "application/vnd.jupyter.widget-view+json": {
       "model_id": "f31e70c33aa747088086123a20fe88ef",
       "version_major": 2,
       "version_minor": 0
      },
      "text/plain": [
       "Record measurements:   0%|          | 0/410 [00:00<?, ?it/s]"
      ]
     },
     "metadata": {},
     "output_type": "display_data"
    },
    {
     "data": {
      "application/vnd.jupyter.widget-view+json": {
       "model_id": "51aac35f202c4a7a9ed16b831e9192da",
       "version_major": 2,
       "version_minor": 0
      },
      "text/plain": [
       "Record measurements:   0%|          | 0/37 [00:00<?, ?it/s]"
      ]
     },
     "metadata": {},
     "output_type": "display_data"
    },
    {
     "data": {
      "application/vnd.jupyter.widget-view+json": {
       "model_id": "6d9010a7e682472b87cbd3c0604ebb39",
       "version_major": 2,
       "version_minor": 0
      },
      "text/plain": [
       "Record measurements:   0%|          | 0/21 [00:00<?, ?it/s]"
      ]
     },
     "metadata": {},
     "output_type": "display_data"
    },
    {
     "data": {
      "application/vnd.jupyter.widget-view+json": {
       "model_id": "75a277626418405eb90bb8e511a9edf2",
       "version_major": 2,
       "version_minor": 0
      },
      "text/plain": [
       "Record measurements:   0%|          | 0/12 [00:00<?, ?it/s]"
      ]
     },
     "metadata": {},
     "output_type": "display_data"
    },
    {
     "data": {
      "application/vnd.jupyter.widget-view+json": {
       "model_id": "46b9b0d1e2c04a089ab1650b1824fe6b",
       "version_major": 2,
       "version_minor": 0
      },
      "text/plain": [
       "Record measurements:   0%|          | 0/79 [00:00<?, ?it/s]"
      ]
     },
     "metadata": {},
     "output_type": "display_data"
    },
    {
     "data": {
      "application/vnd.jupyter.widget-view+json": {
       "model_id": "f4ead1f5a0464bb5a39af2037916fd5f",
       "version_major": 2,
       "version_minor": 0
      },
      "text/plain": [
       "Record measurements:   0%|          | 0/22 [00:00<?, ?it/s]"
      ]
     },
     "metadata": {},
     "output_type": "display_data"
    },
    {
     "data": {
      "application/vnd.jupyter.widget-view+json": {
       "model_id": "c104456ffca74705bcfd2f69db03c7fe",
       "version_major": 2,
       "version_minor": 0
      },
      "text/plain": [
       "Record measurements:   0%|          | 0/15 [00:00<?, ?it/s]"
      ]
     },
     "metadata": {},
     "output_type": "display_data"
    },
    {
     "data": {
      "application/vnd.jupyter.widget-view+json": {
       "model_id": "a3e7b764cac248bb8a46cfa5f0ed715e",
       "version_major": 2,
       "version_minor": 0
      },
      "text/plain": [
       "Record measurements:   0%|          | 0/33 [00:00<?, ?it/s]"
      ]
     },
     "metadata": {},
     "output_type": "display_data"
    },
    {
     "data": {
      "application/vnd.jupyter.widget-view+json": {
       "model_id": "60880c87c8184ea782447a449acfe7b9",
       "version_major": 2,
       "version_minor": 0
      },
      "text/plain": [
       "Record measurements:   0%|          | 0/27 [00:00<?, ?it/s]"
      ]
     },
     "metadata": {},
     "output_type": "display_data"
    },
    {
     "data": {
      "application/vnd.jupyter.widget-view+json": {
       "model_id": "325f2b0bab3d467db660451988614f31",
       "version_major": 2,
       "version_minor": 0
      },
      "text/plain": [
       "Record measurements:   0%|          | 0/190 [00:00<?, ?it/s]"
      ]
     },
     "metadata": {},
     "output_type": "display_data"
    },
    {
     "data": {
      "application/vnd.jupyter.widget-view+json": {
       "model_id": "7f32a55a885c4a308df15d51ad132e83",
       "version_major": 2,
       "version_minor": 0
      },
      "text/plain": [
       "Record measurements:   0%|          | 0/8 [00:00<?, ?it/s]"
      ]
     },
     "metadata": {},
     "output_type": "display_data"
    },
    {
     "data": {
      "application/vnd.jupyter.widget-view+json": {
       "model_id": "837bed0210b24ff5a24c2849bd2d997b",
       "version_major": 2,
       "version_minor": 0
      },
      "text/plain": [
       "Record measurements:   0%|          | 0/108 [00:00<?, ?it/s]"
      ]
     },
     "metadata": {},
     "output_type": "display_data"
    },
    {
     "data": {
      "application/vnd.jupyter.widget-view+json": {
       "model_id": "33f933c69507497bbbd26a938569d066",
       "version_major": 2,
       "version_minor": 0
      },
      "text/plain": [
       "Record measurements:   0%|          | 0/135 [00:00<?, ?it/s]"
      ]
     },
     "metadata": {},
     "output_type": "display_data"
    },
    {
     "data": {
      "application/vnd.jupyter.widget-view+json": {
       "model_id": "8bac3e6661e5451db3fe251e9b9fdb84",
       "version_major": 2,
       "version_minor": 0
      },
      "text/plain": [
       "Record measurements:   0%|          | 0/29 [00:00<?, ?it/s]"
      ]
     },
     "metadata": {},
     "output_type": "display_data"
    },
    {
     "data": {
      "application/vnd.jupyter.widget-view+json": {
       "model_id": "996cf78459b047fd80cce5af5440cf21",
       "version_major": 2,
       "version_minor": 0
      },
      "text/plain": [
       "Record measurements:   0%|          | 0/24 [00:00<?, ?it/s]"
      ]
     },
     "metadata": {},
     "output_type": "display_data"
    },
    {
     "data": {
      "application/vnd.jupyter.widget-view+json": {
       "model_id": "0a594d54eab049588cc278dd65f49cdd",
       "version_major": 2,
       "version_minor": 0
      },
      "text/plain": [
       "Record measurements:   0%|          | 0/15 [00:00<?, ?it/s]"
      ]
     },
     "metadata": {},
     "output_type": "display_data"
    },
    {
     "data": {
      "application/vnd.jupyter.widget-view+json": {
       "model_id": "9c24007863ee4c388b9d9799953a3de3",
       "version_major": 2,
       "version_minor": 0
      },
      "text/plain": [
       "Record measurements:   0%|          | 0/24 [00:00<?, ?it/s]"
      ]
     },
     "metadata": {},
     "output_type": "display_data"
    },
    {
     "data": {
      "application/vnd.jupyter.widget-view+json": {
       "model_id": "3f7c6350ec7b411890459b1882ca5d5d",
       "version_major": 2,
       "version_minor": 0
      },
      "text/plain": [
       "Record measurements:   0%|          | 0/16 [00:00<?, ?it/s]"
      ]
     },
     "metadata": {},
     "output_type": "display_data"
    },
    {
     "data": {
      "application/vnd.jupyter.widget-view+json": {
       "model_id": "a00c1f7ad6f6462d9bfcab34c5eba16e",
       "version_major": 2,
       "version_minor": 0
      },
      "text/plain": [
       "Record measurements:   0%|          | 0/49 [00:00<?, ?it/s]"
      ]
     },
     "metadata": {},
     "output_type": "display_data"
    },
    {
     "data": {
      "application/vnd.jupyter.widget-view+json": {
       "model_id": "12dab4b2f61e48f39237726c37715abe",
       "version_major": 2,
       "version_minor": 0
      },
      "text/plain": [
       "Record measurements:   0%|          | 0/17 [00:00<?, ?it/s]"
      ]
     },
     "metadata": {},
     "output_type": "display_data"
    },
    {
     "data": {
      "application/vnd.jupyter.widget-view+json": {
       "model_id": "eee03d5ebadc4b1ab9df433339997e51",
       "version_major": 2,
       "version_minor": 0
      },
      "text/plain": [
       "Record measurements:   0%|          | 0/157 [00:00<?, ?it/s]"
      ]
     },
     "metadata": {},
     "output_type": "display_data"
    },
    {
     "data": {
      "application/vnd.jupyter.widget-view+json": {
       "model_id": "5ebd8d240bbb4a758483fd212be36ccb",
       "version_major": 2,
       "version_minor": 0
      },
      "text/plain": [
       "Record measurements:   0%|          | 0/11 [00:00<?, ?it/s]"
      ]
     },
     "metadata": {},
     "output_type": "display_data"
    },
    {
     "data": {
      "application/vnd.jupyter.widget-view+json": {
       "model_id": "d7592dece2544b88ab7f4cfa7da9abfa",
       "version_major": 2,
       "version_minor": 0
      },
      "text/plain": [
       "Record measurements:   0%|          | 0/34 [00:00<?, ?it/s]"
      ]
     },
     "metadata": {},
     "output_type": "display_data"
    },
    {
     "data": {
      "application/vnd.jupyter.widget-view+json": {
       "model_id": "1a0e361aa82d478ea6e3ea5cdeb74a78",
       "version_major": 2,
       "version_minor": 0
      },
      "text/plain": [
       "Record measurements:   0%|          | 0/32 [00:00<?, ?it/s]"
      ]
     },
     "metadata": {},
     "output_type": "display_data"
    },
    {
     "data": {
      "application/vnd.jupyter.widget-view+json": {
       "model_id": "a125f731e99a455f948043b65bc7390c",
       "version_major": 2,
       "version_minor": 0
      },
      "text/plain": [
       "Record measurements:   0%|          | 0/31 [00:00<?, ?it/s]"
      ]
     },
     "metadata": {},
     "output_type": "display_data"
    },
    {
     "data": {
      "application/vnd.jupyter.widget-view+json": {
       "model_id": "9d8b2b9dfe964e198f120ee445c61fbc",
       "version_major": 2,
       "version_minor": 0
      },
      "text/plain": [
       "Record measurements:   0%|          | 0/62 [00:00<?, ?it/s]"
      ]
     },
     "metadata": {},
     "output_type": "display_data"
    },
    {
     "data": {
      "application/vnd.jupyter.widget-view+json": {
       "model_id": "371882c31bdf49d0a13d83a931bbab86",
       "version_major": 2,
       "version_minor": 0
      },
      "text/plain": [
       "Record measurements:   0%|          | 0/66 [00:00<?, ?it/s]"
      ]
     },
     "metadata": {},
     "output_type": "display_data"
    },
    {
     "data": {
      "application/vnd.jupyter.widget-view+json": {
       "model_id": "1343c48fc4c4465eb6bd7d35ad5063ee",
       "version_major": 2,
       "version_minor": 0
      },
      "text/plain": [
       "Record measurements:   0%|          | 0/58 [00:00<?, ?it/s]"
      ]
     },
     "metadata": {},
     "output_type": "display_data"
    },
    {
     "data": {
      "application/vnd.jupyter.widget-view+json": {
       "model_id": "8c56be6b82954bc480b20d14685a2c4c",
       "version_major": 2,
       "version_minor": 0
      },
      "text/plain": [
       "Record measurements:   0%|          | 0/19 [00:00<?, ?it/s]"
      ]
     },
     "metadata": {},
     "output_type": "display_data"
    },
    {
     "data": {
      "application/vnd.jupyter.widget-view+json": {
       "model_id": "df8be5cff013480eb1879ebf627b91af",
       "version_major": 2,
       "version_minor": 0
      },
      "text/plain": [
       "Record measurements:   0%|          | 0/29 [00:00<?, ?it/s]"
      ]
     },
     "metadata": {},
     "output_type": "display_data"
    },
    {
     "data": {
      "application/vnd.jupyter.widget-view+json": {
       "model_id": "5054034eaa52452bbf44b3abfc14faa4",
       "version_major": 2,
       "version_minor": 0
      },
      "text/plain": [
       "Record measurements:   0%|          | 0/51 [00:00<?, ?it/s]"
      ]
     },
     "metadata": {},
     "output_type": "display_data"
    },
    {
     "data": {
      "application/vnd.jupyter.widget-view+json": {
       "model_id": "2c2c89c8f27b42e5975e8f2551cc2a8a",
       "version_major": 2,
       "version_minor": 0
      },
      "text/plain": [
       "Record measurements:   0%|          | 0/59 [00:00<?, ?it/s]"
      ]
     },
     "metadata": {},
     "output_type": "display_data"
    },
    {
     "data": {
      "application/vnd.jupyter.widget-view+json": {
       "model_id": "62e02f045e8b4db996cd213275548274",
       "version_major": 2,
       "version_minor": 0
      },
      "text/plain": [
       "Record measurements:   0%|          | 0/14 [00:00<?, ?it/s]"
      ]
     },
     "metadata": {},
     "output_type": "display_data"
    },
    {
     "data": {
      "application/vnd.jupyter.widget-view+json": {
       "model_id": "11001d95789c4e4d8a424a47e71738b5",
       "version_major": 2,
       "version_minor": 0
      },
      "text/plain": [
       "Record measurements:   0%|          | 0/316 [00:00<?, ?it/s]"
      ]
     },
     "metadata": {},
     "output_type": "display_data"
    },
    {
     "data": {
      "application/vnd.jupyter.widget-view+json": {
       "model_id": "44e254ce7bee49b6aa8271d7e1b99063",
       "version_major": 2,
       "version_minor": 0
      },
      "text/plain": [
       "Record measurements:   0%|          | 0/34 [00:00<?, ?it/s]"
      ]
     },
     "metadata": {},
     "output_type": "display_data"
    },
    {
     "data": {
      "application/vnd.jupyter.widget-view+json": {
       "model_id": "8c2f87bdca54447199e3d7c813461caa",
       "version_major": 2,
       "version_minor": 0
      },
      "text/plain": [
       "Record measurements:   0%|          | 0/19 [00:00<?, ?it/s]"
      ]
     },
     "metadata": {},
     "output_type": "display_data"
    },
    {
     "data": {
      "application/vnd.jupyter.widget-view+json": {
       "model_id": "1081c8257945438387a3318fe7e90b07",
       "version_major": 2,
       "version_minor": 0
      },
      "text/plain": [
       "Record measurements:   0%|          | 0/140 [00:00<?, ?it/s]"
      ]
     },
     "metadata": {},
     "output_type": "display_data"
    },
    {
     "data": {
      "application/vnd.jupyter.widget-view+json": {
       "model_id": "99468afdbbf848af83534655ec7743e8",
       "version_major": 2,
       "version_minor": 0
      },
      "text/plain": [
       "Record measurements:   0%|          | 0/984 [00:00<?, ?it/s]"
      ]
     },
     "metadata": {},
     "output_type": "display_data"
    },
    {
     "data": {
      "application/vnd.jupyter.widget-view+json": {
       "model_id": "5aed0e6d449d46d294b6be7369da007c",
       "version_major": 2,
       "version_minor": 0
      },
      "text/plain": [
       "Record measurements:   0%|          | 0/49 [00:00<?, ?it/s]"
      ]
     },
     "metadata": {},
     "output_type": "display_data"
    },
    {
     "data": {
      "application/vnd.jupyter.widget-view+json": {
       "model_id": "29486a48b7eb4f97b8d10be55f9dd25b",
       "version_major": 2,
       "version_minor": 0
      },
      "text/plain": [
       "Record measurements:   0%|          | 0/20 [00:00<?, ?it/s]"
      ]
     },
     "metadata": {},
     "output_type": "display_data"
    },
    {
     "data": {
      "application/vnd.jupyter.widget-view+json": {
       "model_id": "6ac325cc74ad4bc4aff460d51ec619f7",
       "version_major": 2,
       "version_minor": 0
      },
      "text/plain": [
       "Record measurements:   0%|          | 0/21 [00:00<?, ?it/s]"
      ]
     },
     "metadata": {},
     "output_type": "display_data"
    },
    {
     "data": {
      "application/vnd.jupyter.widget-view+json": {
       "model_id": "e523e10d447c4255abb95e3fdd4e9906",
       "version_major": 2,
       "version_minor": 0
      },
      "text/plain": [
       "Record measurements:   0%|          | 0/3 [00:00<?, ?it/s]"
      ]
     },
     "metadata": {},
     "output_type": "display_data"
    },
    {
     "data": {
      "application/vnd.jupyter.widget-view+json": {
       "model_id": "10fdddd4d59549dfac7a546c043453bb",
       "version_major": 2,
       "version_minor": 0
      },
      "text/plain": [
       "Record measurements:   0%|          | 0/45 [00:00<?, ?it/s]"
      ]
     },
     "metadata": {},
     "output_type": "display_data"
    },
    {
     "data": {
      "application/vnd.jupyter.widget-view+json": {
       "model_id": "d1328a4b0d87431da547ef4f68554831",
       "version_major": 2,
       "version_minor": 0
      },
      "text/plain": [
       "Record measurements:   0%|          | 0/4 [00:00<?, ?it/s]"
      ]
     },
     "metadata": {},
     "output_type": "display_data"
    },
    {
     "data": {
      "application/vnd.jupyter.widget-view+json": {
       "model_id": "d61dc31b87634303bb3429e85eac9fc1",
       "version_major": 2,
       "version_minor": 0
      },
      "text/plain": [
       "Record measurements:   0%|          | 0/722 [00:00<?, ?it/s]"
      ]
     },
     "metadata": {},
     "output_type": "display_data"
    },
    {
     "data": {
      "application/vnd.jupyter.widget-view+json": {
       "model_id": "c7c8324e3f054015acf8744563a5f8f0",
       "version_major": 2,
       "version_minor": 0
      },
      "text/plain": [
       "Record measurements:   0%|          | 0/40 [00:00<?, ?it/s]"
      ]
     },
     "metadata": {},
     "output_type": "display_data"
    },
    {
     "data": {
      "application/vnd.jupyter.widget-view+json": {
       "model_id": "9ac93f9a533240a6a8a5f05ac84360eb",
       "version_major": 2,
       "version_minor": 0
      },
      "text/plain": [
       "Record measurements:   0%|          | 0/24 [00:00<?, ?it/s]"
      ]
     },
     "metadata": {},
     "output_type": "display_data"
    },
    {
     "data": {
      "application/vnd.jupyter.widget-view+json": {
       "model_id": "013638f52f4c4ed08f7bcbbfa6a87941",
       "version_major": 2,
       "version_minor": 0
      },
      "text/plain": [
       "Record measurements:   0%|          | 0/58 [00:00<?, ?it/s]"
      ]
     },
     "metadata": {},
     "output_type": "display_data"
    },
    {
     "data": {
      "application/vnd.jupyter.widget-view+json": {
       "model_id": "f20a570194bd4b0ca8819f432e4b6118",
       "version_major": 2,
       "version_minor": 0
      },
      "text/plain": [
       "Record measurements:   0%|          | 0/14 [00:00<?, ?it/s]"
      ]
     },
     "metadata": {},
     "output_type": "display_data"
    },
    {
     "data": {
      "application/vnd.jupyter.widget-view+json": {
       "model_id": "554588fe10b14981baaeef2cff428217",
       "version_major": 2,
       "version_minor": 0
      },
      "text/plain": [
       "Record measurements:   0%|          | 0/2 [00:00<?, ?it/s]"
      ]
     },
     "metadata": {},
     "output_type": "display_data"
    },
    {
     "data": {
      "application/vnd.jupyter.widget-view+json": {
       "model_id": "344f43b43aaf46ba87899d801ca6e69b",
       "version_major": 2,
       "version_minor": 0
      },
      "text/plain": [
       "Record measurements:   0%|          | 0/32 [00:00<?, ?it/s]"
      ]
     },
     "metadata": {},
     "output_type": "display_data"
    },
    {
     "data": {
      "application/vnd.jupyter.widget-view+json": {
       "model_id": "b7ce73ee7c9c48b88616bf8a01de5a40",
       "version_major": 2,
       "version_minor": 0
      },
      "text/plain": [
       "Record measurements:   0%|          | 0/58 [00:00<?, ?it/s]"
      ]
     },
     "metadata": {},
     "output_type": "display_data"
    },
    {
     "data": {
      "application/vnd.jupyter.widget-view+json": {
       "model_id": "fa04344a8ab54da6a332d6bcc0b2597f",
       "version_major": 2,
       "version_minor": 0
      },
      "text/plain": [
       "Record measurements:   0%|          | 0/3 [00:00<?, ?it/s]"
      ]
     },
     "metadata": {},
     "output_type": "display_data"
    },
    {
     "data": {
      "application/vnd.jupyter.widget-view+json": {
       "model_id": "ce86366327c14157ae3a97eee1443a36",
       "version_major": 2,
       "version_minor": 0
      },
      "text/plain": [
       "Record measurements:   0%|          | 0/160 [00:00<?, ?it/s]"
      ]
     },
     "metadata": {},
     "output_type": "display_data"
    },
    {
     "data": {
      "application/vnd.jupyter.widget-view+json": {
       "model_id": "c01ba59a1eac4ab3b61921819add5bf9",
       "version_major": 2,
       "version_minor": 0
      },
      "text/plain": [
       "Record measurements:   0%|          | 0/66 [00:00<?, ?it/s]"
      ]
     },
     "metadata": {},
     "output_type": "display_data"
    },
    {
     "data": {
      "application/vnd.jupyter.widget-view+json": {
       "model_id": "71c8864278eb4132a3d8d687e5243f64",
       "version_major": 2,
       "version_minor": 0
      },
      "text/plain": [
       "Record measurements:   0%|          | 0/42 [00:00<?, ?it/s]"
      ]
     },
     "metadata": {},
     "output_type": "display_data"
    },
    {
     "data": {
      "application/vnd.jupyter.widget-view+json": {
       "model_id": "b5049fd5664e4a8f93e431d6496b94e9",
       "version_major": 2,
       "version_minor": 0
      },
      "text/plain": [
       "Record measurements:   0%|          | 0/20 [00:00<?, ?it/s]"
      ]
     },
     "metadata": {},
     "output_type": "display_data"
    },
    {
     "data": {
      "application/vnd.jupyter.widget-view+json": {
       "model_id": "b34172185c864708aec59d72e1e6cc16",
       "version_major": 2,
       "version_minor": 0
      },
      "text/plain": [
       "Record measurements:   0%|          | 0/49 [00:00<?, ?it/s]"
      ]
     },
     "metadata": {},
     "output_type": "display_data"
    },
    {
     "data": {
      "application/vnd.jupyter.widget-view+json": {
       "model_id": "577329865ef34d34bf9bd701cf33c089",
       "version_major": 2,
       "version_minor": 0
      },
      "text/plain": [
       "Record measurements:   0%|          | 0/71 [00:00<?, ?it/s]"
      ]
     },
     "metadata": {},
     "output_type": "display_data"
    },
    {
     "data": {
      "application/vnd.jupyter.widget-view+json": {
       "model_id": "816ab6b8e075487a9230669d0929dbf0",
       "version_major": 2,
       "version_minor": 0
      },
      "text/plain": [
       "Record measurements:   0%|          | 0/55 [00:00<?, ?it/s]"
      ]
     },
     "metadata": {},
     "output_type": "display_data"
    },
    {
     "data": {
      "application/vnd.jupyter.widget-view+json": {
       "model_id": "564ba28645334052a38745b563ebccf2",
       "version_major": 2,
       "version_minor": 0
      },
      "text/plain": [
       "Record measurements:   0%|          | 0/65 [00:00<?, ?it/s]"
      ]
     },
     "metadata": {},
     "output_type": "display_data"
    },
    {
     "data": {
      "application/vnd.jupyter.widget-view+json": {
       "model_id": "732bb4ea301446c4b852f74a09827cd1",
       "version_major": 2,
       "version_minor": 0
      },
      "text/plain": [
       "Record measurements:   0%|          | 0/70 [00:00<?, ?it/s]"
      ]
     },
     "metadata": {},
     "output_type": "display_data"
    },
    {
     "data": {
      "application/vnd.jupyter.widget-view+json": {
       "model_id": "f1c4ae04387c4d02a60c15db7fa749b7",
       "version_major": 2,
       "version_minor": 0
      },
      "text/plain": [
       "Record measurements:   0%|          | 0/14 [00:00<?, ?it/s]"
      ]
     },
     "metadata": {},
     "output_type": "display_data"
    },
    {
     "data": {
      "application/vnd.jupyter.widget-view+json": {
       "model_id": "eca730b11a62479d8a45365a2713aae4",
       "version_major": 2,
       "version_minor": 0
      },
      "text/plain": [
       "Record measurements:   0%|          | 0/49 [00:00<?, ?it/s]"
      ]
     },
     "metadata": {},
     "output_type": "display_data"
    },
    {
     "data": {
      "application/vnd.jupyter.widget-view+json": {
       "model_id": "2a707cc63ee54aedb9d17592253e6ff3",
       "version_major": 2,
       "version_minor": 0
      },
      "text/plain": [
       "Record measurements:   0%|          | 0/12 [00:00<?, ?it/s]"
      ]
     },
     "metadata": {},
     "output_type": "display_data"
    },
    {
     "data": {
      "application/vnd.jupyter.widget-view+json": {
       "model_id": "f95a18d46c27453e97749c0b152bfa3f",
       "version_major": 2,
       "version_minor": 0
      },
      "text/plain": [
       "Record measurements:   0%|          | 0/53 [00:00<?, ?it/s]"
      ]
     },
     "metadata": {},
     "output_type": "display_data"
    },
    {
     "data": {
      "application/vnd.jupyter.widget-view+json": {
       "model_id": "4719cad81c96496a83d519fd6bbfbeef",
       "version_major": 2,
       "version_minor": 0
      },
      "text/plain": [
       "Record measurements:   0%|          | 0/231 [00:00<?, ?it/s]"
      ]
     },
     "metadata": {},
     "output_type": "display_data"
    },
    {
     "data": {
      "application/vnd.jupyter.widget-view+json": {
       "model_id": "aa4d4fc66a664e61aeaa707715b6790d",
       "version_major": 2,
       "version_minor": 0
      },
      "text/plain": [
       "Record measurements:   0%|          | 0/43 [00:00<?, ?it/s]"
      ]
     },
     "metadata": {},
     "output_type": "display_data"
    },
    {
     "data": {
      "application/vnd.jupyter.widget-view+json": {
       "model_id": "b4d105c9f9ec4f46abf691dcc7c107ed",
       "version_major": 2,
       "version_minor": 0
      },
      "text/plain": [
       "Record measurements:   0%|          | 0/106 [00:00<?, ?it/s]"
      ]
     },
     "metadata": {},
     "output_type": "display_data"
    },
    {
     "data": {
      "application/vnd.jupyter.widget-view+json": {
       "model_id": "9adad6f0d06948959aa9e999ef9be394",
       "version_major": 2,
       "version_minor": 0
      },
      "text/plain": [
       "Record measurements:   0%|          | 0/64 [00:00<?, ?it/s]"
      ]
     },
     "metadata": {},
     "output_type": "display_data"
    },
    {
     "data": {
      "application/vnd.jupyter.widget-view+json": {
       "model_id": "928533a65a35441aa0e2a3bb182e1fd8",
       "version_major": 2,
       "version_minor": 0
      },
      "text/plain": [
       "Record measurements:   0%|          | 0/9 [00:00<?, ?it/s]"
      ]
     },
     "metadata": {},
     "output_type": "display_data"
    },
    {
     "data": {
      "application/vnd.jupyter.widget-view+json": {
       "model_id": "598efe27d0f04271b28ff25d424cae69",
       "version_major": 2,
       "version_minor": 0
      },
      "text/plain": [
       "Record measurements:   0%|          | 0/6 [00:00<?, ?it/s]"
      ]
     },
     "metadata": {},
     "output_type": "display_data"
    },
    {
     "data": {
      "application/vnd.jupyter.widget-view+json": {
       "model_id": "bd34670f27ad4c3bb5085b8efb36eb38",
       "version_major": 2,
       "version_minor": 0
      },
      "text/plain": [
       "Record measurements:   0%|          | 0/30 [00:00<?, ?it/s]"
      ]
     },
     "metadata": {},
     "output_type": "display_data"
    },
    {
     "data": {
      "application/vnd.jupyter.widget-view+json": {
       "model_id": "39be70cb091b418e80c3fad7dc658d11",
       "version_major": 2,
       "version_minor": 0
      },
      "text/plain": [
       "Record measurements:   0%|          | 0/6 [00:00<?, ?it/s]"
      ]
     },
     "metadata": {},
     "output_type": "display_data"
    },
    {
     "data": {
      "application/vnd.jupyter.widget-view+json": {
       "model_id": "2d4f59ef0b81409a9b6a03446e6d02d5",
       "version_major": 2,
       "version_minor": 0
      },
      "text/plain": [
       "Record measurements:   0%|          | 0/67 [00:00<?, ?it/s]"
      ]
     },
     "metadata": {},
     "output_type": "display_data"
    },
    {
     "data": {
      "application/vnd.jupyter.widget-view+json": {
       "model_id": "c5f07cb1d04246cc8f15b6dce7b346a1",
       "version_major": 2,
       "version_minor": 0
      },
      "text/plain": [
       "Record measurements:   0%|          | 0/16 [00:00<?, ?it/s]"
      ]
     },
     "metadata": {},
     "output_type": "display_data"
    },
    {
     "data": {
      "application/vnd.jupyter.widget-view+json": {
       "model_id": "d1849a8b221a41369a15383fe0c8343d",
       "version_major": 2,
       "version_minor": 0
      },
      "text/plain": [
       "Record measurements:   0%|          | 0/11 [00:00<?, ?it/s]"
      ]
     },
     "metadata": {},
     "output_type": "display_data"
    },
    {
     "data": {
      "application/vnd.jupyter.widget-view+json": {
       "model_id": "e32585f323d74e2980587f57339b214e",
       "version_major": 2,
       "version_minor": 0
      },
      "text/plain": [
       "Record measurements:   0%|          | 0/62 [00:00<?, ?it/s]"
      ]
     },
     "metadata": {},
     "output_type": "display_data"
    },
    {
     "data": {
      "application/vnd.jupyter.widget-view+json": {
       "model_id": "66091fbab42348b092ce0f69757dc298",
       "version_major": 2,
       "version_minor": 0
      },
      "text/plain": [
       "Record measurements:   0%|          | 0/50 [00:00<?, ?it/s]"
      ]
     },
     "metadata": {},
     "output_type": "display_data"
    },
    {
     "data": {
      "application/vnd.jupyter.widget-view+json": {
       "model_id": "dba9158eb75a4265a57d68c5cc9eeb86",
       "version_major": 2,
       "version_minor": 0
      },
      "text/plain": [
       "Record measurements:   0%|          | 0/15 [00:00<?, ?it/s]"
      ]
     },
     "metadata": {},
     "output_type": "display_data"
    },
    {
     "data": {
      "application/vnd.jupyter.widget-view+json": {
       "model_id": "95c3668aca204bbf82380e99f4b19286",
       "version_major": 2,
       "version_minor": 0
      },
      "text/plain": [
       "Record measurements:   0%|          | 0/53 [00:00<?, ?it/s]"
      ]
     },
     "metadata": {},
     "output_type": "display_data"
    },
    {
     "data": {
      "application/vnd.jupyter.widget-view+json": {
       "model_id": "fc4057a3101542fd8ae89a8f6d31722d",
       "version_major": 2,
       "version_minor": 0
      },
      "text/plain": [
       "Record measurements:   0%|          | 0/38 [00:00<?, ?it/s]"
      ]
     },
     "metadata": {},
     "output_type": "display_data"
    },
    {
     "data": {
      "application/vnd.jupyter.widget-view+json": {
       "model_id": "3cce2c50fea042c0838a873809b8b8a3",
       "version_major": 2,
       "version_minor": 0
      },
      "text/plain": [
       "Record measurements:   0%|          | 0/16 [00:00<?, ?it/s]"
      ]
     },
     "metadata": {},
     "output_type": "display_data"
    },
    {
     "data": {
      "application/vnd.jupyter.widget-view+json": {
       "model_id": "9dda591084d14fc5bcd85b7ec6208e2e",
       "version_major": 2,
       "version_minor": 0
      },
      "text/plain": [
       "Record measurements:   0%|          | 0/56 [00:00<?, ?it/s]"
      ]
     },
     "metadata": {},
     "output_type": "display_data"
    },
    {
     "data": {
      "application/vnd.jupyter.widget-view+json": {
       "model_id": "aacdf655903941ad8a315171ac7afa90",
       "version_major": 2,
       "version_minor": 0
      },
      "text/plain": [
       "Record measurements:   0%|          | 0/249 [00:00<?, ?it/s]"
      ]
     },
     "metadata": {},
     "output_type": "display_data"
    },
    {
     "data": {
      "application/vnd.jupyter.widget-view+json": {
       "model_id": "ffd2c2bff80a42de970ba440088aaac4",
       "version_major": 2,
       "version_minor": 0
      },
      "text/plain": [
       "Record measurements:   0%|          | 0/45 [00:00<?, ?it/s]"
      ]
     },
     "metadata": {},
     "output_type": "display_data"
    },
    {
     "data": {
      "application/vnd.jupyter.widget-view+json": {
       "model_id": "6bc8f00d066143b295f7caf673ec5421",
       "version_major": 2,
       "version_minor": 0
      },
      "text/plain": [
       "Record measurements:   0%|          | 0/13 [00:00<?, ?it/s]"
      ]
     },
     "metadata": {},
     "output_type": "display_data"
    },
    {
     "data": {
      "application/vnd.jupyter.widget-view+json": {
       "model_id": "ca1e607cc4754bd98c53d1c790cb7828",
       "version_major": 2,
       "version_minor": 0
      },
      "text/plain": [
       "Record measurements:   0%|          | 0/11 [00:00<?, ?it/s]"
      ]
     },
     "metadata": {},
     "output_type": "display_data"
    },
    {
     "data": {
      "application/vnd.jupyter.widget-view+json": {
       "model_id": "b613d942083f40b2b80bc2e3cd859e10",
       "version_major": 2,
       "version_minor": 0
      },
      "text/plain": [
       "Record measurements:   0%|          | 0/39 [00:00<?, ?it/s]"
      ]
     },
     "metadata": {},
     "output_type": "display_data"
    },
    {
     "data": {
      "application/vnd.jupyter.widget-view+json": {
       "model_id": "3ca70e0e53ee4654a3bd79d2dd69c6da",
       "version_major": 2,
       "version_minor": 0
      },
      "text/plain": [
       "Record measurements:   0%|          | 0/158 [00:00<?, ?it/s]"
      ]
     },
     "metadata": {},
     "output_type": "display_data"
    },
    {
     "data": {
      "application/vnd.jupyter.widget-view+json": {
       "model_id": "44797be84ded41b98efaae108f923b54",
       "version_major": 2,
       "version_minor": 0
      },
      "text/plain": [
       "Record measurements:   0%|          | 0/33 [00:00<?, ?it/s]"
      ]
     },
     "metadata": {},
     "output_type": "display_data"
    },
    {
     "data": {
      "application/vnd.jupyter.widget-view+json": {
       "model_id": "20a01a8d00d5490e894c0f78ad0269ec",
       "version_major": 2,
       "version_minor": 0
      },
      "text/plain": [
       "Record measurements:   0%|          | 0/108 [00:00<?, ?it/s]"
      ]
     },
     "metadata": {},
     "output_type": "display_data"
    },
    {
     "data": {
      "application/vnd.jupyter.widget-view+json": {
       "model_id": "14fdd0db84154837bb6bca25b28e7cc1",
       "version_major": 2,
       "version_minor": 0
      },
      "text/plain": [
       "Record measurements:   0%|          | 0/61 [00:00<?, ?it/s]"
      ]
     },
     "metadata": {},
     "output_type": "display_data"
    },
    {
     "data": {
      "application/vnd.jupyter.widget-view+json": {
       "model_id": "57f5b28a38c846bfb873d935f078f921",
       "version_major": 2,
       "version_minor": 0
      },
      "text/plain": [
       "Record measurements:   0%|          | 0/53 [00:00<?, ?it/s]"
      ]
     },
     "metadata": {},
     "output_type": "display_data"
    },
    {
     "data": {
      "application/vnd.jupyter.widget-view+json": {
       "model_id": "f18fd32114834c92b8c922fcb2939424",
       "version_major": 2,
       "version_minor": 0
      },
      "text/plain": [
       "Record measurements:   0%|          | 0/56 [00:00<?, ?it/s]"
      ]
     },
     "metadata": {},
     "output_type": "display_data"
    },
    {
     "data": {
      "application/vnd.jupyter.widget-view+json": {
       "model_id": "b48605828fb84daeba3ccb24da18de69",
       "version_major": 2,
       "version_minor": 0
      },
      "text/plain": [
       "Record measurements:   0%|          | 0/26 [00:00<?, ?it/s]"
      ]
     },
     "metadata": {},
     "output_type": "display_data"
    },
    {
     "data": {
      "application/vnd.jupyter.widget-view+json": {
       "model_id": "0fb5547d1a5f46d99565f607368ad750",
       "version_major": 2,
       "version_minor": 0
      },
      "text/plain": [
       "Record measurements:   0%|          | 0/111 [00:00<?, ?it/s]"
      ]
     },
     "metadata": {},
     "output_type": "display_data"
    },
    {
     "data": {
      "application/vnd.jupyter.widget-view+json": {
       "model_id": "e2bc356591544594ba26b18b82c1f671",
       "version_major": 2,
       "version_minor": 0
      },
      "text/plain": [
       "Record measurements:   0%|          | 0/44 [00:00<?, ?it/s]"
      ]
     },
     "metadata": {},
     "output_type": "display_data"
    },
    {
     "data": {
      "application/vnd.jupyter.widget-view+json": {
       "model_id": "7ea96e58b2834715929f80e07745c94d",
       "version_major": 2,
       "version_minor": 0
      },
      "text/plain": [
       "Record measurements:   0%|          | 0/51 [00:00<?, ?it/s]"
      ]
     },
     "metadata": {},
     "output_type": "display_data"
    },
    {
     "data": {
      "application/vnd.jupyter.widget-view+json": {
       "model_id": "b3e62cda91344ecfa59edc2c2f48878e",
       "version_major": 2,
       "version_minor": 0
      },
      "text/plain": [
       "Record measurements:   0%|          | 0/25 [00:00<?, ?it/s]"
      ]
     },
     "metadata": {},
     "output_type": "display_data"
    },
    {
     "data": {
      "application/vnd.jupyter.widget-view+json": {
       "model_id": "ae8fab5b78124e319aefcc27b36d9742",
       "version_major": 2,
       "version_minor": 0
      },
      "text/plain": [
       "Record measurements:   0%|          | 0/28 [00:00<?, ?it/s]"
      ]
     },
     "metadata": {},
     "output_type": "display_data"
    },
    {
     "data": {
      "application/vnd.jupyter.widget-view+json": {
       "model_id": "594d6e133a3e40da87026ae06a25e42c",
       "version_major": 2,
       "version_minor": 0
      },
      "text/plain": [
       "Record measurements:   0%|          | 0/43 [00:00<?, ?it/s]"
      ]
     },
     "metadata": {},
     "output_type": "display_data"
    },
    {
     "data": {
      "application/vnd.jupyter.widget-view+json": {
       "model_id": "13b933f6689b47f6be7f924cf27ad56b",
       "version_major": 2,
       "version_minor": 0
      },
      "text/plain": [
       "Record measurements:   0%|          | 0/225 [00:00<?, ?it/s]"
      ]
     },
     "metadata": {},
     "output_type": "display_data"
    },
    {
     "data": {
      "application/vnd.jupyter.widget-view+json": {
       "model_id": "851ca1f5e0824bd3a56ebaa8aea4e4f6",
       "version_major": 2,
       "version_minor": 0
      },
      "text/plain": [
       "Record measurements:   0%|          | 0/49 [00:00<?, ?it/s]"
      ]
     },
     "metadata": {},
     "output_type": "display_data"
    },
    {
     "data": {
      "application/vnd.jupyter.widget-view+json": {
       "model_id": "ee77b1d1c81e4a32b0e6961c827fb986",
       "version_major": 2,
       "version_minor": 0
      },
      "text/plain": [
       "Record measurements:   0%|          | 0/23 [00:00<?, ?it/s]"
      ]
     },
     "metadata": {},
     "output_type": "display_data"
    },
    {
     "data": {
      "application/vnd.jupyter.widget-view+json": {
       "model_id": "c2bf797b26ec4f31b1bcc7d15c8469ea",
       "version_major": 2,
       "version_minor": 0
      },
      "text/plain": [
       "Record measurements:   0%|          | 0/13 [00:00<?, ?it/s]"
      ]
     },
     "metadata": {},
     "output_type": "display_data"
    },
    {
     "data": {
      "application/vnd.jupyter.widget-view+json": {
       "model_id": "c58c3fef77e847d1b5348edb514305c3",
       "version_major": 2,
       "version_minor": 0
      },
      "text/plain": [
       "Record measurements:   0%|          | 0/145 [00:00<?, ?it/s]"
      ]
     },
     "metadata": {},
     "output_type": "display_data"
    },
    {
     "data": {
      "application/vnd.jupyter.widget-view+json": {
       "model_id": "c46938983b5f4cdda1e60ed7cfb1517f",
       "version_major": 2,
       "version_minor": 0
      },
      "text/plain": [
       "Record measurements:   0%|          | 0/11 [00:00<?, ?it/s]"
      ]
     },
     "metadata": {},
     "output_type": "display_data"
    },
    {
     "data": {
      "application/vnd.jupyter.widget-view+json": {
       "model_id": "1419d1e3e0f64d20a09ffdafb9637a30",
       "version_major": 2,
       "version_minor": 0
      },
      "text/plain": [
       "Record measurements:   0%|          | 0/84 [00:00<?, ?it/s]"
      ]
     },
     "metadata": {},
     "output_type": "display_data"
    },
    {
     "data": {
      "application/vnd.jupyter.widget-view+json": {
       "model_id": "aef9c8267b0d47d08615c44b6d88b87b",
       "version_major": 2,
       "version_minor": 0
      },
      "text/plain": [
       "Record measurements:   0%|          | 0/18 [00:00<?, ?it/s]"
      ]
     },
     "metadata": {},
     "output_type": "display_data"
    },
    {
     "data": {
      "application/vnd.jupyter.widget-view+json": {
       "model_id": "6382e3807ddf4a95b1f31b840f6c2ede",
       "version_major": 2,
       "version_minor": 0
      },
      "text/plain": [
       "Record measurements:   0%|          | 0/26 [00:00<?, ?it/s]"
      ]
     },
     "metadata": {},
     "output_type": "display_data"
    },
    {
     "data": {
      "application/vnd.jupyter.widget-view+json": {
       "model_id": "e187c9e4ed17477aa9b26aaa3e7a6623",
       "version_major": 2,
       "version_minor": 0
      },
      "text/plain": [
       "Record measurements:   0%|          | 0/299 [00:00<?, ?it/s]"
      ]
     },
     "metadata": {},
     "output_type": "display_data"
    },
    {
     "data": {
      "application/vnd.jupyter.widget-view+json": {
       "model_id": "cd2c0e9d278e4278b80162743a4195eb",
       "version_major": 2,
       "version_minor": 0
      },
      "text/plain": [
       "Record measurements:   0%|          | 0/50 [00:00<?, ?it/s]"
      ]
     },
     "metadata": {},
     "output_type": "display_data"
    },
    {
     "data": {
      "application/vnd.jupyter.widget-view+json": {
       "model_id": "cbd20207d4254c8fa40b433f5a21d30d",
       "version_major": 2,
       "version_minor": 0
      },
      "text/plain": [
       "Record measurements:   0%|          | 0/3 [00:00<?, ?it/s]"
      ]
     },
     "metadata": {},
     "output_type": "display_data"
    },
    {
     "data": {
      "application/vnd.jupyter.widget-view+json": {
       "model_id": "e0989e2bc8874b63ba0dd8a911cbf986",
       "version_major": 2,
       "version_minor": 0
      },
      "text/plain": [
       "Record measurements:   0%|          | 0/37 [00:00<?, ?it/s]"
      ]
     },
     "metadata": {},
     "output_type": "display_data"
    },
    {
     "data": {
      "application/vnd.jupyter.widget-view+json": {
       "model_id": "06888da8574448a08fc7156db8f31ae1",
       "version_major": 2,
       "version_minor": 0
      },
      "text/plain": [
       "Record measurements:   0%|          | 0/22 [00:00<?, ?it/s]"
      ]
     },
     "metadata": {},
     "output_type": "display_data"
    },
    {
     "data": {
      "application/vnd.jupyter.widget-view+json": {
       "model_id": "fb9dd1479da0492c937c025fe885f830",
       "version_major": 2,
       "version_minor": 0
      },
      "text/plain": [
       "Record measurements:   0%|          | 0/13 [00:00<?, ?it/s]"
      ]
     },
     "metadata": {},
     "output_type": "display_data"
    },
    {
     "data": {
      "application/vnd.jupyter.widget-view+json": {
       "model_id": "25511aa0b2b04df6b843f4f7d92cfa9e",
       "version_major": 2,
       "version_minor": 0
      },
      "text/plain": [
       "Record measurements:   0%|          | 0/26 [00:00<?, ?it/s]"
      ]
     },
     "metadata": {},
     "output_type": "display_data"
    },
    {
     "data": {
      "application/vnd.jupyter.widget-view+json": {
       "model_id": "10149bc404304c7a9a8cf90d26df5c19",
       "version_major": 2,
       "version_minor": 0
      },
      "text/plain": [
       "Record measurements:   0%|          | 0/188 [00:00<?, ?it/s]"
      ]
     },
     "metadata": {},
     "output_type": "display_data"
    },
    {
     "data": {
      "application/vnd.jupyter.widget-view+json": {
       "model_id": "44dc7f7255c942ceaed107e946cb0e80",
       "version_major": 2,
       "version_minor": 0
      },
      "text/plain": [
       "Record measurements:   0%|          | 0/22 [00:00<?, ?it/s]"
      ]
     },
     "metadata": {},
     "output_type": "display_data"
    },
    {
     "data": {
      "application/vnd.jupyter.widget-view+json": {
       "model_id": "89c8f7f61c0b4f7094a35523fb4dd88d",
       "version_major": 2,
       "version_minor": 0
      },
      "text/plain": [
       "Record measurements:   0%|          | 0/21 [00:00<?, ?it/s]"
      ]
     },
     "metadata": {},
     "output_type": "display_data"
    },
    {
     "data": {
      "application/vnd.jupyter.widget-view+json": {
       "model_id": "a50a72f3f1834a8eb26368693a4e7a63",
       "version_major": 2,
       "version_minor": 0
      },
      "text/plain": [
       "Record measurements:   0%|          | 0/4 [00:00<?, ?it/s]"
      ]
     },
     "metadata": {},
     "output_type": "display_data"
    },
    {
     "data": {
      "application/vnd.jupyter.widget-view+json": {
       "model_id": "303d1d20543340a0bd6f1add7c19f1c3",
       "version_major": 2,
       "version_minor": 0
      },
      "text/plain": [
       "Record measurements:   0%|          | 0/33 [00:00<?, ?it/s]"
      ]
     },
     "metadata": {},
     "output_type": "display_data"
    },
    {
     "data": {
      "application/vnd.jupyter.widget-view+json": {
       "model_id": "dffb41a3634f45c8b7fb3821c73ae13b",
       "version_major": 2,
       "version_minor": 0
      },
      "text/plain": [
       "Record measurements:   0%|          | 0/7 [00:00<?, ?it/s]"
      ]
     },
     "metadata": {},
     "output_type": "display_data"
    },
    {
     "data": {
      "application/vnd.jupyter.widget-view+json": {
       "model_id": "d57e53899d7f4cada287a794d008c98e",
       "version_major": 2,
       "version_minor": 0
      },
      "text/plain": [
       "Record measurements:   0%|          | 0/31 [00:00<?, ?it/s]"
      ]
     },
     "metadata": {},
     "output_type": "display_data"
    },
    {
     "data": {
      "application/vnd.jupyter.widget-view+json": {
       "model_id": "0d3ebcc8781245f7a6cb843a015bd241",
       "version_major": 2,
       "version_minor": 0
      },
      "text/plain": [
       "Record measurements:   0%|          | 0/25 [00:00<?, ?it/s]"
      ]
     },
     "metadata": {},
     "output_type": "display_data"
    }
   ],
   "source": [
    "_ = find_good_measurements(all_records, start=8750, n_records=250)"
   ]
  },
  {
   "cell_type": "code",
   "execution_count": null,
   "id": "f118f9e0-647c-4bcb-a5fd-08bf344e13a2",
   "metadata": {},
   "outputs": [],
   "source": []
  }
 ],
 "metadata": {
  "kernelspec": {
   "display_name": "Python 3 (ipykernel)",
   "language": "python",
   "name": "python3"
  },
  "language_info": {
   "codemirror_mode": {
    "name": "ipython",
    "version": 3
   },
   "file_extension": ".py",
   "mimetype": "text/x-python",
   "name": "python",
   "nbconvert_exporter": "python",
   "pygments_lexer": "ipython3",
   "version": "3.8.10"
  }
 },
 "nbformat": 4,
 "nbformat_minor": 5
}
