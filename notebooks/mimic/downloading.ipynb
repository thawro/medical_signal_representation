{
 "cells": [
  {
   "cell_type": "code",
   "execution_count": 1,
   "id": "9772d67f-336c-481a-9219-69b256d46982",
   "metadata": {},
   "outputs": [],
   "source": [
    "from pathlib import Path\n",
    "import wget\n",
    "from tqdm.notebook import tqdm\n",
    "import pandas as pd\n",
    "import numpy as np\n",
    "from joblib import Parallel, delayed"
   ]
  },
  {
   "cell_type": "code",
   "execution_count": 2,
   "id": "afe53dad-299f-43c9-8a5b-49401cc16520",
   "metadata": {},
   "outputs": [],
   "source": [
    "def download_measurement(measurement_path):\n",
    "    try:\n",
    "        directory, subject, recording = measurement_path.split(\"/\")\n",
    "        path = Path(f\"mimic_db/{directory}/{subject}\")\n",
    "        path.mkdir(parents=True, exist_ok=True)\n",
    "        url_dat = f'https://physionet.org/files/mimic3wdb-matched/1.0/{directory}/{subject}/{recording}.dat'\n",
    "        url_hea = f'https://physionet.org/files/mimic3wdb-matched/1.0/{directory}/{subject}/{recording}.hea'\n",
    "        wget.download(url_dat, out=str(path))\n",
    "        wget.download(url_hea, out=str(path))\n",
    "        with open(\"downloaded_measurements.txt\", \"a\") as file:\n",
    "            file.write(f\"{measurement_path}\\n\")\n",
    "        return True\n",
    "    except Exception:\n",
    "        print(f\"   {measurement_path} failed\")\n",
    "        return False\n",
    "        \n",
    "def download_measurements(measurements, n_jobs=-1):  \n",
    "    results = Parallel(n_jobs=n_jobs)(delayed(download_measurement)(path) for path in tqdm(measurements, desc=\"Downloading measurements\"))\n",
    "    return results"
   ]
  },
  {
   "cell_type": "code",
   "execution_count": 18,
   "id": "98a02637-26c3-4dc2-a61c-93aaefaa25d4",
   "metadata": {},
   "outputs": [
    {
     "name": "stdout",
     "output_type": "stream",
     "text": [
      "No file for 8000-8250\n",
      "No file for 8250-8500\n",
      "No file for 8500-8750\n",
      "No file for 8750-9000\n",
      "No file for 9000-9250\n",
      "No file for 9250-9500\n",
      "No file for 9500-9750\n",
      "No file for 9750-10000\n"
     ]
    }
   ],
   "source": [
    "measurements_df = pd.DataFrame()\n",
    "n_records = 250\n",
    "\n",
    "for start in np.arange(0, 10000, n_records):\n",
    "    end = start + n_records\n",
    "    try:\n",
    "        df = pd.read_csv(f\"mimic_recordings/{start}-{end}.csv\")\n",
    "        measurements_df = pd.concat([measurements_df, df])\n",
    "    except:\n",
    "        print(f'No file for {start}-{end}')\n",
    "        \n",
    "good_measurements = measurements_df.query(\"ABP == True and PLETH == True and II == True\")['path'].values\n",
    "\n",
    "with open('downloaded_measurements.txt') as f:\n",
    "    downloaded_measurements = f.readlines()\n",
    "    downloaded_measurements = [path.replace(\"\\n\", \"\") for path in downloaded_measurements]\n",
    "\n",
    "measurements_to_download = [path for path in good_measurements if path not in downloaded_measurements]"
   ]
  },
  {
   "cell_type": "code",
   "execution_count": 19,
   "id": "de133a27-1b89-4e70-b634-eaba4e932d10",
   "metadata": {},
   "outputs": [
    {
     "data": {
      "text/plain": [
       "143914"
      ]
     },
     "execution_count": 19,
     "metadata": {},
     "output_type": "execute_result"
    }
   ],
   "source": [
    "len(downloaded_measurements)"
   ]
  },
  {
   "cell_type": "code",
   "execution_count": 20,
   "id": "6a959082-40c8-487c-b00f-afca499be934",
   "metadata": {},
   "outputs": [
    {
     "data": {
      "text/plain": [
       "36"
      ]
     },
     "execution_count": 20,
     "metadata": {},
     "output_type": "execute_result"
    }
   ],
   "source": [
    "measurements_to_download.__len__()"
   ]
  },
  {
   "cell_type": "code",
   "execution_count": 21,
   "id": "bbc43c97-90c9-465c-836e-76fe72034518",
   "metadata": {
    "collapsed": true,
    "jupyter": {
     "outputs_hidden": true
    },
    "tags": []
   },
   "outputs": [
    {
     "data": {
      "application/vnd.jupyter.widget-view+json": {
       "model_id": "bfc378e1478442af9202b680a9e941fb",
       "version_major": 2,
       "version_minor": 0
      },
      "text/plain": [
       "Downloading measurements:   0%|          | 0/36 [00:00<?, ?it/s]"
      ]
     },
     "metadata": {},
     "output_type": "display_data"
    },
    {
     "data": {
      "text/plain": [
       "[True,\n",
       " True,\n",
       " True,\n",
       " True,\n",
       " True,\n",
       " True,\n",
       " True,\n",
       " True,\n",
       " True,\n",
       " True,\n",
       " True,\n",
       " True,\n",
       " True,\n",
       " True,\n",
       " True,\n",
       " True,\n",
       " True,\n",
       " True,\n",
       " True,\n",
       " True,\n",
       " True,\n",
       " True,\n",
       " True,\n",
       " True,\n",
       " True,\n",
       " True,\n",
       " True,\n",
       " True,\n",
       " True,\n",
       " True,\n",
       " True,\n",
       " True,\n",
       " True,\n",
       " True,\n",
       " True,\n",
       " True]"
      ]
     },
     "execution_count": 21,
     "metadata": {},
     "output_type": "execute_result"
    }
   ],
   "source": [
    "download_measurements(measurements_to_download, n_jobs=-1)"
   ]
  },
  {
   "cell_type": "code",
   "execution_count": null,
   "id": "8a0b4c7e-e4dd-4e0e-b66f-084a56034044",
   "metadata": {},
   "outputs": [],
   "source": []
  }
 ],
 "metadata": {
  "kernelspec": {
   "display_name": "Python 3 (ipykernel)",
   "language": "python",
   "name": "python3"
  },
  "language_info": {
   "codemirror_mode": {
    "name": "ipython",
    "version": 3
   },
   "file_extension": ".py",
   "mimetype": "text/x-python",
   "name": "python",
   "nbconvert_exporter": "python",
   "pygments_lexer": "ipython3",
   "version": "3.8.10"
  }
 },
 "nbformat": 4,
 "nbformat_minor": 5
}
