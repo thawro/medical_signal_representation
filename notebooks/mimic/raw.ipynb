{
 "cells": [
  {
   "cell_type": "code",
   "execution_count": 1,
   "id": "5fca6ff2-975b-4422-b100-8dbf56220a63",
   "metadata": {},
   "outputs": [
    {
     "name": "stderr",
     "output_type": "stream",
     "text": [
      "/home/shate/.cache/pypoetry/virtualenvs/msr-xbuxOujG-py3.8/lib/python3.8/site-packages/tqdm/auto.py:22: TqdmWarning: IProgress not found. Please update jupyter and ipywidgets. See https://ipywidgets.readthedocs.io/en/stable/user_install.html\n",
      "  from .autonotebook import tqdm as notebook_tqdm\n"
     ]
    }
   ],
   "source": [
    "%load_ext autoreload\n",
    "%autoreload 2\n",
    "\n",
    "import sys\n",
    "import numpy as np\n",
    "import seaborn as sns\n",
    "# import torch\n",
    "import glob\n",
    "from msr.data.raw.mimic import RAW_DATASET_PATH\n",
    "import pandas as pd"
   ]
  },
  {
   "cell_type": "code",
   "execution_count": 2,
   "id": "5b056355-ae09-4e81-80cf-7e7510ab9f0c",
   "metadata": {},
   "outputs": [],
   "source": [
    "from msr.data.raw.mimic import get_all_samples_paths\n",
    "from msr.data.utils import create_train_val_test_split_info"
   ]
  },
  {
   "cell_type": "code",
   "execution_count": 3,
   "id": "45978641-f51d-4d72-889f-0c4bb18bd1a6",
   "metadata": {
    "tags": []
   },
   "outputs": [
    {
     "name": "stderr",
     "output_type": "stream",
     "text": [
      "train idxs: 100%|████████████████████████████████████████████████████████████████████████████████████████████████████████████████████████████████| 17908/17908 [00:05<00:00, 3294.20it/s]\n",
      "val idxs: 100%|████████████████████████████████████████████████████████████████████████████████████████████████████████████████████████████████████| 3837/3837 [00:01<00:00, 3599.01it/s]\n",
      "test idxs: 100%|███████████████████████████████████████████████████████████████████████████████████████████████████████████████████████████████████| 3838/3838 [00:01<00:00, 3678.25it/s]\n",
      "/home/shate/Desktop/praca_magisterska/medical_signal_representation/msr/data/utils.py:43: SettingWithCopyWarning: \n",
      "A value is trying to be set on a copy of a slice from a DataFrame.\n",
      "Try using .loc[row_indexer,col_indexer] = value instead\n",
      "\n",
      "See the caveats in the documentation: https://pandas.pydata.org/pandas-docs/stable/user_guide/indexing.html#returning-a-view-versus-a-copy\n",
      "  train_info.loc[:, \"split\"] = \"train\"\n",
      "/home/shate/Desktop/praca_magisterska/medical_signal_representation/msr/data/utils.py:44: SettingWithCopyWarning: \n",
      "A value is trying to be set on a copy of a slice from a DataFrame.\n",
      "Try using .loc[row_indexer,col_indexer] = value instead\n",
      "\n",
      "See the caveats in the documentation: https://pandas.pydata.org/pandas-docs/stable/user_guide/indexing.html#returning-a-view-versus-a-copy\n",
      "  val_info.loc[:, \"split\"] = \"val\"\n",
      "/home/shate/Desktop/praca_magisterska/medical_signal_representation/msr/data/utils.py:45: SettingWithCopyWarning: \n",
      "A value is trying to be set on a copy of a slice from a DataFrame.\n",
      "Try using .loc[row_indexer,col_indexer] = value instead\n",
      "\n",
      "See the caveats in the documentation: https://pandas.pydata.org/pandas-docs/stable/user_guide/indexing.html#returning-a-view-versus-a-copy\n",
      "  test_info.loc[:, \"split\"] = \"test\"\n"
     ]
    }
   ],
   "source": [
    "info = get_all_samples_paths().reset_index()\n",
    "info['sample_num'] = [int(sample_id.split(\"_\")[1].split(\".\")[0]) for sample_id in info['sample_id'].values]\n",
    "info = info.query(f'sample_num < 10')\n",
    "splits_info = create_train_val_test_split_info(\n",
    "    groups=info.index.values,\n",
    "    info=info\n",
    ")"
   ]
  },
  {
   "cell_type": "code",
   "execution_count": 8,
   "id": "2f5a0a6d-5c5e-4a6d-9e50-133748754ee4",
   "metadata": {},
   "outputs": [],
   "source": [
    "def concat_samples(paths):\n",
    "    numpy_files = [RAW_DATASET_PATH / path for path in paths]\n",
    "    return np.stack([np.load(f) for f in numpy_files])"
   ]
  },
  {
   "cell_type": "code",
   "execution_count": 5,
   "id": "911a0a23-b126-43d0-8dfd-cf053f3f0182",
   "metadata": {},
   "outputs": [],
   "source": [
    "train_info = splits_info.query(\"split == 'train'\")"
   ]
  },
  {
   "cell_type": "code",
   "execution_count": 11,
   "id": "a16f1136-74ce-4c64-9028-dc4bcf94a9a3",
   "metadata": {},
   "outputs": [],
   "source": [
    "x = concat_samples(train_info['path'].values)"
   ]
  },
  {
   "cell_type": "code",
   "execution_count": 12,
   "id": "3401526b-2c16-4be0-9403-675a9fd8fbf3",
   "metadata": {},
   "outputs": [
    {
     "data": {
      "text/plain": [
       "12.00409056"
      ]
     },
     "execution_count": 12,
     "metadata": {},
     "output_type": "execute_result"
    }
   ],
   "source": [
    "x.nbytes * 9.31 * 10**-10"
   ]
  },
  {
   "cell_type": "code",
   "execution_count": 13,
   "id": "188f2ddf-6251-4e90-9310-9ad13909dcbc",
   "metadata": {},
   "outputs": [
    {
     "data": {
      "text/plain": [
       "(17908, 30000, 3)"
      ]
     },
     "execution_count": 13,
     "metadata": {},
     "output_type": "execute_result"
    }
   ],
   "source": [
    "np.save()"
   ]
  },
  {
   "cell_type": "markdown",
   "id": "f39d565b-a960-4751-aba1-88290d4663c3",
   "metadata": {},
   "source": [
    "# **TODO**\n",
    "* Create train/val/test raw tensors for MIMIC dataset\n",
    "* check if ptbxl and sleepEDF still works"
   ]
  },
  {
   "cell_type": "code",
   "execution_count": null,
   "id": "94db8ba9-a9ac-42cd-8ae4-fee8c50b8881",
   "metadata": {},
   "outputs": [],
   "source": []
  }
 ],
 "metadata": {
  "kernelspec": {
   "display_name": "Python 3 (ipykernel)",
   "language": "python",
   "name": "python3"
  },
  "language_info": {
   "codemirror_mode": {
    "name": "ipython",
    "version": 3
   },
   "file_extension": ".py",
   "mimetype": "text/x-python",
   "name": "python",
   "nbconvert_exporter": "python",
   "pygments_lexer": "ipython3",
   "version": "3.8.10"
  }
 },
 "nbformat": 4,
 "nbformat_minor": 5
}
