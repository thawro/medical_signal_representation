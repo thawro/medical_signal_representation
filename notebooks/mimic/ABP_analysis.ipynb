{
 "cells": [
  {
   "cell_type": "code",
   "execution_count": 1,
   "id": "482d0296-5fa0-4d59-9aa5-bd55173df6dd",
   "metadata": {},
   "outputs": [],
   "source": [
    "%load_ext autoreload\n",
    "%autoreload 2\n",
    "\n",
    "import pandas as pd\n",
    "import numpy as np\n",
    "import matplotlib.pyplot as plt\n",
    "import seaborn as sns\n",
    "from msr.signals.base import BaseSignal\n",
    "from scipy.signal import find_peaks\n",
    "from pathlib import Path\n",
    "from tqdm.notebook import tqdm\n",
    "from joblib import Parallel, delayed\n",
    "import torch\n",
    "import matplotlib\n",
    "\n",
    "matplotlib.rcParams['figure.figsize'] = (24, 5)\n",
    "\n",
    "FS = 125"
   ]
  },
  {
   "cell_type": "code",
   "execution_count": 2,
   "id": "85668ede-746f-450e-8ce9-d11b2419da1c",
   "metadata": {},
   "outputs": [],
   "source": [
    "from msr.data.raw.mimic import RAW_TENSORS_DATA_PATH, ABP_TARGET_PATH"
   ]
  },
  {
   "cell_type": "code",
   "execution_count": 3,
   "id": "04a5cd27-044f-44d3-8de4-fb0a7ab06492",
   "metadata": {},
   "outputs": [],
   "source": [
    "abp_data = torch.load(ABP_TARGET_PATH / \"test_targets.pt\")\n",
    "data = torch.load(RAW_TENSORS_DATA_PATH / \"test_data.pt\")"
   ]
  },
  {
   "cell_type": "code",
   "execution_count": null,
   "id": "7c5757bc-ddd6-48df-8805-ddc08d1e9fa0",
   "metadata": {},
   "outputs": [],
   "source": []
  },
  {
   "cell_type": "code",
   "execution_count": 77,
   "id": "e1b6d367-70b8-400c-8859-d04e9f353e6a",
   "metadata": {},
   "outputs": [],
   "source": [
    "from itertools import groupby\n"
   ]
  },
  {
   "cell_type": "code",
   "execution_count": 78,
   "id": "78b13085-7ef7-490e-b939-a2ad82f4a806",
   "metadata": {},
   "outputs": [],
   "source": [
    "is_good = np.array([False, True, True, True, False, False, True, True, True, True, True, True, True, False])"
   ]
  },
  {
   "cell_type": "code",
   "execution_count": 91,
   "id": "d49ec5a2-6fac-48ee-a7a8-498d32e3966d",
   "metadata": {},
   "outputs": [],
   "source": [
    "segments = [\n",
    "    (idxs[0], idxs[-1])\n",
    "    for idxs in (list(group) for key, group in groupby(range(len(is_good)), key=is_good.__getitem__) if key)\n",
    "]"
   ]
  },
  {
   "cell_type": "code",
   "execution_count": 92,
   "id": "bcdce6aa-0eda-4c73-9b32-32f9547f3b00",
   "metadata": {},
   "outputs": [
    {
     "data": {
      "text/plain": [
       "[(1, 3), (6, 12)]"
      ]
     },
     "execution_count": 92,
     "metadata": {},
     "output_type": "execute_result"
    }
   ],
   "source": [
    "segments"
   ]
  },
  {
   "cell_type": "code",
   "execution_count": 111,
   "id": "a8a9d61f-f278-4c53-b752-e665b6edb984",
   "metadata": {},
   "outputs": [],
   "source": [
    "from msr.data.raw.mimic import MIMIC_URL"
   ]
  },
  {
   "cell_type": "code",
   "execution_count": 115,
   "id": "b0358046-34a7-49b2-90a1-b093892dc943",
   "metadata": {},
   "outputs": [
    {
     "data": {
      "text/plain": [
       "'https://physionet.org/files/mimic3wdb-matched/1.0'"
      ]
     },
     "execution_count": 115,
     "metadata": {},
     "output_type": "execute_result"
    }
   ],
   "source": [
    "MIMIC_URL"
   ]
  },
  {
   "cell_type": "code",
   "execution_count": 112,
   "id": "3781bc4f-8ad7-4b95-94f7-f5694664ee54",
   "metadata": {},
   "outputs": [],
   "source": [
    "import requests\n",
    "\n",
    "def get_measurements_paths(subject):\n",
    "    \"\"\"Return measurements paths for single subject using RECORDS file in physionet mimic3db database.\"\"\"\n",
    "    url = f\"{MIMIC_URL}/{subject}/RECORDS\"\n",
    "    with requests.get(url) as response:\n",
    "        measurements = response.text.split(\"\\n\")[:-1]\n",
    "        measurements = [f\"{subject}/{measurement}\" for measurement in measurements if \"-\" not in measurement]\n",
    "        return measurements"
   ]
  },
  {
   "cell_type": "code",
   "execution_count": 118,
   "id": "7b363e4f-858e-4381-9588-7943c74d7def",
   "metadata": {},
   "outputs": [
    {
     "data": {
      "text/plain": [
       "2"
      ]
     },
     "execution_count": 118,
     "metadata": {},
     "output_type": "execute_result"
    }
   ],
   "source": [
    "len({'a': 1, 'b': 2})"
   ]
  },
  {
   "cell_type": "code",
   "execution_count": null,
   "id": "7ff7a3a4-d5cc-4501-b33d-381c37996815",
   "metadata": {},
   "outputs": [],
   "source": []
  }
 ],
 "metadata": {
  "kernelspec": {
   "display_name": "Python 3 (ipykernel)",
   "language": "python",
   "name": "python3"
  },
  "language_info": {
   "codemirror_mode": {
    "name": "ipython",
    "version": 3
   },
   "file_extension": ".py",
   "mimetype": "text/x-python",
   "name": "python",
   "nbconvert_exporter": "python",
   "pygments_lexer": "ipython3",
   "version": "3.8.10"
  }
 },
 "nbformat": 4,
 "nbformat_minor": 5
}
