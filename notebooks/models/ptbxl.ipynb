{
 "cells": [
  {
   "cell_type": "code",
   "execution_count": 4,
   "id": "33be6d8f-a081-40fe-beb2-ec9814a54a01",
   "metadata": {},
   "outputs": [
    {
     "name": "stdout",
     "output_type": "stream",
     "text": [
      "The autoreload extension is already loaded. To reload it, use:\n",
      "  %reload_ext autoreload\n"
     ]
    }
   ],
   "source": [
    "%load_ext autoreload\n",
    "%autoreload 2\n",
    "\n",
    "from msr.training.data.datasets import PtbXLDataset\n",
    "from msr.training.data.datamodules import PtbXLDataModule\n",
    "from msr.training.trainers import MLClassifierTrainer\n",
    "from msr.data.raw.ptbxl import FS\n",
    "\n",
    "TARGET = \"diagnostic_class\"\n",
    "BASE_PARAMS = dict(fs=FS, target=TARGET)"
   ]
  },
  {
   "cell_type": "code",
   "execution_count": 14,
   "id": "843a818c-56f6-400f-a6f5-67eb259904c1",
   "metadata": {},
   "outputs": [],
   "source": [
    "rep_type = \"whole_signal_features\"\n",
    "dm = PtbXLDataModule(rep_type, **BASE_PARAMS)\n",
    "dm.setup()"
   ]
  },
  {
   "cell_type": "code",
   "execution_count": null,
   "id": "93fb2e9c-04a7-44e7-89c4-5e3c9654ef83",
   "metadata": {
    "tags": []
   },
   "outputs": [
    {
     "name": "stderr",
     "output_type": "stream",
     "text": [
      "/home/shate/.cache/pypoetry/virtualenvs/msr-xbuxOujG-py3.8/lib/python3.8/site-packages/torchmetrics/utilities/prints.py:36: UserWarning: Metric `AUROC` will save all targets and predictions in buffer. For large datasets this may lead to large memory footprint.\n",
      "  warnings.warn(*args, **kwargs)\n",
      "/home/shate/.cache/pypoetry/virtualenvs/msr-xbuxOujG-py3.8/lib/python3.8/site-packages/torchmetrics/utilities/prints.py:36: UserWarning: Metric `AUC` will save all targets and predictions in buffer. For large datasets this may lead to large memory footprint.\n",
      "  warnings.warn(*args, **kwargs)\n",
      "/home/shate/.cache/pypoetry/virtualenvs/msr-xbuxOujG-py3.8/lib/python3.8/site-packages/torchmetrics/utilities/prints.py:36: UserWarning: Metric `ROC` will save all targets and predictions in buffer. For large datasets this may lead to large memory footprint.\n",
      "  warnings.warn(*args, **kwargs)\n"
     ]
    }
   ],
   "source": [
    "from sklearn.ensemble import RandomForestClassifier\n",
    "\n",
    "\n",
    "model = RandomForestClassifier(n_estimators=20)\n",
    "ml_trainer = MLClassifierTrainer(model, dm)\n",
    "ml_trainer.fit()"
   ]
  },
  {
   "cell_type": "code",
   "execution_count": null,
   "id": "dd76ddfd-226c-474c-826c-a527f37d6979",
   "metadata": {},
   "outputs": [],
   "source": [
    "metrics = ml_trainer.evaluate(plot=True)"
   ]
  },
  {
   "cell_type": "code",
   "execution_count": null,
   "id": "b220a135-42b1-4124-87d4-628c6087f5ae",
   "metadata": {},
   "outputs": [],
   "source": []
  }
 ],
 "metadata": {
  "kernelspec": {
   "display_name": "Python 3 (ipykernel)",
   "language": "python",
   "name": "python3"
  },
  "language_info": {
   "codemirror_mode": {
    "name": "ipython",
    "version": 3
   },
   "file_extension": ".py",
   "mimetype": "text/x-python",
   "name": "python",
   "nbconvert_exporter": "python",
   "pygments_lexer": "ipython3",
   "version": "3.8.10"
  }
 },
 "nbformat": 4,
 "nbformat_minor": 5
}
