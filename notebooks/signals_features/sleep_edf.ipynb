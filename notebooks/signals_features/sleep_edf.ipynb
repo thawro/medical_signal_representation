{
 "cells": [
  {
   "cell_type": "code",
   "execution_count": 12,
   "id": "41c9b7d9-e0f8-4bf9-8ba5-cd582903f4c5",
   "metadata": {},
   "outputs": [
    {
     "name": "stdout",
     "output_type": "stream",
     "text": [
      "The autoreload extension is already loaded. To reload it, use:\n",
      "  %reload_ext autoreload\n"
     ]
    }
   ],
   "source": [
    "%load_ext autoreload\n",
    "%autoreload 2\n",
    "\n",
    "from msr.signals.eeg import EEGSignal\n",
    "from msr.signals.eog import EOGSignal\n",
    "from msr.data.raw.sleep_edf import load_sleep_edf_raw_data, FS\n",
    "from msr.data.measurements.sleep_edf import SleepEDFMeasurement\n",
    "import matplotlib.pyplot as plt\n",
    "import numpy as np"
   ]
  },
  {
   "cell_type": "markdown",
   "id": "09724ffe-9ae1-4dbd-aacc-32319ca276c9",
   "metadata": {},
   "source": [
    "# **Loading data and creating Signals objects**"
   ]
  },
  {
   "cell_type": "code",
   "execution_count": 13,
   "id": "7d8d6bfb-33e0-48a4-802a-36527b0af99b",
   "metadata": {},
   "outputs": [
    {
     "name": "stdout",
     "output_type": "stream",
     "text": [
      "(28757, 3, 3000)\n"
     ]
    }
   ],
   "source": [
    "data = load_sleep_edf_raw_data(\"val\").numpy()\n",
    "print(data.shape)\n",
    "\n",
    "idx = 0\n",
    "sleep_edf_data = data[idx]\n",
    "eeg_0, eeg_1, eog = sleep_edf_data\n",
    "\n",
    "eeg_sig = EEGSignal(\"eeg\", eeg_0, fs=FS)\n",
    "eog_sig = EOGSignal(\"eog\", eog, fs=FS)\n",
    "sleep_edf_measurement = SleepEDFMeasurement(eeg_0, eeg_1, eog, fs=FS)"
   ]
  },
  {
   "cell_type": "markdown",
   "id": "50532670-b30b-4de7-93b9-aa1cdb9b7dc0",
   "metadata": {},
   "source": [
    "# **EEGSignal feature extraction**"
   ]
  },
  {
   "cell_type": "code",
   "execution_count": 14,
   "id": "80862ae6-3c5d-4164-ba29-81b6b9fd73e7",
   "metadata": {},
   "outputs": [
    {
     "data": {
      "text/plain": [
       "{'eeg_basic_features__mean': -0.09553927553928299,\n",
       " 'eeg_basic_features__std': 15.203267049080297,\n",
       " 'eeg_basic_features__median': 0.1421245421245348,\n",
       " 'eeg_basic_features__skewness': -0.06232563601491144,\n",
       " 'eeg_basic_features__kurtosis': 2.898413853688453,\n",
       " 'eeg_relative_power_frequency_features__delta': 0.07979974195918103,\n",
       " 'eeg_relative_power_frequency_features__theta': 0.006498414701331579,\n",
       " 'eeg_relative_power_frequency_features__alpha': 0.002999879645931248,\n",
       " 'eeg_relative_power_frequency_features__sigma': 0.001973888434297761,\n",
       " 'eeg_relative_power_frequency_features__beta': 0.0025210949157958426}"
      ]
     },
     "execution_count": 14,
     "metadata": {},
     "output_type": "execute_result"
    }
   ],
   "source": [
    "eeg_feats = dict(eeg_sig.extract_features(return_arr=False, plot=True))\n",
    "eeg_feats"
   ]
  },
  {
   "cell_type": "markdown",
   "id": "399d5cab-48ad-4cb8-a345-f31d28da1351",
   "metadata": {},
   "source": [
    "# **EOGSignal feature extraction**"
   ]
  },
  {
   "cell_type": "code",
   "execution_count": 15,
   "id": "63c8a36b-851e-4db4-880e-0ae3064eb086",
   "metadata": {},
   "outputs": [
    {
     "data": {
      "text/plain": [
       "{'eog_basic_features__mean': 1.4327521367521927,\n",
       " 'eog_basic_features__std': 62.15036841004644,\n",
       " 'eog_basic_features__median': 4.145054945055001,\n",
       " 'eog_basic_features__skewness': -0.4021890591226761,\n",
       " 'eog_basic_features__kurtosis': 2.1396107466430987}"
      ]
     },
     "execution_count": 15,
     "metadata": {},
     "output_type": "execute_result"
    }
   ],
   "source": [
    "eog_feats = dict(eog_sig.extract_features(return_arr=False, plot=True))\n",
    "eog_feats"
   ]
  },
  {
   "cell_type": "markdown",
   "id": "59a9966b-da69-424f-a9ba-e107e31ef7cc",
   "metadata": {},
   "source": [
    "# **SleepEDFMeasurement feature extraction**"
   ]
  },
  {
   "cell_type": "code",
   "execution_count": 16,
   "id": "5e1bd790-ec90-4379-bc55-6efafdeec282",
   "metadata": {},
   "outputs": [
    {
     "data": {
      "text/plain": [
       "{'eog_basic_features__mean': 1.4327521367521927,\n",
       " 'eog_basic_features__std': 62.15036841004644,\n",
       " 'eog_basic_features__median': 4.145054945055001,\n",
       " 'eog_basic_features__skewness': -0.4021890591226761,\n",
       " 'eog_basic_features__kurtosis': 2.1396107466430987,\n",
       " 'eeg_1_basic_features__mean': 0.6401216931216839,\n",
       " 'eeg_1_basic_features__std': 6.910543932797785,\n",
       " 'eeg_1_basic_features__median': 0.5455433455433365,\n",
       " 'eeg_1_basic_features__skewness': -0.01330294274759588,\n",
       " 'eeg_1_basic_features__kurtosis': 0.5721574869257822,\n",
       " 'eeg_1_relative_power_frequency_features__delta': 0.04073196887542921,\n",
       " 'eeg_1_relative_power_frequency_features__theta': 0.012935717249679918,\n",
       " 'eeg_1_relative_power_frequency_features__alpha': 0.010829640268422699,\n",
       " 'eeg_1_relative_power_frequency_features__sigma': 0.01015556310749531,\n",
       " 'eeg_1_relative_power_frequency_features__beta': 0.007435956365583087,\n",
       " 'eeg_0_basic_features__mean': -0.09553927553928299,\n",
       " 'eeg_0_basic_features__std': 15.203267049080297,\n",
       " 'eeg_0_basic_features__median': 0.1421245421245348,\n",
       " 'eeg_0_basic_features__skewness': -0.06232563601491144,\n",
       " 'eeg_0_basic_features__kurtosis': 2.898413853688453,\n",
       " 'eeg_0_relative_power_frequency_features__delta': 0.07979974195918103,\n",
       " 'eeg_0_relative_power_frequency_features__theta': 0.006498414701331579,\n",
       " 'eeg_0_relative_power_frequency_features__alpha': 0.002999879645931248,\n",
       " 'eeg_0_relative_power_frequency_features__sigma': 0.001973888434297761,\n",
       " 'eeg_0_relative_power_frequency_features__beta': 0.0025210949157958426,\n",
       " 'some_features__some_feature': 0}"
      ]
     },
     "execution_count": 16,
     "metadata": {},
     "output_type": "execute_result"
    }
   ],
   "source": [
    "sleep_edf_feats = dict(sleep_edf_measurement.extract_features(return_arr=False, plot=True))\n",
    "sleep_edf_feats"
   ]
  },
  {
   "cell_type": "markdown",
   "id": "d5179001-876c-40dd-93bd-ee08875ebed3",
   "metadata": {},
   "source": [
    "## as array"
   ]
  },
  {
   "cell_type": "code",
   "execution_count": 17,
   "id": "1cf02184-a22d-4fe9-a97f-cee7addf5481",
   "metadata": {},
   "outputs": [
    {
     "name": "stdout",
     "output_type": "stream",
     "text": [
      "[ 1.43275214e+00  6.21503684e+01  4.14505495e+00 -4.02189059e-01\n",
      "  2.13961075e+00  6.40121693e-01  6.91054393e+00  5.45543346e-01\n",
      " -1.33029427e-02  5.72157487e-01  4.07319689e-02  1.29357172e-02\n",
      "  1.08296403e-02  1.01555631e-02  7.43595637e-03 -9.55392755e-02\n",
      "  1.52032670e+01  1.42124542e-01 -6.23256360e-02  2.89841385e+00\n",
      "  7.97997420e-02  6.49841470e-03  2.99987965e-03  1.97388843e-03\n",
      "  2.52109492e-03  0.00000000e+00]\n",
      "(26,)\n",
      "['eog_basic_features__mean', 'eog_basic_features__std', 'eog_basic_features__median', 'eog_basic_features__skewness', 'eog_basic_features__kurtosis', 'eeg_1_basic_features__mean', 'eeg_1_basic_features__std', 'eeg_1_basic_features__median', 'eeg_1_basic_features__skewness', 'eeg_1_basic_features__kurtosis', 'eeg_1_relative_power_frequency_features__delta', 'eeg_1_relative_power_frequency_features__theta', 'eeg_1_relative_power_frequency_features__alpha', 'eeg_1_relative_power_frequency_features__sigma', 'eeg_1_relative_power_frequency_features__beta', 'eeg_0_basic_features__mean', 'eeg_0_basic_features__std', 'eeg_0_basic_features__median', 'eeg_0_basic_features__skewness', 'eeg_0_basic_features__kurtosis', 'eeg_0_relative_power_frequency_features__delta', 'eeg_0_relative_power_frequency_features__theta', 'eeg_0_relative_power_frequency_features__alpha', 'eeg_0_relative_power_frequency_features__sigma', 'eeg_0_relative_power_frequency_features__beta', 'some_features__some_feature']\n"
     ]
    }
   ],
   "source": [
    "array_feats = sleep_edf_measurement.extract_features(return_arr=True, plot=False)\n",
    "print(array_feats)\n",
    "print(array_feats.shape)\n",
    "print(sleep_edf_measurement.feature_names)"
   ]
  },
  {
   "cell_type": "code",
   "execution_count": null,
   "id": "7b81f707-eebf-4a23-a1ad-e5ea7d3c1e02",
   "metadata": {},
   "outputs": [],
   "source": []
  }
 ],
 "metadata": {
  "kernelspec": {
   "display_name": "Python 3 (ipykernel)",
   "language": "python",
   "name": "python3"
  },
  "language_info": {
   "codemirror_mode": {
    "name": "ipython",
    "version": 3
   },
   "file_extension": ".py",
   "mimetype": "text/x-python",
   "name": "python",
   "nbconvert_exporter": "python",
   "pygments_lexer": "ipython3",
   "version": "3.8.10"
  }
 },
 "nbformat": 4,
 "nbformat_minor": 5
}
