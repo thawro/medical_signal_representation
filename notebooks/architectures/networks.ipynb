{
 "cells": [
  {
   "cell_type": "code",
   "execution_count": 1,
   "id": "d5f03b70-70d3-4ac6-a746-884051b6dad5",
   "metadata": {},
   "outputs": [],
   "source": [
    "%load_ext autoreload\n",
    "%autoreload 2\n",
    "\n",
    "from msr.models.architectures.networks.mlp import MLPRegressor, MLPClassifier\n",
    "from msr.models.architectures.networks.cnn import CNNRegressor, CNNClassifier\n",
    "from sorcery import dict_of"
   ]
  },
  {
   "cell_type": "markdown",
   "id": "dcf78cbe-417c-4957-ba9a-f69a7bfbd993",
   "metadata": {},
   "source": [
    "# **MLP**"
   ]
  },
  {
   "cell_type": "code",
   "execution_count": 2,
   "id": "e4c9ca4e-5cee-4e50-b9e2-43a33ad230f0",
   "metadata": {},
   "outputs": [],
   "source": [
    "input_size = 120\n",
    "hidden_dims = [128, 256, 512]\n",
    "weight_norm = False\n",
    "batch_norm = True\n",
    "dropout = 0.2\n",
    "activation = 'ReLU'"
   ]
  },
  {
   "cell_type": "code",
   "execution_count": 3,
   "id": "d3042de1-59b0-4947-a756-f750f2503b18",
   "metadata": {},
   "outputs": [
    {
     "data": {
      "text/plain": [
       "MLPRegressor(\n",
       "  (net): Sequential(\n",
       "    (0): MLPExtractor(\n",
       "      (net): FeedForward(\n",
       "        (net): Sequential(\n",
       "          (0): FeedForwardBlock(\n",
       "            (net): Sequential(\n",
       "              (0): Linear(in_features=120, out_features=128, bias=True)\n",
       "              (1): BatchNorm1d(128, eps=1e-05, momentum=0.1, affine=True, track_running_stats=True)\n",
       "              (2): ReLU()\n",
       "              (3): Dropout(p=0.2, inplace=False)\n",
       "            )\n",
       "          )\n",
       "          (1): FeedForwardBlock(\n",
       "            (net): Sequential(\n",
       "              (0): Linear(in_features=128, out_features=256, bias=True)\n",
       "              (1): BatchNorm1d(256, eps=1e-05, momentum=0.1, affine=True, track_running_stats=True)\n",
       "              (2): ReLU()\n",
       "              (3): Dropout(p=0.2, inplace=False)\n",
       "            )\n",
       "          )\n",
       "          (2): FeedForwardBlock(\n",
       "            (net): Sequential(\n",
       "              (0): Linear(in_features=256, out_features=512, bias=True)\n",
       "              (1): BatchNorm1d(512, eps=1e-05, momentum=0.1, affine=True, track_running_stats=True)\n",
       "              (2): ReLU()\n",
       "              (3): Dropout(p=0.2, inplace=False)\n",
       "            )\n",
       "          )\n",
       "        )\n",
       "      )\n",
       "    )\n",
       "    (1): RegressionHead(\n",
       "      (net): Linear(in_features=512, out_features=1, bias=True)\n",
       "    )\n",
       "  )\n",
       ")"
      ]
     },
     "execution_count": 3,
     "metadata": {},
     "output_type": "execute_result"
    }
   ],
   "source": [
    "mlp_regressor = MLPRegressor(\n",
    "    **dict_of(input_size, hidden_dims, weight_norm, batch_norm, dropout, activation)\n",
    ")\n",
    "mlp_regressor"
   ]
  },
  {
   "cell_type": "code",
   "execution_count": 4,
   "id": "47b4b833-f359-4890-9c10-0bfcc042a490",
   "metadata": {},
   "outputs": [
    {
     "data": {
      "text/plain": [
       "MLPClassifier(\n",
       "  (net): Sequential(\n",
       "    (0): MLPExtractor(\n",
       "      (net): FeedForward(\n",
       "        (net): Sequential(\n",
       "          (0): FeedForwardBlock(\n",
       "            (net): Sequential(\n",
       "              (0): Linear(in_features=120, out_features=128, bias=True)\n",
       "              (1): BatchNorm1d(128, eps=1e-05, momentum=0.1, affine=True, track_running_stats=True)\n",
       "              (2): ReLU()\n",
       "              (3): Dropout(p=0.2, inplace=False)\n",
       "            )\n",
       "          )\n",
       "          (1): FeedForwardBlock(\n",
       "            (net): Sequential(\n",
       "              (0): Linear(in_features=128, out_features=256, bias=True)\n",
       "              (1): BatchNorm1d(256, eps=1e-05, momentum=0.1, affine=True, track_running_stats=True)\n",
       "              (2): ReLU()\n",
       "              (3): Dropout(p=0.2, inplace=False)\n",
       "            )\n",
       "          )\n",
       "          (2): FeedForwardBlock(\n",
       "            (net): Sequential(\n",
       "              (0): Linear(in_features=256, out_features=512, bias=True)\n",
       "              (1): BatchNorm1d(512, eps=1e-05, momentum=0.1, affine=True, track_running_stats=True)\n",
       "              (2): ReLU()\n",
       "              (3): Dropout(p=0.2, inplace=False)\n",
       "            )\n",
       "          )\n",
       "        )\n",
       "      )\n",
       "    )\n",
       "    (1): ClassificationHead(\n",
       "      (net): Linear(in_features=512, out_features=5, bias=True)\n",
       "    )\n",
       "  )\n",
       ")"
      ]
     },
     "execution_count": 4,
     "metadata": {},
     "output_type": "execute_result"
    }
   ],
   "source": [
    "mlp_classifier = MLPClassifier(\n",
    "    num_classes=5, \n",
    "    **dict_of(input_size, hidden_dims, weight_norm, batch_norm, dropout, activation)\n",
    ")\n",
    "mlp_classifier"
   ]
  },
  {
   "cell_type": "markdown",
   "id": "e5feac2e-1a1e-4a67-9b5a-d7590943f59f",
   "metadata": {},
   "source": [
    "# **CNN**"
   ]
  },
  {
   "cell_type": "code",
   "execution_count": 10,
   "id": "0f407012-158f-40b3-aa83-e921c55eb898",
   "metadata": {},
   "outputs": [],
   "source": [
    "dim = 2\n",
    "in_channels = 12\n",
    "out_channels = [32, 64, 128]\n",
    "maxpool_kernel_size = 2\n",
    "kernel_size = [3, 5, 3]\n",
    "stride = 1\n",
    "padding = \"valid\"\n",
    "dilation = 1\n",
    "transpose = False\n",
    "use_batchnorm = True\n",
    "activation = 'ReLU'"
   ]
  },
  {
   "cell_type": "code",
   "execution_count": null,
   "id": "c06dba11-d7cf-49e8-8b55-531c1410b6a8",
   "metadata": {},
   "outputs": [],
   "source": [
    "cnn_regressor = CNNRegressor(\n",
    "    **dict_of(dim, in_channels, out_channels, maxpool_kernel_size, kernel_size, stride, padding, dilation, transpose, use_batchnorm, activation)\n",
    ")\n",
    "cnn_regressor"
   ]
  },
  {
   "cell_type": "code",
   "execution_count": 12,
   "id": "4c660f95-8a7d-44ff-af55-53a84c648903",
   "metadata": {},
   "outputs": [
    {
     "data": {
      "text/plain": [
       "CNNClassifier(\n",
       "  (net): Sequential(\n",
       "    (0): CNNExtractor(\n",
       "      (net): Sequential(\n",
       "        (0): CNN(\n",
       "          (net): Sequential(\n",
       "            (0): CNNBlock(\n",
       "              (net): Sequential(\n",
       "                (0): Conv2d(12, 32, kernel_size=(3, 3), stride=(1, 1), padding=valid)\n",
       "                (1): MaxPool2d(kernel_size=2, stride=2, padding=0, dilation=1, ceil_mode=False)\n",
       "                (2): BatchNorm2d(32, eps=1e-05, momentum=0.1, affine=True, track_running_stats=True)\n",
       "                (3): ReLU()\n",
       "              )\n",
       "            )\n",
       "            (1): CNNBlock(\n",
       "              (net): Sequential(\n",
       "                (0): Conv2d(32, 64, kernel_size=(5, 5), stride=(1, 1), padding=valid)\n",
       "                (1): MaxPool2d(kernel_size=2, stride=2, padding=0, dilation=1, ceil_mode=False)\n",
       "                (2): BatchNorm2d(64, eps=1e-05, momentum=0.1, affine=True, track_running_stats=True)\n",
       "                (3): ReLU()\n",
       "              )\n",
       "            )\n",
       "            (2): CNNBlock(\n",
       "              (net): Sequential(\n",
       "                (0): Conv2d(64, 128, kernel_size=(3, 3), stride=(1, 1), padding=valid)\n",
       "                (1): MaxPool2d(kernel_size=2, stride=2, padding=0, dilation=1, ceil_mode=False)\n",
       "                (2): BatchNorm2d(128, eps=1e-05, momentum=0.1, affine=True, track_running_stats=True)\n",
       "                (3): ReLU()\n",
       "              )\n",
       "            )\n",
       "          )\n",
       "        )\n",
       "        (1): AdaptiveAvgPool2d(output_size=1)\n",
       "        (2): Flatten(start_dim=1, end_dim=-1)\n",
       "      )\n",
       "    )\n",
       "    (1): ClassificationHead(\n",
       "      (net): Linear(in_features=128, out_features=5, bias=True)\n",
       "    )\n",
       "  )\n",
       ")"
      ]
     },
     "execution_count": 12,
     "metadata": {},
     "output_type": "execute_result"
    }
   ],
   "source": [
    "cnn_classifier = CNNClassifier(\n",
    "    num_classes=5,\n",
    "    **dict_of(dim, in_channels, out_channels, maxpool_kernel_size, kernel_size, stride, padding, dilation, transpose, use_batchnorm, activation)\n",
    ")\n",
    "cnn_classifier"
   ]
  },
  {
   "cell_type": "code",
   "execution_count": null,
   "id": "e4ed1f04-5b44-4d4c-845f-7d40e74e0490",
   "metadata": {},
   "outputs": [],
   "source": []
  }
 ],
 "metadata": {
  "kernelspec": {
   "display_name": "Python 3 (ipykernel)",
   "language": "python",
   "name": "python3"
  },
  "language_info": {
   "codemirror_mode": {
    "name": "ipython",
    "version": 3
   },
   "file_extension": ".py",
   "mimetype": "text/x-python",
   "name": "python",
   "nbconvert_exporter": "python",
   "pygments_lexer": "ipython3",
   "version": "3.8.10"
  }
 },
 "nbformat": 4,
 "nbformat_minor": 5
}
