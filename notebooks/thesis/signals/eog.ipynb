{
 "cells": [
  {
   "cell_type": "code",
   "execution_count": 1,
   "id": "a117405d-468c-4038-8104-dc07885c23e4",
   "metadata": {},
   "outputs": [],
   "source": [
    "%load_ext autoreload\n",
    "%autoreload 2\n",
    "\n",
    "import matplotlib.pyplot as plt\n",
    "import numpy as np\n",
    "import seaborn as sns\n",
    "\n",
    "sns.set(style=\"whitegrid\")"
   ]
  },
  {
   "cell_type": "code",
   "execution_count": 7,
   "id": "23ba81ac-4188-40d6-b641-d156a4f31e4a",
   "metadata": {
    "tags": []
   },
   "outputs": [],
   "source": [
    "from msr.data.download.sleep_edf import load_sleep_edf_raw_tensors_for_split, FS\n",
    "from msr.data.measurements import SleepEDFMeasurement\n",
    "\n",
    "data, targets = load_sleep_edf_raw_tensors_for_split(\"val\")\n",
    "data, targets = data.numpy(), targets.numpy()\n",
    "sample = data[111]\n",
    "eeg_0, eeg_1, eog = sample\n",
    "measurement = SleepEDFMeasurement(eeg_0, eeg_1, eog, FS)\n",
    "eog_sig = measurement['eog']"
   ]
  },
  {
   "cell_type": "code",
   "execution_count": 14,
   "id": "e8fc4b7c-5a16-4e61-9dd0-16117833b756",
   "metadata": {},
   "outputs": [],
   "source": [
    "from funcs import get_figs_for_thesis_no_periodic\n",
    "\n",
    "prefix = \"eog_\"\n",
    "figs = get_figs_for_thesis_no_periodic(eog_sig, prefix)\n",
    "\n",
    "for name, fig in figs.items():\n",
    "    fig.savefig(f\"plots/{name}.pdf\")"
   ]
  },
  {
   "cell_type": "code",
   "execution_count": null,
   "id": "61f484e7-773d-46b6-b1c7-41d14e6df581",
   "metadata": {},
   "outputs": [],
   "source": []
  }
 ],
 "metadata": {
  "kernelspec": {
   "display_name": "Python 3 (ipykernel)",
   "language": "python",
   "name": "python3"
  },
  "language_info": {
   "codemirror_mode": {
    "name": "ipython",
    "version": 3
   },
   "file_extension": ".py",
   "mimetype": "text/x-python",
   "name": "python",
   "nbconvert_exporter": "python",
   "pygments_lexer": "ipython3",
   "version": "3.8.10"
  }
 },
 "nbformat": 4,
 "nbformat_minor": 5
}
