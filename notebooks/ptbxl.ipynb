{
 "cells": [
  {
   "cell_type": "code",
   "execution_count": 6,
   "id": "07a64742-75a1-491f-8cd3-7af7077c6dab",
   "metadata": {},
   "outputs": [],
   "source": [
    "import sys         \n",
    "sys.path.append('./../')        "
   ]
  },
  {
   "cell_type": "code",
   "execution_count": 11,
   "id": "ab0f956a-81ce-4754-9021-f0a493847652",
   "metadata": {},
   "outputs": [],
   "source": [
    "import pandas as pd\n",
    "import numpy as np\n",
    "import seaborn as sns\n",
    "from pathlib import Path\n",
    "import matplotlib.pyplot as plt\n",
    "from src.data.load_data import load_ptbxl_data\n",
    "\n",
    "TARGET = 'diagnostic_class'\n",
    "DATASET_PATH = Path(\"./../data/ptbxl\")"
   ]
  },
  {
   "cell_type": "code",
   "execution_count": 12,
   "id": "bef45d96-c8cf-481a-a9cb-8f920d47c919",
   "metadata": {},
   "outputs": [],
   "source": [
    "ptbxl_data = load_ptbxl_data(\n",
    "    sampling_rate=100,\n",
    "    path = DATASET_PATH,\n",
    "    target = TARGET\n",
    ")"
   ]
  },
  {
   "cell_type": "code",
   "execution_count": null,
   "id": "d6a27008-a424-4cb2-87d5-a7aa41aa9df2",
   "metadata": {},
   "outputs": [],
   "source": []
  }
 ],
 "metadata": {
  "kernelspec": {
   "display_name": "Python 3 (ipykernel)",
   "language": "python",
   "name": "python3"
  },
  "language_info": {
   "codemirror_mode": {
    "name": "ipython",
    "version": 3
   },
   "file_extension": ".py",
   "mimetype": "text/x-python",
   "name": "python",
   "nbconvert_exporter": "python",
   "pygments_lexer": "ipython3",
   "version": "3.8.10"
  }
 },
 "nbformat": 4,
 "nbformat_minor": 5
}
