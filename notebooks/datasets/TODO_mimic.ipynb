{
 "cells": [
  {
   "cell_type": "code",
   "execution_count": 1,
   "id": "c0973aef-4bd1-4134-a6a8-8228ff03a718",
   "metadata": {},
   "outputs": [],
   "source": [
    "%load_ext autoreload\n",
    "%autoreload 2\n",
    "\n",
    "from msr.deeplearning.datasets import MimicDataset\n",
    "from msr.deeplearning.datamodules import MimicDataModule\n",
    "\n",
    "TARGET = \"sbp_dbp_avg\"\n",
    "SPLITS = [\"train\", \"val\", \"test\"]"
   ]
  },
  {
   "cell_type": "markdown",
   "id": "84dce8d9-d4eb-447b-b408-294569fe8666",
   "metadata": {},
   "source": [
    "---\n",
    "# **Whole signal**"
   ]
  },
  {
   "cell_type": "markdown",
   "id": "f2bfbd76-890c-4a9f-b7c9-f8cbebe5549b",
   "metadata": {},
   "source": [
    "**`whole_signal_waveforms`**"
   ]
  },
  {
   "cell_type": "code",
   "execution_count": 67,
   "id": "7837410e-e50d-4fd6-a550-b8e938f5628d",
   "metadata": {},
   "outputs": [
    {
     "name": "stdout",
     "output_type": "stream",
     "text": [
      "PtbXLDataModule (whole_signal_waveforms)\n",
      "  info       = {0: 'CD', 1: 'HYP', 2: 'MI', 3: 'NORM', 4: 'STTC'}\n",
      "\n",
      "  Train PtbXLDataset:\n",
      "    data_shape            = torch.Size([12978, 1000, 12])\n",
      "    classes_counts        = {'NORM': 7254, 'MI': 2048, 'STTC': 1907, 'CD': 1353, 'HYP': 416}\n",
      "\n",
      "  Val PtbXLDataset:\n",
      "    data_shape            = torch.Size([1642, 1000, 12])\n",
      "    classes_counts        = {'NORM': 916, 'STTC': 256, 'MI': 234, 'CD': 172, 'HYP': 64}\n",
      "\n",
      "  Test PtbXLDataset:\n",
      "    data_shape            = torch.Size([1652, 1000, 12])\n",
      "    classes_counts        = {'NORM': 913, 'MI': 256, 'STTC': 243, 'CD': 184, 'HYP': 56}\n"
     ]
    },
    {
     "data": {
      "image/png": "[encoded data removed]",
      "text/plain": [
       "<Figure size 1500x350 with 3 Axes>"
      ]
     },
     "metadata": {},
     "output_type": "display_data"
    }
   ],
   "source": [
    "dm = MimicDataModule(\"whole_signal_waveforms\", **BASE_PARAMS)\n",
    "dm.setup(); dm.plot_targets(); print(dm.describe(ds_fields=['data_shape', 'classes_counts'], dm_fields=['info']))"
   ]
  },
  {
   "cell_type": "markdown",
   "id": "3163bc77-028c-4df7-805c-109d8a44e3fe",
   "metadata": {},
   "source": [
    "**`whole_signal_features`**"
   ]
  },
  {
   "cell_type": "code",
   "execution_count": 82,
   "id": "3cf282e8-6c75-415a-81a3-22b84721268e",
   "metadata": {
    "tags": []
   },
   "outputs": [
    {
     "name": "stdout",
     "output_type": "stream",
     "text": [
      "PtbXLDataModule (whole_signal_features)\n",
      "  \n",
      "  Train PtbXLDataset:\n",
      "    data_shape            = torch.Size([12978, 697])\n",
      "\n",
      "  Val PtbXLDataset:\n",
      "    data_shape            = torch.Size([1642, 697])\n",
      "\n",
      "  Test PtbXLDataset:\n",
      "    data_shape            = torch.Size([1652, 697])\n"
     ]
    }
   ],
   "source": [
    "dm = MimicDataModule(\"whole_signal_features\", **BASE_PARAMS)\n",
    "dm.setup(); print(dm.describe(ds_fields=['data_shape'], dm_fields=[]))"
   ]
  },
  {
   "cell_type": "markdown",
   "id": "fa9d4449-bf9b-4fa2-8b2f-42494603ce44",
   "metadata": {},
   "source": [
    "---\n",
    "# **Windows**"
   ]
  },
  {
   "cell_type": "markdown",
   "id": "13eb1e62-5876-41b6-8d03-29a64d5eebdf",
   "metadata": {},
   "source": [
    "**`windows_waveforms`**"
   ]
  },
  {
   "cell_type": "code",
   "execution_count": 69,
   "id": "24288d3d-f778-42e7-a42f-d45fde3439aa",
   "metadata": {},
   "outputs": [
    {
     "name": "stdout",
     "output_type": "stream",
     "text": [
      "PtbXLDataModule (windows_waveforms)\n",
      "  \n",
      "  Train PtbXLDataset:\n",
      "    data_shape            = torch.Size([12978, 3, 600, 12])\n",
      "\n",
      "  Val PtbXLDataset:\n",
      "    data_shape            = torch.Size([1642, 3, 600, 12])\n",
      "\n",
      "  Test PtbXLDataset:\n",
      "    data_shape            = torch.Size([1652, 3, 600, 12])\n"
     ]
    }
   ],
   "source": [
    "dm = MimicDataModule(\"windows_waveforms\", **BASE_PARAMS)\n",
    "dm.setup(); print(dm.describe(ds_fields=['data_shape'], dm_fields=[]))"
   ]
  },
  {
   "cell_type": "markdown",
   "id": "71cc384c-8e39-4cc4-86a5-25204894e7fe",
   "metadata": {},
   "source": [
    "**`windows_features`**"
   ]
  },
  {
   "cell_type": "code",
   "execution_count": 70,
   "id": "f04bbd7a-2214-4cd3-9a32-c808bab83d04",
   "metadata": {},
   "outputs": [
    {
     "name": "stdout",
     "output_type": "stream",
     "text": [
      "PtbXLDataModule (windows_features)\n",
      "  \n",
      "  Train PtbXLDataset:\n",
      "    data_shape            = torch.Size([12978, 3, 696])\n",
      "\n",
      "  Val PtbXLDataset:\n",
      "    data_shape            = torch.Size([1642, 3, 696])\n",
      "\n",
      "  Test PtbXLDataset:\n",
      "    data_shape            = torch.Size([1652, 3, 696])\n"
     ]
    }
   ],
   "source": [
    "dm = MimicDataModule(\"windows_features\", **BASE_PARAMS)\n",
    "dm.setup(); print(dm.describe(ds_fields=['data_shape'], dm_fields=[]))"
   ]
  },
  {
   "cell_type": "markdown",
   "id": "846111b5-138a-4a74-bfd0-760c67ae6c78",
   "metadata": {},
   "source": [
    "---\n",
    "# **Beats**"
   ]
  },
  {
   "cell_type": "markdown",
   "id": "8f237686-a0d1-47d7-a9da-30b4475766f2",
   "metadata": {},
   "source": [
    "**`beats_waveforms`**"
   ]
  },
  {
   "cell_type": "code",
   "execution_count": 71,
   "id": "d812945b-7600-4167-a57e-0da1898d9c1c",
   "metadata": {},
   "outputs": [
    {
     "name": "stdout",
     "output_type": "stream",
     "text": [
      "PtbXLDataModule (beats_waveforms)\n",
      "  \n",
      "  Train PtbXLDataset:\n",
      "    data_shape            = torch.Size([12978, 7, 100, 12])\n",
      "\n",
      "  Val PtbXLDataset:\n",
      "    data_shape            = torch.Size([1642, 7, 100, 12])\n",
      "\n",
      "  Test PtbXLDataset:\n",
      "    data_shape            = torch.Size([1652, 7, 100, 12])\n"
     ]
    }
   ],
   "source": [
    "dm = MimicDataModule(\"beats_waveforms\", **BASE_PARAMS)\n",
    "dm.setup(); print(dm.describe(ds_fields=['data_shape'], dm_fields=[]))"
   ]
  },
  {
   "cell_type": "markdown",
   "id": "18d5f222-bcb0-41e2-a963-8260254f6cb0",
   "metadata": {},
   "source": [
    "**`beats_features`**"
   ]
  },
  {
   "cell_type": "code",
   "execution_count": 72,
   "id": "628c67bf-3e33-48b2-876a-7683d91eacc6",
   "metadata": {
    "tags": []
   },
   "outputs": [
    {
     "name": "stdout",
     "output_type": "stream",
     "text": [
      "PtbXLDataModule (beats_features)\n",
      "  \n",
      "  Train PtbXLDataset:\n",
      "    data_shape            = torch.Size([12978, 7, 600])\n",
      "\n",
      "  Val PtbXLDataset:\n",
      "    data_shape            = torch.Size([1642, 7, 600])\n",
      "\n",
      "  Test PtbXLDataset:\n",
      "    data_shape            = torch.Size([1652, 7, 600])\n"
     ]
    }
   ],
   "source": [
    "dm = MimicDataModule(\"beats_features\", **BASE_PARAMS)\n",
    "dm.setup(); print(dm.describe(ds_fields=['data_shape'], dm_fields=[]))"
   ]
  },
  {
   "cell_type": "markdown",
   "id": "9da29752-b0df-45d7-9c7e-5c917b6918a8",
   "metadata": {},
   "source": [
    "---\n",
    "# **Aggregated beat**"
   ]
  },
  {
   "cell_type": "markdown",
   "id": "7d32bdd5-9d96-4f40-a6dd-7cc918d232e8",
   "metadata": {},
   "source": [
    "**`agg_beat_waveforms`**"
   ]
  },
  {
   "cell_type": "code",
   "execution_count": 73,
   "id": "ece2fc2c-89dd-414a-8fe8-129ccc655122",
   "metadata": {},
   "outputs": [
    {
     "name": "stdout",
     "output_type": "stream",
     "text": [
      "PtbXLDataModule (agg_beat_waveforms)\n",
      "  \n",
      "  Train PtbXLDataset:\n",
      "    data_shape            = torch.Size([12978, 100, 12])\n",
      "\n",
      "  Val PtbXLDataset:\n",
      "    data_shape            = torch.Size([1642, 100, 12])\n",
      "\n",
      "  Test PtbXLDataset:\n",
      "    data_shape            = torch.Size([1652, 100, 12])\n"
     ]
    }
   ],
   "source": [
    "dm = MimicDataModule(\"agg_beat_waveforms\", **BASE_PARAMS)\n",
    "dm.setup(); print(dm.describe(ds_fields=['data_shape'], dm_fields=[]))"
   ]
  },
  {
   "cell_type": "markdown",
   "id": "9e906721-64e8-47ff-b8dd-4000ae04c364",
   "metadata": {},
   "source": [
    "**`agg_beat_features`**"
   ]
  },
  {
   "cell_type": "code",
   "execution_count": 74,
   "id": "f0e69ee2-f289-41ee-98c5-82d529b44f5c",
   "metadata": {},
   "outputs": [
    {
     "name": "stdout",
     "output_type": "stream",
     "text": [
      "PtbXLDataModule (agg_beat_features)\n",
      "  \n",
      "  Train PtbXLDataset:\n",
      "    data_shape            = torch.Size([12978, 600])\n",
      "\n",
      "  Val PtbXLDataset:\n",
      "    data_shape            = torch.Size([1642, 600])\n",
      "\n",
      "  Test PtbXLDataset:\n",
      "    data_shape            = torch.Size([1652, 600])\n"
     ]
    }
   ],
   "source": [
    "dm = MimicDataModule(\"agg_beat_features\", **BASE_PARAMS)\n",
    "dm.setup(); print(dm.describe(ds_fields=['data_shape'], dm_fields=[]))"
   ]
  },
  {
   "cell_type": "markdown",
   "id": "75e769f8-731f-4318-827a-f3d45029acdb",
   "metadata": {},
   "source": [
    "---"
   ]
  },
  {
   "cell_type": "code",
   "execution_count": null,
   "id": "61c88bc2-f0b7-488b-b705-b6e408b2d125",
   "metadata": {},
   "outputs": [],
   "source": []
  },
  {
   "cell_type": "code",
   "execution_count": null,
   "id": "e8a7aa86-c34d-4206-9dee-06bca5e1adc8",
   "metadata": {},
   "outputs": [],
   "source": []
  },
  {
   "cell_type": "code",
   "execution_count": null,
   "id": "230641c4-4405-433f-b87f-bb7ac32e1eda",
   "metadata": {},
   "outputs": [],
   "source": []
  },
  {
   "cell_type": "code",
   "execution_count": null,
   "id": "a2f3c0a8-e7ff-42cb-97bd-7cde23fc75cf",
   "metadata": {},
   "outputs": [],
   "source": []
  },
  {
   "cell_type": "code",
   "execution_count": 37,
   "id": "0a925bc8-44b0-431a-8103-5f37229340be",
   "metadata": {},
   "outputs": [],
   "source": [
    "from msr.data.raw.mimic import RAW_TENSORS_DATA_PATH, load_tensor\n",
    "from msr.signals.representation_extractor import PeriodicRepresentationExtractor\n",
    "from msr.data.measurements import MimicMeasurement\n",
    "import numpy as np\n",
    "\n",
    "idx = 11418\n",
    "\n",
    "data = load_tensor(RAW_TENSORS_DATA_PATH / \"train.pt\")\n",
    "sample = data[idx]\n",
    "sample.shape\n",
    "\n",
    "m = MimicMeasurement(sample.T.numpy(), FS)\n",
    "m.set_beats(source_channel=\"ecg\")\n",
    "m.set_windows(win_len_s=20, step_s=18)\n",
    "m.set_agg_beat()\n",
    "\n",
    "re = PeriodicRepresentationExtractor(m)"
   ]
  }
 ],
 "metadata": {
  "kernelspec": {
   "display_name": "Python 3 (ipykernel)",
   "language": "python",
   "name": "python3"
  },
  "language_info": {
   "codemirror_mode": {
    "name": "ipython",
    "version": 3
   },
   "file_extension": ".py",
   "mimetype": "text/x-python",
   "name": "python",
   "nbconvert_exporter": "python",
   "pygments_lexer": "ipython3",
   "version": "3.8.10"
  }
 },
 "nbformat": 4,
 "nbformat_minor": 5
}
